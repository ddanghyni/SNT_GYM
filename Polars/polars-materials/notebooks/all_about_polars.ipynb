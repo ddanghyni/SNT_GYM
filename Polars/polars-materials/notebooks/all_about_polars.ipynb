{
 "cells": [
  {
   "cell_type": "markdown",
   "metadata": {},
   "source": [
    "## All About Polars"
   ]
  },
  {
   "cell_type": "code",
   "execution_count": 2,
   "metadata": {},
   "outputs": [
    {
     "name": "stdout",
     "output_type": "stream",
     "text": [
      "shape: (5, 9)\n",
      "┌───────────────┬──────┬────────────┬───────────────┬───┬────────┬────────┬──────────────┬─────────┐\n",
      "│ title         ┆ rank ┆ date       ┆ artist        ┆ … ┆ region ┆ chart  ┆ trend        ┆ streams │\n",
      "│ ---           ┆ ---  ┆ ---        ┆ ---           ┆   ┆ ---    ┆ ---    ┆ ---          ┆ ---     │\n",
      "│ str           ┆ i64  ┆ str        ┆ str           ┆   ┆ str    ┆ str    ┆ str          ┆ i64     │\n",
      "╞═══════════════╪══════╪════════════╪═══════════════╪═══╪════════╪════════╪══════════════╪═════════╡\n",
      "│ Starboy       ┆ 1    ┆ 2017-01-01 ┆ The Weeknd,   ┆ … ┆ Global ┆ top200 ┆ SAME_POSITIO ┆ 3135625 │\n",
      "│               ┆      ┆            ┆ Daft Punk     ┆   ┆        ┆        ┆ N            ┆         │\n",
      "│ Closer        ┆ 2    ┆ 2017-01-01 ┆ The           ┆ … ┆ Global ┆ top200 ┆ SAME_POSITIO ┆ 3015525 │\n",
      "│               ┆      ┆            ┆ Chainsmokers, ┆   ┆        ┆        ┆ N            ┆         │\n",
      "│               ┆      ┆            ┆ Halsey        ┆   ┆        ┆        ┆              ┆         │\n",
      "│ Let Me Love   ┆ 3    ┆ 2017-01-01 ┆ DJ Snake,     ┆ … ┆ Global ┆ top200 ┆ MOVE_UP      ┆ 2545384 │\n",
      "│ You           ┆      ┆            ┆ Justin Bieber ┆   ┆        ┆        ┆              ┆         │\n",
      "│ Rockabye      ┆ 4    ┆ 2017-01-01 ┆ Clean Bandit  ┆ … ┆ Global ┆ top200 ┆ MOVE_DOWN    ┆ 2356604 │\n",
      "│ (feat. Sean   ┆      ┆            ┆               ┆   ┆        ┆        ┆              ┆         │\n",
      "│ Paul & An…    ┆      ┆            ┆               ┆   ┆        ┆        ┆              ┆         │\n",
      "│ One Dance     ┆ 5    ┆ 2017-01-01 ┆ Drake,        ┆ … ┆ Global ┆ top200 ┆ SAME_POSITIO ┆ 2259887 │\n",
      "│               ┆      ┆            ┆ WizKid, Kyla  ┆   ┆        ┆        ┆ N            ┆         │\n",
      "└───────────────┴──────┴────────────┴───────────────┴───┴────────┴────────┴──────────────┴─────────┘\n"
     ]
    }
   ],
   "source": [
    "import polars as pl\n",
    "\n",
    "spotify_csv = \"./data/spotify-charts-2017-2021-global-top200.csv.gz\"\n",
    "spotify_df = pl.read_csv(spotify_csv)\n",
    "print(spotify_df.head())"
   ]
  },
  {
   "cell_type": "code",
   "execution_count": null,
   "metadata": {},
   "outputs": [],
   "source": []
  }
 ],
 "metadata": {
  "kernelspec": {
   "display_name": "ml_study",
   "language": "python",
   "name": "python3"
  },
  "language_info": {
   "codemirror_mode": {
    "name": "ipython",
    "version": 3
   },
   "file_extension": ".py",
   "mimetype": "text/x-python",
   "name": "python",
   "nbconvert_exporter": "python",
   "pygments_lexer": "ipython3",
   "version": "3.12.5"
  }
 },
 "nbformat": 4,
 "nbformat_minor": 2
}
