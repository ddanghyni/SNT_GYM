{
 "cells": [
  {
   "cell_type": "markdown",
   "id": "674913ae-6d37-4d8f-882c-ae2a95292a43",
   "metadata": {},
   "source": [
    "# Conversion to & from Numpy and Pandas\n",
    "By the end of this lecture you will be able to:\n",
    "- convert between Polars and Numpy\n",
    "- convert between Polars and Pandas\n",
    "\n",
    "Key functionality in this notebook requires that your Pandas version is 2.0+ (automated testing is carried out with the latest version of Pandas on PyPi).\n",
    "\n",
    "Use `pl.show_versions()` to check your installation"
   ]
  },
  {
   "cell_type": "code",
   "execution_count": 1,
   "id": "a350b0f1-ff14-4097-94a2-a4f937b89fcd",
   "metadata": {
    "tags": []
   },
   "outputs": [],
   "source": [
    "import polars as pl\n",
    "import numpy as np\n",
    "import pandas as pd"
   ]
  },
  {
   "cell_type": "code",
   "execution_count": 4,
   "id": "a6b90d0a",
   "metadata": {},
   "outputs": [
    {
     "name": "stdout",
     "output_type": "stream",
     "text": [
      "--------Version info---------\n",
      "Polars:              1.7.1\n",
      "Index type:          UInt32\n",
      "Platform:            macOS-15.0-arm64-arm-64bit\n",
      "Python:              3.12.5 | packaged by Anaconda, Inc. | (main, Sep 12 2024, 13:22:57) [Clang 14.0.6 ]\n",
      "\n",
      "----Optional dependencies----\n",
      "adbc_driver_manager  <not installed>\n",
      "altair               5.0.1\n",
      "cloudpickle          <not installed>\n",
      "connectorx           <not installed>\n",
      "deltalake            <not installed>\n",
      "fastexcel            <not installed>\n",
      "fsspec               <not installed>\n",
      "gevent               <not installed>\n",
      "great_tables         <not installed>\n",
      "matplotlib           3.9.2\n",
      "nest_asyncio         1.6.0\n",
      "numpy                1.26.4\n",
      "openpyxl             <not installed>\n",
      "pandas               2.2.2\n",
      "pyarrow              16.1.0\n",
      "pydantic             <not installed>\n",
      "pyiceberg            <not installed>\n",
      "sqlalchemy           <not installed>\n",
      "torch                <not installed>\n",
      "xlsx2csv             <not installed>\n",
      "xlsxwriter           <not installed>\n"
     ]
    }
   ],
   "source": [
    "pl.show_versions()"
   ]
  },
  {
   "cell_type": "code",
   "execution_count": 2,
   "id": "ee7a4ca2-4a74-41c0-8640-501a2f16a6e6",
   "metadata": {
    "tags": []
   },
   "outputs": [],
   "source": [
    "csv_file = \"../data/titanic.csv\""
   ]
  },
  {
   "cell_type": "code",
   "execution_count": 3,
   "id": "a1c1b14e-6642-43ec-8185-2e0924d8ca85",
   "metadata": {
    "tags": []
   },
   "outputs": [
    {
     "data": {
      "text/html": [
       "<div><style>\n",
       ".dataframe > thead > tr,\n",
       ".dataframe > tbody > tr {\n",
       "  text-align: right;\n",
       "  white-space: pre-wrap;\n",
       "}\n",
       "</style>\n",
       "<small>shape: (3, 12)</small><table border=\"1\" class=\"dataframe\"><thead><tr><th>PassengerId</th><th>Survived</th><th>Pclass</th><th>Name</th><th>Sex</th><th>Age</th><th>SibSp</th><th>Parch</th><th>Ticket</th><th>Fare</th><th>Cabin</th><th>Embarked</th></tr><tr><td>i64</td><td>i64</td><td>i64</td><td>str</td><td>str</td><td>f64</td><td>i64</td><td>i64</td><td>str</td><td>f64</td><td>str</td><td>str</td></tr></thead><tbody><tr><td>1</td><td>0</td><td>3</td><td>&quot;Braund, Mr. Owen Harris&quot;</td><td>&quot;male&quot;</td><td>22.0</td><td>1</td><td>0</td><td>&quot;A/5 21171&quot;</td><td>7.25</td><td>null</td><td>&quot;S&quot;</td></tr><tr><td>2</td><td>1</td><td>1</td><td>&quot;Cumings, Mrs. John Bradley (Fl…</td><td>&quot;female&quot;</td><td>38.0</td><td>1</td><td>0</td><td>&quot;PC 17599&quot;</td><td>71.2833</td><td>&quot;C85&quot;</td><td>&quot;C&quot;</td></tr><tr><td>3</td><td>1</td><td>3</td><td>&quot;Heikkinen, Miss. Laina&quot;</td><td>&quot;female&quot;</td><td>26.0</td><td>0</td><td>0</td><td>&quot;STON/O2. 3101282&quot;</td><td>7.925</td><td>null</td><td>&quot;S&quot;</td></tr></tbody></table></div>"
      ],
      "text/plain": [
       "shape: (3, 12)\n",
       "┌─────────────┬──────────┬────────┬───────────────────┬───┬───────────┬─────────┬───────┬──────────┐\n",
       "│ PassengerId ┆ Survived ┆ Pclass ┆ Name              ┆ … ┆ Ticket    ┆ Fare    ┆ Cabin ┆ Embarked │\n",
       "│ ---         ┆ ---      ┆ ---    ┆ ---               ┆   ┆ ---       ┆ ---     ┆ ---   ┆ ---      │\n",
       "│ i64         ┆ i64      ┆ i64    ┆ str               ┆   ┆ str       ┆ f64     ┆ str   ┆ str      │\n",
       "╞═════════════╪══════════╪════════╪═══════════════════╪═══╪═══════════╪═════════╪═══════╪══════════╡\n",
       "│ 1           ┆ 0        ┆ 3      ┆ Braund, Mr. Owen  ┆ … ┆ A/5 21171 ┆ 7.25    ┆ null  ┆ S        │\n",
       "│             ┆          ┆        ┆ Harris            ┆   ┆           ┆         ┆       ┆          │\n",
       "│ 2           ┆ 1        ┆ 1      ┆ Cumings, Mrs.     ┆ … ┆ PC 17599  ┆ 71.2833 ┆ C85   ┆ C        │\n",
       "│             ┆          ┆        ┆ John Bradley (Fl… ┆   ┆           ┆         ┆       ┆          │\n",
       "│ 3           ┆ 1        ┆ 3      ┆ Heikkinen, Miss.  ┆ … ┆ STON/O2.  ┆ 7.925   ┆ null  ┆ S        │\n",
       "│             ┆          ┆        ┆ Laina             ┆   ┆ 3101282   ┆         ┆       ┆          │\n",
       "└─────────────┴──────────┴────────┴───────────────────┴───┴───────────┴─────────┴───────┴──────────┘"
      ]
     },
     "execution_count": 3,
     "metadata": {},
     "output_type": "execute_result"
    }
   ],
   "source": [
    "df = pl.read_csv(csv_file)\n",
    "df.head(3)"
   ]
  },
  {
   "cell_type": "markdown",
   "id": "5c2b3e34-d707-4f38-910c-6f01c220b612",
   "metadata": {},
   "source": [
    "## Convert a `DataFrame` to Numpy\n",
    "\n",
    "To convert a `DataFrame` to Numpy use the `to_numpy` method. This clones (copies) the data."
   ]
  },
  {
   "cell_type": "code",
   "execution_count": 5,
   "id": "72d5aa02-673d-4009-9c7c-32d1b6156e6d",
   "metadata": {
    "tags": []
   },
   "outputs": [
    {
     "data": {
      "text/plain": [
       "array([[1, 0, 3, ..., 7.25, None, 'S'],\n",
       "       [2, 1, 1, ..., 71.2833, 'C85', 'C'],\n",
       "       [3, 1, 3, ..., 7.925, None, 'S'],\n",
       "       ...,\n",
       "       [889, 0, 3, ..., 23.45, None, 'S'],\n",
       "       [890, 1, 1, ..., 30.0, 'C148', 'C'],\n",
       "       [891, 0, 3, ..., 7.75, None, 'Q']], dtype=object)"
      ]
     },
     "execution_count": 5,
     "metadata": {},
     "output_type": "execute_result"
    }
   ],
   "source": [
    "arr = df.to_numpy()\n",
    "arr"
   ]
  },
  {
   "cell_type": "markdown",
   "id": "cec4f71e-88bf-4301-ae28-f3bf95ba94c6",
   "metadata": {},
   "source": [
    "This conversion turns each row into a Numpy `ndarray` and vertically stacks these row-arrays.\n",
    "\n",
    "As the `DataFrame` has a mix of types the Numpy array has an `object` dtype."
   ]
  },
  {
   "cell_type": "markdown",
   "id": "4a6ff6d3-db5d-44b5-bf20-3a96d52bb7f4",
   "metadata": {},
   "source": [
    "If the columns have uniform numeric dtype then the Numpy array has the corresponding dtype.\n",
    "\n",
    "In this example we use `select` to choose the 64-bit floating point columns only for conversion to Numpy...\n",
    "\n",
    "> We cover `select` in more detail in the Section on Selecting columns and transforming dataframes."
   ]
  },
  {
   "cell_type": "code",
   "execution_count": 6,
   "id": "25afb65b-f944-4587-9180-61ecf40e2257",
   "metadata": {},
   "outputs": [
    {
     "data": {
      "text/plain": [
       "array([[22.    ,  7.25  ],\n",
       "       [38.    , 71.2833],\n",
       "       [26.    ,  7.925 ],\n",
       "       ...,\n",
       "       [    nan, 23.45  ],\n",
       "       [26.    , 30.    ],\n",
       "       [32.    ,  7.75  ]])"
      ]
     },
     "execution_count": 6,
     "metadata": {},
     "output_type": "execute_result"
    }
   ],
   "source": [
    "floats_array = (\n",
    "    df\n",
    "    .select(\n",
    "        pl.col(pl.Float64)\n",
    "    )\n",
    "    .to_numpy()\n",
    ")\n",
    "floats_array"
   ]
  },
  {
   "cell_type": "markdown",
   "id": "58eaf306-4062-4daa-b10a-c9b76b20fbd7",
   "metadata": {},
   "source": [
    "... and we get a float Numpy array"
   ]
  },
  {
   "cell_type": "code",
   "execution_count": null,
   "id": "52ec4d84-519f-4c7c-aff0-90bc4cbf224c",
   "metadata": {},
   "outputs": [],
   "source": [
    "floats_array.dtype"
   ]
  },
  {
   "cell_type": "markdown",
   "id": "88d95d49-5803-4512-9fc7-87d565902df3",
   "metadata": {},
   "source": [
    "The Polars sequence dtypes `pl.List` and `pl.Array` are common ways to store sequences that might be passed to Numpy. We learn more about these in Section 4 of the course."
   ]
  },
  {
   "cell_type": "markdown",
   "id": "c9282f92-23f2-4f90-8b5d-77624b931d4d",
   "metadata": {},
   "source": [
    "## Convert Numpy to a `DataFrame`\n",
    "\n",
    "We can create a Polars `DataFrame` from a Numpy array"
   ]
  },
  {
   "cell_type": "code",
   "execution_count": 7,
   "id": "982ba1d3-679d-482e-bd2a-1ba744b1a4e4",
   "metadata": {},
   "outputs": [
    {
     "data": {
      "text/html": [
       "<div><style>\n",
       ".dataframe > thead > tr,\n",
       ".dataframe > tbody > tr {\n",
       "  text-align: right;\n",
       "  white-space: pre-wrap;\n",
       "}\n",
       "</style>\n",
       "<small>shape: (5, 3)</small><table border=\"1\" class=\"dataframe\"><thead><tr><th>column_0</th><th>column_1</th><th>column_2</th></tr><tr><td>f64</td><td>f64</td><td>f64</td></tr></thead><tbody><tr><td>1.519486</td><td>-1.474066</td><td>-0.396043</td></tr><tr><td>-1.687464</td><td>0.54541</td><td>0.550352</td></tr><tr><td>0.16938</td><td>-0.778125</td><td>0.807696</td></tr><tr><td>0.774408</td><td>1.217639</td><td>-0.84679</td></tr><tr><td>0.743746</td><td>0.306673</td><td>-0.536983</td></tr></tbody></table></div>"
      ],
      "text/plain": [
       "shape: (5, 3)\n",
       "┌───────────┬───────────┬───────────┐\n",
       "│ column_0  ┆ column_1  ┆ column_2  │\n",
       "│ ---       ┆ ---       ┆ ---       │\n",
       "│ f64       ┆ f64       ┆ f64       │\n",
       "╞═══════════╪═══════════╪═══════════╡\n",
       "│ 1.519486  ┆ -1.474066 ┆ -0.396043 │\n",
       "│ -1.687464 ┆ 0.54541   ┆ 0.550352  │\n",
       "│ 0.16938   ┆ -0.778125 ┆ 0.807696  │\n",
       "│ 0.774408  ┆ 1.217639  ┆ -0.84679  │\n",
       "│ 0.743746  ┆ 0.306673  ┆ -0.536983 │\n",
       "└───────────┴───────────┴───────────┘"
      ]
     },
     "execution_count": 7,
     "metadata": {},
     "output_type": "execute_result"
    }
   ],
   "source": [
    "rand_array = np.random.standard_normal((5,3))\n",
    "(\n",
    "    pl.DataFrame(\n",
    "        rand_array\n",
    "    )\n",
    ")"
   ]
  },
  {
   "cell_type": "markdown",
   "id": "2b3cecc2-597c-4ed8-82b7-fab6f244f809",
   "metadata": {},
   "source": [
    "We can optionally pass a list of column names to `pl.DataFrame` if we want to specify these.\n",
    "\n",
    "If we have a **1D** Numpy array we can create a Polars `Series` or `DataFrame` with zero-copy. We start by creating a 1D array of all ones"
   ]
  },
  {
   "cell_type": "code",
   "execution_count": null,
   "id": "6a75d91e-71d7-4f44-aba8-3bbaa1f17288",
   "metadata": {},
   "outputs": [],
   "source": [
    "arr = np.ones(10)\n",
    "arr.shape"
   ]
  },
  {
   "cell_type": "markdown",
   "id": "58e6e410-61e2-4af7-ba7b-701bcd81c7db",
   "metadata": {},
   "source": [
    "We can then create a `Series` or `DataFrame` from a Numpy array with *zero-copy* of the data"
   ]
  },
  {
   "cell_type": "code",
   "execution_count": null,
   "id": "1c56363f-097b-426a-b9c3-6371f8551a3f",
   "metadata": {},
   "outputs": [],
   "source": [
    "# zero copy series conversion\n",
    "pl.Series(\"a\", arr)\n",
    "\n",
    "# zero copy DataFrame conversion\n",
    "pl.DataFrame(\n",
    "    {\n",
    "       \"a\": arr,\n",
    "    }\n",
    ")"
   ]
  },
  {
   "cell_type": "markdown",
   "id": "73b4e387-2bb2-432b-bb13-72ff148560fe",
   "metadata": {},
   "source": [
    "Zero-copy means that the data - the array of ones - is only stored in one place in memory. Both Numpy and Polars are looking at this same place to get the data for the original Numpy array or the Polars `Series` or `DataFrame`. If (or when) one of these libraries transforms the data then it creates its own copy with the transformed data."
   ]
  },
  {
   "cell_type": "markdown",
   "id": "3ee68560-83bc-4d45-a3c2-8345c58cbe0c",
   "metadata": {},
   "source": [
    "## Convert a `Series` to Numpy\n",
    "Converting a `Series` to Numpy has more options than converting an entire `DataFrame`.\n",
    "\n",
    "To do a simple conversion where the data is cloned use `to_numpy` on the `Series`"
   ]
  },
  {
   "cell_type": "code",
   "execution_count": 10,
   "id": "c8a05fa8-f4c5-44be-8e43-967bbe619216",
   "metadata": {
    "tags": []
   },
   "outputs": [
    {
     "data": {
      "text/plain": [
       "array([22., 38., 26., 35., 35., 54., 27.])"
      ]
     },
     "execution_count": 10,
     "metadata": {},
     "output_type": "execute_result"
    }
   ],
   "source": [
    "tmp = (\n",
    "    df['Age']\n",
    "    .head()\n",
    "    .to_numpy()\n",
    ")\n",
    "tmp[tmp>20]"
   ]
  },
  {
   "cell_type": "markdown",
   "id": "25e90b53-5f09-43ea-8f00-b881a49a6209",
   "metadata": {},
   "source": [
    "The `Age` column has a float dtype and so does the Numpy output. Note that the `null` value in the 7th position becomes a `NaN` in Numpy.\n",
    "\n",
    "Also be aware that an integer column containing `null` values is cast to float in Numpy. We show this here where we `cast` the float `Age` column to integer and then convert to Numpy"
   ]
  },
  {
   "cell_type": "code",
   "execution_count": null,
   "id": "bff56949-5f2e-439b-bf6f-1aa599a0b05d",
   "metadata": {},
   "outputs": [],
   "source": [
    "(\n",
    "    df['Age']\n",
    "    .cast(pl.Int32)\n",
    "    .head()\n",
    "    .to_numpy()\n",
    ")"
   ]
  },
  {
   "cell_type": "markdown",
   "id": "23fe66f4-a638-4669-b1ec-9325e00f093b",
   "metadata": {},
   "source": [
    "And here we get the same output as above.\n",
    "\n",
    "### Convert a `Series` to Numpy with zero-copy\n",
    "In some cases we can convert a `Series` to Numpy without copying (\"zero-copy\"). \n",
    "\n",
    "Zero-copy is only possible if there are no `null` or `NaN` values such as in the `Survived` column. If we want to ensure that conversion to Numpy happens with zero-copy - and raise an `Exception` if a copy is needed - we use the `allow_copy` argument"
   ]
  },
  {
   "cell_type": "code",
   "execution_count": null,
   "id": "b391eb3b-24d4-4076-9d10-af08f12bee2f",
   "metadata": {
    "tags": []
   },
   "outputs": [],
   "source": [
    "arr = (\n",
    "    df['Survived']\n",
    "    .head()\n",
    "    .to_numpy(allow_copy=False)\n",
    ")\n",
    "arr"
   ]
  },
  {
   "cell_type": "markdown",
   "id": "9030bcbe-eb6e-41f6-b80c-15a3d7471d1b",
   "metadata": {},
   "source": [
    "If we try this zero-copy approach with the `Age` column - where there is a `null` value we get an `Exception`"
   ]
  },
  {
   "cell_type": "code",
   "execution_count": null,
   "id": "0ff0f012-7f48-4d55-a061-304a474354cd",
   "metadata": {},
   "outputs": [],
   "source": [
    "arr = (\n",
    "    df['Age']\n",
    "    .head()\n",
    "    .to_numpy(allow_copy=False)\n",
    ")\n",
    "arr"
   ]
  },
  {
   "cell_type": "markdown",
   "id": "436351d6-6a74-4023-87ea-aec8f6effecf",
   "metadata": {},
   "source": [
    "With zero-copy conversion the Numpy array is read-only so we cannot change the values in the Numpy array.\n",
    "\n",
    "In the following example we get an `Exception` when we try to change the values after a zero-copy operation on the `Survived` column"
   ]
  },
  {
   "cell_type": "code",
   "execution_count": null,
   "id": "7f401c96-7b23-4efa-a9a6-292ef41f2304",
   "metadata": {
    "tags": []
   },
   "outputs": [],
   "source": [
    "arr = (\n",
    "    df['Survived']\n",
    "    .head()\n",
    "    .to_numpy(allow_copy=False)\n",
    ")\n",
    "arr[0] = 100"
   ]
  },
  {
   "cell_type": "markdown",
   "id": "b6f1eff4-379e-4146-b12b-2a4bfbb0d894",
   "metadata": {},
   "source": [
    "## Convert a `DataFrame` to Pandas\n",
    "\n",
    "### Convert to a Numpy-backed Pandas DataFrame\n",
    "Pandas has historically used Numpy arrays to represent its data in memory.\n",
    "\n",
    "To convert a `DataFrame` to Pandas with Numpy array use the `to_pandas` method. This clones the data similar to calling `to_numpy` on a `DataFrame` above.\n",
    "\n",
    "> This conversion to Pandas requires that you have `PyArrow` installed with `pip` or `conda`."
   ]
  },
  {
   "cell_type": "code",
   "execution_count": 14,
   "id": "1baa03b6-c56c-497d-9d8d-a6709055b340",
   "metadata": {
    "tags": []
   },
   "outputs": [
    {
     "data": {
      "text/plain": [
       "1"
      ]
     },
     "execution_count": 14,
     "metadata": {},
     "output_type": "execute_result"
    }
   ],
   "source": [
    "tmp = (\n",
    "    df\n",
    "    .to_pandas()\n",
    "    .head(2)\n",
    ")\n",
    "tmp.iloc[0,0]"
   ]
  },
  {
   "cell_type": "code",
   "execution_count": 18,
   "id": "7053ad1a",
   "metadata": {},
   "outputs": [
    {
     "data": {
      "text/plain": [
       "22.0"
      ]
     },
     "execution_count": 18,
     "metadata": {},
     "output_type": "execute_result"
    }
   ],
   "source": [
    "(\n",
    "    pl.scan_csv(csv_file)\n",
    "    .select('Age')\n",
    "    .collect()\n",
    "    .to_pandas()\n",
    ").iloc[0,0]"
   ]
  },
  {
   "cell_type": "markdown",
   "id": "ad9663cd-67cb-4441-97a2-93038f833ec9",
   "metadata": {},
   "source": [
    "### Convert to a PyArrow-backed Pandas `DataFrame`\n",
    "Since Pandas release 1.5.0 and Polars release 1.6.4 you can have a Pandas `DataFrame` backed by an Arrow Table. You can create a Pandas `DataFrame` that references the same Arrow Table as your Polars `DataFrame`"
   ]
  },
  {
   "cell_type": "code",
   "execution_count": 12,
   "id": "fffbc1ec-8912-46c5-ba78-cb9425470dad",
   "metadata": {
    "tags": []
   },
   "outputs": [
    {
     "data": {
      "text/html": [
       "<div>\n",
       "<style scoped>\n",
       "    .dataframe tbody tr th:only-of-type {\n",
       "        vertical-align: middle;\n",
       "    }\n",
       "\n",
       "    .dataframe tbody tr th {\n",
       "        vertical-align: top;\n",
       "    }\n",
       "\n",
       "    .dataframe thead th {\n",
       "        text-align: right;\n",
       "    }\n",
       "</style>\n",
       "<table border=\"1\" class=\"dataframe\">\n",
       "  <thead>\n",
       "    <tr style=\"text-align: right;\">\n",
       "      <th></th>\n",
       "      <th>PassengerId</th>\n",
       "      <th>Survived</th>\n",
       "      <th>Pclass</th>\n",
       "      <th>Name</th>\n",
       "      <th>Sex</th>\n",
       "      <th>Age</th>\n",
       "      <th>SibSp</th>\n",
       "      <th>Parch</th>\n",
       "      <th>Ticket</th>\n",
       "      <th>Fare</th>\n",
       "      <th>Cabin</th>\n",
       "      <th>Embarked</th>\n",
       "    </tr>\n",
       "  </thead>\n",
       "  <tbody>\n",
       "    <tr>\n",
       "      <th>0</th>\n",
       "      <td>1</td>\n",
       "      <td>0</td>\n",
       "      <td>3</td>\n",
       "      <td>Braund, Mr. Owen Harris</td>\n",
       "      <td>male</td>\n",
       "      <td>22.0</td>\n",
       "      <td>1</td>\n",
       "      <td>0</td>\n",
       "      <td>A/5 21171</td>\n",
       "      <td>7.25</td>\n",
       "      <td>&lt;NA&gt;</td>\n",
       "      <td>S</td>\n",
       "    </tr>\n",
       "    <tr>\n",
       "      <th>1</th>\n",
       "      <td>2</td>\n",
       "      <td>1</td>\n",
       "      <td>1</td>\n",
       "      <td>Cumings, Mrs. John Bradley (Florence Briggs Th...</td>\n",
       "      <td>female</td>\n",
       "      <td>38.0</td>\n",
       "      <td>1</td>\n",
       "      <td>0</td>\n",
       "      <td>PC 17599</td>\n",
       "      <td>71.2833</td>\n",
       "      <td>C85</td>\n",
       "      <td>C</td>\n",
       "    </tr>\n",
       "  </tbody>\n",
       "</table>\n",
       "</div>"
      ],
      "text/plain": [
       "   PassengerId  Survived  Pclass  \\\n",
       "0            1         0       3   \n",
       "1            2         1       1   \n",
       "\n",
       "                                                Name     Sex   Age  SibSp  \\\n",
       "0                            Braund, Mr. Owen Harris    male  22.0      1   \n",
       "1  Cumings, Mrs. John Bradley (Florence Briggs Th...  female  38.0      1   \n",
       "\n",
       "   Parch     Ticket     Fare Cabin Embarked  \n",
       "0      0  A/5 21171     7.25  <NA>        S  \n",
       "1      0   PC 17599  71.2833   C85        C  "
      ]
     },
     "execution_count": 12,
     "metadata": {},
     "output_type": "execute_result"
    }
   ],
   "source": [
    "(\n",
    "    df\n",
    "    .to_pandas(use_pyarrow_extension_array=True)\n",
    "    .head(2)\n",
    ")"
   ]
  },
  {
   "cell_type": "markdown",
   "id": "c135ccf4-85ac-42d4-b1db-58ab1c96bc6d",
   "metadata": {},
   "source": [
    "The advantage of using the pyarrow extension array is that creating the Pandas `DataFrame` is very cheap as it does not require copying data. \n",
    "\n",
    "If there is a function you want from Pandas you can do a quick transformation to Pandas, apply the function and revert back to Polars. This works in eager mode only of course.\n",
    "\n",
    "This PyArrow conversion is a new feature in both libraries so there may be incompatability with trickier features such as categorical or nested columns.\n",
    "\n",
    "Note that when you do **not** use the PyArrow extension approach the dtypes of the columns in Pandas are the standard Pandas dtypes. When you do use the PyArrow extension approach the the dtypes of the columns in Pandas are PyArrow dtypes"
   ]
  },
  {
   "cell_type": "code",
   "execution_count": null,
   "id": "b32948d2-be4f-4711-aa0d-2d0e944f0ad1",
   "metadata": {
    "tags": []
   },
   "outputs": [],
   "source": [
    "# Without PyArrow dtypes\n",
    "df.to_pandas(use_pyarrow_extension_array=False).dtypes"
   ]
  },
  {
   "cell_type": "code",
   "execution_count": null,
   "id": "5a7f930a-a885-4916-9f49-feed0a44acdd",
   "metadata": {
    "tags": []
   },
   "outputs": [],
   "source": [
    "# With PyArrow dtypes\n",
    "df.to_pandas(use_pyarrow_extension_array=True).dtypes"
   ]
  },
  {
   "cell_type": "markdown",
   "id": "ff6240e8-0320-406e-9597-dc9070301999",
   "metadata": {},
   "source": [
    "### Calling `pd.DataFrame` on a Polars `DataFrame`\n",
    "You can call `pd.DataFrame` on a Polars `DataFrame`"
   ]
  },
  {
   "cell_type": "code",
   "execution_count": null,
   "id": "861bacdd-68a7-4c0d-83e9-ed3fdbbd4f05",
   "metadata": {
    "tags": []
   },
   "outputs": [],
   "source": [
    "df_pandas = (\n",
    "    pd.DataFrame(df)\n",
    "    .head()\n",
    ")"
   ]
  },
  {
   "cell_type": "code",
   "execution_count": null,
   "id": "0c10d378-07d0-4f1b-a791-40d4a1305c8a",
   "metadata": {},
   "outputs": [],
   "source": [
    "df_pandas"
   ]
  },
  {
   "cell_type": "markdown",
   "id": "b60e4c86-8f08-42e3-988b-c5ad4f1065ae",
   "metadata": {},
   "source": [
    "\n",
    "\n",
    "### Conversion from Pandas to Polars\n",
    "You can convert from Pandas to Polars by calling `pl.DataFrame` on the Pandas `DataFrame`"
   ]
  },
  {
   "cell_type": "code",
   "execution_count": null,
   "id": "f7fdd9b7-6f30-4412-a7d0-ea6e2654b0e6",
   "metadata": {},
   "outputs": [],
   "source": [
    "(\n",
    "    pl.DataFrame(\n",
    "        df.to_pandas().set_index(\"PassengerId\")\n",
    "    )\n",
    "    .head(3)\n",
    ")"
   ]
  },
  {
   "cell_type": "markdown",
   "id": "cf0f7d1b-ed50-43b2-99bd-1885259d44bf",
   "metadata": {},
   "source": [
    "Note, however, that the `index` column is lost when converting to Polars."
   ]
  },
  {
   "cell_type": "markdown",
   "id": "be8b9c82-4197-413f-8198-6fd308127ab4",
   "metadata": {},
   "source": [
    "You can also call `pl.from_pandas` on a Pandas `DataFrame`"
   ]
  },
  {
   "cell_type": "code",
   "execution_count": null,
   "id": "6b8a1748-2852-46d3-a522-d4fe92fb80eb",
   "metadata": {},
   "outputs": [],
   "source": [
    "(\n",
    "    pl.from_pandas(\n",
    "        df.to_pandas()\n",
    "    ).head(3)\n",
    ")"
   ]
  },
  {
   "cell_type": "markdown",
   "id": "fe88d78d-105a-4a80-b80b-be641e2ab32f",
   "metadata": {},
   "source": [
    "Both approaches are equivalent."
   ]
  },
  {
   "cell_type": "markdown",
   "id": "0a01bf8e-7495-446b-acba-dce16645da77",
   "metadata": {},
   "source": [
    "## Convert a `Series` to Pandas\n",
    "You can convert a `Series` to Pandas with `to_pandas` which clones the data"
   ]
  },
  {
   "cell_type": "code",
   "execution_count": null,
   "id": "3139f054-e628-472b-b0f2-b6063605bccf",
   "metadata": {
    "tags": []
   },
   "outputs": [],
   "source": [
    "(\n",
    "    df['Age']\n",
    "    .to_pandas()\n",
    "    .head()\n",
    ")"
   ]
  },
  {
   "cell_type": "markdown",
   "id": "3a842e99-dd4c-4d3c-8523-a9f3c59c8820",
   "metadata": {},
   "source": [
    "Or you can again use the PyArrow extension type in Pandas for a zero-copy conversion"
   ]
  },
  {
   "cell_type": "code",
   "execution_count": null,
   "id": "d55383dd-7aec-405c-a63b-f008e024fde2",
   "metadata": {
    "tags": []
   },
   "outputs": [],
   "source": [
    "(\n",
    "    df['Age']\n",
    "    .to_pandas(use_pyarrow_extension_array=True)\n",
    "    .head()\n",
    ")"
   ]
  },
  {
   "cell_type": "markdown",
   "id": "b3b50bc1-aa7f-4e05-ba6f-65808e0ea75e",
   "metadata": {},
   "source": [
    "## Exercises\n",
    "\n",
    "No exercises for this lecture!"
   ]
  }
 ],
 "metadata": {
  "kernelspec": {
   "display_name": "Python 3 (ipykernel)",
   "language": "python",
   "name": "python3"
  },
  "language_info": {
   "codemirror_mode": {
    "name": "ipython",
    "version": 3
   },
   "file_extension": ".py",
   "mimetype": "text/x-python",
   "name": "python",
   "nbconvert_exporter": "python",
   "pygments_lexer": "ipython3",
   "version": "3.12.5"
  }
 },
 "nbformat": 4,
 "nbformat_minor": 5
}
