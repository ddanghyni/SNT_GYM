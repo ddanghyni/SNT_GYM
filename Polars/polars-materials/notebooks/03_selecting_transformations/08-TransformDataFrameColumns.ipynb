{
 "cells": [
  {
   "cell_type": "markdown",
   "id": "5cf1ce07-ed1c-4d95-9491-bc2761f732ba",
   "metadata": {},
   "source": [
    "## Transforming a `DataFrame`\n",
    "In this lecture you will learn how to:\n",
    "- rename, drop and re-order columns from a `DataFrame`\n",
    "- transform a `DataFrame` in a function using `pipe`"
   ]
  },
  {
   "cell_type": "code",
   "execution_count": 5,
   "id": "5b446555-1ab6-43d5-848f-77db949f03e2",
   "metadata": {
    "tags": []
   },
   "outputs": [
    {
     "data": {
      "text/plain": [
       "polars.config.Config"
      ]
     },
     "execution_count": 5,
     "metadata": {},
     "output_type": "execute_result"
    }
   ],
   "source": [
    "import polars as pl\n",
    "import polars.selectors as cs # type: ignore\n",
    "# Set the number of rows to be printed to 6\n",
    "pl.Config.set_tbl_rows(6)"
   ]
  },
  {
   "cell_type": "code",
   "execution_count": 3,
   "id": "3858c329-a601-4b08-8147-90d1fb283d60",
   "metadata": {
    "tags": []
   },
   "outputs": [],
   "source": [
    "csv_file = \"../data/titanic.csv\""
   ]
  },
  {
   "cell_type": "code",
   "execution_count": 6,
   "id": "24742f3d-bffb-46f1-82fc-eb228b84f739",
   "metadata": {
    "tags": []
   },
   "outputs": [
    {
     "data": {
      "text/html": [
       "<div><style>\n",
       ".dataframe > thead > tr,\n",
       ".dataframe > tbody > tr {\n",
       "  text-align: right;\n",
       "  white-space: pre-wrap;\n",
       "}\n",
       "</style>\n",
       "<small>shape: (2, 12)</small><table border=\"1\" class=\"dataframe\"><thead><tr><th>PassengerId</th><th>Survived</th><th>Pclass</th><th>Name</th><th>Sex</th><th>Age</th><th>SibSp</th><th>Parch</th><th>Ticket</th><th>Fare</th><th>Cabin</th><th>Embarked</th></tr><tr><td>i64</td><td>i64</td><td>i64</td><td>str</td><td>str</td><td>f64</td><td>i64</td><td>i64</td><td>str</td><td>f64</td><td>str</td><td>str</td></tr></thead><tbody><tr><td>1</td><td>0</td><td>3</td><td>&quot;Braund, Mr. Owen Harris&quot;</td><td>&quot;male&quot;</td><td>22.0</td><td>1</td><td>0</td><td>&quot;A/5 21171&quot;</td><td>7.25</td><td>null</td><td>&quot;S&quot;</td></tr><tr><td>2</td><td>1</td><td>1</td><td>&quot;Cumings, Mrs. John Bradley (Fl…</td><td>&quot;female&quot;</td><td>38.0</td><td>1</td><td>0</td><td>&quot;PC 17599&quot;</td><td>71.2833</td><td>&quot;C85&quot;</td><td>&quot;C&quot;</td></tr></tbody></table></div>"
      ],
      "text/plain": [
       "shape: (2, 12)\n",
       "┌─────────────┬──────────┬────────┬───────────────────┬───┬───────────┬─────────┬───────┬──────────┐\n",
       "│ PassengerId ┆ Survived ┆ Pclass ┆ Name              ┆ … ┆ Ticket    ┆ Fare    ┆ Cabin ┆ Embarked │\n",
       "│ ---         ┆ ---      ┆ ---    ┆ ---               ┆   ┆ ---       ┆ ---     ┆ ---   ┆ ---      │\n",
       "│ i64         ┆ i64      ┆ i64    ┆ str               ┆   ┆ str       ┆ f64     ┆ str   ┆ str      │\n",
       "╞═════════════╪══════════╪════════╪═══════════════════╪═══╪═══════════╪═════════╪═══════╪══════════╡\n",
       "│ 1           ┆ 0        ┆ 3      ┆ Braund, Mr. Owen  ┆ … ┆ A/5 21171 ┆ 7.25    ┆ null  ┆ S        │\n",
       "│             ┆          ┆        ┆ Harris            ┆   ┆           ┆         ┆       ┆          │\n",
       "│ 2           ┆ 1        ┆ 1      ┆ Cumings, Mrs.     ┆ … ┆ PC 17599  ┆ 71.2833 ┆ C85   ┆ C        │\n",
       "│             ┆          ┆        ┆ John Bradley (Fl… ┆   ┆           ┆         ┆       ┆          │\n",
       "└─────────────┴──────────┴────────┴───────────────────┴───┴───────────┴─────────┴───────┴──────────┘"
      ]
     },
     "execution_count": 6,
     "metadata": {},
     "output_type": "execute_result"
    }
   ],
   "source": [
    "df = pl.read_csv(csv_file)\n",
    "df.head(2)"
   ]
  },
  {
   "cell_type": "markdown",
   "id": "fdc0260a-b8d2-43bb-85fb-c9da9b0dabb1",
   "metadata": {},
   "source": [
    "## Renaming columns\n",
    "We can rename columns by passing a `dict` that maps old names to new names."
   ]
  },
  {
   "cell_type": "code",
   "execution_count": 13,
   "id": "455791d0-59b0-457b-bcff-5de072fadee4",
   "metadata": {
    "tags": []
   },
   "outputs": [
    {
     "data": {
      "text/html": [
       "<div><style>\n",
       ".dataframe > thead > tr,\n",
       ".dataframe > tbody > tr {\n",
       "  text-align: right;\n",
       "  white-space: pre-wrap;\n",
       "}\n",
       "</style>\n",
       "<small>shape: (2, 12)</small><table border=\"1\" class=\"dataframe\"><thead><tr><th>ID</th><th>Survived</th><th>Class</th><th>Name</th><th>Gender</th><th>Age</th><th>Siblings/Spouses Aboard</th><th>Parents/Children Aboard</th><th>Ticket Number</th><th>Fare</th><th>Cabin Number</th><th>Port of Embarkation</th></tr><tr><td>i64</td><td>i64</td><td>i64</td><td>str</td><td>str</td><td>f64</td><td>i64</td><td>i64</td><td>str</td><td>f64</td><td>str</td><td>str</td></tr></thead><tbody><tr><td>1</td><td>0</td><td>3</td><td>&quot;Braund, Mr. Owen Harris&quot;</td><td>&quot;male&quot;</td><td>22.0</td><td>1</td><td>0</td><td>&quot;A/5 21171&quot;</td><td>7.25</td><td>null</td><td>&quot;S&quot;</td></tr><tr><td>2</td><td>1</td><td>1</td><td>&quot;Cumings, Mrs. John Bradley (Fl…</td><td>&quot;female&quot;</td><td>38.0</td><td>1</td><td>0</td><td>&quot;PC 17599&quot;</td><td>71.2833</td><td>&quot;C85&quot;</td><td>&quot;C&quot;</td></tr></tbody></table></div>"
      ],
      "text/plain": [
       "shape: (2, 12)\n",
       "┌─────┬──────────┬───────┬────────────────┬───┬───────────┬─────────┬──────────────┬───────────────┐\n",
       "│ ID  ┆ Survived ┆ Class ┆ Name           ┆ … ┆ Ticket    ┆ Fare    ┆ Cabin Number ┆ Port of       │\n",
       "│ --- ┆ ---      ┆ ---   ┆ ---            ┆   ┆ Number    ┆ ---     ┆ ---          ┆ Embarkation   │\n",
       "│ i64 ┆ i64      ┆ i64   ┆ str            ┆   ┆ ---       ┆ f64     ┆ str          ┆ ---           │\n",
       "│     ┆          ┆       ┆                ┆   ┆ str       ┆         ┆              ┆ str           │\n",
       "╞═════╪══════════╪═══════╪════════════════╪═══╪═══════════╪═════════╪══════════════╪═══════════════╡\n",
       "│ 1   ┆ 0        ┆ 3     ┆ Braund, Mr.    ┆ … ┆ A/5 21171 ┆ 7.25    ┆ null         ┆ S             │\n",
       "│     ┆          ┆       ┆ Owen Harris    ┆   ┆           ┆         ┆              ┆               │\n",
       "│ 2   ┆ 1        ┆ 1     ┆ Cumings, Mrs.  ┆ … ┆ PC 17599  ┆ 71.2833 ┆ C85          ┆ C             │\n",
       "│     ┆          ┆       ┆ John Bradley   ┆   ┆           ┆         ┆              ┆               │\n",
       "│     ┆          ┆       ┆ (Fl…           ┆   ┆           ┆         ┆              ┆               │\n",
       "└─────┴──────────┴───────┴────────────────┴───┴───────────┴─────────┴──────────────┴───────────────┘"
      ]
     },
     "execution_count": 13,
     "metadata": {},
     "output_type": "execute_result"
    }
   ],
   "source": [
    "(\n",
    "    df\n",
    "    .rename({\n",
    "        \"PassengerId\": \"ID\",\n",
    "        \"Pclass\": \"Class\",\n",
    "        \"Name\": \"Name\",\n",
    "        \"Sex\": \"Gender\",\n",
    "        \"Age\": \"Age\",\n",
    "        \"SibSp\": \"Siblings/Spouses Aboard\",\n",
    "        \"Parch\": \"Parents/Children Aboard\",\n",
    "        \"Ticket\": \"Ticket Number\",\n",
    "        \"Cabin\": \"Cabin Number\",\n",
    "        \"Embarked\": \"Port of Embarkation\"\n",
    "    })\n",
    "    .head(2)\n",
    ")"
   ]
  },
  {
   "cell_type": "code",
   "execution_count": 8,
   "id": "28ff5c03",
   "metadata": {},
   "outputs": [
    {
     "data": {
      "text/html": [
       "<div><style>\n",
       ".dataframe > thead > tr,\n",
       ".dataframe > tbody > tr {\n",
       "  text-align: right;\n",
       "  white-space: pre-wrap;\n",
       "}\n",
       "</style>\n",
       "<small>shape: (2, 1)</small><table border=\"1\" class=\"dataframe\"><thead><tr><th>ID</th></tr><tr><td>i64</td></tr></thead><tbody><tr><td>1</td></tr><tr><td>2</td></tr></tbody></table></div>"
      ],
      "text/plain": [
       "shape: (2, 1)\n",
       "┌─────┐\n",
       "│ ID  │\n",
       "│ --- │\n",
       "│ i64 │\n",
       "╞═════╡\n",
       "│ 1   │\n",
       "│ 2   │\n",
       "└─────┘"
      ]
     },
     "execution_count": 8,
     "metadata": {},
     "output_type": "execute_result"
    }
   ],
   "source": [
    "(\n",
    "    df\n",
    "    .select(\n",
    "        pl.col('PassengerId').alias('ID')\n",
    "    )\n",
    "    .head(2)\n",
    ")"
   ]
  },
  {
   "cell_type": "markdown",
   "id": "cd4eb90d-cb09-4563-b902-58560f41d09e",
   "metadata": {},
   "source": [
    "## Dropping columns\n",
    "\n",
    "We can drop columns by passing a `list` of column names"
   ]
  },
  {
   "cell_type": "code",
   "execution_count": 9,
   "id": "69124776-5d64-4dc5-8079-9f408053fe32",
   "metadata": {
    "tags": []
   },
   "outputs": [
    {
     "data": {
      "text/html": [
       "<div><style>\n",
       ".dataframe > thead > tr,\n",
       ".dataframe > tbody > tr {\n",
       "  text-align: right;\n",
       "  white-space: pre-wrap;\n",
       "}\n",
       "</style>\n",
       "<small>shape: (2, 10)</small><table border=\"1\" class=\"dataframe\"><thead><tr><th>Survived</th><th>Name</th><th>Sex</th><th>Age</th><th>SibSp</th><th>Parch</th><th>Ticket</th><th>Fare</th><th>Cabin</th><th>Embarked</th></tr><tr><td>i64</td><td>str</td><td>str</td><td>f64</td><td>i64</td><td>i64</td><td>str</td><td>f64</td><td>str</td><td>str</td></tr></thead><tbody><tr><td>0</td><td>&quot;Braund, Mr. Owen Harris&quot;</td><td>&quot;male&quot;</td><td>22.0</td><td>1</td><td>0</td><td>&quot;A/5 21171&quot;</td><td>7.25</td><td>null</td><td>&quot;S&quot;</td></tr><tr><td>1</td><td>&quot;Cumings, Mrs. John Bradley (Fl…</td><td>&quot;female&quot;</td><td>38.0</td><td>1</td><td>0</td><td>&quot;PC 17599&quot;</td><td>71.2833</td><td>&quot;C85&quot;</td><td>&quot;C&quot;</td></tr></tbody></table></div>"
      ],
      "text/plain": [
       "shape: (2, 10)\n",
       "┌──────────┬──────────────────────────┬────────┬──────┬───┬───────────┬─────────┬───────┬──────────┐\n",
       "│ Survived ┆ Name                     ┆ Sex    ┆ Age  ┆ … ┆ Ticket    ┆ Fare    ┆ Cabin ┆ Embarked │\n",
       "│ ---      ┆ ---                      ┆ ---    ┆ ---  ┆   ┆ ---       ┆ ---     ┆ ---   ┆ ---      │\n",
       "│ i64      ┆ str                      ┆ str    ┆ f64  ┆   ┆ str       ┆ f64     ┆ str   ┆ str      │\n",
       "╞══════════╪══════════════════════════╪════════╪══════╪═══╪═══════════╪═════════╪═══════╪══════════╡\n",
       "│ 0        ┆ Braund, Mr. Owen Harris  ┆ male   ┆ 22.0 ┆ … ┆ A/5 21171 ┆ 7.25    ┆ null  ┆ S        │\n",
       "│ 1        ┆ Cumings, Mrs. John       ┆ female ┆ 38.0 ┆ … ┆ PC 17599  ┆ 71.2833 ┆ C85   ┆ C        │\n",
       "│          ┆ Bradley (Fl…             ┆        ┆      ┆   ┆           ┆         ┆       ┆          │\n",
       "└──────────┴──────────────────────────┴────────┴──────┴───┴───────────┴─────────┴───────┴──────────┘"
      ]
     },
     "execution_count": 9,
     "metadata": {},
     "output_type": "execute_result"
    }
   ],
   "source": [
    "(\n",
    "    df\n",
    "    .drop([\"PassengerId\",\"Pclass\"])\n",
    "    .head(2)\n",
    ")"
   ]
  },
  {
   "cell_type": "markdown",
   "id": "a8e6ecf7-e749-4f79-a502-4f548e973c63",
   "metadata": {},
   "source": [
    "Or we can pass a comma-seperated list of column names"
   ]
  },
  {
   "cell_type": "code",
   "execution_count": 10,
   "id": "e227d18e-616e-46ae-9cb1-4827ea012deb",
   "metadata": {},
   "outputs": [
    {
     "data": {
      "text/html": [
       "<div><style>\n",
       ".dataframe > thead > tr,\n",
       ".dataframe > tbody > tr {\n",
       "  text-align: right;\n",
       "  white-space: pre-wrap;\n",
       "}\n",
       "</style>\n",
       "<small>shape: (2, 10)</small><table border=\"1\" class=\"dataframe\"><thead><tr><th>Survived</th><th>Name</th><th>Sex</th><th>Age</th><th>SibSp</th><th>Parch</th><th>Ticket</th><th>Fare</th><th>Cabin</th><th>Embarked</th></tr><tr><td>i64</td><td>str</td><td>str</td><td>f64</td><td>i64</td><td>i64</td><td>str</td><td>f64</td><td>str</td><td>str</td></tr></thead><tbody><tr><td>0</td><td>&quot;Braund, Mr. Owen Harris&quot;</td><td>&quot;male&quot;</td><td>22.0</td><td>1</td><td>0</td><td>&quot;A/5 21171&quot;</td><td>7.25</td><td>null</td><td>&quot;S&quot;</td></tr><tr><td>1</td><td>&quot;Cumings, Mrs. John Bradley (Fl…</td><td>&quot;female&quot;</td><td>38.0</td><td>1</td><td>0</td><td>&quot;PC 17599&quot;</td><td>71.2833</td><td>&quot;C85&quot;</td><td>&quot;C&quot;</td></tr></tbody></table></div>"
      ],
      "text/plain": [
       "shape: (2, 10)\n",
       "┌──────────┬──────────────────────────┬────────┬──────┬───┬───────────┬─────────┬───────┬──────────┐\n",
       "│ Survived ┆ Name                     ┆ Sex    ┆ Age  ┆ … ┆ Ticket    ┆ Fare    ┆ Cabin ┆ Embarked │\n",
       "│ ---      ┆ ---                      ┆ ---    ┆ ---  ┆   ┆ ---       ┆ ---     ┆ ---   ┆ ---      │\n",
       "│ i64      ┆ str                      ┆ str    ┆ f64  ┆   ┆ str       ┆ f64     ┆ str   ┆ str      │\n",
       "╞══════════╪══════════════════════════╪════════╪══════╪═══╪═══════════╪═════════╪═══════╪══════════╡\n",
       "│ 0        ┆ Braund, Mr. Owen Harris  ┆ male   ┆ 22.0 ┆ … ┆ A/5 21171 ┆ 7.25    ┆ null  ┆ S        │\n",
       "│ 1        ┆ Cumings, Mrs. John       ┆ female ┆ 38.0 ┆ … ┆ PC 17599  ┆ 71.2833 ┆ C85   ┆ C        │\n",
       "│          ┆ Bradley (Fl…             ┆        ┆      ┆   ┆           ┆         ┆       ┆          │\n",
       "└──────────┴──────────────────────────┴────────┴──────┴───┴───────────┴─────────┴───────┴──────────┘"
      ]
     },
     "execution_count": 10,
     "metadata": {},
     "output_type": "execute_result"
    }
   ],
   "source": [
    "(\n",
    "    df\n",
    "    .drop(\"PassengerId\",\"Pclass\")\n",
    "    .head(2)\n",
    ")"
   ]
  },
  {
   "cell_type": "markdown",
   "id": "4b88990d-8d5b-4fad-8249-48fb7fbc9bee",
   "metadata": {},
   "source": [
    "## Re-ordering columns\n",
    "We can re-order columns with a `list` in `select`.\n",
    "\n",
    "In this example we re-order the columns in alphabetical order"
   ]
  },
  {
   "cell_type": "code",
   "execution_count": 11,
   "id": "80ea01db-6e57-40d6-9a9f-38068cfa2783",
   "metadata": {
    "tags": []
   },
   "outputs": [
    {
     "data": {
      "text/html": [
       "<div><style>\n",
       ".dataframe > thead > tr,\n",
       ".dataframe > tbody > tr {\n",
       "  text-align: right;\n",
       "  white-space: pre-wrap;\n",
       "}\n",
       "</style>\n",
       "<small>shape: (2, 12)</small><table border=\"1\" class=\"dataframe\"><thead><tr><th>Age</th><th>Cabin</th><th>Embarked</th><th>Fare</th><th>Name</th><th>Parch</th><th>PassengerId</th><th>Pclass</th><th>Sex</th><th>SibSp</th><th>Survived</th><th>Ticket</th></tr><tr><td>f64</td><td>str</td><td>str</td><td>f64</td><td>str</td><td>i64</td><td>i64</td><td>i64</td><td>str</td><td>i64</td><td>i64</td><td>str</td></tr></thead><tbody><tr><td>22.0</td><td>null</td><td>&quot;S&quot;</td><td>7.25</td><td>&quot;Braund, Mr. Owen Harris&quot;</td><td>0</td><td>1</td><td>3</td><td>&quot;male&quot;</td><td>1</td><td>0</td><td>&quot;A/5 21171&quot;</td></tr><tr><td>38.0</td><td>&quot;C85&quot;</td><td>&quot;C&quot;</td><td>71.2833</td><td>&quot;Cumings, Mrs. John Bradley (Fl…</td><td>0</td><td>2</td><td>1</td><td>&quot;female&quot;</td><td>1</td><td>1</td><td>&quot;PC 17599&quot;</td></tr></tbody></table></div>"
      ],
      "text/plain": [
       "shape: (2, 12)\n",
       "┌──────┬───────┬──────────┬─────────┬───┬────────┬───────┬──────────┬───────────┐\n",
       "│ Age  ┆ Cabin ┆ Embarked ┆ Fare    ┆ … ┆ Sex    ┆ SibSp ┆ Survived ┆ Ticket    │\n",
       "│ ---  ┆ ---   ┆ ---      ┆ ---     ┆   ┆ ---    ┆ ---   ┆ ---      ┆ ---       │\n",
       "│ f64  ┆ str   ┆ str      ┆ f64     ┆   ┆ str    ┆ i64   ┆ i64      ┆ str       │\n",
       "╞══════╪═══════╪══════════╪═════════╪═══╪════════╪═══════╪══════════╪═══════════╡\n",
       "│ 22.0 ┆ null  ┆ S        ┆ 7.25    ┆ … ┆ male   ┆ 1     ┆ 0        ┆ A/5 21171 │\n",
       "│ 38.0 ┆ C85   ┆ C        ┆ 71.2833 ┆ … ┆ female ┆ 1     ┆ 1        ┆ PC 17599  │\n",
       "└──────┴───────┴──────────┴─────────┴───┴────────┴───────┴──────────┴───────────┘"
      ]
     },
     "execution_count": 11,
     "metadata": {},
     "output_type": "execute_result"
    }
   ],
   "source": [
    "(\n",
    "    df\n",
    "    .select(sorted(df.columns))\n",
    "    .head(2)\n",
    ")"
   ]
  },
  {
   "cell_type": "markdown",
   "id": "3f4779df-3ffe-4df3-ad71-c6ff994c4338",
   "metadata": {},
   "source": [
    "## Changing dtypes\n",
    "We can change dtypes within an expression using `pl.col(...).cast()` but we can also call `cast` with a `dict` argument on a DataFrame.\n",
    "\n",
    "In this example we cast the `Survived` column from integer to string"
   ]
  },
  {
   "cell_type": "code",
   "execution_count": 21,
   "id": "486b6975",
   "metadata": {},
   "outputs": [
    {
     "data": {
      "text/html": [
       "<div><style>\n",
       ".dataframe > thead > tr,\n",
       ".dataframe > tbody > tr {\n",
       "  text-align: right;\n",
       "  white-space: pre-wrap;\n",
       "}\n",
       "</style>\n",
       "<small>shape: (891, 2)</small><table border=\"1\" class=\"dataframe\"><thead><tr><th>Age</th><th>Age Group</th></tr><tr><td>f64</td><td>str</td></tr></thead><tbody><tr><td>22.0</td><td>&quot;20&quot;</td></tr><tr><td>38.0</td><td>&quot;30&quot;</td></tr><tr><td>26.0</td><td>&quot;20&quot;</td></tr><tr><td>&hellip;</td><td>&hellip;</td></tr><tr><td>null</td><td>&quot;50&quot;</td></tr><tr><td>26.0</td><td>&quot;20&quot;</td></tr><tr><td>32.0</td><td>&quot;30&quot;</td></tr></tbody></table></div>"
      ],
      "text/plain": [
       "shape: (891, 2)\n",
       "┌──────┬───────────┐\n",
       "│ Age  ┆ Age Group │\n",
       "│ ---  ┆ ---       │\n",
       "│ f64  ┆ str       │\n",
       "╞══════╪═══════════╡\n",
       "│ 22.0 ┆ 20        │\n",
       "│ 38.0 ┆ 30        │\n",
       "│ 26.0 ┆ 20        │\n",
       "│ …    ┆ …         │\n",
       "│ null ┆ 50        │\n",
       "│ 26.0 ┆ 20        │\n",
       "│ 32.0 ┆ 30        │\n",
       "└──────┴───────────┘"
      ]
     },
     "execution_count": 21,
     "metadata": {},
     "output_type": "execute_result"
    }
   ],
   "source": [
    "(\n",
    "    df\n",
    "    .select(\n",
    "        pl.col(\"Age\"),\n",
    "        pl.when(\n",
    "            (pl.col(\"Age\") // 10) == 1\n",
    "        )\n",
    "        .then(10)\n",
    "        .when(\n",
    "            (pl.col(\"Age\") // 10) == 2\n",
    "        )\n",
    "        .then(20)\n",
    "        .when(\n",
    "            (pl.col(\"Age\") // 10) == 3\n",
    "        )\n",
    "        .then(30)\n",
    "        .when(\n",
    "            (pl.col(\"Age\") // 10) == 4\n",
    "        )\n",
    "        .then(40)\n",
    "        .otherwise(50)\n",
    "        .alias(\"Age Group\")\n",
    "        .cast(pl.Utf8)\n",
    "    )\n",
    ")"
   ]
  },
  {
   "cell_type": "code",
   "execution_count": null,
   "id": "be6d550a-8f2b-4d16-84a9-9381bca01124",
   "metadata": {},
   "outputs": [],
   "source": [
    "(\n",
    "    df\n",
    "    .cast(\n",
    "        {\n",
    "            \"Survived\":pl.Utf8\n",
    "        }\n",
    "    )\n",
    "    .head(2)\n",
    ")"
   ]
  },
  {
   "cell_type": "markdown",
   "id": "b23de442-7745-4846-b116-173dc8a7e0a6",
   "metadata": {},
   "source": [
    "We can also cast an entire `DataFrame`"
   ]
  },
  {
   "cell_type": "code",
   "execution_count": null,
   "id": "f69e4580-22fa-4654-a739-1b76ab22f69b",
   "metadata": {},
   "outputs": [],
   "source": [
    "(\n",
    "    df\n",
    "    .cast(pl.Utf8)\n",
    "    .head(2)\n",
    ")"
   ]
  },
  {
   "cell_type": "markdown",
   "id": "96362bea-d356-4081-8902-04fa25e151a2",
   "metadata": {},
   "source": [
    "Or use selectors"
   ]
  },
  {
   "cell_type": "code",
   "execution_count": null,
   "id": "f33fb2a1-2666-406c-8a7f-f3c5d3eb833e",
   "metadata": {},
   "outputs": [],
   "source": [
    "(\n",
    "    df\n",
    "    .cast(\n",
    "        {\n",
    "            cs.numeric():pl.Utf8\n",
    "        }\n",
    "    )\n",
    "    .head(2)\n",
    ")"
   ]
  },
  {
   "cell_type": "markdown",
   "id": "a7c0c4be-85b1-4090-b7f0-77d1b900c02d",
   "metadata": {},
   "source": [
    "## Transforming `DataFrames` in a function\n",
    "\n",
    "We may want to capture some `DataFrame` transformations in a function. This can be to:\n",
    "- re-use the same transformations multiple times\n",
    "- make code easier to read or\n",
    "- make the transformations testable\n",
    "\n",
    "If our function:\n",
    "- takes a `DataFrame` (and some other optional arguments) as an input and\n",
    "- outputs a `DataFrame`\n",
    "then we can use the `pipe` method.\n",
    "\n",
    "In this example we define a function that makes all string columns uppercase"
   ]
  },
  {
   "cell_type": "code",
   "execution_count": 22,
   "id": "2256be0f-ed8d-43c8-8609-af1c1a2faf89",
   "metadata": {},
   "outputs": [],
   "source": [
    "def uppercase_all_strings(df):\n",
    "    return (\n",
    "        df\n",
    "        .with_columns(\n",
    "            pl.col(pl.Utf8).str.to_uppercase()\n",
    "        )\n",
    "    )"
   ]
  },
  {
   "cell_type": "markdown",
   "id": "e23bf3d3-c720-4cc0-b1f3-2511924b99f8",
   "metadata": {},
   "source": [
    "We can pipe the `DataFrame` to this function as follows"
   ]
  },
  {
   "cell_type": "code",
   "execution_count": 28,
   "id": "f3d970ae",
   "metadata": {},
   "outputs": [
    {
     "data": {
      "text/html": [
       "<div><style>\n",
       ".dataframe > thead > tr,\n",
       ".dataframe > tbody > tr {\n",
       "  text-align: right;\n",
       "  white-space: pre-wrap;\n",
       "}\n",
       "</style>\n",
       "<small>shape: (891, 12)</small><table border=\"1\" class=\"dataframe\"><thead><tr><th>PassengerId</th><th>Survived</th><th>Pclass</th><th>Name</th><th>Sex</th><th>Age</th><th>SibSp</th><th>Parch</th><th>Ticket</th><th>Fare</th><th>Cabin</th><th>Embarked</th></tr><tr><td>i64</td><td>i64</td><td>i64</td><td>str</td><td>str</td><td>f64</td><td>i64</td><td>i64</td><td>str</td><td>f64</td><td>str</td><td>str</td></tr></thead><tbody><tr><td>1</td><td>0</td><td>3</td><td>&quot;BRAUND, MR. OWEN HARRIS&quot;</td><td>&quot;male&quot;</td><td>22.0</td><td>1</td><td>0</td><td>&quot;A/5 21171&quot;</td><td>7.25</td><td>null</td><td>&quot;S&quot;</td></tr><tr><td>2</td><td>1</td><td>1</td><td>&quot;CUMINGS, MRS. JOHN BRADLEY (FL…</td><td>&quot;female&quot;</td><td>38.0</td><td>1</td><td>0</td><td>&quot;PC 17599&quot;</td><td>71.2833</td><td>&quot;C85&quot;</td><td>&quot;C&quot;</td></tr><tr><td>3</td><td>1</td><td>3</td><td>&quot;HEIKKINEN, MISS. LAINA&quot;</td><td>&quot;female&quot;</td><td>26.0</td><td>0</td><td>0</td><td>&quot;STON/O2. 3101282&quot;</td><td>7.925</td><td>null</td><td>&quot;S&quot;</td></tr><tr><td>&hellip;</td><td>&hellip;</td><td>&hellip;</td><td>&hellip;</td><td>&hellip;</td><td>&hellip;</td><td>&hellip;</td><td>&hellip;</td><td>&hellip;</td><td>&hellip;</td><td>&hellip;</td><td>&hellip;</td></tr><tr><td>889</td><td>0</td><td>3</td><td>&quot;JOHNSTON, MISS. CATHERINE HELE…</td><td>&quot;female&quot;</td><td>null</td><td>1</td><td>2</td><td>&quot;W./C. 6607&quot;</td><td>23.45</td><td>null</td><td>&quot;S&quot;</td></tr><tr><td>890</td><td>1</td><td>1</td><td>&quot;BEHR, MR. KARL HOWELL&quot;</td><td>&quot;male&quot;</td><td>26.0</td><td>0</td><td>0</td><td>&quot;111369&quot;</td><td>30.0</td><td>&quot;C148&quot;</td><td>&quot;C&quot;</td></tr><tr><td>891</td><td>0</td><td>3</td><td>&quot;DOOLEY, MR. PATRICK&quot;</td><td>&quot;male&quot;</td><td>32.0</td><td>0</td><td>0</td><td>&quot;370376&quot;</td><td>7.75</td><td>null</td><td>&quot;Q&quot;</td></tr></tbody></table></div>"
      ],
      "text/plain": [
       "shape: (891, 12)\n",
       "┌─────────────┬──────────┬────────┬──────────────────┬───┬────────────┬─────────┬───────┬──────────┐\n",
       "│ PassengerId ┆ Survived ┆ Pclass ┆ Name             ┆ … ┆ Ticket     ┆ Fare    ┆ Cabin ┆ Embarked │\n",
       "│ ---         ┆ ---      ┆ ---    ┆ ---              ┆   ┆ ---        ┆ ---     ┆ ---   ┆ ---      │\n",
       "│ i64         ┆ i64      ┆ i64    ┆ str              ┆   ┆ str        ┆ f64     ┆ str   ┆ str      │\n",
       "╞═════════════╪══════════╪════════╪══════════════════╪═══╪════════════╪═════════╪═══════╪══════════╡\n",
       "│ 1           ┆ 0        ┆ 3      ┆ BRAUND, MR. OWEN ┆ … ┆ A/5 21171  ┆ 7.25    ┆ null  ┆ S        │\n",
       "│             ┆          ┆        ┆ HARRIS           ┆   ┆            ┆         ┆       ┆          │\n",
       "│ 2           ┆ 1        ┆ 1      ┆ CUMINGS, MRS.    ┆ … ┆ PC 17599   ┆ 71.2833 ┆ C85   ┆ C        │\n",
       "│             ┆          ┆        ┆ JOHN BRADLEY     ┆   ┆            ┆         ┆       ┆          │\n",
       "│             ┆          ┆        ┆ (FL…             ┆   ┆            ┆         ┆       ┆          │\n",
       "│ 3           ┆ 1        ┆ 3      ┆ HEIKKINEN, MISS. ┆ … ┆ STON/O2.   ┆ 7.925   ┆ null  ┆ S        │\n",
       "│             ┆          ┆        ┆ LAINA            ┆   ┆ 3101282    ┆         ┆       ┆          │\n",
       "│ …           ┆ …        ┆ …      ┆ …                ┆ … ┆ …          ┆ …       ┆ …     ┆ …        │\n",
       "│ 889         ┆ 0        ┆ 3      ┆ JOHNSTON, MISS.  ┆ … ┆ W./C. 6607 ┆ 23.45   ┆ null  ┆ S        │\n",
       "│             ┆          ┆        ┆ CATHERINE HELE…  ┆   ┆            ┆         ┆       ┆          │\n",
       "│ 890         ┆ 1        ┆ 1      ┆ BEHR, MR. KARL   ┆ … ┆ 111369     ┆ 30.0    ┆ C148  ┆ C        │\n",
       "│             ┆          ┆        ┆ HOWELL           ┆   ┆            ┆         ┆       ┆          │\n",
       "│ 891         ┆ 0        ┆ 3      ┆ DOOLEY, MR.      ┆ … ┆ 370376     ┆ 7.75    ┆ null  ┆ Q        │\n",
       "│             ┆          ┆        ┆ PATRICK          ┆   ┆            ┆         ┆       ┆          │\n",
       "└─────────────┴──────────┴────────┴──────────────────┴───┴────────────┴─────────┴───────┴──────────┘"
      ]
     },
     "execution_count": 28,
     "metadata": {},
     "output_type": "execute_result"
    }
   ],
   "source": [
    "(\n",
    "    df\n",
    "    .with_columns(\n",
    "        pl.col('Name').str.to_uppercase()\n",
    "    )\n",
    ")"
   ]
  },
  {
   "cell_type": "code",
   "execution_count": 23,
   "id": "35074b79-2b23-464a-bde7-c3358733e926",
   "metadata": {},
   "outputs": [
    {
     "data": {
      "text/html": [
       "<div><style>\n",
       ".dataframe > thead > tr,\n",
       ".dataframe > tbody > tr {\n",
       "  text-align: right;\n",
       "  white-space: pre-wrap;\n",
       "}\n",
       "</style>\n",
       "<small>shape: (891, 12)</small><table border=\"1\" class=\"dataframe\"><thead><tr><th>PassengerId</th><th>Survived</th><th>Pclass</th><th>Name</th><th>Sex</th><th>Age</th><th>SibSp</th><th>Parch</th><th>Ticket</th><th>Fare</th><th>Cabin</th><th>Embarked</th></tr><tr><td>i64</td><td>i64</td><td>i64</td><td>str</td><td>str</td><td>f64</td><td>i64</td><td>i64</td><td>str</td><td>f64</td><td>str</td><td>str</td></tr></thead><tbody><tr><td>1</td><td>0</td><td>3</td><td>&quot;BRAUND, MR. OWEN HARRIS&quot;</td><td>&quot;MALE&quot;</td><td>22.0</td><td>1</td><td>0</td><td>&quot;A/5 21171&quot;</td><td>7.25</td><td>null</td><td>&quot;S&quot;</td></tr><tr><td>2</td><td>1</td><td>1</td><td>&quot;CUMINGS, MRS. JOHN BRADLEY (FL…</td><td>&quot;FEMALE&quot;</td><td>38.0</td><td>1</td><td>0</td><td>&quot;PC 17599&quot;</td><td>71.2833</td><td>&quot;C85&quot;</td><td>&quot;C&quot;</td></tr><tr><td>3</td><td>1</td><td>3</td><td>&quot;HEIKKINEN, MISS. LAINA&quot;</td><td>&quot;FEMALE&quot;</td><td>26.0</td><td>0</td><td>0</td><td>&quot;STON/O2. 3101282&quot;</td><td>7.925</td><td>null</td><td>&quot;S&quot;</td></tr><tr><td>&hellip;</td><td>&hellip;</td><td>&hellip;</td><td>&hellip;</td><td>&hellip;</td><td>&hellip;</td><td>&hellip;</td><td>&hellip;</td><td>&hellip;</td><td>&hellip;</td><td>&hellip;</td><td>&hellip;</td></tr><tr><td>889</td><td>0</td><td>3</td><td>&quot;JOHNSTON, MISS. CATHERINE HELE…</td><td>&quot;FEMALE&quot;</td><td>null</td><td>1</td><td>2</td><td>&quot;W./C. 6607&quot;</td><td>23.45</td><td>null</td><td>&quot;S&quot;</td></tr><tr><td>890</td><td>1</td><td>1</td><td>&quot;BEHR, MR. KARL HOWELL&quot;</td><td>&quot;MALE&quot;</td><td>26.0</td><td>0</td><td>0</td><td>&quot;111369&quot;</td><td>30.0</td><td>&quot;C148&quot;</td><td>&quot;C&quot;</td></tr><tr><td>891</td><td>0</td><td>3</td><td>&quot;DOOLEY, MR. PATRICK&quot;</td><td>&quot;MALE&quot;</td><td>32.0</td><td>0</td><td>0</td><td>&quot;370376&quot;</td><td>7.75</td><td>null</td><td>&quot;Q&quot;</td></tr></tbody></table></div>"
      ],
      "text/plain": [
       "shape: (891, 12)\n",
       "┌─────────────┬──────────┬────────┬──────────────────┬───┬────────────┬─────────┬───────┬──────────┐\n",
       "│ PassengerId ┆ Survived ┆ Pclass ┆ Name             ┆ … ┆ Ticket     ┆ Fare    ┆ Cabin ┆ Embarked │\n",
       "│ ---         ┆ ---      ┆ ---    ┆ ---              ┆   ┆ ---        ┆ ---     ┆ ---   ┆ ---      │\n",
       "│ i64         ┆ i64      ┆ i64    ┆ str              ┆   ┆ str        ┆ f64     ┆ str   ┆ str      │\n",
       "╞═════════════╪══════════╪════════╪══════════════════╪═══╪════════════╪═════════╪═══════╪══════════╡\n",
       "│ 1           ┆ 0        ┆ 3      ┆ BRAUND, MR. OWEN ┆ … ┆ A/5 21171  ┆ 7.25    ┆ null  ┆ S        │\n",
       "│             ┆          ┆        ┆ HARRIS           ┆   ┆            ┆         ┆       ┆          │\n",
       "│ 2           ┆ 1        ┆ 1      ┆ CUMINGS, MRS.    ┆ … ┆ PC 17599   ┆ 71.2833 ┆ C85   ┆ C        │\n",
       "│             ┆          ┆        ┆ JOHN BRADLEY     ┆   ┆            ┆         ┆       ┆          │\n",
       "│             ┆          ┆        ┆ (FL…             ┆   ┆            ┆         ┆       ┆          │\n",
       "│ 3           ┆ 1        ┆ 3      ┆ HEIKKINEN, MISS. ┆ … ┆ STON/O2.   ┆ 7.925   ┆ null  ┆ S        │\n",
       "│             ┆          ┆        ┆ LAINA            ┆   ┆ 3101282    ┆         ┆       ┆          │\n",
       "│ …           ┆ …        ┆ …      ┆ …                ┆ … ┆ …          ┆ …       ┆ …     ┆ …        │\n",
       "│ 889         ┆ 0        ┆ 3      ┆ JOHNSTON, MISS.  ┆ … ┆ W./C. 6607 ┆ 23.45   ┆ null  ┆ S        │\n",
       "│             ┆          ┆        ┆ CATHERINE HELE…  ┆   ┆            ┆         ┆       ┆          │\n",
       "│ 890         ┆ 1        ┆ 1      ┆ BEHR, MR. KARL   ┆ … ┆ 111369     ┆ 30.0    ┆ C148  ┆ C        │\n",
       "│             ┆          ┆        ┆ HOWELL           ┆   ┆            ┆         ┆       ┆          │\n",
       "│ 891         ┆ 0        ┆ 3      ┆ DOOLEY, MR.      ┆ … ┆ 370376     ┆ 7.75    ┆ null  ┆ Q        │\n",
       "│             ┆          ┆        ┆ PATRICK          ┆   ┆            ┆         ┆       ┆          │\n",
       "└─────────────┴──────────┴────────┴──────────────────┴───┴────────────┴─────────┴───────┴──────────┘"
      ]
     },
     "execution_count": 23,
     "metadata": {},
     "output_type": "execute_result"
    }
   ],
   "source": [
    "(\n",
    "    df\n",
    "    .pipe(uppercase_all_strings)\n",
    ")"
   ]
  },
  {
   "cell_type": "markdown",
   "id": "7fa892d5-0e42-4195-a5f8-dbea96522b43",
   "metadata": {},
   "source": []
  },
  {
   "cell_type": "markdown",
   "id": "fd9089e4-9ef4-405a-bfc5-fd59df45ec88",
   "metadata": {},
   "source": [
    "One advantage of the `pipe` method is that it can allow us to access `DataFrame` method data even when we are using method chaining and do not have a variable with the `DataFrame` assigned.\n",
    "\n",
    "In the following example we have a query that starts with scanning a CSV file in lazy mode. We want to re-order the columns to alphabetical order but within the method chained code.\n",
    "\n",
    "We can do this with `pipe`.\n",
    "\n",
    "The `pipe` method allows us to access the `DataFrame` using a temporary variable inside a function.\n",
    "\n",
    "In this example we sort the columns alphabetically inside a `lambda` function using `pipe`"
   ]
  },
  {
   "cell_type": "code",
   "execution_count": 24,
   "id": "26bf41d3-ca2d-40e2-a391-8a45a3e04377",
   "metadata": {
    "tags": []
   },
   "outputs": [
    {
     "data": {
      "text/plain": [
       "['Age',\n",
       " 'Cabin',\n",
       " 'Embarked',\n",
       " 'Fare',\n",
       " 'Name',\n",
       " 'Parch',\n",
       " 'PassengerId',\n",
       " 'Pclass',\n",
       " 'Sex',\n",
       " 'SibSp',\n",
       " 'Survived',\n",
       " 'Ticket']"
      ]
     },
     "execution_count": 24,
     "metadata": {},
     "output_type": "execute_result"
    }
   ],
   "source": [
    "(\n",
    "    pl.scan_csv(csv_file)\n",
    "    .pipe(\n",
    "        lambda temp_df: temp_df.select( sorted(temp_df.collect_schema().names()))\n",
    "    )\n",
    "    .collect_schema().names()\n",
    ")"
   ]
  },
  {
   "cell_type": "markdown",
   "id": "60380246-749a-48d7-a8ed-5b175cd5ebe9",
   "metadata": {},
   "source": [
    "The transformations in `pipe` are passed to the query optimiser in lazy mode.\n",
    "\n",
    "In this example we only use the first three columns in the `select`"
   ]
  },
  {
   "cell_type": "code",
   "execution_count": 25,
   "id": "279e2ff8-9367-432c-b822-204ec9af1fcd",
   "metadata": {
    "tags": []
   },
   "outputs": [
    {
     "name": "stdout",
     "output_type": "stream",
     "text": [
      "simple π 3/3 [\"PassengerId\", \"Pclass\", ... 1 other column]\n",
      "  Csv SCAN [../data/titanic.csv]\n",
      "  PROJECT 3/12 COLUMNS\n"
     ]
    }
   ],
   "source": [
    "print(\n",
    "    pl.scan_csv(csv_file)\n",
    "    .pipe(\n",
    "        lambda temp_df: temp_df.select( sorted(temp_df.collect_schema().names()[:3]))\n",
    "    )\n",
    "    .explain()\n",
    ")"
   ]
  },
  {
   "cell_type": "markdown",
   "id": "7012cb60-13ef-4c48-bbc0-68c424c24c9d",
   "metadata": {},
   "source": [
    "The query optimiser sees that only 3 columns are required\n",
    "\n",
    "### Function arguments using `pipe`\n",
    "The key point about `pipe` is that we pass a function where:\n",
    "- a `DataFrame` is the first argument and\n",
    "- only a `DataFrame` is output\n",
    "\n",
    "We can pass optional arguments to functions using `pipe`"
   ]
  },
  {
   "cell_type": "code",
   "execution_count": 26,
   "id": "a6d5bbf1-b11a-4efe-956b-247af6918ef6",
   "metadata": {},
   "outputs": [
    {
     "data": {
      "text/html": [
       "<div><style>\n",
       ".dataframe > thead > tr,\n",
       ".dataframe > tbody > tr {\n",
       "  text-align: right;\n",
       "  white-space: pre-wrap;\n",
       "}\n",
       "</style>\n",
       "<small>shape: (3, 2)</small><table border=\"1\" class=\"dataframe\"><thead><tr><th>Age</th><th>Fare</th></tr><tr><td>f64</td><td>f64</td></tr></thead><tbody><tr><td>66.0</td><td>21.75</td></tr><tr><td>114.0</td><td>213.8499</td></tr><tr><td>78.0</td><td>23.775</td></tr></tbody></table></div>"
      ],
      "text/plain": [
       "shape: (3, 2)\n",
       "┌───────┬──────────┐\n",
       "│ Age   ┆ Fare     │\n",
       "│ ---   ┆ ---      │\n",
       "│ f64   ┆ f64      │\n",
       "╞═══════╪══════════╡\n",
       "│ 66.0  ┆ 21.75    │\n",
       "│ 114.0 ┆ 213.8499 │\n",
       "│ 78.0  ┆ 23.775   │\n",
       "└───────┴──────────┘"
      ]
     },
     "execution_count": 26,
     "metadata": {},
     "output_type": "execute_result"
    }
   ],
   "source": [
    "def _multiply_floats(df: pl.DataFrame, multiplication_factor: int) -> pl.DataFrame:\n",
    "    return df.select(pl.col(pl.Float64)) * multiplication_factor\n",
    "\n",
    "(\n",
    "    df\n",
    "    .pipe(\n",
    "        _multiply_floats, \n",
    "        multiplication_factor=3)\n",
    "    .head(3)\n",
    ")\n"
   ]
  },
  {
   "cell_type": "markdown",
   "id": "2844bde6-5fe9-477a-a144-bd7e2ecd6dc8",
   "metadata": {},
   "source": [
    "## Exercises\n",
    "In the exercises you will develop your understanding of:\n",
    "- renaming columns\n",
    "- dropping columns\n",
    "- transformations using `pipe`\n",
    "\n",
    "### Exercise 1\n",
    "Drop the `Age` and `Fare` columns from the `DataFrame`"
   ]
  },
  {
   "cell_type": "code",
   "execution_count": null,
   "id": "576fc9da-288f-453e-8fa4-30137dce118c",
   "metadata": {},
   "outputs": [],
   "source": [
    "(\n",
    "    pl.read_csv(csv_file)\n",
    "    <blank>\n",
    "    .head(3)\n",
    ")"
   ]
  },
  {
   "cell_type": "markdown",
   "id": "7b382daf-bad5-4307-bc4d-d2c035618c29",
   "metadata": {},
   "source": [
    "Cast all of the integer columns to 16-bit integers"
   ]
  },
  {
   "cell_type": "code",
   "execution_count": null,
   "id": "7ffb04e3-7ed2-4470-bb86-bd5725b89fbd",
   "metadata": {},
   "outputs": [],
   "source": [
    "(\n",
    "    pl.read_csv(csv_file)\n",
    "    <blank>\n",
    "    .head(3)\n",
    ")"
   ]
  },
  {
   "cell_type": "markdown",
   "id": "d0952e6d-77d3-43cc-8379-7eb4e0dd44cd",
   "metadata": {},
   "source": [
    "### Exercise 2\n",
    "Rename the `Age` column to `age`"
   ]
  },
  {
   "cell_type": "code",
   "execution_count": null,
   "id": "cc09b913-8e06-4656-87f5-32eed32b3132",
   "metadata": {},
   "outputs": [],
   "source": [
    "(\n",
    "    pl.read_csv(csv_file)\n",
    "    <blank>\n",
    "    .head(3)\n",
    ")"
   ]
  },
  {
   "cell_type": "markdown",
   "id": "b0c49258-ac75-4119-a579-40121e5a5be4",
   "metadata": {},
   "source": [
    "Rename all column names to lower case. Expand the cell below if you would like a hint"
   ]
  },
  {
   "cell_type": "code",
   "execution_count": null,
   "id": "87b3ccf1-aa0b-411f-9bc8-15624f5cefc4",
   "metadata": {
    "jupyter": {
     "source_hidden": true
    },
    "tags": []
   },
   "outputs": [],
   "source": [
    "#Hint: do the renaming inside .pipe\n",
    "#Hint: use the Python method .lower() on column name strings"
   ]
  },
  {
   "cell_type": "code",
   "execution_count": null,
   "id": "d49134c6-721d-47b2-a0a0-a66f483104c3",
   "metadata": {},
   "outputs": [],
   "source": [
    "(\n",
    "    pl.read_csv(csv_file)\n",
    "    <blank>\n",
    "    .head(3)\n",
    ")"
   ]
  },
  {
   "cell_type": "markdown",
   "id": "e1e87084-7045-430a-9509-4254f6b9256a",
   "metadata": {},
   "source": [
    "## Solutions\n",
    "\n",
    "### Solution to exercise 1\n",
    "Drop the `Age` and `Fare` columns from the `DataFrame`"
   ]
  },
  {
   "cell_type": "code",
   "execution_count": null,
   "id": "15a96c48-acc6-4ce8-a05c-453f1c4673ec",
   "metadata": {
    "jupyter": {
     "source_hidden": true
    },
    "tags": []
   },
   "outputs": [],
   "source": [
    "(\n",
    "    pl.read_csv(csv_file)\n",
    "    .drop([\"Age\",\"Fare\"])\n",
    "    .head(3)\n",
    ")"
   ]
  },
  {
   "cell_type": "markdown",
   "id": "64a250e6-607f-4de5-b50e-23dc46bd1525",
   "metadata": {},
   "source": [
    "Cast all of the integer columns to 16-bit integers"
   ]
  },
  {
   "cell_type": "code",
   "execution_count": null,
   "id": "bbdecd54-4970-42e6-8afb-1f9f19c50834",
   "metadata": {
    "jupyter": {
     "source_hidden": true
    }
   },
   "outputs": [],
   "source": [
    "(\n",
    "    pl.read_csv(csv_file)\n",
    "    .cast(\n",
    "        {\n",
    "            cs.integer():pl.Int16\n",
    "        }\n",
    "    )\n",
    "    .head(3)\n",
    ")"
   ]
  },
  {
   "cell_type": "markdown",
   "id": "7c327bf4-fa7c-4f58-9121-c4118ba8bbc1",
   "metadata": {},
   "source": [
    "### Solution to exercise 2\n",
    "\n",
    "Rename the `Age` column to `age`"
   ]
  },
  {
   "cell_type": "code",
   "execution_count": null,
   "id": "8ceb11c7-b0d4-4a3b-a7f4-a8579bbdde57",
   "metadata": {
    "jupyter": {
     "source_hidden": true
    },
    "tags": []
   },
   "outputs": [],
   "source": [
    "(\n",
    "    pl.read_csv(csv_file)\n",
    "    .rename({\"Age\":\"age\"})\n",
    "    .head(3)\n",
    ")"
   ]
  },
  {
   "cell_type": "markdown",
   "id": "44de41cf-4c85-4781-98f9-85177ee1a2fd",
   "metadata": {},
   "source": [
    "Rename all column names to lower case. Expand the cell below if you would like a hint"
   ]
  },
  {
   "cell_type": "code",
   "execution_count": null,
   "id": "16b7c4e8-0974-4a3c-971d-118657c39e61",
   "metadata": {
    "jupyter": {
     "source_hidden": true
    },
    "tags": []
   },
   "outputs": [],
   "source": [
    "#Hint: do the renaming inside .pipe\n",
    "#Hint: use the Python method .lower() on column name strings"
   ]
  },
  {
   "cell_type": "code",
   "execution_count": 27,
   "id": "64810949-352b-4ef7-a9cc-62104a30587c",
   "metadata": {
    "jupyter": {
     "source_hidden": true
    },
    "tags": []
   },
   "outputs": [
    {
     "data": {
      "text/html": [
       "<div><style>\n",
       ".dataframe > thead > tr,\n",
       ".dataframe > tbody > tr {\n",
       "  text-align: right;\n",
       "  white-space: pre-wrap;\n",
       "}\n",
       "</style>\n",
       "<small>shape: (3, 12)</small><table border=\"1\" class=\"dataframe\"><thead><tr><th>passengerid</th><th>survived</th><th>pclass</th><th>name</th><th>sex</th><th>age</th><th>sibsp</th><th>parch</th><th>ticket</th><th>fare</th><th>cabin</th><th>embarked</th></tr><tr><td>i64</td><td>i64</td><td>i64</td><td>str</td><td>str</td><td>f64</td><td>i64</td><td>i64</td><td>str</td><td>f64</td><td>str</td><td>str</td></tr></thead><tbody><tr><td>1</td><td>0</td><td>3</td><td>&quot;Braund, Mr. Owen Harris&quot;</td><td>&quot;male&quot;</td><td>22.0</td><td>1</td><td>0</td><td>&quot;A/5 21171&quot;</td><td>7.25</td><td>null</td><td>&quot;S&quot;</td></tr><tr><td>2</td><td>1</td><td>1</td><td>&quot;Cumings, Mrs. John Bradley (Fl…</td><td>&quot;female&quot;</td><td>38.0</td><td>1</td><td>0</td><td>&quot;PC 17599&quot;</td><td>71.2833</td><td>&quot;C85&quot;</td><td>&quot;C&quot;</td></tr><tr><td>3</td><td>1</td><td>3</td><td>&quot;Heikkinen, Miss. Laina&quot;</td><td>&quot;female&quot;</td><td>26.0</td><td>0</td><td>0</td><td>&quot;STON/O2. 3101282&quot;</td><td>7.925</td><td>null</td><td>&quot;S&quot;</td></tr></tbody></table></div>"
      ],
      "text/plain": [
       "shape: (3, 12)\n",
       "┌─────────────┬──────────┬────────┬───────────────────┬───┬───────────┬─────────┬───────┬──────────┐\n",
       "│ passengerid ┆ survived ┆ pclass ┆ name              ┆ … ┆ ticket    ┆ fare    ┆ cabin ┆ embarked │\n",
       "│ ---         ┆ ---      ┆ ---    ┆ ---               ┆   ┆ ---       ┆ ---     ┆ ---   ┆ ---      │\n",
       "│ i64         ┆ i64      ┆ i64    ┆ str               ┆   ┆ str       ┆ f64     ┆ str   ┆ str      │\n",
       "╞═════════════╪══════════╪════════╪═══════════════════╪═══╪═══════════╪═════════╪═══════╪══════════╡\n",
       "│ 1           ┆ 0        ┆ 3      ┆ Braund, Mr. Owen  ┆ … ┆ A/5 21171 ┆ 7.25    ┆ null  ┆ S        │\n",
       "│             ┆          ┆        ┆ Harris            ┆   ┆           ┆         ┆       ┆          │\n",
       "│ 2           ┆ 1        ┆ 1      ┆ Cumings, Mrs.     ┆ … ┆ PC 17599  ┆ 71.2833 ┆ C85   ┆ C        │\n",
       "│             ┆          ┆        ┆ John Bradley (Fl… ┆   ┆           ┆         ┆       ┆          │\n",
       "│ 3           ┆ 1        ┆ 3      ┆ Heikkinen, Miss.  ┆ … ┆ STON/O2.  ┆ 7.925   ┆ null  ┆ S        │\n",
       "│             ┆          ┆        ┆ Laina             ┆   ┆ 3101282   ┆         ┆       ┆          │\n",
       "└─────────────┴──────────┴────────┴───────────────────┴───┴───────────┴─────────┴───────┴──────────┘"
      ]
     },
     "execution_count": 27,
     "metadata": {},
     "output_type": "execute_result"
    }
   ],
   "source": [
    "(\n",
    "    pl.read_csv(csv_file)\n",
    "    .pipe(\n",
    "        lambda df:df.rename({oldCol:oldCol.lower() for oldCol in df.columns})\n",
    "    )\n",
    "    .head(3)\n",
    ")"
   ]
  }
 ],
 "metadata": {
  "kernelspec": {
   "display_name": "Python 3 (ipykernel)",
   "language": "python",
   "name": "python3"
  },
  "language_info": {
   "codemirror_mode": {
    "name": "ipython",
    "version": 3
   },
   "file_extension": ".py",
   "mimetype": "text/x-python",
   "name": "python",
   "nbconvert_exporter": "python",
   "pygments_lexer": "ipython3",
   "version": "3.12.2"
  }
 },
 "nbformat": 4,
 "nbformat_minor": 5
}
