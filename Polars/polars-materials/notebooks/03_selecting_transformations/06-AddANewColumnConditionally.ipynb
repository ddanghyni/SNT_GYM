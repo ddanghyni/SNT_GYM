{
 "cells": [
  {
   "cell_type": "markdown",
   "id": "55f2b433-7df5-4877-aadb-c5a089645d88",
   "metadata": {},
   "source": [
    "## Selecting columns 6: Adding a new column based on a mapping or condition\n",
    "In this lecture we learn how to:\n",
    "- add a new column with a dict mapping from an existing column\n",
    "- add a new column with an `if-else` condition using `pl.when`\n",
    "- add a new column with a condition on multiple columns\n",
    "- add a new column with multiple `if-elif` conditions"
   ]
  },
  {
   "cell_type": "code",
   "execution_count": 1,
   "id": "4caa50b5-4448-4722-92f9-faa718e3db6c",
   "metadata": {
    "tags": []
   },
   "outputs": [],
   "source": [
    "import polars as pl"
   ]
  },
  {
   "cell_type": "code",
   "execution_count": 2,
   "id": "c14406ef-16b4-4e86-bd86-ef6efc93ddd3",
   "metadata": {
    "tags": []
   },
   "outputs": [],
   "source": [
    "csv_file = \"../data/titanic.csv\""
   ]
  },
  {
   "cell_type": "code",
   "execution_count": 3,
   "id": "a3a85d75-a64c-4108-add6-072a4e2da172",
   "metadata": {
    "tags": []
   },
   "outputs": [
    {
     "data": {
      "text/html": [
       "<div><style>\n",
       ".dataframe > thead > tr,\n",
       ".dataframe > tbody > tr {\n",
       "  text-align: right;\n",
       "  white-space: pre-wrap;\n",
       "}\n",
       "</style>\n",
       "<small>shape: (3, 12)</small><table border=\"1\" class=\"dataframe\"><thead><tr><th>PassengerId</th><th>Survived</th><th>Pclass</th><th>Name</th><th>Sex</th><th>Age</th><th>SibSp</th><th>Parch</th><th>Ticket</th><th>Fare</th><th>Cabin</th><th>Embarked</th></tr><tr><td>i64</td><td>i64</td><td>i64</td><td>str</td><td>str</td><td>f64</td><td>i64</td><td>i64</td><td>str</td><td>f64</td><td>str</td><td>str</td></tr></thead><tbody><tr><td>1</td><td>0</td><td>3</td><td>&quot;Braund, Mr. Owen Harris&quot;</td><td>&quot;male&quot;</td><td>22.0</td><td>1</td><td>0</td><td>&quot;A/5 21171&quot;</td><td>7.25</td><td>null</td><td>&quot;S&quot;</td></tr><tr><td>2</td><td>1</td><td>1</td><td>&quot;Cumings, Mrs. John Bradley (Fl…</td><td>&quot;female&quot;</td><td>38.0</td><td>1</td><td>0</td><td>&quot;PC 17599&quot;</td><td>71.2833</td><td>&quot;C85&quot;</td><td>&quot;C&quot;</td></tr><tr><td>3</td><td>1</td><td>3</td><td>&quot;Heikkinen, Miss. Laina&quot;</td><td>&quot;female&quot;</td><td>26.0</td><td>0</td><td>0</td><td>&quot;STON/O2. 3101282&quot;</td><td>7.925</td><td>null</td><td>&quot;S&quot;</td></tr></tbody></table></div>"
      ],
      "text/plain": [
       "shape: (3, 12)\n",
       "┌─────────────┬──────────┬────────┬───────────────────┬───┬───────────┬─────────┬───────┬──────────┐\n",
       "│ PassengerId ┆ Survived ┆ Pclass ┆ Name              ┆ … ┆ Ticket    ┆ Fare    ┆ Cabin ┆ Embarked │\n",
       "│ ---         ┆ ---      ┆ ---    ┆ ---               ┆   ┆ ---       ┆ ---     ┆ ---   ┆ ---      │\n",
       "│ i64         ┆ i64      ┆ i64    ┆ str               ┆   ┆ str       ┆ f64     ┆ str   ┆ str      │\n",
       "╞═════════════╪══════════╪════════╪═══════════════════╪═══╪═══════════╪═════════╪═══════╪══════════╡\n",
       "│ 1           ┆ 0        ┆ 3      ┆ Braund, Mr. Owen  ┆ … ┆ A/5 21171 ┆ 7.25    ┆ null  ┆ S        │\n",
       "│             ┆          ┆        ┆ Harris            ┆   ┆           ┆         ┆       ┆          │\n",
       "│ 2           ┆ 1        ┆ 1      ┆ Cumings, Mrs.     ┆ … ┆ PC 17599  ┆ 71.2833 ┆ C85   ┆ C        │\n",
       "│             ┆          ┆        ┆ John Bradley (Fl… ┆   ┆           ┆         ┆       ┆          │\n",
       "│ 3           ┆ 1        ┆ 3      ┆ Heikkinen, Miss.  ┆ … ┆ STON/O2.  ┆ 7.925   ┆ null  ┆ S        │\n",
       "│             ┆          ┆        ┆ Laina             ┆   ┆ 3101282   ┆         ┆       ┆          │\n",
       "└─────────────┴──────────┴────────┴───────────────────┴───┴───────────┴─────────┴───────┴──────────┘"
      ]
     },
     "execution_count": 3,
     "metadata": {},
     "output_type": "execute_result"
    }
   ],
   "source": [
    "df = pl.read_csv(csv_file)\n",
    "df.head(3)"
   ]
  },
  {
   "cell_type": "markdown",
   "id": "2bd55d74-732e-4adf-af0f-7daf342846b6",
   "metadata": {},
   "source": [
    "## Add a new column based on a mapping from another column\n",
    "We can add a new column based on a Python `dict` that maps values in an existing column to a new value with the `replace` expression"
   ]
  },
  {
   "cell_type": "code",
   "execution_count": 22,
   "id": "ca0be415",
   "metadata": {},
   "outputs": [
    {
     "name": "stdout",
     "output_type": "stream",
     "text": [
      "shape: (3, 13)\n",
      "┌─────────────┬──────────┬────────┬─────────────────────────┬───┬─────────┬───────┬──────────┬─────┐\n",
      "│ PassengerId ┆ Survived ┆ Pclass ┆ Name                    ┆ … ┆ Fare    ┆ Cabin ┆ Embarked ┆ age │\n",
      "│ ---         ┆ ---      ┆ ---    ┆ ---                     ┆   ┆ ---     ┆ ---   ┆ ---      ┆ --- │\n",
      "│ i64         ┆ i64      ┆ i64    ┆ str                     ┆   ┆ f64     ┆ str   ┆ str      ┆ i32 │\n",
      "╞═════════════╪══════════╪════════╪═════════════════════════╪═══╪═════════╪═══════╪══════════╪═════╡\n",
      "│ 1           ┆ 0        ┆ 3      ┆ Braund, Mr. Owen Harris ┆ … ┆ 7.25    ┆ null  ┆ S        ┆ 20  │\n",
      "│ 2           ┆ 1        ┆ 1      ┆ Cumings, Mrs. John      ┆ … ┆ 71.2833 ┆ C85   ┆ C        ┆ 30  │\n",
      "│             ┆          ┆        ┆ Bradley (Fl…            ┆   ┆         ┆       ┆          ┆     │\n",
      "│ 3           ┆ 1        ┆ 3      ┆ Heikkinen, Miss. Laina  ┆ … ┆ 7.925   ┆ null  ┆ S        ┆ 20  │\n",
      "└─────────────┴──────────┴────────┴─────────────────────────┴───┴─────────┴───────┴──────────┴─────┘\n"
     ]
    },
    {
     "data": {
      "text/html": [
       "<div><style>\n",
       ".dataframe > thead > tr,\n",
       ".dataframe > tbody > tr {\n",
       "  text-align: right;\n",
       "  white-space: pre-wrap;\n",
       "}\n",
       "</style>\n",
       "<small>shape: (5, 13)</small><table border=\"1\" class=\"dataframe\"><thead><tr><th>PassengerId</th><th>Survived</th><th>Pclass</th><th>Name</th><th>Sex</th><th>Age</th><th>SibSp</th><th>Parch</th><th>Ticket</th><th>Fare</th><th>Cabin</th><th>Embarked</th><th>age</th></tr><tr><td>i64</td><td>i64</td><td>i64</td><td>str</td><td>str</td><td>f64</td><td>i64</td><td>i64</td><td>str</td><td>f64</td><td>str</td><td>str</td><td>str</td></tr></thead><tbody><tr><td>1</td><td>0</td><td>3</td><td>&quot;Braund, Mr. Owen Harris&quot;</td><td>&quot;male&quot;</td><td>22.0</td><td>1</td><td>0</td><td>&quot;A/5 21171&quot;</td><td>7.25</td><td>null</td><td>&quot;S&quot;</td><td>&quot;20대&quot;</td></tr><tr><td>2</td><td>1</td><td>1</td><td>&quot;Cumings, Mrs. John Bradley (Fl…</td><td>&quot;female&quot;</td><td>38.0</td><td>1</td><td>0</td><td>&quot;PC 17599&quot;</td><td>71.2833</td><td>&quot;C85&quot;</td><td>&quot;C&quot;</td><td>&quot;30대&quot;</td></tr><tr><td>3</td><td>1</td><td>3</td><td>&quot;Heikkinen, Miss. Laina&quot;</td><td>&quot;female&quot;</td><td>26.0</td><td>0</td><td>0</td><td>&quot;STON/O2. 3101282&quot;</td><td>7.925</td><td>null</td><td>&quot;S&quot;</td><td>&quot;20대&quot;</td></tr><tr><td>4</td><td>1</td><td>1</td><td>&quot;Futrelle, Mrs. Jacques Heath (…</td><td>&quot;female&quot;</td><td>35.0</td><td>1</td><td>0</td><td>&quot;113803&quot;</td><td>53.1</td><td>&quot;C123&quot;</td><td>&quot;S&quot;</td><td>&quot;30대&quot;</td></tr><tr><td>5</td><td>0</td><td>3</td><td>&quot;Allen, Mr. William Henry&quot;</td><td>&quot;male&quot;</td><td>35.0</td><td>0</td><td>0</td><td>&quot;373450&quot;</td><td>8.05</td><td>null</td><td>&quot;S&quot;</td><td>&quot;30대&quot;</td></tr></tbody></table></div>"
      ],
      "text/plain": [
       "shape: (5, 13)\n",
       "┌─────────────┬──────────┬────────┬────────────────────────┬───┬─────────┬───────┬──────────┬──────┐\n",
       "│ PassengerId ┆ Survived ┆ Pclass ┆ Name                   ┆ … ┆ Fare    ┆ Cabin ┆ Embarked ┆ age  │\n",
       "│ ---         ┆ ---      ┆ ---    ┆ ---                    ┆   ┆ ---     ┆ ---   ┆ ---      ┆ ---  │\n",
       "│ i64         ┆ i64      ┆ i64    ┆ str                    ┆   ┆ f64     ┆ str   ┆ str      ┆ str  │\n",
       "╞═════════════╪══════════╪════════╪════════════════════════╪═══╪═════════╪═══════╪══════════╪══════╡\n",
       "│ 1           ┆ 0        ┆ 3      ┆ Braund, Mr. Owen       ┆ … ┆ 7.25    ┆ null  ┆ S        ┆ 20대 │\n",
       "│             ┆          ┆        ┆ Harris                 ┆   ┆         ┆       ┆          ┆      │\n",
       "│ 2           ┆ 1        ┆ 1      ┆ Cumings, Mrs. John     ┆ … ┆ 71.2833 ┆ C85   ┆ C        ┆ 30대 │\n",
       "│             ┆          ┆        ┆ Bradley (Fl…           ┆   ┆         ┆       ┆          ┆      │\n",
       "│ 3           ┆ 1        ┆ 3      ┆ Heikkinen, Miss. Laina ┆ … ┆ 7.925   ┆ null  ┆ S        ┆ 20대 │\n",
       "│ 4           ┆ 1        ┆ 1      ┆ Futrelle, Mrs. Jacques ┆ … ┆ 53.1    ┆ C123  ┆ S        ┆ 30대 │\n",
       "│             ┆          ┆        ┆ Heath (…               ┆   ┆         ┆       ┆          ┆      │\n",
       "│ 5           ┆ 0        ┆ 3      ┆ Allen, Mr. William     ┆ … ┆ 8.05    ┆ null  ┆ S        ┆ 30대 │\n",
       "│             ┆          ┆        ┆ Henry                  ┆   ┆         ┆       ┆          ┆      │\n",
       "└─────────────┴──────────┴────────┴────────────────────────┴───┴─────────┴───────┴──────────┴──────┘"
      ]
     },
     "execution_count": 22,
     "metadata": {},
     "output_type": "execute_result"
    }
   ],
   "source": [
    "#(22 // 10) * 10\n",
    "tmp_df = (\n",
    "    df\n",
    "    .with_columns(\n",
    "       age = ((pl.col('Age') // 10) * 10).cast(pl.Int32)\n",
    "    )\n",
    "    \n",
    ")\n",
    "\n",
    "print(tmp_df.head(3))\n",
    "\n",
    "change = {\n",
    "    0 : '유아',\n",
    "    10 : '10대',\n",
    "    20 : '20대',\n",
    "    30 : '30대',\n",
    "    40 : '40대',\n",
    "    50 : '50대',\n",
    "    60 : '60대',\n",
    "    70 : '70대',\n",
    "    80 : '80대',\n",
    "    90 : '90대'\n",
    "}\n",
    "\n",
    "(\n",
    "    tmp_df\n",
    "    .with_columns(\n",
    "        pl.col('age').replace_strict(change)\n",
    "    )\n",
    "    .head()\n",
    ")"
   ]
  },
  {
   "cell_type": "code",
   "execution_count": 24,
   "id": "c0bb8963",
   "metadata": {},
   "outputs": [
    {
     "data": {
      "text/html": [
       "<div><style>\n",
       ".dataframe > thead > tr,\n",
       ".dataframe > tbody > tr {\n",
       "  text-align: right;\n",
       "  white-space: pre-wrap;\n",
       "}\n",
       "</style>\n",
       "<small>shape: (5, 14)</small><table border=\"1\" class=\"dataframe\"><thead><tr><th>PassengerId</th><th>Survived</th><th>Pclass</th><th>Name</th><th>Sex</th><th>Age</th><th>SibSp</th><th>Parch</th><th>Ticket</th><th>Fare</th><th>Cabin</th><th>Embarked</th><th>age</th><th>age_group</th></tr><tr><td>i64</td><td>i64</td><td>i64</td><td>str</td><td>str</td><td>f64</td><td>i64</td><td>i64</td><td>str</td><td>f64</td><td>str</td><td>str</td><td>i32</td><td>str</td></tr></thead><tbody><tr><td>1</td><td>0</td><td>3</td><td>&quot;Braund, Mr. Owen Harris&quot;</td><td>&quot;male&quot;</td><td>22.0</td><td>1</td><td>0</td><td>&quot;A/5 21171&quot;</td><td>7.25</td><td>null</td><td>&quot;S&quot;</td><td>20</td><td>&quot;20대&quot;</td></tr><tr><td>2</td><td>1</td><td>1</td><td>&quot;Cumings, Mrs. John Bradley (Fl…</td><td>&quot;female&quot;</td><td>38.0</td><td>1</td><td>0</td><td>&quot;PC 17599&quot;</td><td>71.2833</td><td>&quot;C85&quot;</td><td>&quot;C&quot;</td><td>30</td><td>&quot;30대&quot;</td></tr><tr><td>3</td><td>1</td><td>3</td><td>&quot;Heikkinen, Miss. Laina&quot;</td><td>&quot;female&quot;</td><td>26.0</td><td>0</td><td>0</td><td>&quot;STON/O2. 3101282&quot;</td><td>7.925</td><td>null</td><td>&quot;S&quot;</td><td>20</td><td>&quot;20대&quot;</td></tr><tr><td>4</td><td>1</td><td>1</td><td>&quot;Futrelle, Mrs. Jacques Heath (…</td><td>&quot;female&quot;</td><td>35.0</td><td>1</td><td>0</td><td>&quot;113803&quot;</td><td>53.1</td><td>&quot;C123&quot;</td><td>&quot;S&quot;</td><td>30</td><td>&quot;30대&quot;</td></tr><tr><td>5</td><td>0</td><td>3</td><td>&quot;Allen, Mr. William Henry&quot;</td><td>&quot;male&quot;</td><td>35.0</td><td>0</td><td>0</td><td>&quot;373450&quot;</td><td>8.05</td><td>null</td><td>&quot;S&quot;</td><td>30</td><td>&quot;30대&quot;</td></tr></tbody></table></div>"
      ],
      "text/plain": [
       "shape: (5, 14)\n",
       "┌─────────────┬──────────┬────────┬────────────────────┬───┬───────┬──────────┬─────┬───────────┐\n",
       "│ PassengerId ┆ Survived ┆ Pclass ┆ Name               ┆ … ┆ Cabin ┆ Embarked ┆ age ┆ age_group │\n",
       "│ ---         ┆ ---      ┆ ---    ┆ ---                ┆   ┆ ---   ┆ ---      ┆ --- ┆ ---       │\n",
       "│ i64         ┆ i64      ┆ i64    ┆ str                ┆   ┆ str   ┆ str      ┆ i32 ┆ str       │\n",
       "╞═════════════╪══════════╪════════╪════════════════════╪═══╪═══════╪══════════╪═════╪═══════════╡\n",
       "│ 1           ┆ 0        ┆ 3      ┆ Braund, Mr. Owen   ┆ … ┆ null  ┆ S        ┆ 20  ┆ 20대      │\n",
       "│             ┆          ┆        ┆ Harris             ┆   ┆       ┆          ┆     ┆           │\n",
       "│ 2           ┆ 1        ┆ 1      ┆ Cumings, Mrs. John ┆ … ┆ C85   ┆ C        ┆ 30  ┆ 30대      │\n",
       "│             ┆          ┆        ┆ Bradley (Fl…       ┆   ┆       ┆          ┆     ┆           │\n",
       "│ 3           ┆ 1        ┆ 3      ┆ Heikkinen, Miss.   ┆ … ┆ null  ┆ S        ┆ 20  ┆ 20대      │\n",
       "│             ┆          ┆        ┆ Laina              ┆   ┆       ┆          ┆     ┆           │\n",
       "│ 4           ┆ 1        ┆ 1      ┆ Futrelle, Mrs.     ┆ … ┆ C123  ┆ S        ┆ 30  ┆ 30대      │\n",
       "│             ┆          ┆        ┆ Jacques Heath (…   ┆   ┆       ┆          ┆     ┆           │\n",
       "│ 5           ┆ 0        ┆ 3      ┆ Allen, Mr. William ┆ … ┆ null  ┆ S        ┆ 30  ┆ 30대      │\n",
       "│             ┆          ┆        ┆ Henry              ┆   ┆       ┆          ┆     ┆           │\n",
       "└─────────────┴──────────┴────────┴────────────────────┴───┴───────┴──────────┴─────┴───────────┘"
      ]
     },
     "execution_count": 24,
     "metadata": {},
     "output_type": "execute_result"
    }
   ],
   "source": [
    "(\n",
    "    tmp_df\n",
    "    .with_columns(\n",
    "        age_group = pl.when(pl.col('age') < 10).then(pl.lit('유아'))\n",
    "                    .when(pl.col('age') < 20).then(pl.lit('10대'))\n",
    "                    .when(pl.col('age') < 30).then(pl.lit('20대'))\n",
    "                    .when(pl.col('age') < 40).then(pl.lit('30대'))\n",
    "                    .when(pl.col('age') < 50).then(pl.lit('40대'))\n",
    "                    .when(pl.col('age') < 60).then(pl.lit('50대'))\n",
    "                    .when(pl.col('age') < 70).then(pl.lit('60대'))\n",
    "                    .when(pl.col('age') < 80).then(pl.lit('70대'))\n",
    "                    .when(pl.col('age') < 90).then(pl.lit('80대'))\n",
    "                    .otherwise(pl.lit('90대'))\n",
    "    )\n",
    "    .head()\n",
    ")\n"
   ]
  },
  {
   "cell_type": "code",
   "execution_count": null,
   "id": "1f2278bc",
   "metadata": {},
   "outputs": [],
   "source": []
  },
  {
   "cell_type": "code",
   "execution_count": null,
   "id": "e6e52d08-a4e6-4c97-99f3-4e01beab679d",
   "metadata": {},
   "outputs": [],
   "source": [
    "(\n",
    "    df\n",
    "    .with_columns(\n",
    "        embarked_full = pl.col(\"Embarked\").replace(\n",
    "            {\n",
    "                \"S\":\"Southampton\",\n",
    "                \"C\":\"Cherbourg\"\n",
    "            },\n",
    "        )\n",
    "    )\n",
    "    .select('Embarked','embarked_full')\n",
    "    .head(2)\n",
    ")"
   ]
  },
  {
   "cell_type": "code",
   "execution_count": 7,
   "id": "f1e51ce5",
   "metadata": {},
   "outputs": [
    {
     "data": {
      "text/html": [
       "<div><style>\n",
       ".dataframe > thead > tr,\n",
       ".dataframe > tbody > tr {\n",
       "  text-align: right;\n",
       "  white-space: pre-wrap;\n",
       "}\n",
       "</style>\n",
       "<small>shape: (2, 2)</small><table border=\"1\" class=\"dataframe\"><thead><tr><th>Embarked</th><th>embarked_full</th></tr><tr><td>str</td><td>str</td></tr></thead><tbody><tr><td>&quot;S&quot;</td><td>&quot;Southampton&quot;</td></tr><tr><td>&quot;C&quot;</td><td>&quot;Cherbourg&quot;</td></tr></tbody></table></div>"
      ],
      "text/plain": [
       "shape: (2, 2)\n",
       "┌──────────┬───────────────┐\n",
       "│ Embarked ┆ embarked_full │\n",
       "│ ---      ┆ ---           │\n",
       "│ str      ┆ str           │\n",
       "╞══════════╪═══════════════╡\n",
       "│ S        ┆ Southampton   │\n",
       "│ C        ┆ Cherbourg     │\n",
       "└──────────┴───────────────┘"
      ]
     },
     "execution_count": 7,
     "metadata": {},
     "output_type": "execute_result"
    }
   ],
   "source": [
    "(\n",
    "    df\n",
    "    .with_columns(\n",
    "        pl.col(\"Embarked\").replace(\n",
    "            {\n",
    "                \"S\" : \"Southampton\",\n",
    "                \"C\" : \"Cherbourg\"\n",
    "            }\n",
    "        )\n",
    "        .alias(\"embarked_full\")\n",
    "    )\n",
    "    .select(\"Embarked\", \"embarked_full\")\n",
    "    .head(2)\n",
    ")"
   ]
  },
  {
   "cell_type": "markdown",
   "id": "63fd92de-6534-47e8-ab5e-8ee36a55b714",
   "metadata": {},
   "source": [
    "If we want to return a column with a different dtype to the input column we use `replace_strict` and specify the `return_dtype`. In this example we map the (integer) class number to a (string) class name"
   ]
  },
  {
   "cell_type": "code",
   "execution_count": 12,
   "id": "f659fdc8",
   "metadata": {},
   "outputs": [
    {
     "data": {
      "text/html": [
       "<div><style>\n",
       ".dataframe > thead > tr,\n",
       ".dataframe > tbody > tr {\n",
       "  text-align: right;\n",
       "  white-space: pre-wrap;\n",
       "}\n",
       "</style>\n",
       "<small>shape: (5, 2)</small><table border=\"1\" class=\"dataframe\"><thead><tr><th>class_name</th><th>Pclass</th></tr><tr><td>str</td><td>i64</td></tr></thead><tbody><tr><td>&quot;third&quot;</td><td>3</td></tr><tr><td>&quot;first&quot;</td><td>1</td></tr><tr><td>&quot;third&quot;</td><td>3</td></tr><tr><td>&quot;first&quot;</td><td>1</td></tr><tr><td>&quot;third&quot;</td><td>3</td></tr></tbody></table></div>"
      ],
      "text/plain": [
       "shape: (5, 2)\n",
       "┌────────────┬────────┐\n",
       "│ class_name ┆ Pclass │\n",
       "│ ---        ┆ ---    │\n",
       "│ str        ┆ i64    │\n",
       "╞════════════╪════════╡\n",
       "│ third      ┆ 3      │\n",
       "│ first      ┆ 1      │\n",
       "│ third      ┆ 3      │\n",
       "│ first      ┆ 1      │\n",
       "│ third      ┆ 3      │\n",
       "└────────────┴────────┘"
      ]
     },
     "execution_count": 12,
     "metadata": {},
     "output_type": "execute_result"
    }
   ],
   "source": [
    "(\n",
    "    pl.scan_csv(csv_file)\n",
    "    .select(\n",
    "        pl.col('Pclass')\n",
    "    )\n",
    "    .with_columns(\n",
    "        class_name = pl.col('Pclass').replace_strict(\n",
    "            {\n",
    "                1 : 'first',\n",
    "                2 : 'second',\n",
    "                3 : 'third'\n",
    "            }\n",
    "        )\n",
    "    )\n",
    "    .select(\n",
    "        pl.col('class_name', 'Pclass')\n",
    "    )\n",
    "    .head(5)\n",
    "    .collect()\n",
    ")"
   ]
  },
  {
   "cell_type": "code",
   "execution_count": 13,
   "id": "3b6331f4-0ca7-4e33-b102-4ff0a8220a4e",
   "metadata": {},
   "outputs": [
    {
     "data": {
      "text/html": [
       "<div><style>\n",
       ".dataframe > thead > tr,\n",
       ".dataframe > tbody > tr {\n",
       "  text-align: right;\n",
       "  white-space: pre-wrap;\n",
       "}\n",
       "</style>\n",
       "<small>shape: (2, 2)</small><table border=\"1\" class=\"dataframe\"><thead><tr><th>Pclass</th><th>class_name</th></tr><tr><td>i64</td><td>str</td></tr></thead><tbody><tr><td>3</td><td>&quot;third&quot;</td></tr><tr><td>1</td><td>&quot;first&quot;</td></tr></tbody></table></div>"
      ],
      "text/plain": [
       "shape: (2, 2)\n",
       "┌────────┬────────────┐\n",
       "│ Pclass ┆ class_name │\n",
       "│ ---    ┆ ---        │\n",
       "│ i64    ┆ str        │\n",
       "╞════════╪════════════╡\n",
       "│ 3      ┆ third      │\n",
       "│ 1      ┆ first      │\n",
       "└────────┴────────────┘"
      ]
     },
     "execution_count": 13,
     "metadata": {},
     "output_type": "execute_result"
    }
   ],
   "source": [
    "(\n",
    "    df\n",
    "    .with_columns(\n",
    "        class_name = pl.col(\"Pclass\").replace_strict(\n",
    "            {\n",
    "                1:'first',\n",
    "                2:'second',\n",
    "                3:'third'\n",
    "            },\n",
    "            return_dtype=pl.String\n",
    "        )\n",
    "    )\n",
    "    .select('Pclass','class_name')\n",
    "    .head(2)\n",
    ")"
   ]
  },
  {
   "cell_type": "code",
   "execution_count": 15,
   "id": "5b27284e",
   "metadata": {},
   "outputs": [
    {
     "data": {
      "text/html": [
       "<div><style>\n",
       ".dataframe > thead > tr,\n",
       ".dataframe > tbody > tr {\n",
       "  text-align: right;\n",
       "  white-space: pre-wrap;\n",
       "}\n",
       "</style>\n",
       "<small>shape: (5, 12)</small><table border=\"1\" class=\"dataframe\"><thead><tr><th>PassengerId</th><th>Survived</th><th>Pclass</th><th>Name</th><th>Sex</th><th>Age</th><th>SibSp</th><th>Parch</th><th>Ticket</th><th>Fare</th><th>Cabin</th><th>Embarked</th></tr><tr><td>i64</td><td>i64</td><td>i64</td><td>str</td><td>str</td><td>f64</td><td>i64</td><td>i64</td><td>str</td><td>f64</td><td>str</td><td>str</td></tr></thead><tbody><tr><td>1</td><td>0</td><td>3</td><td>&quot;Braund, Mr. Owen Harris&quot;</td><td>&quot;male&quot;</td><td>22.0</td><td>1</td><td>0</td><td>&quot;A/5 21171&quot;</td><td>7.25</td><td>null</td><td>&quot;S&quot;</td></tr><tr><td>2</td><td>1</td><td>1</td><td>&quot;Cumings, Mrs. John Bradley (Fl…</td><td>&quot;female&quot;</td><td>38.0</td><td>1</td><td>0</td><td>&quot;PC 17599&quot;</td><td>71.2833</td><td>&quot;C85&quot;</td><td>&quot;C&quot;</td></tr><tr><td>3</td><td>1</td><td>3</td><td>&quot;Heikkinen, Miss. Laina&quot;</td><td>&quot;female&quot;</td><td>26.0</td><td>0</td><td>0</td><td>&quot;STON/O2. 3101282&quot;</td><td>7.925</td><td>null</td><td>&quot;S&quot;</td></tr><tr><td>4</td><td>1</td><td>1</td><td>&quot;Futrelle, Mrs. Jacques Heath (…</td><td>&quot;female&quot;</td><td>35.0</td><td>1</td><td>0</td><td>&quot;113803&quot;</td><td>53.1</td><td>&quot;C123&quot;</td><td>&quot;S&quot;</td></tr><tr><td>5</td><td>0</td><td>3</td><td>&quot;Allen, Mr. William Henry&quot;</td><td>&quot;male&quot;</td><td>35.0</td><td>0</td><td>0</td><td>&quot;373450&quot;</td><td>8.05</td><td>null</td><td>&quot;S&quot;</td></tr></tbody></table></div>"
      ],
      "text/plain": [
       "shape: (5, 12)\n",
       "┌─────────────┬──────────┬────────┬───────────────────┬───┬───────────┬─────────┬───────┬──────────┐\n",
       "│ PassengerId ┆ Survived ┆ Pclass ┆ Name              ┆ … ┆ Ticket    ┆ Fare    ┆ Cabin ┆ Embarked │\n",
       "│ ---         ┆ ---      ┆ ---    ┆ ---               ┆   ┆ ---       ┆ ---     ┆ ---   ┆ ---      │\n",
       "│ i64         ┆ i64      ┆ i64    ┆ str               ┆   ┆ str       ┆ f64     ┆ str   ┆ str      │\n",
       "╞═════════════╪══════════╪════════╪═══════════════════╪═══╪═══════════╪═════════╪═══════╪══════════╡\n",
       "│ 1           ┆ 0        ┆ 3      ┆ Braund, Mr. Owen  ┆ … ┆ A/5 21171 ┆ 7.25    ┆ null  ┆ S        │\n",
       "│             ┆          ┆        ┆ Harris            ┆   ┆           ┆         ┆       ┆          │\n",
       "│ 2           ┆ 1        ┆ 1      ┆ Cumings, Mrs.     ┆ … ┆ PC 17599  ┆ 71.2833 ┆ C85   ┆ C        │\n",
       "│             ┆          ┆        ┆ John Bradley (Fl… ┆   ┆           ┆         ┆       ┆          │\n",
       "│ 3           ┆ 1        ┆ 3      ┆ Heikkinen, Miss.  ┆ … ┆ STON/O2.  ┆ 7.925   ┆ null  ┆ S        │\n",
       "│             ┆          ┆        ┆ Laina             ┆   ┆ 3101282   ┆         ┆       ┆          │\n",
       "│ 4           ┆ 1        ┆ 1      ┆ Futrelle, Mrs.    ┆ … ┆ 113803    ┆ 53.1    ┆ C123  ┆ S        │\n",
       "│             ┆          ┆        ┆ Jacques Heath (…  ┆   ┆           ┆         ┆       ┆          │\n",
       "│ 5           ┆ 0        ┆ 3      ┆ Allen, Mr.        ┆ … ┆ 373450    ┆ 8.05    ┆ null  ┆ S        │\n",
       "│             ┆          ┆        ┆ William Henry     ┆   ┆           ┆         ┆       ┆          │\n",
       "└─────────────┴──────────┴────────┴───────────────────┴───┴───────────┴─────────┴───────┴──────────┘"
      ]
     },
     "execution_count": 15,
     "metadata": {},
     "output_type": "execute_result"
    }
   ],
   "source": [
    "df.head()"
   ]
  },
  {
   "cell_type": "code",
   "execution_count": 16,
   "id": "a6b9fa2b",
   "metadata": {},
   "outputs": [
    {
     "data": {
      "text/html": [
       "<div><style>\n",
       ".dataframe > thead > tr,\n",
       ".dataframe > tbody > tr {\n",
       "  text-align: right;\n",
       "  white-space: pre-wrap;\n",
       "}\n",
       "</style>\n",
       "<small>shape: (5, 2)</small><table border=\"1\" class=\"dataframe\"><thead><tr><th>Sex</th><th>Sex_int</th></tr><tr><td>str</td><td>i64</td></tr></thead><tbody><tr><td>&quot;male&quot;</td><td>0</td></tr><tr><td>&quot;female&quot;</td><td>1</td></tr><tr><td>&quot;female&quot;</td><td>1</td></tr><tr><td>&quot;female&quot;</td><td>1</td></tr><tr><td>&quot;male&quot;</td><td>0</td></tr></tbody></table></div>"
      ],
      "text/plain": [
       "shape: (5, 2)\n",
       "┌────────┬─────────┐\n",
       "│ Sex    ┆ Sex_int │\n",
       "│ ---    ┆ ---     │\n",
       "│ str    ┆ i64     │\n",
       "╞════════╪═════════╡\n",
       "│ male   ┆ 0       │\n",
       "│ female ┆ 1       │\n",
       "│ female ┆ 1       │\n",
       "│ female ┆ 1       │\n",
       "│ male   ┆ 0       │\n",
       "└────────┴─────────┘"
      ]
     },
     "execution_count": 16,
     "metadata": {},
     "output_type": "execute_result"
    }
   ],
   "source": [
    "(\n",
    "    df\n",
    "    .with_columns(\n",
    "        Sex_int = pl.col('Sex').replace_strict(\n",
    "            {\n",
    "                'male' : 0,\n",
    "                'female' : 1\n",
    "            }\n",
    "        )\n",
    "    )\n",
    "    .select(\n",
    "        pl.col('Sex', 'Sex_int')\n",
    "    )\n",
    "    .head()\n",
    ")"
   ]
  },
  {
   "cell_type": "markdown",
   "id": "a2ad0342-6c51-4abb-86de-7f7ca1f9eb7c",
   "metadata": {},
   "source": [
    "We can think of `replace` as a left join (see the section on combining `DataFrames` if you are not familiar with joins) and in fact Polars implements this as a join by converting the mapping dictionary to a `DataFrame` under-the-hood."
   ]
  },
  {
   "cell_type": "markdown",
   "id": "704bfc0c-cfac-4844-9b8b-511bc60a58a9",
   "metadata": {},
   "source": [
    "## Add a new column based on a condition on another column\n",
    "\n",
    "We use the `pl.when.then.otherwise` to define a new column based on a condition on one or more other columns.\n",
    "\n",
    "We want to add a new binary column called `first_class` based on the `Pclass` column where the value is `1` for first class passengers and `0` for second and third class passengers:\n",
    "\n",
    "`first_class = 1 if Pclass == 1`,`otherwise = 0`\n"
   ]
  },
  {
   "cell_type": "code",
   "execution_count": 20,
   "id": "eca0f119-1607-40eb-b985-865cdbaea26b",
   "metadata": {
    "tags": []
   },
   "outputs": [
    {
     "data": {
      "text/html": [
       "<div><style>\n",
       ".dataframe > thead > tr,\n",
       ".dataframe > tbody > tr {\n",
       "  text-align: right;\n",
       "  white-space: pre-wrap;\n",
       "}\n",
       "</style>\n",
       "<small>shape: (2, 2)</small><table border=\"1\" class=\"dataframe\"><thead><tr><th>Pclass</th><th>first_class</th></tr><tr><td>i64</td><td>i32</td></tr></thead><tbody><tr><td>3</td><td>0</td></tr><tr><td>1</td><td>1</td></tr></tbody></table></div>"
      ],
      "text/plain": [
       "shape: (2, 2)\n",
       "┌────────┬─────────────┐\n",
       "│ Pclass ┆ first_class │\n",
       "│ ---    ┆ ---         │\n",
       "│ i64    ┆ i32         │\n",
       "╞════════╪═════════════╡\n",
       "│ 3      ┆ 0           │\n",
       "│ 1      ┆ 1           │\n",
       "└────────┴─────────────┘"
      ]
     },
     "execution_count": 20,
     "metadata": {},
     "output_type": "execute_result"
    }
   ],
   "source": [
    "(\n",
    "    df\n",
    "    .select(\n",
    "        \"Pclass\",\n",
    "        pl.when(\n",
    "             pl.col(\"Pclass\") == 1\n",
    "        )\n",
    "        .then(1)\n",
    "        .otherwise(0)\n",
    "        .alias(\"first_class\")\n",
    "    )\n",
    "    #.select(\"Pclass\",\"first_class\")\n",
    "    .head(2)\n",
    ")"
   ]
  },
  {
   "cell_type": "code",
   "execution_count": 21,
   "id": "e32cb9f5",
   "metadata": {},
   "outputs": [
    {
     "data": {
      "text/html": [
       "<div><style>\n",
       ".dataframe > thead > tr,\n",
       ".dataframe > tbody > tr {\n",
       "  text-align: right;\n",
       "  white-space: pre-wrap;\n",
       "}\n",
       "</style>\n",
       "<small>shape: (2, 13)</small><table border=\"1\" class=\"dataframe\"><thead><tr><th>PassengerId</th><th>Survived</th><th>Pclass</th><th>Name</th><th>Sex</th><th>Age</th><th>SibSp</th><th>Parch</th><th>Ticket</th><th>Fare</th><th>Cabin</th><th>Embarked</th><th>first_class</th></tr><tr><td>i64</td><td>i64</td><td>i64</td><td>str</td><td>str</td><td>f64</td><td>i64</td><td>i64</td><td>str</td><td>f64</td><td>str</td><td>str</td><td>i32</td></tr></thead><tbody><tr><td>1</td><td>0</td><td>3</td><td>&quot;Braund, Mr. Owen Harris&quot;</td><td>&quot;male&quot;</td><td>22.0</td><td>1</td><td>0</td><td>&quot;A/5 21171&quot;</td><td>7.25</td><td>null</td><td>&quot;S&quot;</td><td>0</td></tr><tr><td>2</td><td>1</td><td>1</td><td>&quot;Cumings, Mrs. John Bradley (Fl…</td><td>&quot;female&quot;</td><td>38.0</td><td>1</td><td>0</td><td>&quot;PC 17599&quot;</td><td>71.2833</td><td>&quot;C85&quot;</td><td>&quot;C&quot;</td><td>1</td></tr></tbody></table></div>"
      ],
      "text/plain": [
       "shape: (2, 13)\n",
       "┌─────────────┬──────────┬────────┬─────────────────┬───┬─────────┬───────┬──────────┬─────────────┐\n",
       "│ PassengerId ┆ Survived ┆ Pclass ┆ Name            ┆ … ┆ Fare    ┆ Cabin ┆ Embarked ┆ first_class │\n",
       "│ ---         ┆ ---      ┆ ---    ┆ ---             ┆   ┆ ---     ┆ ---   ┆ ---      ┆ ---         │\n",
       "│ i64         ┆ i64      ┆ i64    ┆ str             ┆   ┆ f64     ┆ str   ┆ str      ┆ i32         │\n",
       "╞═════════════╪══════════╪════════╪═════════════════╪═══╪═════════╪═══════╪══════════╪═════════════╡\n",
       "│ 1           ┆ 0        ┆ 3      ┆ Braund, Mr.     ┆ … ┆ 7.25    ┆ null  ┆ S        ┆ 0           │\n",
       "│             ┆          ┆        ┆ Owen Harris     ┆   ┆         ┆       ┆          ┆             │\n",
       "│ 2           ┆ 1        ┆ 1      ┆ Cumings, Mrs.   ┆ … ┆ 71.2833 ┆ C85   ┆ C        ┆ 1           │\n",
       "│             ┆          ┆        ┆ John Bradley    ┆   ┆         ┆       ┆          ┆             │\n",
       "│             ┆          ┆        ┆ (Fl…            ┆   ┆         ┆       ┆          ┆             │\n",
       "└─────────────┴──────────┴────────┴─────────────────┴───┴─────────┴───────┴──────────┴─────────────┘"
      ]
     },
     "execution_count": 21,
     "metadata": {},
     "output_type": "execute_result"
    }
   ],
   "source": [
    "(\n",
    "    df\n",
    "    .with_columns(\n",
    "        first_class = pl.when(\n",
    "            pl.col('Pclass') == 1\n",
    "        )\n",
    "        .then(1)\n",
    "        .otherwise(0)\n",
    "    )\n",
    "    #.select('Pclass', 'first_class')\n",
    "    .head(2)\n",
    ")"
   ]
  },
  {
   "cell_type": "markdown",
   "id": "cdc0f25b-7a5b-41c2-9578-fcaa640bdbd3",
   "metadata": {},
   "source": [
    "## Syntax of `pl.when`\n",
    "\n",
    "The syntax is:\n",
    "```python\n",
    "\n",
    "    pl.when(**predicate**)\n",
    "    .then(**Value if True**)\n",
    "    .otherwise(**Value if False)\n",
    "    .alias(**New Column Name**)\n",
    "```\n",
    "so we pass:\n",
    "- a predicate expression (e.g. `pl.col(\"Pclass\") == 1`) to `pl.when`\n",
    "- an expression to show the value if True to `.then`\n",
    "- an expression to show the value otherwise to `.otherwise`\n",
    "- a name for the output to `alias`. If we don't pass `alias` the output is named after the first expression in the predicate\n",
    "\n",
    "Note: if the value passed to `then` or `otherwise` is a string Polars interprets it as a column name. To pass a string as a value it must be passed as a Polars literal as seen in the following example"
   ]
  },
  {
   "cell_type": "code",
   "execution_count": 24,
   "id": "687c94e1-2de1-4246-be79-fb8ad2f5e761",
   "metadata": {},
   "outputs": [
    {
     "data": {
      "text/html": [
       "<div><style>\n",
       ".dataframe > thead > tr,\n",
       ".dataframe > tbody > tr {\n",
       "  text-align: right;\n",
       "  white-space: pre-wrap;\n",
       "}\n",
       "</style>\n",
       "<small>shape: (2, 2)</small><table border=\"1\" class=\"dataframe\"><thead><tr><th>Pclass</th><th>first_class</th></tr><tr><td>i64</td><td>str</td></tr></thead><tbody><tr><td>3</td><td>&quot;not_first&quot;</td></tr><tr><td>1</td><td>&quot;first&quot;</td></tr></tbody></table></div>"
      ],
      "text/plain": [
       "shape: (2, 2)\n",
       "┌────────┬─────────────┐\n",
       "│ Pclass ┆ first_class │\n",
       "│ ---    ┆ ---         │\n",
       "│ i64    ┆ str         │\n",
       "╞════════╪═════════════╡\n",
       "│ 3      ┆ not_first   │\n",
       "│ 1      ┆ first       │\n",
       "└────────┴─────────────┘"
      ]
     },
     "execution_count": 24,
     "metadata": {},
     "output_type": "execute_result"
    }
   ],
   "source": [
    "(\n",
    "    df\n",
    "    .select(\n",
    "        \"Pclass\",\n",
    "        pl.when(\n",
    "             pl.col(\"Pclass\") == 1\n",
    "        )\n",
    "        .then(pl.lit(\"first\"))\n",
    "        #.then(\"first\") Makes error!!! \n",
    "        .otherwise(pl.lit(\"not_first\"))\n",
    "        .alias(\"first_class\")\n",
    "    )\n",
    "    .select(\"Pclass\",\"first_class\")\n",
    "    .head(2)\n",
    ")"
   ]
  },
  {
   "cell_type": "code",
   "execution_count": 5,
   "id": "fceae43d",
   "metadata": {},
   "outputs": [
    {
     "name": "stdout",
     "output_type": "stream",
     "text": [
      "shape: (3, 2)\n",
      "┌────────┬─────────────┐\n",
      "│ Pclass ┆ first_class │\n",
      "│ ---    ┆ ---         │\n",
      "│ i64    ┆ str         │\n",
      "╞════════╪═════════════╡\n",
      "│ 3      ┆ Non_first   │\n",
      "│ 1      ┆ First       │\n",
      "│ 3      ┆ Non_first   │\n",
      "└────────┴─────────────┘\n"
     ]
    },
    {
     "data": {
      "text/html": [
       "<div><style>\n",
       ".dataframe > thead > tr,\n",
       ".dataframe > tbody > tr {\n",
       "  text-align: right;\n",
       "  white-space: pre-wrap;\n",
       "}\n",
       "</style>\n",
       "<small>shape: (3, 3)</small><table border=\"1\" class=\"dataframe\"><thead><tr><th>Pclass</th><th>first_class</th><th>test</th></tr><tr><td>i64</td><td>str</td><td>bool</td></tr></thead><tbody><tr><td>3</td><td>&quot;Non_first&quot;</td><td>false</td></tr><tr><td>1</td><td>&quot;First&quot;</td><td>true</td></tr><tr><td>3</td><td>&quot;Non_first&quot;</td><td>false</td></tr></tbody></table></div>"
      ],
      "text/plain": [
       "shape: (3, 3)\n",
       "┌────────┬─────────────┬───────┐\n",
       "│ Pclass ┆ first_class ┆ test  │\n",
       "│ ---    ┆ ---         ┆ ---   │\n",
       "│ i64    ┆ str         ┆ bool  │\n",
       "╞════════╪═════════════╪═══════╡\n",
       "│ 3      ┆ Non_first   ┆ false │\n",
       "│ 1      ┆ First       ┆ true  │\n",
       "│ 3      ┆ Non_first   ┆ false │\n",
       "└────────┴─────────────┴───────┘"
      ]
     },
     "execution_count": 5,
     "metadata": {},
     "output_type": "execute_result"
    }
   ],
   "source": [
    "# 의도는 오케이...내가 쓸만 열로 뚜까뚜까 select로 내가 쓸 열 고정하고 하는거 ㅇㅈ\n",
    "tmp = (\n",
    "    df\n",
    "    .with_columns(\n",
    "        pl.when(\n",
    "            pl.col('Pclass') == 1\n",
    "        )\n",
    "        .then(pl.lit('First'))\n",
    "        .otherwise(pl.lit('Non_first'))\n",
    "        .alias('first_class')\n",
    "    )\n",
    "    .select(\n",
    "        pl.col('Pclass', 'first_class')\n",
    "    )\n",
    "    .head(3)\n",
    ")\n",
    "print(tmp)\n",
    "\n",
    "(\n",
    "    tmp\n",
    "    .with_columns(\n",
    "        test = pl.col('first_class') == 'First'\n",
    "    )\n",
    ")"
   ]
  },
  {
   "cell_type": "markdown",
   "id": "e627bee4-7fe1-4ae6-87b8-42ab604399c2",
   "metadata": {},
   "source": [
    "In this example the string in `then` is interpreted as a column name - though more generally we can pass expressions inside `then` and `otherwise`"
   ]
  },
  {
   "cell_type": "code",
   "execution_count": 27,
   "id": "84068372-0ce3-4638-9136-4eafca5b4b0d",
   "metadata": {},
   "outputs": [
    {
     "name": "stdout",
     "output_type": "stream",
     "text": [
      "shape: (2, 2)\n",
      "┌────────┬────────────────────┐\n",
      "│ Pclass ┆ fare_approximation │\n",
      "│ ---    ┆ ---                │\n",
      "│ i64    ┆ f64                │\n",
      "╞════════╪════════════════════╡\n",
      "│ 3      ┆ 0.0                │\n",
      "│ 1      ┆ 71.2833            │\n",
      "└────────┴────────────────────┘\n",
      "shape: (3, 2)\n",
      "┌────────┬──────────┐\n",
      "│ Pclass ┆ 취향파악 │\n",
      "│ ---    ┆ ---      │\n",
      "│ i64    ┆ str      │\n",
      "╞════════╪══════════╡\n",
      "│ 3      ┆ 알빠노   │\n",
      "│ 1      ┆ 26.0     │\n",
      "│ 3      ┆ 알빠노   │\n",
      "└────────┴──────────┘\n"
     ]
    }
   ],
   "source": [
    "print((\n",
    "    df\n",
    "    .select(\n",
    "        pl.col('Pclass'),\n",
    "        pl.when(\n",
    "             pl.col(\"Pclass\") == 1\n",
    "        )\n",
    "        .then(\"Fare\")\n",
    "        .otherwise(\n",
    "            pl.col(\"Fare\").min()\n",
    "        )\n",
    "        .alias(\"fare_approximation\")\n",
    "    )\n",
    "    #.select(\"Pclass\",\"fare_approximation\") - > 필요없는 행\n",
    "    .head(2)\n",
    "))\n",
    "\n",
    "print(\n",
    "    (\n",
    "        df\n",
    "        .select(\n",
    "            pl.col('Pclass'),\n",
    "            pl.when(pl.col('Pclass') == 1).then(pl.col('Age')).otherwise(pl.lit(\"알빠노\")).alias('취향파악')\n",
    "        )\n",
    "        .tail(3)\n",
    "    )\n",
    ")"
   ]
  },
  {
   "cell_type": "markdown",
   "id": "630fd0bb-dcbc-4341-b4a6-e61f5a3d22cd",
   "metadata": {},
   "source": [
    "## Add a new column based on a condition on multiple other columns\n",
    "\n",
    "We can base conditions on multiple other columns. Here we want to add a new binary column called `young_first_class` where first class passengers with age under 30 are `1` and all other passengers are 0. \n",
    "\n",
    "`young_first_class = 1 if (Pclass == 1 and Age < 30) otherwise = 0`\n",
    "\n",
    "\n",
    "We need an `AND` condition to combine the two filter conditions. We can do this by passing the predicates as a comma-separated list to `pl.when`"
   ]
  },
  {
   "cell_type": "code",
   "execution_count": 35,
   "id": "e8f7ab8b-5eba-4e5b-b89a-de807b3b24b8",
   "metadata": {
    "tags": []
   },
   "outputs": [
    {
     "data": {
      "text/html": [
       "<div><style>\n",
       ".dataframe > thead > tr,\n",
       ".dataframe > tbody > tr {\n",
       "  text-align: right;\n",
       "  white-space: pre-wrap;\n",
       "}\n",
       "</style>\n",
       "<small>shape: (5, 3)</small><table border=\"1\" class=\"dataframe\"><thead><tr><th>Pclass</th><th>Age</th><th>선물대작전</th></tr><tr><td>i64</td><td>f64</td><td>str</td></tr></thead><tbody><tr><td>3</td><td>22.0</td><td>&quot;알빠노&quot;</td></tr><tr><td>1</td><td>38.0</td><td>&quot;갤럭시 노트&quot;</td></tr><tr><td>3</td><td>26.0</td><td>&quot;알빠노&quot;</td></tr><tr><td>1</td><td>35.0</td><td>&quot;갤럭시 노트&quot;</td></tr><tr><td>3</td><td>35.0</td><td>&quot;알빠노&quot;</td></tr></tbody></table></div>"
      ],
      "text/plain": [
       "shape: (5, 3)\n",
       "┌────────┬──────┬─────────────┐\n",
       "│ Pclass ┆ Age  ┆ 선물대작전  │\n",
       "│ ---    ┆ ---  ┆ ---         │\n",
       "│ i64    ┆ f64  ┆ str         │\n",
       "╞════════╪══════╪═════════════╡\n",
       "│ 3      ┆ 22.0 ┆ 알빠노      │\n",
       "│ 1      ┆ 38.0 ┆ 갤럭시 노트 │\n",
       "│ 3      ┆ 26.0 ┆ 알빠노      │\n",
       "│ 1      ┆ 35.0 ┆ 갤럭시 노트 │\n",
       "│ 3      ┆ 35.0 ┆ 알빠노      │\n",
       "└────────┴──────┴─────────────┘"
      ]
     },
     "execution_count": 35,
     "metadata": {},
     "output_type": "execute_result"
    }
   ],
   "source": [
    "(\n",
    "    df\n",
    "    .select(\n",
    "       pl.col(\"Pclass\"),\n",
    "        pl.col(\"Age\"),\n",
    "        pl.when(\n",
    "            pl.col(\"Pclass\") == 1,\n",
    "            pl.col(\"Age\") < 30\n",
    "        )\n",
    "        .then(1)\n",
    "        .otherwise(0)\n",
    "        .alias(\"young_first_class\")\n",
    "    )\n",
    "    .tail(5)\n",
    ")\n",
    "\n",
    "# 1등급이고 30세 이하 -> 아이폰 ,1등급이고 50세 이하 -> 갤럭시 노트, 1등급이고 나머지 -> 김영웅 cd\n",
    "(\n",
    "    df\n",
    "    .select(\n",
    "        pl.col('Pclass'), \n",
    "        pl.col('Age'),\n",
    "        pl.when(\n",
    "            (pl.col('Pclass') == 1) & (pl.col('Age') <= 30)\n",
    "        )\n",
    "        .then(pl.lit('아이폰 15'))\n",
    "        .when(\n",
    "            (pl.col('Pclass') == 1) & (pl.col('Age').is_between(30, 50))\n",
    "        )\n",
    "        .then(pl.lit('갤럭시 노트'))\n",
    "        .when(\n",
    "            (pl.col('Pclass') == 1) & (pl.col('Age') > 50)\n",
    "        )\n",
    "        .then(pl.lit(\"임영웅 cd\"))\n",
    "        .otherwise(pl.lit(\"알빠노\"))\n",
    "        .alias(\"선물대작전\")\n",
    "    )\n",
    "    .head(5)\n",
    ")\n",
    "\n"
   ]
  },
  {
   "cell_type": "markdown",
   "id": "b8b97544-d872-4310-b84a-58adcc6d1a4b",
   "metadata": {},
   "source": [
    "## Add a new column based on an `if-elif-else` condition\n",
    "We are not limited to a single `if-else` condition. \n",
    "\n",
    "For example we want to create 3 categories with:\n",
    "- `1` for young first class passengers \n",
    "- `2` for older first class passengers and \n",
    "- `0` for all other passengers\n",
    "\n",
    "`age_class == 1 if (Pclass == 1 and Age < 30) or\n",
    "age_class == 2 if (Pclass == 1 and Age > 30) or\n",
    "otherwise 0`\n",
    "\n",
    "We do this by repeating the `.when.then` cycle for each sub-condition.\n",
    "\n",
    "The syntax here for a single extra condition is:\n",
    "```python\n",
    "\n",
    "    pl.when(**Boolean Expression**)\n",
    "    .then(**Value if True**)\n",
    "    .when(**Boolean Expression**)\n",
    "    .then(**Value if True**)\n",
    "    .otherwise(**Value if False)\n",
    "    .alias(**New Column Name**)\n",
    "    \n",
    "```\n"
   ]
  },
  {
   "cell_type": "code",
   "execution_count": 42,
   "id": "c4c695b0",
   "metadata": {},
   "outputs": [
    {
     "data": {
      "text/html": [
       "<div><style>\n",
       ".dataframe > thead > tr,\n",
       ".dataframe > tbody > tr {\n",
       "  text-align: right;\n",
       "  white-space: pre-wrap;\n",
       "}\n",
       "</style>\n",
       "<small>shape: (3, 3)</small><table border=\"1\" class=\"dataframe\"><thead><tr><th>Age</th><th>Pclass</th><th>test</th></tr><tr><td>f64</td><td>i64</td><td>i32</td></tr></thead><tbody><tr><td>22.0</td><td>3</td><td>0</td></tr><tr><td>38.0</td><td>1</td><td>2</td></tr><tr><td>26.0</td><td>3</td><td>0</td></tr></tbody></table></div>"
      ],
      "text/plain": [
       "shape: (3, 3)\n",
       "┌──────┬────────┬──────┐\n",
       "│ Age  ┆ Pclass ┆ test │\n",
       "│ ---  ┆ ---    ┆ ---  │\n",
       "│ f64  ┆ i64    ┆ i32  │\n",
       "╞══════╪════════╪══════╡\n",
       "│ 22.0 ┆ 3      ┆ 0    │\n",
       "│ 38.0 ┆ 1      ┆ 2    │\n",
       "│ 26.0 ┆ 3      ┆ 0    │\n",
       "└──────┴────────┴──────┘"
      ]
     },
     "execution_count": 42,
     "metadata": {},
     "output_type": "execute_result"
    }
   ],
   "source": [
    "(\n",
    "    df\n",
    "    .select(\n",
    "        pl.col('Age'),pl.col('Pclass'),\n",
    "        pl.when(\n",
    "            (pl.col('Pclass') == 1) & (pl.col('Age') < 30)\n",
    "        )\n",
    "        .then(pl.lit(1))\n",
    "        .when(\n",
    "            (pl.col('Pclass') == 1) & (pl.col('Age') > 30)\n",
    "        )\n",
    "        .then(pl.lit(2))\n",
    "        .otherwise(pl.lit(0))\n",
    "        .alias(\"test\")\n",
    "    )\n",
    "    .head(3)\n",
    ")"
   ]
  },
  {
   "cell_type": "code",
   "execution_count": 37,
   "id": "4e0b6923-d61a-446f-a2e8-77f1d21196c5",
   "metadata": {
    "tags": []
   },
   "outputs": [
    {
     "data": {
      "text/html": [
       "<div><style>\n",
       ".dataframe > thead > tr,\n",
       ".dataframe > tbody > tr {\n",
       "  text-align: right;\n",
       "  white-space: pre-wrap;\n",
       "}\n",
       "</style>\n",
       "<small>shape: (5, 3)</small><table border=\"1\" class=\"dataframe\"><thead><tr><th>Pclass</th><th>Age</th><th>age_class</th></tr><tr><td>i64</td><td>f64</td><td>i32</td></tr></thead><tbody><tr><td>3</td><td>22.0</td><td>0</td></tr><tr><td>1</td><td>38.0</td><td>2</td></tr><tr><td>3</td><td>26.0</td><td>0</td></tr><tr><td>1</td><td>35.0</td><td>2</td></tr><tr><td>3</td><td>35.0</td><td>0</td></tr></tbody></table></div>"
      ],
      "text/plain": [
       "shape: (5, 3)\n",
       "┌────────┬──────┬───────────┐\n",
       "│ Pclass ┆ Age  ┆ age_class │\n",
       "│ ---    ┆ ---  ┆ ---       │\n",
       "│ i64    ┆ f64  ┆ i32       │\n",
       "╞════════╪══════╪═══════════╡\n",
       "│ 3      ┆ 22.0 ┆ 0         │\n",
       "│ 1      ┆ 38.0 ┆ 2         │\n",
       "│ 3      ┆ 26.0 ┆ 0         │\n",
       "│ 1      ┆ 35.0 ┆ 2         │\n",
       "│ 3      ┆ 35.0 ┆ 0         │\n",
       "└────────┴──────┴───────────┘"
      ]
     },
     "execution_count": 37,
     "metadata": {},
     "output_type": "execute_result"
    }
   ],
   "source": [
    "(\n",
    "    df\n",
    "    .select(\n",
    "        pl.col(\"Pclass\"),\n",
    "        pl.col(\"Age\"),\n",
    "        pl.when(\n",
    "            pl.col(\"Pclass\") == 1,\n",
    "            pl.col(\"Age\")<30\n",
    "        )\n",
    "        .then(1)\n",
    "        .when(\n",
    "            pl.col(\"Pclass\") == 1,\n",
    "            pl.col(\"Age\")>=30\n",
    "        )\n",
    "        .then(2)\n",
    "        .otherwise(0)\n",
    "        .alias(\"age_class\")\n",
    "    )\n",
    "    .head(5)\n",
    ")"
   ]
  },
  {
   "cell_type": "markdown",
   "id": "baadc0cb-c151-4fa1-9ada-25b587471046",
   "metadata": {},
   "source": [
    "The cycles of `.when.then` can be repeated indefinitely."
   ]
  },
  {
   "cell_type": "markdown",
   "id": "faf01d53-8149-44eb-9d60-0de99781ed6e",
   "metadata": {},
   "source": [
    "## Exercises\n",
    "\n",
    "In the exercises you will develop your understanding of:\n",
    "- adding a column based on a mapping of another column\n",
    "- adding a binary column based on a condition on multiple columns\n",
    "- adding a column based on a nested `if-elif` condition on another column\n",
    "\n",
    "### Exercise 1 \n",
    "Create a binary column for whether a passenger is female or male.\n",
    "\n",
    "Add a column called `is_female` that maps rows with a female passenger to 1 and rows with a male passenger to 0. Ensure the column has an integer dtype"
   ]
  },
  {
   "cell_type": "code",
   "execution_count": 46,
   "id": "4f5e0508-3fc5-46d3-ab16-111c1b19e68b",
   "metadata": {
    "tags": []
   },
   "outputs": [
    {
     "data": {
      "text/html": [
       "<div><style>\n",
       ".dataframe > thead > tr,\n",
       ".dataframe > tbody > tr {\n",
       "  text-align: right;\n",
       "  white-space: pre-wrap;\n",
       "}\n",
       "</style>\n",
       "<small>shape: (5, 2)</small><table border=\"1\" class=\"dataframe\"><thead><tr><th>Sex</th><th>is_female</th></tr><tr><td>str</td><td>i64</td></tr></thead><tbody><tr><td>&quot;male&quot;</td><td>0</td></tr><tr><td>&quot;female&quot;</td><td>1</td></tr><tr><td>&quot;female&quot;</td><td>1</td></tr><tr><td>&quot;female&quot;</td><td>1</td></tr><tr><td>&quot;male&quot;</td><td>0</td></tr></tbody></table></div>"
      ],
      "text/plain": [
       "shape: (5, 2)\n",
       "┌────────┬───────────┐\n",
       "│ Sex    ┆ is_female │\n",
       "│ ---    ┆ ---       │\n",
       "│ str    ┆ i64       │\n",
       "╞════════╪═══════════╡\n",
       "│ male   ┆ 0         │\n",
       "│ female ┆ 1         │\n",
       "│ female ┆ 1         │\n",
       "│ female ┆ 1         │\n",
       "│ male   ┆ 0         │\n",
       "└────────┴───────────┘"
      ]
     },
     "execution_count": 46,
     "metadata": {},
     "output_type": "execute_result"
    }
   ],
   "source": [
    "(\n",
    "    pl.read_csv(csv_file)\n",
    "    .select(\n",
    "        pl.col('Sex'),\n",
    "        pl.col('Sex').replace_strict(\n",
    "            {\n",
    "                'female' : 1,\n",
    "                'male' : 0\n",
    "            }\n",
    "        ).alias(\"is_female\")\n",
    "    )\n",
    "    .head()\n",
    ")"
   ]
  },
  {
   "cell_type": "markdown",
   "id": "c96fb3d6-e279-4f4d-ae2d-aab0c537378a",
   "metadata": {},
   "source": [
    "### Exercise 2 \n",
    "Create a binary column called `young_female_first_class` for whether a passenger is:\n",
    "- female\n",
    "- in first class and\n",
    "- under 30"
   ]
  },
  {
   "cell_type": "code",
   "execution_count": 47,
   "id": "1d5c1c53-ff92-413c-84e5-5698bafe8bbc",
   "metadata": {
    "tags": []
   },
   "outputs": [
    {
     "data": {
      "text/html": [
       "<div><style>\n",
       ".dataframe > thead > tr,\n",
       ".dataframe > tbody > tr {\n",
       "  text-align: right;\n",
       "  white-space: pre-wrap;\n",
       "}\n",
       "</style>\n",
       "<small>shape: (5, 4)</small><table border=\"1\" class=\"dataframe\"><thead><tr><th>Pclass</th><th>Sex</th><th>Age</th><th>literal</th></tr><tr><td>i64</td><td>str</td><td>f64</td><td>i32</td></tr></thead><tbody><tr><td>3</td><td>&quot;male&quot;</td><td>22.0</td><td>0</td></tr><tr><td>1</td><td>&quot;female&quot;</td><td>38.0</td><td>0</td></tr><tr><td>3</td><td>&quot;female&quot;</td><td>26.0</td><td>0</td></tr><tr><td>1</td><td>&quot;female&quot;</td><td>35.0</td><td>0</td></tr><tr><td>3</td><td>&quot;male&quot;</td><td>35.0</td><td>0</td></tr></tbody></table></div>"
      ],
      "text/plain": [
       "shape: (5, 4)\n",
       "┌────────┬────────┬──────┬─────────┐\n",
       "│ Pclass ┆ Sex    ┆ Age  ┆ literal │\n",
       "│ ---    ┆ ---    ┆ ---  ┆ ---     │\n",
       "│ i64    ┆ str    ┆ f64  ┆ i32     │\n",
       "╞════════╪════════╪══════╪═════════╡\n",
       "│ 3      ┆ male   ┆ 22.0 ┆ 0       │\n",
       "│ 1      ┆ female ┆ 38.0 ┆ 0       │\n",
       "│ 3      ┆ female ┆ 26.0 ┆ 0       │\n",
       "│ 1      ┆ female ┆ 35.0 ┆ 0       │\n",
       "│ 3      ┆ male   ┆ 35.0 ┆ 0       │\n",
       "└────────┴────────┴──────┴─────────┘"
      ]
     },
     "execution_count": 47,
     "metadata": {},
     "output_type": "execute_result"
    }
   ],
   "source": [
    "(\n",
    "    pl.read_csv(csv_file)\n",
    "    .select(\n",
    "        pl.col('Pclass'), pl.col('Sex'), pl.col('Age'),\n",
    "        pl.when(\n",
    "            pl.col('Pclass') == 1, pl.col('Age') < 30\n",
    "        )\n",
    "        .then(1)\n",
    "        .otherwise(0)\n",
    "    )\n",
    "    .head()\n",
    ")"
   ]
  },
  {
   "cell_type": "markdown",
   "id": "53df78ae-b800-4ce1-8872-9ffe3b9f3257",
   "metadata": {},
   "source": [
    "### Exercise 3 \n",
    "Create a column called `embarked_categories` where\n",
    "- female and embarked in Southampton then has value \"FS\"\n",
    "- female and did not embark in Southampton then has value \"NFS\"\n",
    "- male and embarked in Southampton then has value \"MS\"\n",
    "- male and did not embark in Southampton then has value \"NMS\""
   ]
  },
  {
   "cell_type": "code",
   "execution_count": 4,
   "id": "3701e5bf",
   "metadata": {},
   "outputs": [
    {
     "data": {
      "text/html": [
       "<div><style>\n",
       ".dataframe > thead > tr,\n",
       ".dataframe > tbody > tr {\n",
       "  text-align: right;\n",
       "  white-space: pre-wrap;\n",
       "}\n",
       "</style>\n",
       "<small>shape: (5, 12)</small><table border=\"1\" class=\"dataframe\"><thead><tr><th>PassengerId</th><th>Survived</th><th>Pclass</th><th>Name</th><th>Sex</th><th>Age</th><th>SibSp</th><th>Parch</th><th>Ticket</th><th>Fare</th><th>Cabin</th><th>Embarked</th></tr><tr><td>i64</td><td>i64</td><td>i64</td><td>str</td><td>str</td><td>f64</td><td>i64</td><td>i64</td><td>str</td><td>f64</td><td>str</td><td>str</td></tr></thead><tbody><tr><td>1</td><td>0</td><td>3</td><td>&quot;Braund, Mr. Owen Harris&quot;</td><td>&quot;male&quot;</td><td>22.0</td><td>1</td><td>0</td><td>&quot;A/5 21171&quot;</td><td>7.25</td><td>null</td><td>&quot;S&quot;</td></tr><tr><td>2</td><td>1</td><td>1</td><td>&quot;Cumings, Mrs. John Bradley (Fl…</td><td>&quot;female&quot;</td><td>38.0</td><td>1</td><td>0</td><td>&quot;PC 17599&quot;</td><td>71.2833</td><td>&quot;C85&quot;</td><td>&quot;C&quot;</td></tr><tr><td>3</td><td>1</td><td>3</td><td>&quot;Heikkinen, Miss. Laina&quot;</td><td>&quot;female&quot;</td><td>26.0</td><td>0</td><td>0</td><td>&quot;STON/O2. 3101282&quot;</td><td>7.925</td><td>null</td><td>&quot;S&quot;</td></tr><tr><td>4</td><td>1</td><td>1</td><td>&quot;Futrelle, Mrs. Jacques Heath (…</td><td>&quot;female&quot;</td><td>35.0</td><td>1</td><td>0</td><td>&quot;113803&quot;</td><td>53.1</td><td>&quot;C123&quot;</td><td>&quot;S&quot;</td></tr><tr><td>5</td><td>0</td><td>3</td><td>&quot;Allen, Mr. William Henry&quot;</td><td>&quot;male&quot;</td><td>35.0</td><td>0</td><td>0</td><td>&quot;373450&quot;</td><td>8.05</td><td>null</td><td>&quot;S&quot;</td></tr></tbody></table></div>"
      ],
      "text/plain": [
       "shape: (5, 12)\n",
       "┌─────────────┬──────────┬────────┬───────────────────┬───┬───────────┬─────────┬───────┬──────────┐\n",
       "│ PassengerId ┆ Survived ┆ Pclass ┆ Name              ┆ … ┆ Ticket    ┆ Fare    ┆ Cabin ┆ Embarked │\n",
       "│ ---         ┆ ---      ┆ ---    ┆ ---               ┆   ┆ ---       ┆ ---     ┆ ---   ┆ ---      │\n",
       "│ i64         ┆ i64      ┆ i64    ┆ str               ┆   ┆ str       ┆ f64     ┆ str   ┆ str      │\n",
       "╞═════════════╪══════════╪════════╪═══════════════════╪═══╪═══════════╪═════════╪═══════╪══════════╡\n",
       "│ 1           ┆ 0        ┆ 3      ┆ Braund, Mr. Owen  ┆ … ┆ A/5 21171 ┆ 7.25    ┆ null  ┆ S        │\n",
       "│             ┆          ┆        ┆ Harris            ┆   ┆           ┆         ┆       ┆          │\n",
       "│ 2           ┆ 1        ┆ 1      ┆ Cumings, Mrs.     ┆ … ┆ PC 17599  ┆ 71.2833 ┆ C85   ┆ C        │\n",
       "│             ┆          ┆        ┆ John Bradley (Fl… ┆   ┆           ┆         ┆       ┆          │\n",
       "│ 3           ┆ 1        ┆ 3      ┆ Heikkinen, Miss.  ┆ … ┆ STON/O2.  ┆ 7.925   ┆ null  ┆ S        │\n",
       "│             ┆          ┆        ┆ Laina             ┆   ┆ 3101282   ┆         ┆       ┆          │\n",
       "│ 4           ┆ 1        ┆ 1      ┆ Futrelle, Mrs.    ┆ … ┆ 113803    ┆ 53.1    ┆ C123  ┆ S        │\n",
       "│             ┆          ┆        ┆ Jacques Heath (…  ┆   ┆           ┆         ┆       ┆          │\n",
       "│ 5           ┆ 0        ┆ 3      ┆ Allen, Mr.        ┆ … ┆ 373450    ┆ 8.05    ┆ null  ┆ S        │\n",
       "│             ┆          ┆        ┆ William Henry     ┆   ┆           ┆         ┆       ┆          │\n",
       "└─────────────┴──────────┴────────┴───────────────────┴───┴───────────┴─────────┴───────┴──────────┘"
      ]
     },
     "execution_count": 4,
     "metadata": {},
     "output_type": "execute_result"
    }
   ],
   "source": [
    "df.head()"
   ]
  },
  {
   "cell_type": "code",
   "execution_count": null,
   "id": "b5a722f8-81d7-4ae7-9f1a-1b2ded17513b",
   "metadata": {
    "tags": []
   },
   "outputs": [],
   "source": [
    "(\n",
    "    pl.read_csv(csv_file)\n",
    "    .select(\n",
    "            \"Sex\",\n",
    "            \"Embarked\",\n",
    "            \n",
    "    )\n",
    ")\n"
   ]
  },
  {
   "cell_type": "markdown",
   "id": "24d44129-b261-485e-a51e-0285fe46c0b3",
   "metadata": {},
   "source": [
    "## Solutions\n",
    "\n",
    "### Solution to Exercise 1 \n",
    "\n",
    "Add a column called `is_female` that maps rows with a female passenger to 1 and rows with a male passenger to 0. Ensure the column has an integer dtype"
   ]
  },
  {
   "cell_type": "code",
   "execution_count": null,
   "id": "4e6db5f7-767b-40de-bd9c-f939c17c08b4",
   "metadata": {
    "jupyter": {
     "source_hidden": true
    },
    "tags": []
   },
   "outputs": [],
   "source": [
    "(\n",
    "    pl.read_csv(csv_file)\n",
    "    .select(\n",
    "        'Sex',\n",
    "        pl.col(\"Sex\").replace_strict({\"female\":1,\"male\":0},return_dtype=pl.Int64).alias(\"is_female\")\n",
    "    )\n",
    "    .head()\n",
    ")"
   ]
  },
  {
   "cell_type": "markdown",
   "id": "59795145-d5d5-4d78-9700-b536fa0ab5c5",
   "metadata": {},
   "source": [
    "### Solution to Exercise 2 \n",
    "Create a binary column called `young_female_first_class` for whether a passenger is:\n",
    "- female\n",
    "- in first class and\n",
    "- under 30"
   ]
  },
  {
   "cell_type": "code",
   "execution_count": null,
   "id": "4121e6ba-2e87-47e1-b6b2-104b30c19ae8",
   "metadata": {
    "jupyter": {
     "source_hidden": true
    },
    "tags": []
   },
   "outputs": [],
   "source": [
    "(\n",
    "    pl.read_csv(csv_file)\n",
    "    .select(\n",
    "        \"Pclass\",\n",
    "        \"Sex\",\n",
    "        \"Age\",\n",
    "        pl.when(\n",
    "            pl.col(\"Sex\")==\"female\",\n",
    "            pl.col(\"Pclass\")==1,\n",
    "            pl.col(\"Age\") <30\n",
    "        )\n",
    "        .then(1)\n",
    "        .otherwise(0)\n",
    "        .alias(\"young_female_first_class\")\n",
    "    )\n",
    "    .filter(\n",
    "        pl.col(\"young_female_first_class\")==1\n",
    "    )\n",
    "    .head()\n",
    ")"
   ]
  },
  {
   "cell_type": "markdown",
   "id": "d11af8c6-45c8-4dd5-8114-70e3b26177cf",
   "metadata": {},
   "source": [
    "### Solution to Exercise 3 \n",
    "\n",
    "Create a column called `embarked_categories` where\n",
    "- female and embarked in Southampton then has value \"FS\"\n",
    "- female and did not embark in Southampton then has value \"NFS\"\n",
    "- male and embarked in Southampton then has value \"MS\"\n",
    "- male and did not embark in Southampton then has value \"NMS\""
   ]
  },
  {
   "cell_type": "code",
   "execution_count": null,
   "id": "05d5f278-9c5a-4af0-b7ee-0c0d058a4d92",
   "metadata": {
    "jupyter": {
     "source_hidden": true
    },
    "tags": []
   },
   "outputs": [],
   "source": [
    "(\n",
    "    pl.read_csv(csv_file)\n",
    "    .select(\n",
    "            \"Sex\",\n",
    "            \"Embarked\",\n",
    "            pl.when(\n",
    "                pl.col(\"Sex\")==\"female\",\n",
    "                pl.col(\"Embarked\") == \"S\"\n",
    "            )\n",
    "            .then(pl.lit(\"FS\"))\n",
    "            .when(\n",
    "                pl.col(\"Sex\")==\"female\",\n",
    "                pl.col(\"Embarked\") != \"S\"\n",
    "            )\n",
    "            .then(pl.lit(\"NFS\"))\n",
    "            .when(\n",
    "                pl.col(\"Sex\")==\"male\",\n",
    "                pl.col(\"Embarked\") == \"S\"\n",
    "            )\n",
    "            .then(pl.lit(\"MS\"))\n",
    "            .when(\n",
    "                pl.col(\"Sex\")==\"male\",\n",
    "                pl.col(\"Embarked\") != \"S\"\n",
    "            )\n",
    "            .then(pl.lit(\"NMS\"))\n",
    "            .otherwise(pl.lit('O'))\n",
    "            .alias(\"embarked_categories\")\n",
    "    )\n",
    "    .head()\n",
    ")"
   ]
  }
 ],
 "metadata": {
  "kernelspec": {
   "display_name": "Python 3 (ipykernel)",
   "language": "python",
   "name": "python3"
  },
  "language_info": {
   "codemirror_mode": {
    "name": "ipython",
    "version": 3
   },
   "file_extension": ".py",
   "mimetype": "text/x-python",
   "name": "python",
   "nbconvert_exporter": "python",
   "pygments_lexer": "ipython3",
   "version": "3.12.5"
  }
 },
 "nbformat": 4,
 "nbformat_minor": 5
}
