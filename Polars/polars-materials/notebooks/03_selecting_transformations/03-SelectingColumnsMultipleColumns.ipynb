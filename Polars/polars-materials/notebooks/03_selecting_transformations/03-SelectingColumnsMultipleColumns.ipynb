{
 "cells": [
  {
   "cell_type": "markdown",
   "id": "b06a7473-8d52-4c0d-b469-37add3272a53",
   "metadata": {},
   "source": [
    "# Selecting columns 3: selecting multiple columns\n",
    "By the end of this lecture you will be able to:\n",
    "- select columns based on a regex\n",
    "- select columns based on dtype\n",
    "- use selectors\n",
    "\n",
    "Polars has two ways for selecting multiple columns:\n",
    "- the expression API with `pl.col` or `pl.all`\n",
    "- the selectors API with polars selectors such as `cs.contains`\n",
    "\n",
    "We see both of these in this lecture.\n",
    "\n",
    "To use the selectors API we typically import it as `cs` alongside Polars\n",
    "\n",
    "> Got any feedback on the course? I'm always keen to hear from my learners - get in touch at liam@rhosignal.com or message me on linkedin: https://www.linkedin.com/in/liam-brannigan-9080b214a/\n",
    "\n",
    "> Want to recommend the course to others? Please use the latest referal code from this page: https://linktr.ee/braaannigan\n",
    "\n",
    "Here we import the `polars.selectors` separately as `cs`"
   ]
  },
  {
   "cell_type": "code",
   "execution_count": 1,
   "id": "9fd758ec-0727-4c1e-87ae-04fd47b267b6",
   "metadata": {
    "tags": []
   },
   "outputs": [],
   "source": [
    "import polars as pl\n",
    "import polars.selectors as cs"
   ]
  },
  {
   "cell_type": "code",
   "execution_count": 32,
   "id": "43c1d48b-a1cc-4374-bfd5-83817c491923",
   "metadata": {
    "tags": []
   },
   "outputs": [],
   "source": [
    "csv_file = \"../data/titanic.csv\""
   ]
  },
  {
   "cell_type": "code",
   "execution_count": 3,
   "id": "23ec4b89-5819-4654-a3c8-d43a7a7b31fd",
   "metadata": {
    "tags": []
   },
   "outputs": [
    {
     "data": {
      "text/html": [
       "<div><style>\n",
       ".dataframe > thead > tr,\n",
       ".dataframe > tbody > tr {\n",
       "  text-align: right;\n",
       "  white-space: pre-wrap;\n",
       "}\n",
       "</style>\n",
       "<small>shape: (3, 12)</small><table border=\"1\" class=\"dataframe\"><thead><tr><th>PassengerId</th><th>Survived</th><th>Pclass</th><th>Name</th><th>Sex</th><th>Age</th><th>SibSp</th><th>Parch</th><th>Ticket</th><th>Fare</th><th>Cabin</th><th>Embarked</th></tr><tr><td>i64</td><td>i64</td><td>i64</td><td>str</td><td>str</td><td>f64</td><td>i64</td><td>i64</td><td>str</td><td>f64</td><td>str</td><td>str</td></tr></thead><tbody><tr><td>1</td><td>0</td><td>3</td><td>&quot;Braund, Mr. Owen Harris&quot;</td><td>&quot;male&quot;</td><td>22.0</td><td>1</td><td>0</td><td>&quot;A/5 21171&quot;</td><td>7.25</td><td>null</td><td>&quot;S&quot;</td></tr><tr><td>2</td><td>1</td><td>1</td><td>&quot;Cumings, Mrs. John Bradley (Fl…</td><td>&quot;female&quot;</td><td>38.0</td><td>1</td><td>0</td><td>&quot;PC 17599&quot;</td><td>71.2833</td><td>&quot;C85&quot;</td><td>&quot;C&quot;</td></tr><tr><td>3</td><td>1</td><td>3</td><td>&quot;Heikkinen, Miss. Laina&quot;</td><td>&quot;female&quot;</td><td>26.0</td><td>0</td><td>0</td><td>&quot;STON/O2. 3101282&quot;</td><td>7.925</td><td>null</td><td>&quot;S&quot;</td></tr></tbody></table></div>"
      ],
      "text/plain": [
       "shape: (3, 12)\n",
       "┌─────────────┬──────────┬────────┬───────────────────┬───┬───────────┬─────────┬───────┬──────────┐\n",
       "│ PassengerId ┆ Survived ┆ Pclass ┆ Name              ┆ … ┆ Ticket    ┆ Fare    ┆ Cabin ┆ Embarked │\n",
       "│ ---         ┆ ---      ┆ ---    ┆ ---               ┆   ┆ ---       ┆ ---     ┆ ---   ┆ ---      │\n",
       "│ i64         ┆ i64      ┆ i64    ┆ str               ┆   ┆ str       ┆ f64     ┆ str   ┆ str      │\n",
       "╞═════════════╪══════════╪════════╪═══════════════════╪═══╪═══════════╪═════════╪═══════╪══════════╡\n",
       "│ 1           ┆ 0        ┆ 3      ┆ Braund, Mr. Owen  ┆ … ┆ A/5 21171 ┆ 7.25    ┆ null  ┆ S        │\n",
       "│             ┆          ┆        ┆ Harris            ┆   ┆           ┆         ┆       ┆          │\n",
       "│ 2           ┆ 1        ┆ 1      ┆ Cumings, Mrs.     ┆ … ┆ PC 17599  ┆ 71.2833 ┆ C85   ┆ C        │\n",
       "│             ┆          ┆        ┆ John Bradley (Fl… ┆   ┆           ┆         ┆       ┆          │\n",
       "│ 3           ┆ 1        ┆ 3      ┆ Heikkinen, Miss.  ┆ … ┆ STON/O2.  ┆ 7.925   ┆ null  ┆ S        │\n",
       "│             ┆          ┆        ┆ Laina             ┆   ┆ 3101282   ┆         ┆       ┆          │\n",
       "└─────────────┴──────────┴────────┴───────────────────┴───┴───────────┴─────────┴───────┴──────────┘"
      ]
     },
     "execution_count": 3,
     "metadata": {},
     "output_type": "execute_result"
    }
   ],
   "source": [
    "df = pl.read_csv(csv_file)\n",
    "df.head(3)"
   ]
  },
  {
   "cell_type": "markdown",
   "id": "5273bbee-4c37-4847-985b-f28b949dcdd6",
   "metadata": {},
   "source": [
    "### Selecting all columns from a `DataFrame`\n",
    "\n",
    "We can select all columns by replacing `pl.col` with `pl.all`"
   ]
  },
  {
   "cell_type": "code",
   "execution_count": 4,
   "id": "947a7318-66b7-4116-920f-c2b50d118045",
   "metadata": {
    "tags": []
   },
   "outputs": [
    {
     "data": {
      "text/html": [
       "<div><style>\n",
       ".dataframe > thead > tr,\n",
       ".dataframe > tbody > tr {\n",
       "  text-align: right;\n",
       "  white-space: pre-wrap;\n",
       "}\n",
       "</style>\n",
       "<small>shape: (3, 12)</small><table border=\"1\" class=\"dataframe\"><thead><tr><th>PassengerId</th><th>Survived</th><th>Pclass</th><th>Name</th><th>Sex</th><th>Age</th><th>SibSp</th><th>Parch</th><th>Ticket</th><th>Fare</th><th>Cabin</th><th>Embarked</th></tr><tr><td>i64</td><td>i64</td><td>i64</td><td>str</td><td>str</td><td>f64</td><td>i64</td><td>i64</td><td>str</td><td>f64</td><td>str</td><td>str</td></tr></thead><tbody><tr><td>1</td><td>0</td><td>3</td><td>&quot;Braund, Mr. Owen Harris&quot;</td><td>&quot;male&quot;</td><td>22.0</td><td>1</td><td>0</td><td>&quot;A/5 21171&quot;</td><td>7.25</td><td>null</td><td>&quot;S&quot;</td></tr><tr><td>2</td><td>1</td><td>1</td><td>&quot;Cumings, Mrs. John Bradley (Fl…</td><td>&quot;female&quot;</td><td>38.0</td><td>1</td><td>0</td><td>&quot;PC 17599&quot;</td><td>71.2833</td><td>&quot;C85&quot;</td><td>&quot;C&quot;</td></tr><tr><td>3</td><td>1</td><td>3</td><td>&quot;Heikkinen, Miss. Laina&quot;</td><td>&quot;female&quot;</td><td>26.0</td><td>0</td><td>0</td><td>&quot;STON/O2. 3101282&quot;</td><td>7.925</td><td>null</td><td>&quot;S&quot;</td></tr></tbody></table></div>"
      ],
      "text/plain": [
       "shape: (3, 12)\n",
       "┌─────────────┬──────────┬────────┬───────────────────┬───┬───────────┬─────────┬───────┬──────────┐\n",
       "│ PassengerId ┆ Survived ┆ Pclass ┆ Name              ┆ … ┆ Ticket    ┆ Fare    ┆ Cabin ┆ Embarked │\n",
       "│ ---         ┆ ---      ┆ ---    ┆ ---               ┆   ┆ ---       ┆ ---     ┆ ---   ┆ ---      │\n",
       "│ i64         ┆ i64      ┆ i64    ┆ str               ┆   ┆ str       ┆ f64     ┆ str   ┆ str      │\n",
       "╞═════════════╪══════════╪════════╪═══════════════════╪═══╪═══════════╪═════════╪═══════╪══════════╡\n",
       "│ 1           ┆ 0        ┆ 3      ┆ Braund, Mr. Owen  ┆ … ┆ A/5 21171 ┆ 7.25    ┆ null  ┆ S        │\n",
       "│             ┆          ┆        ┆ Harris            ┆   ┆           ┆         ┆       ┆          │\n",
       "│ 2           ┆ 1        ┆ 1      ┆ Cumings, Mrs.     ┆ … ┆ PC 17599  ┆ 71.2833 ┆ C85   ┆ C        │\n",
       "│             ┆          ┆        ┆ John Bradley (Fl… ┆   ┆           ┆         ┆       ┆          │\n",
       "│ 3           ┆ 1        ┆ 3      ┆ Heikkinen, Miss.  ┆ … ┆ STON/O2.  ┆ 7.925   ┆ null  ┆ S        │\n",
       "│             ┆          ┆        ┆ Laina             ┆   ┆ 3101282   ┆         ┆       ┆          │\n",
       "└─────────────┴──────────┴────────┴───────────────────┴───┴───────────┴─────────┴───────┴──────────┘"
      ]
     },
     "execution_count": 4,
     "metadata": {},
     "output_type": "execute_result"
    }
   ],
   "source": [
    "(\n",
    "    df\n",
    "    .select(\n",
    "        pl.all()\n",
    "    )\n",
    "    .head(3)\n",
    ")"
   ]
  },
  {
   "cell_type": "markdown",
   "id": "60d9915c-f4e6-4191-aae5-b9055066df1b",
   "metadata": {},
   "source": [
    "We can select all but a subset of columns with the `exclude` expression"
   ]
  },
  {
   "cell_type": "code",
   "execution_count": 5,
   "id": "b9c3de88-109a-4ff4-9fe0-90c0fd8bd7f2",
   "metadata": {
    "tags": []
   },
   "outputs": [
    {
     "data": {
      "text/html": [
       "<div><style>\n",
       ".dataframe > thead > tr,\n",
       ".dataframe > tbody > tr {\n",
       "  text-align: right;\n",
       "  white-space: pre-wrap;\n",
       "}\n",
       "</style>\n",
       "<small>shape: (3, 9)</small><table border=\"1\" class=\"dataframe\"><thead><tr><th>Name</th><th>Sex</th><th>Age</th><th>SibSp</th><th>Parch</th><th>Ticket</th><th>Fare</th><th>Cabin</th><th>Embarked</th></tr><tr><td>str</td><td>str</td><td>f64</td><td>i64</td><td>i64</td><td>str</td><td>f64</td><td>str</td><td>str</td></tr></thead><tbody><tr><td>&quot;Braund, Mr. Owen Harris&quot;</td><td>&quot;male&quot;</td><td>22.0</td><td>1</td><td>0</td><td>&quot;A/5 21171&quot;</td><td>7.25</td><td>null</td><td>&quot;S&quot;</td></tr><tr><td>&quot;Cumings, Mrs. John Bradley (Fl…</td><td>&quot;female&quot;</td><td>38.0</td><td>1</td><td>0</td><td>&quot;PC 17599&quot;</td><td>71.2833</td><td>&quot;C85&quot;</td><td>&quot;C&quot;</td></tr><tr><td>&quot;Heikkinen, Miss. Laina&quot;</td><td>&quot;female&quot;</td><td>26.0</td><td>0</td><td>0</td><td>&quot;STON/O2. 3101282&quot;</td><td>7.925</td><td>null</td><td>&quot;S&quot;</td></tr></tbody></table></div>"
      ],
      "text/plain": [
       "shape: (3, 9)\n",
       "┌──────────────────────┬────────┬──────┬───────┬───┬──────────────────┬─────────┬───────┬──────────┐\n",
       "│ Name                 ┆ Sex    ┆ Age  ┆ SibSp ┆ … ┆ Ticket           ┆ Fare    ┆ Cabin ┆ Embarked │\n",
       "│ ---                  ┆ ---    ┆ ---  ┆ ---   ┆   ┆ ---              ┆ ---     ┆ ---   ┆ ---      │\n",
       "│ str                  ┆ str    ┆ f64  ┆ i64   ┆   ┆ str              ┆ f64     ┆ str   ┆ str      │\n",
       "╞══════════════════════╪════════╪══════╪═══════╪═══╪══════════════════╪═════════╪═══════╪══════════╡\n",
       "│ Braund, Mr. Owen     ┆ male   ┆ 22.0 ┆ 1     ┆ … ┆ A/5 21171        ┆ 7.25    ┆ null  ┆ S        │\n",
       "│ Harris               ┆        ┆      ┆       ┆   ┆                  ┆         ┆       ┆          │\n",
       "│ Cumings, Mrs. John   ┆ female ┆ 38.0 ┆ 1     ┆ … ┆ PC 17599         ┆ 71.2833 ┆ C85   ┆ C        │\n",
       "│ Bradley (Fl…         ┆        ┆      ┆       ┆   ┆                  ┆         ┆       ┆          │\n",
       "│ Heikkinen, Miss.     ┆ female ┆ 26.0 ┆ 0     ┆ … ┆ STON/O2. 3101282 ┆ 7.925   ┆ null  ┆ S        │\n",
       "│ Laina                ┆        ┆      ┆       ┆   ┆                  ┆         ┆       ┆          │\n",
       "└──────────────────────┴────────┴──────┴───────┴───┴──────────────────┴─────────┴───────┴──────────┘"
      ]
     },
     "execution_count": 5,
     "metadata": {},
     "output_type": "execute_result"
    }
   ],
   "source": [
    "(\n",
    "    df\n",
    "    .select(\n",
    "        pl.exclude('PassengerId','Survived','Pclass')\n",
    "    )\n",
    "    .head(3)\n",
    ")"
   ]
  },
  {
   "cell_type": "code",
   "execution_count": 10,
   "id": "0643e3bf",
   "metadata": {},
   "outputs": [
    {
     "data": {
      "text/html": [
       "<div><style>\n",
       ".dataframe > thead > tr,\n",
       ".dataframe > tbody > tr {\n",
       "  text-align: right;\n",
       "  white-space: pre-wrap;\n",
       "}\n",
       "</style>\n",
       "<small>shape: (2, 12)</small><table border=\"1\" class=\"dataframe\"><thead><tr><th>PassengerId</th><th>Survived</th><th>Pclass</th><th>Name</th><th>Sex</th><th>Age</th><th>SibSp</th><th>Parch</th><th>Ticket</th><th>Fare</th><th>Cabin</th><th>Embarked</th></tr><tr><td>i64</td><td>i64</td><td>i64</td><td>str</td><td>str</td><td>f64</td><td>i64</td><td>i64</td><td>str</td><td>f64</td><td>str</td><td>str</td></tr></thead><tbody><tr><td>1</td><td>0</td><td>3</td><td>&quot;Braund, Mr. Owen Harris&quot;</td><td>&quot;male&quot;</td><td>22.0</td><td>1</td><td>0</td><td>&quot;A/5 21171&quot;</td><td>7.25</td><td>null</td><td>&quot;S&quot;</td></tr><tr><td>5</td><td>0</td><td>3</td><td>&quot;Allen, Mr. William Henry&quot;</td><td>&quot;male&quot;</td><td>35.0</td><td>0</td><td>0</td><td>&quot;373450&quot;</td><td>8.05</td><td>null</td><td>&quot;S&quot;</td></tr></tbody></table></div>"
      ],
      "text/plain": [
       "shape: (2, 12)\n",
       "┌─────────────┬──────────┬────────┬──────────────────────┬───┬───────────┬──────┬───────┬──────────┐\n",
       "│ PassengerId ┆ Survived ┆ Pclass ┆ Name                 ┆ … ┆ Ticket    ┆ Fare ┆ Cabin ┆ Embarked │\n",
       "│ ---         ┆ ---      ┆ ---    ┆ ---                  ┆   ┆ ---       ┆ ---  ┆ ---   ┆ ---      │\n",
       "│ i64         ┆ i64      ┆ i64    ┆ str                  ┆   ┆ str       ┆ f64  ┆ str   ┆ str      │\n",
       "╞═════════════╪══════════╪════════╪══════════════════════╪═══╪═══════════╪══════╪═══════╪══════════╡\n",
       "│ 1           ┆ 0        ┆ 3      ┆ Braund, Mr. Owen     ┆ … ┆ A/5 21171 ┆ 7.25 ┆ null  ┆ S        │\n",
       "│             ┆          ┆        ┆ Harris               ┆   ┆           ┆      ┆       ┆          │\n",
       "│ 5           ┆ 0        ┆ 3      ┆ Allen, Mr. William   ┆ … ┆ 373450    ┆ 8.05 ┆ null  ┆ S        │\n",
       "│             ┆          ┆        ┆ Henry                ┆   ┆           ┆      ┆       ┆          │\n",
       "└─────────────┴──────────┴────────┴──────────────────────┴───┴───────────┴──────┴───────┴──────────┘"
      ]
     },
     "execution_count": 10,
     "metadata": {},
     "output_type": "execute_result"
    }
   ],
   "source": [
    "(\n",
    "    df\n",
    "    .filter(\n",
    "        pl.col('Sex').str.contains(\"^m.*$\")\n",
    "    )\n",
    "    .head(2)\n",
    ")"
   ]
  },
  {
   "cell_type": "markdown",
   "id": "4a52a7d2-8e7d-41ab-9b76-2b8c9e21025f",
   "metadata": {},
   "source": [
    "This is a shorthand for `pl.all().exclude(...)`\n",
    "\n",
    "### Selecting columns with a regex\n",
    "We can select columns with a regex - if the regex starts with `^` and ends with `$`. Note that we meet an easier approach to doing this with selectors below.\n",
    "\n",
    "The following regex looks for columns starting with `P` and uses the regex *wildcard* `.*` to show `P` can be followed by any characters."
   ]
  },
  {
   "cell_type": "code",
   "execution_count": 6,
   "id": "c2d2d27b-23bf-4928-a314-2e83259bfbc0",
   "metadata": {
    "tags": []
   },
   "outputs": [
    {
     "data": {
      "text/html": [
       "<div><style>\n",
       ".dataframe > thead > tr,\n",
       ".dataframe > tbody > tr {\n",
       "  text-align: right;\n",
       "  white-space: pre-wrap;\n",
       "}\n",
       "</style>\n",
       "<small>shape: (3, 3)</small><table border=\"1\" class=\"dataframe\"><thead><tr><th>PassengerId</th><th>Pclass</th><th>Parch</th></tr><tr><td>i64</td><td>i64</td><td>i64</td></tr></thead><tbody><tr><td>1</td><td>3</td><td>0</td></tr><tr><td>2</td><td>1</td><td>0</td></tr><tr><td>3</td><td>3</td><td>0</td></tr></tbody></table></div>"
      ],
      "text/plain": [
       "shape: (3, 3)\n",
       "┌─────────────┬────────┬───────┐\n",
       "│ PassengerId ┆ Pclass ┆ Parch │\n",
       "│ ---         ┆ ---    ┆ ---   │\n",
       "│ i64         ┆ i64    ┆ i64   │\n",
       "╞═════════════╪════════╪═══════╡\n",
       "│ 1           ┆ 3      ┆ 0     │\n",
       "│ 2           ┆ 1      ┆ 0     │\n",
       "│ 3           ┆ 3      ┆ 0     │\n",
       "└─────────────┴────────┴───────┘"
      ]
     },
     "execution_count": 6,
     "metadata": {},
     "output_type": "execute_result"
    }
   ],
   "source": [
    "(\n",
    "    df\n",
    "    .select(\n",
    "        \"^P.*$\"\n",
    "    )\n",
    "    .head(3)\n",
    ")"
   ]
  },
  {
   "cell_type": "markdown",
   "id": "e4056cad-51f9-4cd0-95f8-efee8b47bc74",
   "metadata": {},
   "source": [
    "We can pass this regex to `pl.col` to apply transformations to these columns. In this example we take the `max` of each column"
   ]
  },
  {
   "cell_type": "code",
   "execution_count": 11,
   "id": "84be5946-c666-4706-9266-71c9e30d4f98",
   "metadata": {
    "tags": []
   },
   "outputs": [
    {
     "data": {
      "text/html": [
       "<div><style>\n",
       ".dataframe > thead > tr,\n",
       ".dataframe > tbody > tr {\n",
       "  text-align: right;\n",
       "  white-space: pre-wrap;\n",
       "}\n",
       "</style>\n",
       "<small>shape: (1, 3)</small><table border=\"1\" class=\"dataframe\"><thead><tr><th>PassengerId</th><th>Pclass</th><th>Parch</th></tr><tr><td>i64</td><td>i64</td><td>i64</td></tr></thead><tbody><tr><td>891</td><td>3</td><td>6</td></tr></tbody></table></div>"
      ],
      "text/plain": [
       "shape: (1, 3)\n",
       "┌─────────────┬────────┬───────┐\n",
       "│ PassengerId ┆ Pclass ┆ Parch │\n",
       "│ ---         ┆ ---    ┆ ---   │\n",
       "│ i64         ┆ i64    ┆ i64   │\n",
       "╞═════════════╪════════╪═══════╡\n",
       "│ 891         ┆ 3      ┆ 6     │\n",
       "└─────────────┴────────┴───────┘"
      ]
     },
     "execution_count": 11,
     "metadata": {},
     "output_type": "execute_result"
    }
   ],
   "source": [
    "(\n",
    "    df\n",
    "    .select(\n",
    "        pl.col(\"^P.*$\").max()\n",
    "    )\n",
    "    .head(3)\n",
    ")"
   ]
  },
  {
   "cell_type": "markdown",
   "id": "8674c88f-6bab-4e28-8c27-e020a10fb069",
   "metadata": {},
   "source": [
    "### Selecting columns based on dtype\n",
    "We can select all of the columns that have a particular dtype by passing the dtype to `pl.col`. I use this approach **a lot** in my Polars pipelines.\n",
    "\n",
    "Here we select all the string columns with `pl.Utf8` - the string dtype object"
   ]
  },
  {
   "cell_type": "code",
   "execution_count": 12,
   "id": "02ddb49c-8d13-491c-b012-4ea15a1c3049",
   "metadata": {
    "tags": []
   },
   "outputs": [
    {
     "data": {
      "text/html": [
       "<div><style>\n",
       ".dataframe > thead > tr,\n",
       ".dataframe > tbody > tr {\n",
       "  text-align: right;\n",
       "  white-space: pre-wrap;\n",
       "}\n",
       "</style>\n",
       "<small>shape: (3, 5)</small><table border=\"1\" class=\"dataframe\"><thead><tr><th>Name</th><th>Sex</th><th>Ticket</th><th>Cabin</th><th>Embarked</th></tr><tr><td>str</td><td>str</td><td>str</td><td>str</td><td>str</td></tr></thead><tbody><tr><td>&quot;Braund, Mr. Owen Harris&quot;</td><td>&quot;male&quot;</td><td>&quot;A/5 21171&quot;</td><td>null</td><td>&quot;S&quot;</td></tr><tr><td>&quot;Cumings, Mrs. John Bradley (Fl…</td><td>&quot;female&quot;</td><td>&quot;PC 17599&quot;</td><td>&quot;C85&quot;</td><td>&quot;C&quot;</td></tr><tr><td>&quot;Heikkinen, Miss. Laina&quot;</td><td>&quot;female&quot;</td><td>&quot;STON/O2. 3101282&quot;</td><td>null</td><td>&quot;S&quot;</td></tr></tbody></table></div>"
      ],
      "text/plain": [
       "shape: (3, 5)\n",
       "┌─────────────────────────────────┬────────┬──────────────────┬───────┬──────────┐\n",
       "│ Name                            ┆ Sex    ┆ Ticket           ┆ Cabin ┆ Embarked │\n",
       "│ ---                             ┆ ---    ┆ ---              ┆ ---   ┆ ---      │\n",
       "│ str                             ┆ str    ┆ str              ┆ str   ┆ str      │\n",
       "╞═════════════════════════════════╪════════╪══════════════════╪═══════╪══════════╡\n",
       "│ Braund, Mr. Owen Harris         ┆ male   ┆ A/5 21171        ┆ null  ┆ S        │\n",
       "│ Cumings, Mrs. John Bradley (Fl… ┆ female ┆ PC 17599         ┆ C85   ┆ C        │\n",
       "│ Heikkinen, Miss. Laina          ┆ female ┆ STON/O2. 3101282 ┆ null  ┆ S        │\n",
       "└─────────────────────────────────┴────────┴──────────────────┴───────┴──────────┘"
      ]
     },
     "execution_count": 12,
     "metadata": {},
     "output_type": "execute_result"
    }
   ],
   "source": [
    "(\n",
    "    df\n",
    "    .select(\n",
    "        pl.col(pl.Utf8)\n",
    "    )\n",
    "    .head(3)\n",
    ")"
   ]
  },
  {
   "cell_type": "markdown",
   "id": "3af224b8-61be-4323-8616-92f3e6fcc4d3",
   "metadata": {},
   "source": [
    "We can also pass a list of dtypes to `pl.col`. In this case we select both 64-bit integer and float columns"
   ]
  },
  {
   "cell_type": "code",
   "execution_count": 13,
   "id": "cbb0e7d2-bf0f-4e82-954a-a42b92cfcf3e",
   "metadata": {},
   "outputs": [
    {
     "data": {
      "text/html": [
       "<div><style>\n",
       ".dataframe > thead > tr,\n",
       ".dataframe > tbody > tr {\n",
       "  text-align: right;\n",
       "  white-space: pre-wrap;\n",
       "}\n",
       "</style>\n",
       "<small>shape: (3, 7)</small><table border=\"1\" class=\"dataframe\"><thead><tr><th>PassengerId</th><th>Survived</th><th>Pclass</th><th>Age</th><th>SibSp</th><th>Parch</th><th>Fare</th></tr><tr><td>i64</td><td>i64</td><td>i64</td><td>f64</td><td>i64</td><td>i64</td><td>f64</td></tr></thead><tbody><tr><td>1</td><td>0</td><td>3</td><td>22.0</td><td>1</td><td>0</td><td>7.25</td></tr><tr><td>2</td><td>1</td><td>1</td><td>38.0</td><td>1</td><td>0</td><td>71.2833</td></tr><tr><td>3</td><td>1</td><td>3</td><td>26.0</td><td>0</td><td>0</td><td>7.925</td></tr></tbody></table></div>"
      ],
      "text/plain": [
       "shape: (3, 7)\n",
       "┌─────────────┬──────────┬────────┬──────┬───────┬───────┬─────────┐\n",
       "│ PassengerId ┆ Survived ┆ Pclass ┆ Age  ┆ SibSp ┆ Parch ┆ Fare    │\n",
       "│ ---         ┆ ---      ┆ ---    ┆ ---  ┆ ---   ┆ ---   ┆ ---     │\n",
       "│ i64         ┆ i64      ┆ i64    ┆ f64  ┆ i64   ┆ i64   ┆ f64     │\n",
       "╞═════════════╪══════════╪════════╪══════╪═══════╪═══════╪═════════╡\n",
       "│ 1           ┆ 0        ┆ 3      ┆ 22.0 ┆ 1     ┆ 0     ┆ 7.25    │\n",
       "│ 2           ┆ 1        ┆ 1      ┆ 38.0 ┆ 1     ┆ 0     ┆ 71.2833 │\n",
       "│ 3           ┆ 1        ┆ 3      ┆ 26.0 ┆ 0     ┆ 0     ┆ 7.925   │\n",
       "└─────────────┴──────────┴────────┴──────┴───────┴───────┴─────────┘"
      ]
     },
     "execution_count": 13,
     "metadata": {},
     "output_type": "execute_result"
    }
   ],
   "source": [
    "(\n",
    "    df\n",
    "    .select(\n",
    "        pl.col([pl.Int64,pl.Float64])\n",
    "    )\n",
    "    .head(3)\n",
    ")"
   ]
  },
  {
   "cell_type": "markdown",
   "id": "419de1dc-19cb-43fc-a141-8eff3cafabff",
   "metadata": {},
   "source": [
    "## Using the selectors API\n",
    "The selectors API aims to make selecting multiple columns less verbose. \n",
    "\n",
    "For simple cases it replicates using the expression API. For example to select all columns we use `cs.all`"
   ]
  },
  {
   "cell_type": "markdown",
   "id": "d60c2f74",
   "metadata": {},
   "source": [
    "<hr>\n"
   ]
  },
  {
   "cell_type": "markdown",
   "id": "b4a52dcd",
   "metadata": {},
   "source": [
    "### Selectors API with polars docs"
   ]
  },
  {
   "cell_type": "markdown",
   "id": "8b56790f",
   "metadata": {},
   "source": [
    "* 컬럼 selecting을 좀 더 직관적으로 쉽고 빠르게 할 수 있는 API"
   ]
  },
  {
   "cell_type": "markdown",
   "id": "8fa37eae",
   "metadata": {},
   "source": [
    "####  `cs.all()`"
   ]
  },
  {
   "cell_type": "code",
   "execution_count": 4,
   "id": "58525d6d",
   "metadata": {},
   "outputs": [
    {
     "data": {
      "text/html": [
       "<div><style>\n",
       ".dataframe > thead > tr,\n",
       ".dataframe > tbody > tr {\n",
       "  text-align: right;\n",
       "  white-space: pre-wrap;\n",
       "}\n",
       "</style>\n",
       "<small>shape: (2, 2)</small><table border=\"1\" class=\"dataframe\"><thead><tr><th>dt</th><th>value</th></tr><tr><td>str</td><td>str</td></tr></thead><tbody><tr><td>&quot;1999-12-31&quot;</td><td>&quot;1234500&quot;</td></tr><tr><td>&quot;2024-01-01&quot;</td><td>&quot;5000555&quot;</td></tr></tbody></table></div>"
      ],
      "text/plain": [
       "shape: (2, 2)\n",
       "┌────────────┬─────────┐\n",
       "│ dt         ┆ value   │\n",
       "│ ---        ┆ ---     │\n",
       "│ str        ┆ str     │\n",
       "╞════════════╪═════════╡\n",
       "│ 1999-12-31 ┆ 1234500 │\n",
       "│ 2024-01-01 ┆ 5000555 │\n",
       "└────────────┴─────────┘"
      ]
     },
     "execution_count": 4,
     "metadata": {},
     "output_type": "execute_result"
    }
   ],
   "source": [
    "import polars.selectors as cs\n",
    "import polars as pl\n",
    "from datetime import date\n",
    "# cs.all() - > select all column\n",
    "tmp = pl.DataFrame(\n",
    "    {\n",
    "        \"dt\": [date(1999, 12, 31), date(2024, 1, 1)],\n",
    "        \"value\": [1_234_500, 5_000_555],\n",
    "    },\n",
    "    schema_overrides={\"value\": pl.Int32},\n",
    ")\n",
    "\n",
    "(\n",
    "    tmp\n",
    "    .select(\n",
    "        cs.all().cast(pl.String) # .cast -> 특정 열의 데이터 타입을 변형\n",
    "    )\n",
    ")"
   ]
  },
  {
   "cell_type": "code",
   "execution_count": 5,
   "id": "cde22c92",
   "metadata": {},
   "outputs": [
    {
     "data": {
      "text/html": [
       "<div><style>\n",
       ".dataframe > thead > tr,\n",
       ".dataframe > tbody > tr {\n",
       "  text-align: right;\n",
       "  white-space: pre-wrap;\n",
       "}\n",
       "</style>\n",
       "<small>shape: (2, 1)</small><table border=\"1\" class=\"dataframe\"><thead><tr><th>dt</th></tr><tr><td>date</td></tr></thead><tbody><tr><td>1999-12-31</td></tr><tr><td>2024-01-01</td></tr></tbody></table></div>"
      ],
      "text/plain": [
       "shape: (2, 1)\n",
       "┌────────────┐\n",
       "│ dt         │\n",
       "│ ---        │\n",
       "│ date       │\n",
       "╞════════════╡\n",
       "│ 1999-12-31 │\n",
       "│ 2024-01-01 │\n",
       "└────────────┘"
      ]
     },
     "execution_count": 5,
     "metadata": {},
     "output_type": "execute_result"
    }
   ],
   "source": [
    "(\n",
    "    tmp\n",
    "    .select(\n",
    "        cs.all() - cs.numeric() # - cs.데이터타입 -> exclude\n",
    "    )\n",
    ")"
   ]
  },
  {
   "cell_type": "markdown",
   "id": "d2188e25",
   "metadata": {},
   "source": [
    "#### `cs.by_dtype`"
   ]
  },
  {
   "cell_type": "code",
   "execution_count": 7,
   "id": "67ab7a71",
   "metadata": {},
   "outputs": [
    {
     "name": "stdout",
     "output_type": "stream",
     "text": [
      "shape: (3, 3)\n",
      "┌────────────┬──────────┬───────┐\n",
      "│ dt         ┆ value    ┆ other │\n",
      "│ ---        ┆ ---      ┆ ---   │\n",
      "│ date       ┆ i64      ┆ str   │\n",
      "╞════════════╪══════════╪═══════╡\n",
      "│ 1999-12-31 ┆ 1234500  ┆ foo   │\n",
      "│ 2024-01-01 ┆ 5000555  ┆ bar   │\n",
      "│ 2010-07-05 ┆ -4500000 ┆ foo   │\n",
      "└────────────┴──────────┴───────┘\n"
     ]
    },
    {
     "data": {
      "text/html": [
       "<div><style>\n",
       ".dataframe > thead > tr,\n",
       ".dataframe > tbody > tr {\n",
       "  text-align: right;\n",
       "  white-space: pre-wrap;\n",
       "}\n",
       "</style>\n",
       "<small>shape: (3, 2)</small><table border=\"1\" class=\"dataframe\"><thead><tr><th>dt</th><th>other</th></tr><tr><td>date</td><td>str</td></tr></thead><tbody><tr><td>1999-12-31</td><td>&quot;foo&quot;</td></tr><tr><td>2024-01-01</td><td>&quot;bar&quot;</td></tr><tr><td>2010-07-05</td><td>&quot;foo&quot;</td></tr></tbody></table></div>"
      ],
      "text/plain": [
       "shape: (3, 2)\n",
       "┌────────────┬───────┐\n",
       "│ dt         ┆ other │\n",
       "│ ---        ┆ ---   │\n",
       "│ date       ┆ str   │\n",
       "╞════════════╪═══════╡\n",
       "│ 1999-12-31 ┆ foo   │\n",
       "│ 2024-01-01 ┆ bar   │\n",
       "│ 2010-07-05 ┆ foo   │\n",
       "└────────────┴───────┘"
      ]
     },
     "execution_count": 7,
     "metadata": {},
     "output_type": "execute_result"
    }
   ],
   "source": [
    "# cs.by_dtype()\n",
    "tmp = pl.DataFrame(\n",
    "    {\n",
    "        \"dt\": [date(1999, 12, 31), date(2024, 1, 1), date(2010, 7, 5)],\n",
    "        \"value\": [1_234_500, 5_000_555, -4_500_000],\n",
    "        \"other\": [\"foo\", \"bar\", \"foo\"],\n",
    "    }\n",
    ")\n",
    "print(tmp)\n",
    "\n",
    "(\n",
    "    tmp\n",
    "    .select(\n",
    "        cs.by_dtype([pl.Date, pl.String])\n",
    "    )\n",
    ")"
   ]
  },
  {
   "cell_type": "code",
   "execution_count": 8,
   "id": "4b2155df",
   "metadata": {},
   "outputs": [
    {
     "data": {
      "text/html": [
       "<div><style>\n",
       ".dataframe > thead > tr,\n",
       ".dataframe > tbody > tr {\n",
       "  text-align: right;\n",
       "  white-space: pre-wrap;\n",
       "}\n",
       "</style>\n",
       "<small>shape: (3, 1)</small><table border=\"1\" class=\"dataframe\"><thead><tr><th>value</th></tr><tr><td>i64</td></tr></thead><tbody><tr><td>1234500</td></tr><tr><td>5000555</td></tr><tr><td>-4500000</td></tr></tbody></table></div>"
      ],
      "text/plain": [
       "shape: (3, 1)\n",
       "┌──────────┐\n",
       "│ value    │\n",
       "│ ---      │\n",
       "│ i64      │\n",
       "╞══════════╡\n",
       "│ 1234500  │\n",
       "│ 5000555  │\n",
       "│ -4500000 │\n",
       "└──────────┘"
      ]
     },
     "execution_count": 8,
     "metadata": {},
     "output_type": "execute_result"
    }
   ],
   "source": [
    "(\n",
    "    tmp\n",
    "    .select(\n",
    "        ~cs.by_dtype([pl.Date, pl.String])\n",
    "    )\n",
    ")"
   ]
  },
  {
   "cell_type": "code",
   "execution_count": 9,
   "id": "19fc3c9e",
   "metadata": {},
   "outputs": [
    {
     "data": {
      "text/html": [
       "<div><style>\n",
       ".dataframe > thead > tr,\n",
       ".dataframe > tbody > tr {\n",
       "  text-align: right;\n",
       "  white-space: pre-wrap;\n",
       "}\n",
       "</style>\n",
       "<small>shape: (2, 2)</small><table border=\"1\" class=\"dataframe\"><thead><tr><th>other</th><th>value</th></tr><tr><td>str</td><td>i64</td></tr></thead><tbody><tr><td>&quot;bar&quot;</td><td>5000555</td></tr><tr><td>&quot;foo&quot;</td><td>-3265500</td></tr></tbody></table></div>"
      ],
      "text/plain": [
       "shape: (2, 2)\n",
       "┌───────┬──────────┐\n",
       "│ other ┆ value    │\n",
       "│ ---   ┆ ---      │\n",
       "│ str   ┆ i64      │\n",
       "╞═══════╪══════════╡\n",
       "│ bar   ┆ 5000555  │\n",
       "│ foo   ┆ -3265500 │\n",
       "└───────┴──────────┘"
      ]
     },
     "execution_count": 9,
     "metadata": {},
     "output_type": "execute_result"
    }
   ],
   "source": [
    "(\n",
    "    tmp\n",
    "    .group_by(\n",
    "        cs.string()\n",
    "    )\n",
    "    .agg(\n",
    "        cs.numeric().sum()\n",
    "    )\n",
    "    .sort(by = \"other\")\n",
    ")"
   ]
  },
  {
   "cell_type": "markdown",
   "id": "d83ecb88",
   "metadata": {},
   "source": [
    "#### `cs.by_name()`"
   ]
  },
  {
   "cell_type": "code",
   "execution_count": 11,
   "id": "ef8ab510",
   "metadata": {},
   "outputs": [
    {
     "data": {
      "text/html": [
       "<div><style>\n",
       ".dataframe > thead > tr,\n",
       ".dataframe > tbody > tr {\n",
       "  text-align: right;\n",
       "  white-space: pre-wrap;\n",
       "}\n",
       "</style>\n",
       "<small>shape: (3, 2)</small><table border=\"1\" class=\"dataframe\"><thead><tr><th>value</th><th>other</th></tr><tr><td>i64</td><td>str</td></tr></thead><tbody><tr><td>1234500</td><td>&quot;foo&quot;</td></tr><tr><td>5000555</td><td>&quot;bar&quot;</td></tr><tr><td>-4500000</td><td>&quot;foo&quot;</td></tr></tbody></table></div>"
      ],
      "text/plain": [
       "shape: (3, 2)\n",
       "┌──────────┬───────┐\n",
       "│ value    ┆ other │\n",
       "│ ---      ┆ ---   │\n",
       "│ i64      ┆ str   │\n",
       "╞══════════╪═══════╡\n",
       "│ 1234500  ┆ foo   │\n",
       "│ 5000555  ┆ bar   │\n",
       "│ -4500000 ┆ foo   │\n",
       "└──────────┴───────┘"
      ]
     },
     "execution_count": 11,
     "metadata": {},
     "output_type": "execute_result"
    }
   ],
   "source": [
    "# cs.by_name() -> 근데 이건 그냥 cs 안써도 가능함 쉽게\n",
    "(\n",
    "    tmp\n",
    "    .select(\n",
    "        pl.col('value', 'other')\n",
    "    )\n",
    ")"
   ]
  },
  {
   "cell_type": "code",
   "execution_count": 12,
   "id": "30c31968",
   "metadata": {},
   "outputs": [
    {
     "data": {
      "text/html": [
       "<div><style>\n",
       ".dataframe > thead > tr,\n",
       ".dataframe > tbody > tr {\n",
       "  text-align: right;\n",
       "  white-space: pre-wrap;\n",
       "}\n",
       "</style>\n",
       "<small>shape: (3, 2)</small><table border=\"1\" class=\"dataframe\"><thead><tr><th>value</th><th>other</th></tr><tr><td>i64</td><td>str</td></tr></thead><tbody><tr><td>1234500</td><td>&quot;foo&quot;</td></tr><tr><td>5000555</td><td>&quot;bar&quot;</td></tr><tr><td>-4500000</td><td>&quot;foo&quot;</td></tr></tbody></table></div>"
      ],
      "text/plain": [
       "shape: (3, 2)\n",
       "┌──────────┬───────┐\n",
       "│ value    ┆ other │\n",
       "│ ---      ┆ ---   │\n",
       "│ i64      ┆ str   │\n",
       "╞══════════╪═══════╡\n",
       "│ 1234500  ┆ foo   │\n",
       "│ 5000555  ┆ bar   │\n",
       "│ -4500000 ┆ foo   │\n",
       "└──────────┴───────┘"
      ]
     },
     "execution_count": 12,
     "metadata": {},
     "output_type": "execute_result"
    }
   ],
   "source": [
    "(\n",
    "    tmp\n",
    "    .select(\n",
    "        cs.by_name('value', 'other')\n",
    "    )\n",
    ")"
   ]
  },
  {
   "cell_type": "markdown",
   "id": "8873cf9e",
   "metadata": {},
   "source": [
    "#### `cs.contains()`"
   ]
  },
  {
   "cell_type": "code",
   "execution_count": 22,
   "id": "b34e58e0",
   "metadata": {},
   "outputs": [
    {
     "name": "stdout",
     "output_type": "stream",
     "text": [
      "shape: (2, 2)\n",
      "┌─────┬─────┐\n",
      "│ bar ┆ baz │\n",
      "│ --- ┆ --- │\n",
      "│ i64 ┆ f64 │\n",
      "╞═════╪═════╡\n",
      "│ 123 ┆ 2.0 │\n",
      "│ 456 ┆ 5.5 │\n",
      "└─────┴─────┘\n",
      "shape: (2, 3)\n",
      "┌─────┬─────┬─────┐\n",
      "│ foo ┆ bar ┆ baz │\n",
      "│ --- ┆ --- ┆ --- │\n",
      "│ str ┆ i64 ┆ f64 │\n",
      "╞═════╪═════╪═════╡\n",
      "│ x   ┆ 123 ┆ 2.0 │\n",
      "│ y   ┆ 456 ┆ 5.5 │\n",
      "└─────┴─────┴─────┘\n",
      "shape: (2, 2)\n",
      "┌─────┬───────┐\n",
      "│ foo ┆ zap   │\n",
      "│ --- ┆ ---   │\n",
      "│ str ┆ bool  │\n",
      "╞═════╪═══════╡\n",
      "│ x   ┆ false │\n",
      "│ y   ┆ true  │\n",
      "└─────┴───────┘\n",
      "shape: (0, 0)\n",
      "┌┐\n",
      "╞╡\n",
      "└┘\n"
     ]
    }
   ],
   "source": [
    "tmp = pl.DataFrame(\n",
    "    {\n",
    "        \"foo\" : [\"x\", \"y\"],\n",
    "        \"bar\" : [123, 456],\n",
    "        \"baz\" : [2.0, 5.5],\n",
    "        \"zap\" : [False, True]\n",
    "    }\n",
    ")\n",
    "\n",
    "print((\n",
    "    tmp\n",
    "    .select(\n",
    "        pl.selectors.contains(\"ba\") # cs.contains(\"ba\")\n",
    "    )\n",
    "))\n",
    "\n",
    "print(\n",
    "    (\n",
    "        tmp\n",
    "        .select(\n",
    "            cs.contains(\"ba\", \"f\")\n",
    "        )\n",
    "    )\n",
    ")\n",
    "\n",
    "print(\n",
    "    (\n",
    "        tmp\n",
    "        .select(\n",
    "            ~cs.contains(\"ba\")\n",
    "        )\n",
    "    )\n",
    ")\n"
   ]
  },
  {
   "cell_type": "markdown",
   "id": "f2d5952d",
   "metadata": {},
   "source": [
    "#### `cs.ends_with()` , `starts_with`"
   ]
  },
  {
   "cell_type": "code",
   "execution_count": 18,
   "id": "63ee4092",
   "metadata": {},
   "outputs": [
    {
     "name": "stdout",
     "output_type": "stream",
     "text": [
      "shape: (2, 1)\n",
      "┌───────┐\n",
      "│ zap   │\n",
      "│ ---   │\n",
      "│ bool  │\n",
      "╞═══════╡\n",
      "│ false │\n",
      "│ true  │\n",
      "└───────┘\n"
     ]
    }
   ],
   "source": [
    "tmp = pl.DataFrame(\n",
    "    {\n",
    "        \"foo\": [\"x\", \"y\"],\n",
    "        \"bar\": [123, 456],\n",
    "        \"baz\": [2.0, 5.5],\n",
    "        \"zap\": [False, True],\n",
    "    }\n",
    ")\n",
    "\n",
    "print(\n",
    "    tmp\n",
    "    .select(\n",
    "        cs.ends_with(\"p\")\n",
    "    )\n",
    ")"
   ]
  },
  {
   "cell_type": "markdown",
   "id": "0d6683cc",
   "metadata": {},
   "source": [
    "#### `cs.exclude`"
   ]
  },
  {
   "cell_type": "code",
   "execution_count": 19,
   "id": "6143fde4",
   "metadata": {},
   "outputs": [
    {
     "name": "stdout",
     "output_type": "stream",
     "text": [
      "shape: (3, 2)\n",
      "┌─────┬──────┐\n",
      "│ aa  ┆ cc   │\n",
      "│ --- ┆ ---  │\n",
      "│ i64 ┆ f64  │\n",
      "╞═════╪══════╡\n",
      "│ 1   ┆ null │\n",
      "│ 2   ┆ 2.5  │\n",
      "│ 3   ┆ 1.5  │\n",
      "└─────┴──────┘\n"
     ]
    }
   ],
   "source": [
    "tmp = pl.DataFrame(\n",
    "    {\n",
    "        \"aa\": [1, 2, 3],\n",
    "        \"ba\": [\"a\", \"b\", None],\n",
    "        \"cc\": [None, 2.5, 1.5],\n",
    "    }\n",
    ")\n",
    "\n",
    "print(\n",
    "    (\n",
    "        tmp\n",
    "        .select(\n",
    "            cs.exclude(\"ba\", cs.string(), pl.UInt32)\n",
    "        )\n",
    "    )\n",
    ")"
   ]
  },
  {
   "cell_type": "markdown",
   "id": "19812acb",
   "metadata": {},
   "source": [
    "<hr>"
   ]
  },
  {
   "cell_type": "code",
   "execution_count": 14,
   "id": "75d84d6b-62af-4f7a-aacb-5a082132f8f0",
   "metadata": {},
   "outputs": [
    {
     "data": {
      "text/html": [
       "<div><style>\n",
       ".dataframe > thead > tr,\n",
       ".dataframe > tbody > tr {\n",
       "  text-align: right;\n",
       "  white-space: pre-wrap;\n",
       "}\n",
       "</style>\n",
       "<small>shape: (3, 12)</small><table border=\"1\" class=\"dataframe\"><thead><tr><th>PassengerId</th><th>Survived</th><th>Pclass</th><th>Name</th><th>Sex</th><th>Age</th><th>SibSp</th><th>Parch</th><th>Ticket</th><th>Fare</th><th>Cabin</th><th>Embarked</th></tr><tr><td>i64</td><td>i64</td><td>i64</td><td>str</td><td>str</td><td>f64</td><td>i64</td><td>i64</td><td>str</td><td>f64</td><td>str</td><td>str</td></tr></thead><tbody><tr><td>1</td><td>0</td><td>3</td><td>&quot;Braund, Mr. Owen Harris&quot;</td><td>&quot;male&quot;</td><td>22.0</td><td>1</td><td>0</td><td>&quot;A/5 21171&quot;</td><td>7.25</td><td>null</td><td>&quot;S&quot;</td></tr><tr><td>2</td><td>1</td><td>1</td><td>&quot;Cumings, Mrs. John Bradley (Fl…</td><td>&quot;female&quot;</td><td>38.0</td><td>1</td><td>0</td><td>&quot;PC 17599&quot;</td><td>71.2833</td><td>&quot;C85&quot;</td><td>&quot;C&quot;</td></tr><tr><td>3</td><td>1</td><td>3</td><td>&quot;Heikkinen, Miss. Laina&quot;</td><td>&quot;female&quot;</td><td>26.0</td><td>0</td><td>0</td><td>&quot;STON/O2. 3101282&quot;</td><td>7.925</td><td>null</td><td>&quot;S&quot;</td></tr></tbody></table></div>"
      ],
      "text/plain": [
       "shape: (3, 12)\n",
       "┌─────────────┬──────────┬────────┬───────────────────┬───┬───────────┬─────────┬───────┬──────────┐\n",
       "│ PassengerId ┆ Survived ┆ Pclass ┆ Name              ┆ … ┆ Ticket    ┆ Fare    ┆ Cabin ┆ Embarked │\n",
       "│ ---         ┆ ---      ┆ ---    ┆ ---               ┆   ┆ ---       ┆ ---     ┆ ---   ┆ ---      │\n",
       "│ i64         ┆ i64      ┆ i64    ┆ str               ┆   ┆ str       ┆ f64     ┆ str   ┆ str      │\n",
       "╞═════════════╪══════════╪════════╪═══════════════════╪═══╪═══════════╪═════════╪═══════╪══════════╡\n",
       "│ 1           ┆ 0        ┆ 3      ┆ Braund, Mr. Owen  ┆ … ┆ A/5 21171 ┆ 7.25    ┆ null  ┆ S        │\n",
       "│             ┆          ┆        ┆ Harris            ┆   ┆           ┆         ┆       ┆          │\n",
       "│ 2           ┆ 1        ┆ 1      ┆ Cumings, Mrs.     ┆ … ┆ PC 17599  ┆ 71.2833 ┆ C85   ┆ C        │\n",
       "│             ┆          ┆        ┆ John Bradley (Fl… ┆   ┆           ┆         ┆       ┆          │\n",
       "│ 3           ┆ 1        ┆ 3      ┆ Heikkinen, Miss.  ┆ … ┆ STON/O2.  ┆ 7.925   ┆ null  ┆ S        │\n",
       "│             ┆          ┆        ┆ Laina             ┆   ┆ 3101282   ┆         ┆       ┆          │\n",
       "└─────────────┴──────────┴────────┴───────────────────┴───┴───────────┴─────────┴───────┴──────────┘"
      ]
     },
     "execution_count": 14,
     "metadata": {},
     "output_type": "execute_result"
    }
   ],
   "source": [
    "(\n",
    "    df\n",
    "    .select(\n",
    "        cs.all()\n",
    "    )\n",
    "    .head(3)\n",
    ")"
   ]
  },
  {
   "cell_type": "code",
   "execution_count": 55,
   "id": "b2ba2bde",
   "metadata": {},
   "outputs": [
    {
     "data": {
      "text/html": [
       "<div><style>\n",
       ".dataframe > thead > tr,\n",
       ".dataframe > tbody > tr {\n",
       "  text-align: right;\n",
       "  white-space: pre-wrap;\n",
       "}\n",
       "</style>\n",
       "<small>shape: (72, 1)</small><table border=\"1\" class=\"dataframe\"><thead><tr><th>Name</th></tr><tr><td>str</td></tr></thead><tbody><tr><td>&quot;Braund, Mr. Owen Harris&quot;</td></tr><tr><td>&quot;Bonnell, Miss. Elizabeth&quot;</td></tr><tr><td>&quot;Beesley, Mr. Lawrence&quot;</td></tr><tr><td>&quot;Bing, Mr. Lee&quot;</td></tr><tr><td>&quot;Backstrom, Mrs. Karl Alfred (M…</td></tr><tr><td>&hellip;</td></tr><tr><td>&quot;Bystrom, Mrs. (Karolina)&quot;</td></tr><tr><td>&quot;Balkic, Mr. Cerin&quot;</td></tr><tr><td>&quot;Beckwith, Mrs. Richard Leonard…</td></tr><tr><td>&quot;Banfield, Mr. Frederick James&quot;</td></tr><tr><td>&quot;Behr, Mr. Karl Howell&quot;</td></tr></tbody></table></div>"
      ],
      "text/plain": [
       "shape: (72, 1)\n",
       "┌─────────────────────────────────┐\n",
       "│ Name                            │\n",
       "│ ---                             │\n",
       "│ str                             │\n",
       "╞═════════════════════════════════╡\n",
       "│ Braund, Mr. Owen Harris         │\n",
       "│ Bonnell, Miss. Elizabeth        │\n",
       "│ Beesley, Mr. Lawrence           │\n",
       "│ Bing, Mr. Lee                   │\n",
       "│ Backstrom, Mrs. Karl Alfred (M… │\n",
       "│ …                               │\n",
       "│ Bystrom, Mrs. (Karolina)        │\n",
       "│ Balkic, Mr. Cerin               │\n",
       "│ Beckwith, Mrs. Richard Leonard… │\n",
       "│ Banfield, Mr. Frederick James   │\n",
       "│ Behr, Mr. Karl Howell           │\n",
       "└─────────────────────────────────┘"
      ]
     },
     "execution_count": 55,
     "metadata": {},
     "output_type": "execute_result"
    }
   ],
   "source": [
    "(\n",
    "    df\n",
    "    .select(\n",
    "        pl.selectors.contains(\"N\")\n",
    "    )\n",
    "    .filter(\n",
    "        pl.col(\"*\").str.contains(\"^B\")\n",
    "    )\n",
    ")"
   ]
  },
  {
   "cell_type": "markdown",
   "id": "cf43e16a-8491-4df0-ae6e-09c87dda2699",
   "metadata": {},
   "source": [
    "In most Polars examples you see online the selectors sub-module is imported separately as `cs` (and I follow this practice below). However, in my own pipelines I find it easier to skip that extra import and use selectors with the main `pl` import"
   ]
  },
  {
   "cell_type": "code",
   "execution_count": 56,
   "id": "dc76164c-0430-46f9-89a1-92370049fc7f",
   "metadata": {},
   "outputs": [
    {
     "data": {
      "text/html": [
       "<div><style>\n",
       ".dataframe > thead > tr,\n",
       ".dataframe > tbody > tr {\n",
       "  text-align: right;\n",
       "  white-space: pre-wrap;\n",
       "}\n",
       "</style>\n",
       "<small>shape: (3, 12)</small><table border=\"1\" class=\"dataframe\"><thead><tr><th>PassengerId</th><th>Survived</th><th>Pclass</th><th>Name</th><th>Sex</th><th>Age</th><th>SibSp</th><th>Parch</th><th>Ticket</th><th>Fare</th><th>Cabin</th><th>Embarked</th></tr><tr><td>i64</td><td>i64</td><td>i64</td><td>str</td><td>str</td><td>f64</td><td>i64</td><td>i64</td><td>str</td><td>f64</td><td>str</td><td>str</td></tr></thead><tbody><tr><td>1</td><td>0</td><td>3</td><td>&quot;Braund, Mr. Owen Harris&quot;</td><td>&quot;male&quot;</td><td>22.0</td><td>1</td><td>0</td><td>&quot;A/5 21171&quot;</td><td>7.25</td><td>null</td><td>&quot;S&quot;</td></tr><tr><td>2</td><td>1</td><td>1</td><td>&quot;Cumings, Mrs. John Bradley (Fl…</td><td>&quot;female&quot;</td><td>38.0</td><td>1</td><td>0</td><td>&quot;PC 17599&quot;</td><td>71.2833</td><td>&quot;C85&quot;</td><td>&quot;C&quot;</td></tr><tr><td>3</td><td>1</td><td>3</td><td>&quot;Heikkinen, Miss. Laina&quot;</td><td>&quot;female&quot;</td><td>26.0</td><td>0</td><td>0</td><td>&quot;STON/O2. 3101282&quot;</td><td>7.925</td><td>null</td><td>&quot;S&quot;</td></tr></tbody></table></div>"
      ],
      "text/plain": [
       "shape: (3, 12)\n",
       "┌─────────────┬──────────┬────────┬───────────────────┬───┬───────────┬─────────┬───────┬──────────┐\n",
       "│ PassengerId ┆ Survived ┆ Pclass ┆ Name              ┆ … ┆ Ticket    ┆ Fare    ┆ Cabin ┆ Embarked │\n",
       "│ ---         ┆ ---      ┆ ---    ┆ ---               ┆   ┆ ---       ┆ ---     ┆ ---   ┆ ---      │\n",
       "│ i64         ┆ i64      ┆ i64    ┆ str               ┆   ┆ str       ┆ f64     ┆ str   ┆ str      │\n",
       "╞═════════════╪══════════╪════════╪═══════════════════╪═══╪═══════════╪═════════╪═══════╪══════════╡\n",
       "│ 1           ┆ 0        ┆ 3      ┆ Braund, Mr. Owen  ┆ … ┆ A/5 21171 ┆ 7.25    ┆ null  ┆ S        │\n",
       "│             ┆          ┆        ┆ Harris            ┆   ┆           ┆         ┆       ┆          │\n",
       "│ 2           ┆ 1        ┆ 1      ┆ Cumings, Mrs.     ┆ … ┆ PC 17599  ┆ 71.2833 ┆ C85   ┆ C        │\n",
       "│             ┆          ┆        ┆ John Bradley (Fl… ┆   ┆           ┆         ┆       ┆          │\n",
       "│ 3           ┆ 1        ┆ 3      ┆ Heikkinen, Miss.  ┆ … ┆ STON/O2.  ┆ 7.925   ┆ null  ┆ S        │\n",
       "│             ┆          ┆        ┆ Laina             ┆   ┆ 3101282   ┆         ┆       ┆          │\n",
       "└─────────────┴──────────┴────────┴───────────────────┴───┴───────────┴─────────┴───────┴──────────┘"
      ]
     },
     "execution_count": 56,
     "metadata": {},
     "output_type": "execute_result"
    }
   ],
   "source": [
    "(\n",
    "    df\n",
    "    .select(\n",
    "        pl.selectors.all()\n",
    "    )\n",
    "    .head(3)\n",
    ")"
   ]
  },
  {
   "cell_type": "markdown",
   "id": "04936f79-c541-46f8-a976-96accc78a123",
   "metadata": {},
   "source": [
    "We can also do selection by position with `first` or `last`"
   ]
  },
  {
   "cell_type": "code",
   "execution_count": 16,
   "id": "52e37583-ee78-4200-98c9-2a2ac7bd38de",
   "metadata": {},
   "outputs": [
    {
     "data": {
      "text/html": [
       "<div><style>\n",
       ".dataframe > thead > tr,\n",
       ".dataframe > tbody > tr {\n",
       "  text-align: right;\n",
       "  white-space: pre-wrap;\n",
       "}\n",
       "</style>\n",
       "<small>shape: (3, 1)</small><table border=\"1\" class=\"dataframe\"><thead><tr><th>PassengerId</th></tr><tr><td>i64</td></tr></thead><tbody><tr><td>1</td></tr><tr><td>2</td></tr><tr><td>3</td></tr></tbody></table></div>"
      ],
      "text/plain": [
       "shape: (3, 1)\n",
       "┌─────────────┐\n",
       "│ PassengerId │\n",
       "│ ---         │\n",
       "│ i64         │\n",
       "╞═════════════╡\n",
       "│ 1           │\n",
       "│ 2           │\n",
       "│ 3           │\n",
       "└─────────────┘"
      ]
     },
     "execution_count": 16,
     "metadata": {},
     "output_type": "execute_result"
    }
   ],
   "source": [
    "(\n",
    "    df\n",
    "    .select(\n",
    "        cs.first()\n",
    "    )\n",
    "    .head(3)\n",
    ")"
   ]
  },
  {
   "cell_type": "code",
   "execution_count": 23,
   "id": "687e59c5",
   "metadata": {},
   "outputs": [
    {
     "data": {
      "text/html": [
       "<div><style>\n",
       ".dataframe > thead > tr,\n",
       ".dataframe > tbody > tr {\n",
       "  text-align: right;\n",
       "  white-space: pre-wrap;\n",
       "}\n",
       "</style>\n",
       "<small>shape: (5, 1)</small><table border=\"1\" class=\"dataframe\"><thead><tr><th>PassengerId</th></tr><tr><td>i64</td></tr></thead><tbody><tr><td>1</td></tr><tr><td>2</td></tr><tr><td>3</td></tr><tr><td>4</td></tr><tr><td>5</td></tr></tbody></table></div>"
      ],
      "text/plain": [
       "shape: (5, 1)\n",
       "┌─────────────┐\n",
       "│ PassengerId │\n",
       "│ ---         │\n",
       "│ i64         │\n",
       "╞═════════════╡\n",
       "│ 1           │\n",
       "│ 2           │\n",
       "│ 3           │\n",
       "│ 4           │\n",
       "│ 5           │\n",
       "└─────────────┘"
      ]
     },
     "execution_count": 23,
     "metadata": {},
     "output_type": "execute_result"
    }
   ],
   "source": [
    "(\n",
    "    df\n",
    "    .select(\n",
    "        pl.selectors.first()\n",
    "    )\n",
    "    .head()\n",
    ")"
   ]
  },
  {
   "cell_type": "markdown",
   "id": "785ade2b-013a-4ee8-b3ff-90b058a7d580",
   "metadata": {},
   "source": [
    "The output of a selector is a standard Polars expression so we can follow it up with standard expression chaining"
   ]
  },
  {
   "cell_type": "code",
   "execution_count": 17,
   "id": "d9ab5e7a-acc7-4510-8d8f-677000fc56e5",
   "metadata": {},
   "outputs": [
    {
     "data": {
      "text/html": [
       "<div><style>\n",
       ".dataframe > thead > tr,\n",
       ".dataframe > tbody > tr {\n",
       "  text-align: right;\n",
       "  white-space: pre-wrap;\n",
       "}\n",
       "</style>\n",
       "<small>shape: (1, 12)</small><table border=\"1\" class=\"dataframe\"><thead><tr><th>PassengerId</th><th>Survived</th><th>Pclass</th><th>Name</th><th>Sex</th><th>Age</th><th>SibSp</th><th>Parch</th><th>Ticket</th><th>Fare</th><th>Cabin</th><th>Embarked</th></tr><tr><td>i64</td><td>i64</td><td>i64</td><td>str</td><td>str</td><td>f64</td><td>i64</td><td>i64</td><td>str</td><td>f64</td><td>str</td><td>str</td></tr></thead><tbody><tr><td>891</td><td>1</td><td>3</td><td>&quot;van Melkebeke, Mr. Philemon&quot;</td><td>&quot;male&quot;</td><td>80.0</td><td>8</td><td>6</td><td>&quot;WE/P 5735&quot;</td><td>512.3292</td><td>&quot;T&quot;</td><td>&quot;S&quot;</td></tr></tbody></table></div>"
      ],
      "text/plain": [
       "shape: (1, 12)\n",
       "┌─────────────┬──────────┬────────┬──────────────────┬───┬───────────┬──────────┬───────┬──────────┐\n",
       "│ PassengerId ┆ Survived ┆ Pclass ┆ Name             ┆ … ┆ Ticket    ┆ Fare     ┆ Cabin ┆ Embarked │\n",
       "│ ---         ┆ ---      ┆ ---    ┆ ---              ┆   ┆ ---       ┆ ---      ┆ ---   ┆ ---      │\n",
       "│ i64         ┆ i64      ┆ i64    ┆ str              ┆   ┆ str       ┆ f64      ┆ str   ┆ str      │\n",
       "╞═════════════╪══════════╪════════╪══════════════════╪═══╪═══════════╪══════════╪═══════╪══════════╡\n",
       "│ 891         ┆ 1        ┆ 3      ┆ van Melkebeke,   ┆ … ┆ WE/P 5735 ┆ 512.3292 ┆ T     ┆ S        │\n",
       "│             ┆          ┆        ┆ Mr. Philemon     ┆   ┆           ┆          ┆       ┆          │\n",
       "└─────────────┴──────────┴────────┴──────────────────┴───┴───────────┴──────────┴───────┴──────────┘"
      ]
     },
     "execution_count": 17,
     "metadata": {},
     "output_type": "execute_result"
    }
   ],
   "source": [
    "(\n",
    "    df\n",
    "    .select(\n",
    "        cs.all().max()\n",
    "    )\n",
    ")"
   ]
  },
  {
   "cell_type": "code",
   "execution_count": 25,
   "id": "2af03fa0",
   "metadata": {},
   "outputs": [
    {
     "data": {
      "text/html": [
       "<div><style>\n",
       ".dataframe > thead > tr,\n",
       ".dataframe > tbody > tr {\n",
       "  text-align: right;\n",
       "  white-space: pre-wrap;\n",
       "}\n",
       "</style>\n",
       "<small>shape: (1, 12)</small><table border=\"1\" class=\"dataframe\"><thead><tr><th>PassengerId</th><th>Survived</th><th>Pclass</th><th>Name</th><th>Sex</th><th>Age</th><th>SibSp</th><th>Parch</th><th>Ticket</th><th>Fare</th><th>Cabin</th><th>Embarked</th></tr><tr><td>i64</td><td>i64</td><td>i64</td><td>str</td><td>str</td><td>f64</td><td>i64</td><td>i64</td><td>str</td><td>f64</td><td>str</td><td>str</td></tr></thead><tbody><tr><td>891</td><td>1</td><td>3</td><td>&quot;van Melkebeke, Mr. Philemon&quot;</td><td>&quot;male&quot;</td><td>80.0</td><td>8</td><td>6</td><td>&quot;WE/P 5735&quot;</td><td>512.3292</td><td>&quot;T&quot;</td><td>&quot;S&quot;</td></tr></tbody></table></div>"
      ],
      "text/plain": [
       "shape: (1, 12)\n",
       "┌─────────────┬──────────┬────────┬──────────────────┬───┬───────────┬──────────┬───────┬──────────┐\n",
       "│ PassengerId ┆ Survived ┆ Pclass ┆ Name             ┆ … ┆ Ticket    ┆ Fare     ┆ Cabin ┆ Embarked │\n",
       "│ ---         ┆ ---      ┆ ---    ┆ ---              ┆   ┆ ---       ┆ ---      ┆ ---   ┆ ---      │\n",
       "│ i64         ┆ i64      ┆ i64    ┆ str              ┆   ┆ str       ┆ f64      ┆ str   ┆ str      │\n",
       "╞═════════════╪══════════╪════════╪══════════════════╪═══╪═══════════╪══════════╪═══════╪══════════╡\n",
       "│ 891         ┆ 1        ┆ 3      ┆ van Melkebeke,   ┆ … ┆ WE/P 5735 ┆ 512.3292 ┆ T     ┆ S        │\n",
       "│             ┆          ┆        ┆ Mr. Philemon     ┆   ┆           ┆          ┆       ┆          │\n",
       "└─────────────┴──────────┴────────┴──────────────────┴───┴───────────┴──────────┴───────┴──────────┘"
      ]
     },
     "execution_count": 25,
     "metadata": {},
     "output_type": "execute_result"
    }
   ],
   "source": [
    "(\n",
    "    df\n",
    "    .select(\n",
    "        pl.selectors.all().max()\n",
    "    )\n",
    ")"
   ]
  },
  {
   "cell_type": "markdown",
   "id": "9c1e280b-877f-4dec-a1db-3dec050097b6",
   "metadata": {},
   "source": [
    "The selectors API works well in lazy mode and for streaming queries just as expressions do.\n",
    "\n",
    "We can select columns by groups of dtype - including a group of all integer and floating point dtypes with `cs.numeric`"
   ]
  },
  {
   "cell_type": "code",
   "execution_count": 18,
   "id": "f81eab7e-07ed-453d-bd50-44480d47c24e",
   "metadata": {},
   "outputs": [
    {
     "data": {
      "text/html": [
       "<div><style>\n",
       ".dataframe > thead > tr,\n",
       ".dataframe > tbody > tr {\n",
       "  text-align: right;\n",
       "  white-space: pre-wrap;\n",
       "}\n",
       "</style>\n",
       "<small>shape: (3, 7)</small><table border=\"1\" class=\"dataframe\"><thead><tr><th>PassengerId</th><th>Survived</th><th>Pclass</th><th>Age</th><th>SibSp</th><th>Parch</th><th>Fare</th></tr><tr><td>i64</td><td>i64</td><td>i64</td><td>f64</td><td>i64</td><td>i64</td><td>f64</td></tr></thead><tbody><tr><td>1</td><td>0</td><td>3</td><td>22.0</td><td>1</td><td>0</td><td>7.25</td></tr><tr><td>2</td><td>1</td><td>1</td><td>38.0</td><td>1</td><td>0</td><td>71.2833</td></tr><tr><td>3</td><td>1</td><td>3</td><td>26.0</td><td>0</td><td>0</td><td>7.925</td></tr></tbody></table></div>"
      ],
      "text/plain": [
       "shape: (3, 7)\n",
       "┌─────────────┬──────────┬────────┬──────┬───────┬───────┬─────────┐\n",
       "│ PassengerId ┆ Survived ┆ Pclass ┆ Age  ┆ SibSp ┆ Parch ┆ Fare    │\n",
       "│ ---         ┆ ---      ┆ ---    ┆ ---  ┆ ---   ┆ ---   ┆ ---     │\n",
       "│ i64         ┆ i64      ┆ i64    ┆ f64  ┆ i64   ┆ i64   ┆ f64     │\n",
       "╞═════════════╪══════════╪════════╪══════╪═══════╪═══════╪═════════╡\n",
       "│ 1           ┆ 0        ┆ 3      ┆ 22.0 ┆ 1     ┆ 0     ┆ 7.25    │\n",
       "│ 2           ┆ 1        ┆ 1      ┆ 38.0 ┆ 1     ┆ 0     ┆ 71.2833 │\n",
       "│ 3           ┆ 1        ┆ 3      ┆ 26.0 ┆ 0     ┆ 0     ┆ 7.925   │\n",
       "└─────────────┴──────────┴────────┴──────┴───────┴───────┴─────────┘"
      ]
     },
     "execution_count": 18,
     "metadata": {},
     "output_type": "execute_result"
    }
   ],
   "source": [
    "(\n",
    "    df\n",
    "    .select(\n",
    "        cs.numeric()\n",
    "    )\n",
    "    .head(3)\n",
    ")"
   ]
  },
  {
   "cell_type": "markdown",
   "id": "8a9ea82c-5e4a-4996-90dd-85990e10ffa4",
   "metadata": {},
   "source": [
    "We can select by name - in this example with a `~` operator to exclude the names listed"
   ]
  },
  {
   "cell_type": "code",
   "execution_count": 19,
   "id": "c98cb0d3-2737-4cb6-8ac2-591a3ae8ce77",
   "metadata": {},
   "outputs": [
    {
     "data": {
      "text/html": [
       "<div><style>\n",
       ".dataframe > thead > tr,\n",
       ".dataframe > tbody > tr {\n",
       "  text-align: right;\n",
       "  white-space: pre-wrap;\n",
       "}\n",
       "</style>\n",
       "<small>shape: (3, 10)</small><table border=\"1\" class=\"dataframe\"><thead><tr><th>PassengerId</th><th>Survived</th><th>Name</th><th>Sex</th><th>SibSp</th><th>Parch</th><th>Ticket</th><th>Fare</th><th>Cabin</th><th>Embarked</th></tr><tr><td>i64</td><td>i64</td><td>str</td><td>str</td><td>i64</td><td>i64</td><td>str</td><td>f64</td><td>str</td><td>str</td></tr></thead><tbody><tr><td>1</td><td>0</td><td>&quot;Braund, Mr. Owen Harris&quot;</td><td>&quot;male&quot;</td><td>1</td><td>0</td><td>&quot;A/5 21171&quot;</td><td>7.25</td><td>null</td><td>&quot;S&quot;</td></tr><tr><td>2</td><td>1</td><td>&quot;Cumings, Mrs. John Bradley (Fl…</td><td>&quot;female&quot;</td><td>1</td><td>0</td><td>&quot;PC 17599&quot;</td><td>71.2833</td><td>&quot;C85&quot;</td><td>&quot;C&quot;</td></tr><tr><td>3</td><td>1</td><td>&quot;Heikkinen, Miss. Laina&quot;</td><td>&quot;female&quot;</td><td>0</td><td>0</td><td>&quot;STON/O2. 3101282&quot;</td><td>7.925</td><td>null</td><td>&quot;S&quot;</td></tr></tbody></table></div>"
      ],
      "text/plain": [
       "shape: (3, 10)\n",
       "┌─────────────┬──────────┬───────────────────┬────────┬───┬───────────┬─────────┬───────┬──────────┐\n",
       "│ PassengerId ┆ Survived ┆ Name              ┆ Sex    ┆ … ┆ Ticket    ┆ Fare    ┆ Cabin ┆ Embarked │\n",
       "│ ---         ┆ ---      ┆ ---               ┆ ---    ┆   ┆ ---       ┆ ---     ┆ ---   ┆ ---      │\n",
       "│ i64         ┆ i64      ┆ str               ┆ str    ┆   ┆ str       ┆ f64     ┆ str   ┆ str      │\n",
       "╞═════════════╪══════════╪═══════════════════╪════════╪═══╪═══════════╪═════════╪═══════╪══════════╡\n",
       "│ 1           ┆ 0        ┆ Braund, Mr. Owen  ┆ male   ┆ … ┆ A/5 21171 ┆ 7.25    ┆ null  ┆ S        │\n",
       "│             ┆          ┆ Harris            ┆        ┆   ┆           ┆         ┆       ┆          │\n",
       "│ 2           ┆ 1        ┆ Cumings, Mrs.     ┆ female ┆ … ┆ PC 17599  ┆ 71.2833 ┆ C85   ┆ C        │\n",
       "│             ┆          ┆ John Bradley (Fl… ┆        ┆   ┆           ┆         ┆       ┆          │\n",
       "│ 3           ┆ 1        ┆ Heikkinen, Miss.  ┆ female ┆ … ┆ STON/O2.  ┆ 7.925   ┆ null  ┆ S        │\n",
       "│             ┆          ┆ Laina             ┆        ┆   ┆ 3101282   ┆         ┆       ┆          │\n",
       "└─────────────┴──────────┴───────────────────┴────────┴───┴───────────┴─────────┴───────┴──────────┘"
      ]
     },
     "execution_count": 19,
     "metadata": {},
     "output_type": "execute_result"
    }
   ],
   "source": [
    "(\n",
    "    df\n",
    "    .select(\n",
    "        ~cs.by_name(\"Pclass\",\"Age\")\n",
    "    )\n",
    "    .head(3)\n",
    ")"
   ]
  },
  {
   "cell_type": "markdown",
   "id": "11e9cfee-7bf4-41ab-aae8-1a7a267d2b66",
   "metadata": {},
   "source": [
    "As a simpler alternative to the regex example we saw earlier we can use string methods such as:\n",
    "- `contains`\n",
    "- `starts_with`\n",
    "- `end_with`\n",
    "- `matches`"
   ]
  },
  {
   "cell_type": "markdown",
   "id": "ca72c1db-f979-4a1f-ae8d-b1e0437a6320",
   "metadata": {},
   "source": [
    "In this example we select all columns beginning with P"
   ]
  },
  {
   "cell_type": "code",
   "execution_count": 20,
   "id": "6531d17a-1b08-495d-b9e0-5ff7d4e7f23d",
   "metadata": {},
   "outputs": [
    {
     "data": {
      "text/html": [
       "<div><style>\n",
       ".dataframe > thead > tr,\n",
       ".dataframe > tbody > tr {\n",
       "  text-align: right;\n",
       "  white-space: pre-wrap;\n",
       "}\n",
       "</style>\n",
       "<small>shape: (3, 3)</small><table border=\"1\" class=\"dataframe\"><thead><tr><th>PassengerId</th><th>Pclass</th><th>Parch</th></tr><tr><td>i64</td><td>i64</td><td>i64</td></tr></thead><tbody><tr><td>1</td><td>3</td><td>0</td></tr><tr><td>2</td><td>1</td><td>0</td></tr><tr><td>3</td><td>3</td><td>0</td></tr></tbody></table></div>"
      ],
      "text/plain": [
       "shape: (3, 3)\n",
       "┌─────────────┬────────┬───────┐\n",
       "│ PassengerId ┆ Pclass ┆ Parch │\n",
       "│ ---         ┆ ---    ┆ ---   │\n",
       "│ i64         ┆ i64    ┆ i64   │\n",
       "╞═════════════╪════════╪═══════╡\n",
       "│ 1           ┆ 3      ┆ 0     │\n",
       "│ 2           ┆ 1      ┆ 0     │\n",
       "│ 3           ┆ 3      ┆ 0     │\n",
       "└─────────────┴────────┴───────┘"
      ]
     },
     "execution_count": 20,
     "metadata": {},
     "output_type": "execute_result"
    }
   ],
   "source": [
    "(\n",
    "    df\n",
    "    .select(\n",
    "        cs.starts_with(\"P\")\n",
    "    )\n",
    "    .head(3)\n",
    ")"
   ]
  },
  {
   "cell_type": "markdown",
   "id": "61319374-f9df-4640-9514-ce447dfdf3aa",
   "metadata": {},
   "source": [
    "We can apply an OR condition by passing multiple strings"
   ]
  },
  {
   "cell_type": "code",
   "execution_count": null,
   "id": "b785bdbe-cfbc-4f54-b7ea-1dd5e7a79199",
   "metadata": {},
   "outputs": [],
   "source": [
    "(\n",
    "    df\n",
    "    .select(\n",
    "        cs.starts_with(\"P\",\"A\")\n",
    "    )\n",
    "    .head(3)\n",
    ").columns"
   ]
  },
  {
   "cell_type": "markdown",
   "id": "a3b65424-b3a9-4e98-bbda-400bb8ece78e",
   "metadata": {},
   "source": [
    "With the `matches` method we can pass a regex without the `^` and `$` we need for the expression API"
   ]
  },
  {
   "cell_type": "code",
   "execution_count": 21,
   "id": "238ad5cd-0e64-43a3-ba12-ce59dcdcbfd5",
   "metadata": {},
   "outputs": [
    {
     "data": {
      "text/html": [
       "<div><style>\n",
       ".dataframe > thead > tr,\n",
       ".dataframe > tbody > tr {\n",
       "  text-align: right;\n",
       "  white-space: pre-wrap;\n",
       "}\n",
       "</style>\n",
       "<small>shape: (3, 2)</small><table border=\"1\" class=\"dataframe\"><thead><tr><th>Age</th><th>Fare</th></tr><tr><td>f64</td><td>f64</td></tr></thead><tbody><tr><td>22.0</td><td>7.25</td></tr><tr><td>38.0</td><td>71.2833</td></tr><tr><td>26.0</td><td>7.925</td></tr></tbody></table></div>"
      ],
      "text/plain": [
       "shape: (3, 2)\n",
       "┌──────┬─────────┐\n",
       "│ Age  ┆ Fare    │\n",
       "│ ---  ┆ ---     │\n",
       "│ f64  ┆ f64     │\n",
       "╞══════╪═════════╡\n",
       "│ 22.0 ┆ 7.25    │\n",
       "│ 38.0 ┆ 71.2833 │\n",
       "│ 26.0 ┆ 7.925   │\n",
       "└──────┴─────────┘"
      ]
     },
     "execution_count": 21,
     "metadata": {},
     "output_type": "execute_result"
    }
   ],
   "source": [
    "(\n",
    "    df\n",
    "    .select(\n",
    "        cs.matches(\"Age|Fare\")\n",
    "    )\n",
    "    .head(3)\n",
    ")"
   ]
  },
  {
   "cell_type": "markdown",
   "id": "d23a7c35-b265-4387-b96e-9bcb0c3af6bd",
   "metadata": {},
   "source": [
    "The difference between `cs.contains` and `cs.matches` is:\n",
    "- `cs.contains` looks for all column names that contain the literal substring\n",
    "- `cs.matches` look for all column names that match the regex"
   ]
  },
  {
   "cell_type": "markdown",
   "id": "bff4a660-49c6-4b31-8bab-45340c732bc9",
   "metadata": {},
   "source": [
    "### Intersection of selectors\n",
    "\n",
    "To do an intersection of selector conditions we use the `&` operator to say both conditions must be fulfilled.\n",
    "\n",
    "In this example we look for **numeric** columns that **contain A** in the column name"
   ]
  },
  {
   "cell_type": "code",
   "execution_count": 26,
   "id": "88252fda-49cb-4f7f-b775-2d9acc1c3a6d",
   "metadata": {},
   "outputs": [
    {
     "data": {
      "text/html": [
       "<div><style>\n",
       ".dataframe > thead > tr,\n",
       ".dataframe > tbody > tr {\n",
       "  text-align: right;\n",
       "  white-space: pre-wrap;\n",
       "}\n",
       "</style>\n",
       "<small>shape: (3, 1)</small><table border=\"1\" class=\"dataframe\"><thead><tr><th>Age</th></tr><tr><td>f64</td></tr></thead><tbody><tr><td>22.0</td></tr><tr><td>38.0</td></tr><tr><td>26.0</td></tr></tbody></table></div>"
      ],
      "text/plain": [
       "shape: (3, 1)\n",
       "┌──────┐\n",
       "│ Age  │\n",
       "│ ---  │\n",
       "│ f64  │\n",
       "╞══════╡\n",
       "│ 22.0 │\n",
       "│ 38.0 │\n",
       "│ 26.0 │\n",
       "└──────┘"
      ]
     },
     "execution_count": 26,
     "metadata": {},
     "output_type": "execute_result"
    }
   ],
   "source": [
    "(\n",
    "    df\n",
    "    .select(\n",
    "        cs.numeric() & cs.contains(\"A\") \n",
    "    )\n",
    "    .head(3)\n",
    ")"
   ]
  },
  {
   "cell_type": "markdown",
   "id": "b9a917af-52f2-466b-bcdd-809b24f25978",
   "metadata": {},
   "source": [
    "### Union of selectors\n",
    "To do a union operation we use the `|` operator to say at least one of the conditions must be satisfied"
   ]
  },
  {
   "cell_type": "code",
   "execution_count": null,
   "id": "30ec32d7-19c0-412d-8ec5-49b209529bd4",
   "metadata": {},
   "outputs": [],
   "source": [
    "(\n",
    "    df\n",
    "    .select(\n",
    "        cs.string() | cs.contains(\"P\") \n",
    "    )\n",
    "    .head(3)\n",
    ")"
   ]
  },
  {
   "cell_type": "markdown",
   "id": "bd82bee0-1a4a-40e2-8fa3-2a4fc3be162a",
   "metadata": {},
   "source": [
    "### Difference of selectors\n",
    "To do a difference operation we use a minus operator `-`.\n",
    "\n",
    "In this example we select all string columns other than any column beginning with T"
   ]
  },
  {
   "cell_type": "code",
   "execution_count": null,
   "id": "dfdb3ad9-8ebd-4014-9bdc-6596b6a98a62",
   "metadata": {},
   "outputs": [],
   "source": [
    "(\n",
    "    df\n",
    "    .select(\n",
    "        cs.string() - cs.starts_with(\"T\") \n",
    "    )\n",
    "    .head(3)\n",
    ")"
   ]
  },
  {
   "cell_type": "markdown",
   "id": "7f478e9c-3955-4f66-adb3-d0dc9afddea0",
   "metadata": {},
   "source": [
    "# Exercises\n",
    "\n",
    "In the exercises you will develop your understanding of:\n",
    "- selecting all columns from a `DataFrame`\n",
    "- excluding columns from a selection\n",
    "- selecting columns with a dtype"
   ]
  },
  {
   "cell_type": "markdown",
   "id": "c6ff209d-eb8d-479c-bcea-d29ec24fd392",
   "metadata": {},
   "source": [
    "### Exercise 1\n",
    "We create a `DataFrame` from the Spotify data"
   ]
  },
  {
   "cell_type": "code",
   "execution_count": 23,
   "id": "e26d45cc-dba2-4437-a99b-8a981c1370ac",
   "metadata": {
    "tags": []
   },
   "outputs": [
    {
     "data": {
      "text/html": [
       "<div><style>\n",
       ".dataframe > thead > tr,\n",
       ".dataframe > tbody > tr {\n",
       "  text-align: right;\n",
       "  white-space: pre-wrap;\n",
       "}\n",
       "</style>\n",
       "<small>shape: (3, 9)</small><table border=\"1\" class=\"dataframe\"><thead><tr><th>title</th><th>rank</th><th>date</th><th>artist</th><th>url</th><th>region</th><th>chart</th><th>trend</th><th>streams</th></tr><tr><td>str</td><td>i64</td><td>date</td><td>str</td><td>str</td><td>str</td><td>str</td><td>str</td><td>i64</td></tr></thead><tbody><tr><td>&quot;Starboy&quot;</td><td>1</td><td>2017-01-01</td><td>&quot;The Weeknd, Daft Punk&quot;</td><td>&quot;https://open.spotify.com/track…</td><td>&quot;Global&quot;</td><td>&quot;top200&quot;</td><td>&quot;SAME_POSITION&quot;</td><td>3135625</td></tr><tr><td>&quot;Closer&quot;</td><td>2</td><td>2017-01-01</td><td>&quot;The Chainsmokers, Halsey&quot;</td><td>&quot;https://open.spotify.com/track…</td><td>&quot;Global&quot;</td><td>&quot;top200&quot;</td><td>&quot;SAME_POSITION&quot;</td><td>3015525</td></tr><tr><td>&quot;Let Me Love You&quot;</td><td>3</td><td>2017-01-01</td><td>&quot;DJ Snake, Justin Bieber&quot;</td><td>&quot;https://open.spotify.com/track…</td><td>&quot;Global&quot;</td><td>&quot;top200&quot;</td><td>&quot;MOVE_UP&quot;</td><td>2545384</td></tr></tbody></table></div>"
      ],
      "text/plain": [
       "shape: (3, 9)\n",
       "┌───────────────┬──────┬────────────┬───────────────┬───┬────────┬────────┬──────────────┬─────────┐\n",
       "│ title         ┆ rank ┆ date       ┆ artist        ┆ … ┆ region ┆ chart  ┆ trend        ┆ streams │\n",
       "│ ---           ┆ ---  ┆ ---        ┆ ---           ┆   ┆ ---    ┆ ---    ┆ ---          ┆ ---     │\n",
       "│ str           ┆ i64  ┆ date       ┆ str           ┆   ┆ str    ┆ str    ┆ str          ┆ i64     │\n",
       "╞═══════════════╪══════╪════════════╪═══════════════╪═══╪════════╪════════╪══════════════╪═════════╡\n",
       "│ Starboy       ┆ 1    ┆ 2017-01-01 ┆ The Weeknd,   ┆ … ┆ Global ┆ top200 ┆ SAME_POSITIO ┆ 3135625 │\n",
       "│               ┆      ┆            ┆ Daft Punk     ┆   ┆        ┆        ┆ N            ┆         │\n",
       "│ Closer        ┆ 2    ┆ 2017-01-01 ┆ The           ┆ … ┆ Global ┆ top200 ┆ SAME_POSITIO ┆ 3015525 │\n",
       "│               ┆      ┆            ┆ Chainsmokers, ┆   ┆        ┆        ┆ N            ┆         │\n",
       "│               ┆      ┆            ┆ Halsey        ┆   ┆        ┆        ┆              ┆         │\n",
       "│ Let Me Love   ┆ 3    ┆ 2017-01-01 ┆ DJ Snake,     ┆ … ┆ Global ┆ top200 ┆ MOVE_UP      ┆ 2545384 │\n",
       "│ You           ┆      ┆            ┆ Justin Bieber ┆   ┆        ┆        ┆              ┆         │\n",
       "└───────────────┴──────┴────────────┴───────────────┴───┴────────┴────────┴──────────────┴─────────┘"
      ]
     },
     "execution_count": 23,
     "metadata": {},
     "output_type": "execute_result"
    }
   ],
   "source": [
    "pl.Config.set_fmt_str_lengths(30)\n",
    "spotify_csv = \"../data/spotify-charts-2017-2021-global-top200.csv.gz\"\n",
    "spotify_df = pl.read_csv(spotify_csv,try_parse_dates=True)\n",
    "spotify_df.head(3)"
   ]
  },
  {
   "cell_type": "markdown",
   "id": "132f9d16-793f-4e4d-ab6b-e0287064deac",
   "metadata": {},
   "source": [
    "Select the `title` and `artist` columns using the expression API (and not selectors)"
   ]
  },
  {
   "cell_type": "code",
   "execution_count": 28,
   "id": "ebe9524d-8ace-4f93-99d3-328e063aff5d",
   "metadata": {},
   "outputs": [
    {
     "data": {
      "text/html": [
       "<div><style>\n",
       ".dataframe > thead > tr,\n",
       ".dataframe > tbody > tr {\n",
       "  text-align: right;\n",
       "  white-space: pre-wrap;\n",
       "}\n",
       "</style>\n",
       "<small>shape: (3, 2)</small><table border=\"1\" class=\"dataframe\"><thead><tr><th>title</th><th>artist</th></tr><tr><td>str</td><td>str</td></tr></thead><tbody><tr><td>&quot;Starboy&quot;</td><td>&quot;The Weeknd, Daft Punk&quot;</td></tr><tr><td>&quot;Closer&quot;</td><td>&quot;The Chainsmokers, Halsey&quot;</td></tr><tr><td>&quot;Let Me Love You&quot;</td><td>&quot;DJ Snake, Justin Bieber&quot;</td></tr></tbody></table></div>"
      ],
      "text/plain": [
       "shape: (3, 2)\n",
       "┌─────────────────┬──────────────────────────┐\n",
       "│ title           ┆ artist                   │\n",
       "│ ---             ┆ ---                      │\n",
       "│ str             ┆ str                      │\n",
       "╞═════════════════╪══════════════════════════╡\n",
       "│ Starboy         ┆ The Weeknd, Daft Punk    │\n",
       "│ Closer          ┆ The Chainsmokers, Halsey │\n",
       "│ Let Me Love You ┆ DJ Snake, Justin Bieber  │\n",
       "└─────────────────┴──────────────────────────┘"
      ]
     },
     "execution_count": 28,
     "metadata": {},
     "output_type": "execute_result"
    }
   ],
   "source": [
    "(\n",
    "    spotify_df\n",
    "    .select(\n",
    "        pl.col('title', 'artist')\n",
    "    )\n",
    "    .head(3)\n",
    ")"
   ]
  },
  {
   "cell_type": "markdown",
   "id": "aae8bbc1-b4c7-4589-afae-f4bfdef197de",
   "metadata": {},
   "source": [
    "Select all string and date columns from the spotify `DataFrame` using the expression API"
   ]
  },
  {
   "cell_type": "code",
   "execution_count": 32,
   "id": "46afaf71-8269-4f6c-90a6-2cfc3353ba3b",
   "metadata": {},
   "outputs": [
    {
     "data": {
      "text/html": [
       "<div><style>\n",
       ".dataframe > thead > tr,\n",
       ".dataframe > tbody > tr {\n",
       "  text-align: right;\n",
       "  white-space: pre-wrap;\n",
       "}\n",
       "</style>\n",
       "<small>shape: (2, 7)</small><table border=\"1\" class=\"dataframe\"><thead><tr><th>title</th><th>date</th><th>artist</th><th>url</th><th>region</th><th>chart</th><th>trend</th></tr><tr><td>str</td><td>date</td><td>str</td><td>str</td><td>str</td><td>str</td><td>str</td></tr></thead><tbody><tr><td>&quot;Starboy&quot;</td><td>2017-01-01</td><td>&quot;The Weeknd, Daft Punk&quot;</td><td>&quot;https://open.spotify.com/track…</td><td>&quot;Global&quot;</td><td>&quot;top200&quot;</td><td>&quot;SAME_POSITION&quot;</td></tr><tr><td>&quot;Closer&quot;</td><td>2017-01-01</td><td>&quot;The Chainsmokers, Halsey&quot;</td><td>&quot;https://open.spotify.com/track…</td><td>&quot;Global&quot;</td><td>&quot;top200&quot;</td><td>&quot;SAME_POSITION&quot;</td></tr></tbody></table></div>"
      ],
      "text/plain": [
       "shape: (2, 7)\n",
       "┌─────────┬────────────┬────────────────────┬────────────────────┬────────┬────────┬───────────────┐\n",
       "│ title   ┆ date       ┆ artist             ┆ url                ┆ region ┆ chart  ┆ trend         │\n",
       "│ ---     ┆ ---        ┆ ---                ┆ ---                ┆ ---    ┆ ---    ┆ ---           │\n",
       "│ str     ┆ date       ┆ str                ┆ str                ┆ str    ┆ str    ┆ str           │\n",
       "╞═════════╪════════════╪════════════════════╪════════════════════╪════════╪════════╪═══════════════╡\n",
       "│ Starboy ┆ 2017-01-01 ┆ The Weeknd, Daft   ┆ https://open.spoti ┆ Global ┆ top200 ┆ SAME_POSITION │\n",
       "│         ┆            ┆ Punk               ┆ fy.com/track…      ┆        ┆        ┆               │\n",
       "│ Closer  ┆ 2017-01-01 ┆ The Chainsmokers,  ┆ https://open.spoti ┆ Global ┆ top200 ┆ SAME_POSITION │\n",
       "│         ┆            ┆ Halsey             ┆ fy.com/track…      ┆        ┆        ┆               │\n",
       "└─────────┴────────────┴────────────────────┴────────────────────┴────────┴────────┴───────────────┘"
      ]
     },
     "execution_count": 32,
     "metadata": {},
     "output_type": "execute_result"
    }
   ],
   "source": [
    "(\n",
    "    spotify_df\n",
    "    .select(\n",
    "        pl.col([pl.Date, pl.Utf8])\n",
    "    )\n",
    "    .head(2)\n",
    ")"
   ]
  },
  {
   "cell_type": "markdown",
   "id": "c3bff868-b514-4341-b663-23baf712e1f7",
   "metadata": {},
   "source": [
    "Select all string and date columns from the spotify `DataFrame` - except the `url` column using the expression API (and not selectors)"
   ]
  },
  {
   "cell_type": "code",
   "execution_count": 34,
   "id": "d932c3df-3bca-4e2c-b6fa-299b2b009c2c",
   "metadata": {},
   "outputs": [
    {
     "data": {
      "text/html": [
       "<div><style>\n",
       ".dataframe > thead > tr,\n",
       ".dataframe > tbody > tr {\n",
       "  text-align: right;\n",
       "  white-space: pre-wrap;\n",
       "}\n",
       "</style>\n",
       "<small>shape: (5, 6)</small><table border=\"1\" class=\"dataframe\"><thead><tr><th>title</th><th>date</th><th>artist</th><th>region</th><th>chart</th><th>trend</th></tr><tr><td>str</td><td>date</td><td>str</td><td>str</td><td>str</td><td>str</td></tr></thead><tbody><tr><td>&quot;Starboy&quot;</td><td>2017-01-01</td><td>&quot;The Weeknd, Daft Punk&quot;</td><td>&quot;Global&quot;</td><td>&quot;top200&quot;</td><td>&quot;SAME_POSITION&quot;</td></tr><tr><td>&quot;Closer&quot;</td><td>2017-01-01</td><td>&quot;The Chainsmokers, Halsey&quot;</td><td>&quot;Global&quot;</td><td>&quot;top200&quot;</td><td>&quot;SAME_POSITION&quot;</td></tr><tr><td>&quot;Let Me Love You&quot;</td><td>2017-01-01</td><td>&quot;DJ Snake, Justin Bieber&quot;</td><td>&quot;Global&quot;</td><td>&quot;top200&quot;</td><td>&quot;MOVE_UP&quot;</td></tr><tr><td>&quot;Rockabye (feat. Sean Paul &amp; An…</td><td>2017-01-01</td><td>&quot;Clean Bandit&quot;</td><td>&quot;Global&quot;</td><td>&quot;top200&quot;</td><td>&quot;MOVE_DOWN&quot;</td></tr><tr><td>&quot;One Dance&quot;</td><td>2017-01-01</td><td>&quot;Drake, WizKid, Kyla&quot;</td><td>&quot;Global&quot;</td><td>&quot;top200&quot;</td><td>&quot;SAME_POSITION&quot;</td></tr></tbody></table></div>"
      ],
      "text/plain": [
       "shape: (5, 6)\n",
       "┌──────────────────────┬────────────┬────────────────────────────┬────────┬────────┬───────────────┐\n",
       "│ title                ┆ date       ┆ artist                     ┆ region ┆ chart  ┆ trend         │\n",
       "│ ---                  ┆ ---        ┆ ---                        ┆ ---    ┆ ---    ┆ ---           │\n",
       "│ str                  ┆ date       ┆ str                        ┆ str    ┆ str    ┆ str           │\n",
       "╞══════════════════════╪════════════╪════════════════════════════╪════════╪════════╪═══════════════╡\n",
       "│ Starboy              ┆ 2017-01-01 ┆ The Weeknd, Daft Punk      ┆ Global ┆ top200 ┆ SAME_POSITION │\n",
       "│ Closer               ┆ 2017-01-01 ┆ The Chainsmokers, Halsey   ┆ Global ┆ top200 ┆ SAME_POSITION │\n",
       "│ Let Me Love You      ┆ 2017-01-01 ┆ DJ Snake, Justin Bieber    ┆ Global ┆ top200 ┆ MOVE_UP       │\n",
       "│ Rockabye (feat. Sean ┆ 2017-01-01 ┆ Clean Bandit               ┆ Global ┆ top200 ┆ MOVE_DOWN     │\n",
       "│ Paul & An…           ┆            ┆                            ┆        ┆        ┆               │\n",
       "│ One Dance            ┆ 2017-01-01 ┆ Drake, WizKid, Kyla        ┆ Global ┆ top200 ┆ SAME_POSITION │\n",
       "└──────────────────────┴────────────┴────────────────────────────┴────────┴────────┴───────────────┘"
      ]
     },
     "execution_count": 34,
     "metadata": {},
     "output_type": "execute_result"
    }
   ],
   "source": [
    "(\n",
    "    spotify_df\n",
    "    .select(\n",
    "        pl.col([pl.Date, pl.Utf8]).exclude('url')\n",
    "    )\n",
    "    .head()\n",
    ")"
   ]
  },
  {
   "cell_type": "markdown",
   "id": "717f5a7d-5fcc-491f-b66c-87b9819e2f2c",
   "metadata": {},
   "source": [
    "Select all string and date columns again but use the selectors API"
   ]
  },
  {
   "cell_type": "code",
   "execution_count": 36,
   "id": "57b5b32d-582b-42e3-8e06-183ebaa5ed4f",
   "metadata": {},
   "outputs": [
    {
     "data": {
      "text/html": [
       "<div><style>\n",
       ".dataframe > thead > tr,\n",
       ".dataframe > tbody > tr {\n",
       "  text-align: right;\n",
       "  white-space: pre-wrap;\n",
       "}\n",
       "</style>\n",
       "<small>shape: (2, 7)</small><table border=\"1\" class=\"dataframe\"><thead><tr><th>title</th><th>date</th><th>artist</th><th>url</th><th>region</th><th>chart</th><th>trend</th></tr><tr><td>str</td><td>date</td><td>str</td><td>str</td><td>str</td><td>str</td><td>str</td></tr></thead><tbody><tr><td>&quot;Starboy&quot;</td><td>2017-01-01</td><td>&quot;The Weeknd, Daft Punk&quot;</td><td>&quot;https://open.spotify.com/track…</td><td>&quot;Global&quot;</td><td>&quot;top200&quot;</td><td>&quot;SAME_POSITION&quot;</td></tr><tr><td>&quot;Closer&quot;</td><td>2017-01-01</td><td>&quot;The Chainsmokers, Halsey&quot;</td><td>&quot;https://open.spotify.com/track…</td><td>&quot;Global&quot;</td><td>&quot;top200&quot;</td><td>&quot;SAME_POSITION&quot;</td></tr></tbody></table></div>"
      ],
      "text/plain": [
       "shape: (2, 7)\n",
       "┌─────────┬────────────┬────────────────────┬────────────────────┬────────┬────────┬───────────────┐\n",
       "│ title   ┆ date       ┆ artist             ┆ url                ┆ region ┆ chart  ┆ trend         │\n",
       "│ ---     ┆ ---        ┆ ---                ┆ ---                ┆ ---    ┆ ---    ┆ ---           │\n",
       "│ str     ┆ date       ┆ str                ┆ str                ┆ str    ┆ str    ┆ str           │\n",
       "╞═════════╪════════════╪════════════════════╪════════════════════╪════════╪════════╪═══════════════╡\n",
       "│ Starboy ┆ 2017-01-01 ┆ The Weeknd, Daft   ┆ https://open.spoti ┆ Global ┆ top200 ┆ SAME_POSITION │\n",
       "│         ┆            ┆ Punk               ┆ fy.com/track…      ┆        ┆        ┆               │\n",
       "│ Closer  ┆ 2017-01-01 ┆ The Chainsmokers,  ┆ https://open.spoti ┆ Global ┆ top200 ┆ SAME_POSITION │\n",
       "│         ┆            ┆ Halsey             ┆ fy.com/track…      ┆        ┆        ┆               │\n",
       "└─────────┴────────────┴────────────────────┴────────────────────┴────────┴────────┴───────────────┘"
      ]
     },
     "execution_count": 36,
     "metadata": {},
     "output_type": "execute_result"
    }
   ],
   "source": [
    "(\n",
    "    spotify_df\n",
    "    .select(\n",
    "        pl.selectors.by_dtype([pl.Date, pl.Utf8])\n",
    "    )\n",
    "    .head(2)\n",
    ")"
   ]
  },
  {
   "cell_type": "markdown",
   "id": "a09e3b4e-9969-4853-9932-afeb232fa495",
   "metadata": {},
   "source": [
    "Select all the columns that start with `t` or `a`"
   ]
  },
  {
   "cell_type": "code",
   "execution_count": 38,
   "id": "dee7c182-a3dc-43f9-b61b-5dd2094069b7",
   "metadata": {},
   "outputs": [
    {
     "data": {
      "text/html": [
       "<div><style>\n",
       ".dataframe > thead > tr,\n",
       ".dataframe > tbody > tr {\n",
       "  text-align: right;\n",
       "  white-space: pre-wrap;\n",
       "}\n",
       "</style>\n",
       "<small>shape: (5, 3)</small><table border=\"1\" class=\"dataframe\"><thead><tr><th>title</th><th>artist</th><th>trend</th></tr><tr><td>str</td><td>str</td><td>str</td></tr></thead><tbody><tr><td>&quot;Starboy&quot;</td><td>&quot;The Weeknd, Daft Punk&quot;</td><td>&quot;SAME_POSITION&quot;</td></tr><tr><td>&quot;Closer&quot;</td><td>&quot;The Chainsmokers, Halsey&quot;</td><td>&quot;SAME_POSITION&quot;</td></tr><tr><td>&quot;Let Me Love You&quot;</td><td>&quot;DJ Snake, Justin Bieber&quot;</td><td>&quot;MOVE_UP&quot;</td></tr><tr><td>&quot;Rockabye (feat. Sean Paul &amp; An…</td><td>&quot;Clean Bandit&quot;</td><td>&quot;MOVE_DOWN&quot;</td></tr><tr><td>&quot;One Dance&quot;</td><td>&quot;Drake, WizKid, Kyla&quot;</td><td>&quot;SAME_POSITION&quot;</td></tr></tbody></table></div>"
      ],
      "text/plain": [
       "shape: (5, 3)\n",
       "┌─────────────────────────────────┬──────────────────────────┬───────────────┐\n",
       "│ title                           ┆ artist                   ┆ trend         │\n",
       "│ ---                             ┆ ---                      ┆ ---           │\n",
       "│ str                             ┆ str                      ┆ str           │\n",
       "╞═════════════════════════════════╪══════════════════════════╪═══════════════╡\n",
       "│ Starboy                         ┆ The Weeknd, Daft Punk    ┆ SAME_POSITION │\n",
       "│ Closer                          ┆ The Chainsmokers, Halsey ┆ SAME_POSITION │\n",
       "│ Let Me Love You                 ┆ DJ Snake, Justin Bieber  ┆ MOVE_UP       │\n",
       "│ Rockabye (feat. Sean Paul & An… ┆ Clean Bandit             ┆ MOVE_DOWN     │\n",
       "│ One Dance                       ┆ Drake, WizKid, Kyla      ┆ SAME_POSITION │\n",
       "└─────────────────────────────────┴──────────────────────────┴───────────────┘"
      ]
     },
     "execution_count": 38,
     "metadata": {},
     "output_type": "execute_result"
    }
   ],
   "source": [
    "(\n",
    "    spotify_df\n",
    "    .select(\n",
    "        pl.selectors.starts_with(\"t\", \"a\")\n",
    "    )\n",
    "    .head()\n",
    ")"
   ]
  },
  {
   "cell_type": "markdown",
   "id": "f378b49a-ac47-4dac-95f0-1133a583083c",
   "metadata": {},
   "source": [
    "Select all columns except the integer columns (using the ~ operator)"
   ]
  },
  {
   "cell_type": "code",
   "execution_count": 28,
   "id": "850d0ca7-5e62-4b81-bd87-d63cc2e441d4",
   "metadata": {},
   "outputs": [
    {
     "name": "stdout",
     "output_type": "stream",
     "text": [
      "shape: (3, 7)\n",
      "┌─────────────┬────────────┬──────────────────┬──────────────────┬────────┬────────┬───────────────┐\n",
      "│ title       ┆ date       ┆ artist           ┆ url              ┆ region ┆ chart  ┆ trend         │\n",
      "│ ---         ┆ ---        ┆ ---              ┆ ---              ┆ ---    ┆ ---    ┆ ---           │\n",
      "│ str         ┆ date       ┆ str              ┆ str              ┆ str    ┆ str    ┆ str           │\n",
      "╞═════════════╪════════════╪══════════════════╪══════════════════╪════════╪════════╪═══════════════╡\n",
      "│ Starboy     ┆ 2017-01-01 ┆ The Weeknd, Daft ┆ https://open.spo ┆ Global ┆ top200 ┆ SAME_POSITION │\n",
      "│             ┆            ┆ Punk             ┆ tify.com/track…  ┆        ┆        ┆               │\n",
      "│ Closer      ┆ 2017-01-01 ┆ The              ┆ https://open.spo ┆ Global ┆ top200 ┆ SAME_POSITION │\n",
      "│             ┆            ┆ Chainsmokers,    ┆ tify.com/track…  ┆        ┆        ┆               │\n",
      "│             ┆            ┆ Halsey           ┆                  ┆        ┆        ┆               │\n",
      "│ Let Me Love ┆ 2017-01-01 ┆ DJ Snake, Justin ┆ https://open.spo ┆ Global ┆ top200 ┆ MOVE_UP       │\n",
      "│ You         ┆            ┆ Bieber           ┆ tify.com/track…  ┆        ┆        ┆               │\n",
      "└─────────────┴────────────┴──────────────────┴──────────────────┴────────┴────────┴───────────────┘\n"
     ]
    }
   ],
   "source": [
    "print((\n",
    "    spotify_df\n",
    "    .select(\n",
    "        ~cs.integer()\n",
    "    )\n",
    "    .head(3)\n",
    "))"
   ]
  },
  {
   "cell_type": "markdown",
   "id": "ccfa5c86-dbd9-4466-b7f7-53c85be9e112",
   "metadata": {},
   "source": [
    "### Exercise 2\n",
    "We create a `DataFrame` with temperature and rainfall data from some weather stations"
   ]
  },
  {
   "cell_type": "code",
   "execution_count": 29,
   "id": "5fcf5961-74c3-4d95-ba27-c0929498b6e2",
   "metadata": {},
   "outputs": [
    {
     "data": {
      "text/html": [
       "<div><style>\n",
       ".dataframe > thead > tr,\n",
       ".dataframe > tbody > tr {\n",
       "  text-align: right;\n",
       "  white-space: pre-wrap;\n",
       "}\n",
       "</style>\n",
       "<small>shape: (2, 5)</small><table border=\"1\" class=\"dataframe\"><thead><tr><th>Month</th><th>Station_A (°C)</th><th>Station_B (°C)</th><th>Station_A (mm)</th><th>Station_B (mm)</th></tr><tr><td>str</td><td>f64</td><td>f64</td><td>f64</td><td>f64</td></tr></thead><tbody><tr><td>&quot;Jan&quot;</td><td>20.5</td><td>18.0</td><td>12.0</td><td>13.5</td></tr><tr><td>&quot;Feb&quot;</td><td>21.0</td><td>18.5</td><td>12.0</td><td>13.5</td></tr></tbody></table></div>"
      ],
      "text/plain": [
       "shape: (2, 5)\n",
       "┌───────┬────────────────┬────────────────┬────────────────┬────────────────┐\n",
       "│ Month ┆ Station_A (°C) ┆ Station_B (°C) ┆ Station_A (mm) ┆ Station_B (mm) │\n",
       "│ ---   ┆ ---            ┆ ---            ┆ ---            ┆ ---            │\n",
       "│ str   ┆ f64            ┆ f64            ┆ f64            ┆ f64            │\n",
       "╞═══════╪════════════════╪════════════════╪════════════════╪════════════════╡\n",
       "│ Jan   ┆ 20.5           ┆ 18.0           ┆ 12.0           ┆ 13.5           │\n",
       "│ Feb   ┆ 21.0           ┆ 18.5           ┆ 12.0           ┆ 13.5           │\n",
       "└───────┴────────────────┴────────────────┴────────────────┴────────────────┘"
      ]
     },
     "execution_count": 29,
     "metadata": {},
     "output_type": "execute_result"
    }
   ],
   "source": [
    "df_weather = pl.DataFrame(\n",
    "    [\n",
    "        {\n",
    "            \"Month\": \"Jan\",\n",
    "            \"Station_A (°C)\": 20.5,\n",
    "            \"Station_B (°C)\": 18.0,\n",
    "            \"Station_A (mm)\": 12.0,\n",
    "            \"Station_B (mm)\": 13.5,\n",
    "        },\n",
    "        {\n",
    "            \"Month\": \"Feb\",\n",
    "            \"Station_A (°C)\": 21.0,\n",
    "            \"Station_B (°C)\": 18.5,\n",
    "            \"Station_A (mm)\": 12.0,\n",
    "            \"Station_B (mm)\": 13.5,\n",
    "        },\n",
    "    ]\n",
    ")\n",
    "df_weather"
   ]
  },
  {
   "cell_type": "markdown",
   "id": "2da7d103-05cc-4825-8b8f-99023ef7bb36",
   "metadata": {},
   "source": [
    "Select all the columns with `Station` in the column name using `cs.contains`"
   ]
  },
  {
   "cell_type": "code",
   "execution_count": 42,
   "id": "958a5b00-1158-44dd-b652-dc4e812ebc8b",
   "metadata": {},
   "outputs": [
    {
     "data": {
      "text/html": [
       "<div><style>\n",
       ".dataframe > thead > tr,\n",
       ".dataframe > tbody > tr {\n",
       "  text-align: right;\n",
       "  white-space: pre-wrap;\n",
       "}\n",
       "</style>\n",
       "<small>shape: (2, 4)</small><table border=\"1\" class=\"dataframe\"><thead><tr><th>Station_A (°C)</th><th>Station_B (°C)</th><th>Station_A (mm)</th><th>Station_B (mm)</th></tr><tr><td>f64</td><td>f64</td><td>f64</td><td>f64</td></tr></thead><tbody><tr><td>20.5</td><td>18.0</td><td>12.0</td><td>13.5</td></tr><tr><td>21.0</td><td>18.5</td><td>12.0</td><td>13.5</td></tr></tbody></table></div>"
      ],
      "text/plain": [
       "shape: (2, 4)\n",
       "┌────────────────┬────────────────┬────────────────┬────────────────┐\n",
       "│ Station_A (°C) ┆ Station_B (°C) ┆ Station_A (mm) ┆ Station_B (mm) │\n",
       "│ ---            ┆ ---            ┆ ---            ┆ ---            │\n",
       "│ f64            ┆ f64            ┆ f64            ┆ f64            │\n",
       "╞════════════════╪════════════════╪════════════════╪════════════════╡\n",
       "│ 20.5           ┆ 18.0           ┆ 12.0           ┆ 13.5           │\n",
       "│ 21.0           ┆ 18.5           ┆ 12.0           ┆ 13.5           │\n",
       "└────────────────┴────────────────┴────────────────┴────────────────┘"
      ]
     },
     "execution_count": 42,
     "metadata": {},
     "output_type": "execute_result"
    }
   ],
   "source": [
    "(\n",
    "    df_weather\n",
    "    .select(\n",
    "        pl.selectors.contains(\"Station\")\n",
    "    )\n",
    "    .head(2)\n",
    ")"
   ]
  },
  {
   "cell_type": "markdown",
   "id": "5b951b07-cdb4-4caa-9259-c7e0e9fbfc79",
   "metadata": {},
   "source": [
    "Use `cs.matches` to select all the columns with `Station` and `°C`  in the column name"
   ]
  },
  {
   "cell_type": "code",
   "execution_count": 30,
   "id": "56d5ff62-4718-4c38-a867-93be57856f01",
   "metadata": {},
   "outputs": [
    {
     "data": {
      "text/html": [
       "<div><style>\n",
       ".dataframe > thead > tr,\n",
       ".dataframe > tbody > tr {\n",
       "  text-align: right;\n",
       "  white-space: pre-wrap;\n",
       "}\n",
       "</style>\n",
       "<small>shape: (2, 2)</small><table border=\"1\" class=\"dataframe\"><thead><tr><th>Station_A (°C)</th><th>Station_B (°C)</th></tr><tr><td>f64</td><td>f64</td></tr></thead><tbody><tr><td>20.5</td><td>18.0</td></tr><tr><td>21.0</td><td>18.5</td></tr></tbody></table></div>"
      ],
      "text/plain": [
       "shape: (2, 2)\n",
       "┌────────────────┬────────────────┐\n",
       "│ Station_A (°C) ┆ Station_B (°C) │\n",
       "│ ---            ┆ ---            │\n",
       "│ f64            ┆ f64            │\n",
       "╞════════════════╪════════════════╡\n",
       "│ 20.5           ┆ 18.0           │\n",
       "│ 21.0           ┆ 18.5           │\n",
       "└────────────────┴────────────────┘"
      ]
     },
     "execution_count": 30,
     "metadata": {},
     "output_type": "execute_result"
    }
   ],
   "source": [
    "(\n",
    "    df_weather\n",
    "    .select(\n",
    "        cs.matches(\".*°C.*\")\n",
    "    )\n",
    ")"
   ]
  },
  {
   "cell_type": "markdown",
   "id": "15bd8bee-4eff-4d38-8402-b0b31b2a8abb",
   "metadata": {},
   "source": [
    "### Exercise 3\n",
    "Convert the following Pandas code (that I've seen in the wild!) to Polars\n",
    "\n",
    "Looping over columns in Polars is to be avoided at all costs. \n",
    "\n",
    "Convert this Pandas code with a loop over the columns to Polars code using the Expression API.\n",
    "\n",
    "In the loop we create a dictionary `maxDict` with the column names and maximum values"
   ]
  },
  {
   "cell_type": "code",
   "execution_count": 33,
   "id": "c07660b8-65f0-4e49-8ca4-37aa7cf0f45a",
   "metadata": {
    "tags": []
   },
   "outputs": [
    {
     "data": {
      "text/html": [
       "<div>\n",
       "<style scoped>\n",
       "    .dataframe tbody tr th:only-of-type {\n",
       "        vertical-align: middle;\n",
       "    }\n",
       "\n",
       "    .dataframe tbody tr th {\n",
       "        vertical-align: top;\n",
       "    }\n",
       "\n",
       "    .dataframe thead th {\n",
       "        text-align: right;\n",
       "    }\n",
       "</style>\n",
       "<table border=\"1\" class=\"dataframe\">\n",
       "  <thead>\n",
       "    <tr style=\"text-align: right;\">\n",
       "      <th></th>\n",
       "      <th>Age</th>\n",
       "      <th>Fare</th>\n",
       "    </tr>\n",
       "  </thead>\n",
       "  <tbody>\n",
       "    <tr>\n",
       "      <th>0</th>\n",
       "      <td>80.0</td>\n",
       "      <td>512.3292</td>\n",
       "    </tr>\n",
       "  </tbody>\n",
       "</table>\n",
       "</div>"
      ],
      "text/plain": [
       "    Age      Fare\n",
       "0  80.0  512.3292"
      ]
     },
     "execution_count": 33,
     "metadata": {},
     "output_type": "execute_result"
    }
   ],
   "source": [
    "import pandas as pd\n",
    "import numpy as np\n",
    "df = pl.read_csv(csv_file)\n",
    "dfPandas = df.to_pandas()\n",
    "\n",
    "# Convert this code below to Polars in the following cell\n",
    "maxDict = {}\n",
    "for col in dfPandas.columns:\n",
    "    if dfPandas[col].dtype == np.float64:\n",
    "        maxDict[col] = [dfPandas[col].max()]\n",
    "pd.DataFrame(maxDict)"
   ]
  },
  {
   "cell_type": "code",
   "execution_count": 41,
   "id": "782d3635-3f1f-4cb2-99ef-018ee6f198ad",
   "metadata": {
    "tags": []
   },
   "outputs": [
    {
     "name": "stdout",
     "output_type": "stream",
     "text": [
      "shape: (1, 2)\n",
      "┌──────┬──────────┐\n",
      "│ Age  ┆ Fare     │\n",
      "│ ---  ┆ ---      │\n",
      "│ f64  ┆ f64      │\n",
      "╞══════╪══════════╡\n",
      "│ 80.0 ┆ 512.3292 │\n",
      "└──────┴──────────┘\n"
     ]
    },
    {
     "ename": "ComputeError",
     "evalue": "filter predicate must be of type `Boolean`, got `f64`",
     "output_type": "error",
     "traceback": [
      "\u001b[0;31m---------------------------------------------------------------------------\u001b[0m",
      "\u001b[0;31mComputeError\u001b[0m                              Traceback (most recent call last)",
      "Cell \u001b[0;32mIn[41], line 11\u001b[0m\n\u001b[1;32m      1\u001b[0m \u001b[38;5;28mprint\u001b[39m((\n\u001b[1;32m      2\u001b[0m     pl\u001b[38;5;241m.\u001b[39mread_csv(csv_file)\n\u001b[1;32m      3\u001b[0m      \u001b[38;5;241m.\u001b[39mselect(\n\u001b[1;32m      4\u001b[0m          cs\u001b[38;5;241m.\u001b[39mfloat()\u001b[38;5;241m.\u001b[39mmax()\n\u001b[1;32m      5\u001b[0m      )\n\u001b[1;32m      6\u001b[0m ))\n\u001b[1;32m      8\u001b[0m \u001b[38;5;28mprint\u001b[39m(\n\u001b[1;32m      9\u001b[0m     (\n\u001b[1;32m     10\u001b[0m         \u001b[43mpl\u001b[49m\u001b[38;5;241;43m.\u001b[39;49m\u001b[43mread_csv\u001b[49m\u001b[43m(\u001b[49m\u001b[43mcsv_file\u001b[49m\u001b[43m)\u001b[49m\n\u001b[0;32m---> 11\u001b[0m \u001b[43m        \u001b[49m\u001b[38;5;241;43m.\u001b[39;49m\u001b[43mfilter\u001b[49m\u001b[43m(\u001b[49m\n\u001b[1;32m     12\u001b[0m \u001b[43m            \u001b[49m\u001b[43mpl\u001b[49m\u001b[38;5;241;43m.\u001b[39;49m\u001b[43mcol\u001b[49m\u001b[43m(\u001b[49m\u001b[38;5;124;43m'\u001b[39;49m\u001b[38;5;124;43mAge\u001b[39;49m\u001b[38;5;124;43m'\u001b[39;49m\u001b[43m)\u001b[49m\u001b[38;5;241;43m.\u001b[39;49m\u001b[43mmax\u001b[49m\u001b[43m(\u001b[49m\u001b[43m)\u001b[49m\n\u001b[1;32m     13\u001b[0m \u001b[43m        \u001b[49m\u001b[43m)\u001b[49m\n\u001b[1;32m     14\u001b[0m     )\n\u001b[1;32m     15\u001b[0m )\n",
      "File \u001b[0;32m/opt/miniconda3/envs/ml_study/lib/python3.12/site-packages/polars/dataframe/frame.py:4713\u001b[0m, in \u001b[0;36mDataFrame.filter\u001b[0;34m(self, *predicates, **constraints)\u001b[0m\n\u001b[1;32m   4559\u001b[0m \u001b[38;5;28;01mdef\u001b[39;00m \u001b[38;5;21mfilter\u001b[39m(\n\u001b[1;32m   4560\u001b[0m     \u001b[38;5;28mself\u001b[39m,\n\u001b[1;32m   4561\u001b[0m     \u001b[38;5;241m*\u001b[39mpredicates: (\n\u001b[0;32m   (...)\u001b[0m\n\u001b[1;32m   4568\u001b[0m     \u001b[38;5;241m*\u001b[39m\u001b[38;5;241m*\u001b[39mconstraints: Any,\n\u001b[1;32m   4569\u001b[0m ) \u001b[38;5;241m-\u001b[39m\u001b[38;5;241m>\u001b[39m DataFrame:\n\u001b[1;32m   4570\u001b[0m \u001b[38;5;250m    \u001b[39m\u001b[38;5;124;03m\"\"\"\u001b[39;00m\n\u001b[1;32m   4571\u001b[0m \u001b[38;5;124;03m    Filter the rows in the DataFrame based on one or more predicate expressions.\u001b[39;00m\n\u001b[1;32m   4572\u001b[0m \n\u001b[0;32m   (...)\u001b[0m\n\u001b[1;32m   4711\u001b[0m \n\u001b[1;32m   4712\u001b[0m \u001b[38;5;124;03m    \"\"\"\u001b[39;00m\n\u001b[0;32m-> 4713\u001b[0m     \u001b[38;5;28;01mreturn\u001b[39;00m \u001b[38;5;28;43mself\u001b[39;49m\u001b[38;5;241;43m.\u001b[39;49m\u001b[43mlazy\u001b[49m\u001b[43m(\u001b[49m\u001b[43m)\u001b[49m\u001b[38;5;241;43m.\u001b[39;49m\u001b[43mfilter\u001b[49m\u001b[43m(\u001b[49m\u001b[38;5;241;43m*\u001b[39;49m\u001b[43mpredicates\u001b[49m\u001b[43m,\u001b[49m\u001b[43m \u001b[49m\u001b[38;5;241;43m*\u001b[39;49m\u001b[38;5;241;43m*\u001b[39;49m\u001b[43mconstraints\u001b[49m\u001b[43m)\u001b[49m\u001b[38;5;241;43m.\u001b[39;49m\u001b[43mcollect\u001b[49m\u001b[43m(\u001b[49m\u001b[43m_eager\u001b[49m\u001b[38;5;241;43m=\u001b[39;49m\u001b[38;5;28;43;01mTrue\u001b[39;49;00m\u001b[43m)\u001b[49m\n",
      "File \u001b[0;32m/opt/miniconda3/envs/ml_study/lib/python3.12/site-packages/polars/lazyframe/frame.py:2032\u001b[0m, in \u001b[0;36mLazyFrame.collect\u001b[0;34m(self, type_coercion, predicate_pushdown, projection_pushdown, simplify_expression, slice_pushdown, comm_subplan_elim, comm_subexpr_elim, cluster_with_columns, no_optimization, streaming, engine, background, _eager, **_kwargs)\u001b[0m\n\u001b[1;32m   2030\u001b[0m \u001b[38;5;66;03m# Only for testing purposes\u001b[39;00m\n\u001b[1;32m   2031\u001b[0m callback \u001b[38;5;241m=\u001b[39m _kwargs\u001b[38;5;241m.\u001b[39mget(\u001b[38;5;124m\"\u001b[39m\u001b[38;5;124mpost_opt_callback\u001b[39m\u001b[38;5;124m\"\u001b[39m, callback)\n\u001b[0;32m-> 2032\u001b[0m \u001b[38;5;28;01mreturn\u001b[39;00m wrap_df(\u001b[43mldf\u001b[49m\u001b[38;5;241;43m.\u001b[39;49m\u001b[43mcollect\u001b[49m\u001b[43m(\u001b[49m\u001b[43mcallback\u001b[49m\u001b[43m)\u001b[49m)\n",
      "\u001b[0;31mComputeError\u001b[0m: filter predicate must be of type `Boolean`, got `f64`"
     ]
    }
   ],
   "source": [
    "print((\n",
    "    pl.read_csv(csv_file)\n",
    "     .select(\n",
    "         cs.float().max()\n",
    "     )\n",
    "))\n",
    "\n",
    "print(\n",
    "    (\n",
    "        pl.read_csv(csv_file)\n",
    "        .filter(\n",
    "            pl.col('Age').max() # filter은 boolean 타입의 조건을 보내야함,.!!!!!!! 주의 !!!!\n",
    "        )\n",
    "    )\n",
    ")"
   ]
  },
  {
   "cell_type": "markdown",
   "id": "84205876-bba5-4967-81c9-1fc26b3722e1",
   "metadata": {},
   "source": [
    "## Solutions\n",
    "\n",
    "### Solution to Exercise 1\n",
    "We create a `DataFrame` from the Spotify data"
   ]
  },
  {
   "cell_type": "code",
   "execution_count": null,
   "id": "e406536c-d372-42be-b1e4-614c6983717b",
   "metadata": {},
   "outputs": [],
   "source": [
    "pl.Config.set_fmt_str_lengths(30)\n",
    "spotify_csv = \"../data/spotify-charts-2017-2021-global-top200.csv.gz\"\n",
    "spotify_df = pl.read_csv(spotify_csv,try_parse_dates=True)\n",
    "spotify_df.head(3)"
   ]
  },
  {
   "cell_type": "markdown",
   "id": "1d0ad78e-200c-4e4b-b55d-f96e6d310695",
   "metadata": {},
   "source": [
    "Select the `title` and `artist` columns using the expression API (and not selectors)"
   ]
  },
  {
   "cell_type": "code",
   "execution_count": null,
   "id": "6ef9090e-ca32-4335-bd38-7bbdf457e6cc",
   "metadata": {
    "jupyter": {
     "source_hidden": true
    }
   },
   "outputs": [],
   "source": [
    "(\n",
    "    spotify_df\n",
    "    .select(\n",
    "        pl.col(\"title\",\"artist\")\n",
    "    )\n",
    "    .head(3)\n",
    ")"
   ]
  },
  {
   "cell_type": "markdown",
   "id": "54951a12-4434-4029-8f99-a4c2eb282dda",
   "metadata": {},
   "source": [
    "Select all string and date columns from the spotify `DataFrame` using the expression API"
   ]
  },
  {
   "cell_type": "code",
   "execution_count": null,
   "id": "5777e105-4862-439b-ae94-81a57dd4487b",
   "metadata": {
    "jupyter": {
     "source_hidden": true
    },
    "tags": []
   },
   "outputs": [],
   "source": [
    "(\n",
    "    spotify_df\n",
    "    .select(\n",
    "        pl.col(pl.Utf8,pl.Date)\n",
    "    )\n",
    "    .head(3)\n",
    ")"
   ]
  },
  {
   "cell_type": "markdown",
   "id": "a40ad50f-8140-42a0-ab0b-df9548b506ac",
   "metadata": {},
   "source": [
    "Select all string and date columns from the spotify `DataFrame` - except the `url` column using the expression API (and not selectors)"
   ]
  },
  {
   "cell_type": "code",
   "execution_count": null,
   "id": "242165dd-145a-49a4-9096-21692e31fb59",
   "metadata": {
    "jupyter": {
     "source_hidden": true
    }
   },
   "outputs": [],
   "source": [
    "(\n",
    "    spotify_df\n",
    "    .select(\n",
    "        pl.col(pl.Utf8,pl.Date).exclude(\"url\")\n",
    "    )\n",
    "    .head(3)\n",
    ")"
   ]
  },
  {
   "cell_type": "markdown",
   "id": "18f2a77f-16c3-4bd3-b9cd-f452bfc9e409",
   "metadata": {},
   "source": [
    "Select all string and date columns again but use the selectors API"
   ]
  },
  {
   "cell_type": "code",
   "execution_count": null,
   "id": "ac364873-7c48-4240-9bb9-154c82b8facb",
   "metadata": {
    "jupyter": {
     "source_hidden": true
    }
   },
   "outputs": [],
   "source": [
    "(\n",
    "    spotify_df\n",
    "    .select(\n",
    "        cs.by_dtype(pl.Utf8,pl.Date) - cs.by_name(\"url\")\n",
    "    )\n",
    "    .head(3)\n",
    ")"
   ]
  },
  {
   "cell_type": "markdown",
   "id": "8d318fdf-9c1b-48cb-a847-4740b75e6594",
   "metadata": {},
   "source": [
    "Select all the columns that start with `t` or `a`"
   ]
  },
  {
   "cell_type": "code",
   "execution_count": null,
   "id": "6719bb2c-d1cf-4492-afa3-84717b15e7e9",
   "metadata": {
    "jupyter": {
     "source_hidden": true
    },
    "tags": []
   },
   "outputs": [],
   "source": [
    "(\n",
    "    spotify_df\n",
    "    .select(\n",
    "        cs.starts_with(\"t\",\"a\")\n",
    "    )\n",
    "    .head(3)\n",
    ")"
   ]
  },
  {
   "cell_type": "markdown",
   "id": "00dc2483-fc21-4aac-ac2f-d197cd0634eb",
   "metadata": {},
   "source": [
    "Select all columns except the integer columns (using the ~ operator)"
   ]
  },
  {
   "cell_type": "code",
   "execution_count": null,
   "id": "179bf886-0548-433b-a24c-8d924910b2b8",
   "metadata": {
    "jupyter": {
     "source_hidden": true
    }
   },
   "outputs": [],
   "source": [
    "(\n",
    "    spotify_df\n",
    "    .select(\n",
    "        ~cs.integer()\n",
    "    )\n",
    "    .head(3)\n",
    ")"
   ]
  },
  {
   "cell_type": "markdown",
   "id": "a9024b05-4a51-4254-accd-9266998c1eae",
   "metadata": {},
   "source": [
    "### Solution to Exercise 2\n",
    "We create a `DataFrame` with temperature and rainfall data from some weather stations"
   ]
  },
  {
   "cell_type": "code",
   "execution_count": null,
   "id": "19477dd0-763d-4660-a717-4319646258f3",
   "metadata": {},
   "outputs": [],
   "source": [
    "df_weather = pl.DataFrame(\n",
    "    [\n",
    "        {\n",
    "            \"Month\": \"Jan\",\n",
    "            \"Station_A (°C)\": 20.5,\n",
    "            \"Station_B (°C)\": 18.0,\n",
    "            \"Station_A (mm)\": 12.0,\n",
    "            \"Station_B (mm)\": 13.5,\n",
    "        },\n",
    "        {\n",
    "            \"Month\": \"Feb\",\n",
    "            \"Station_A (°C)\": 21.0,\n",
    "            \"Station_B (°C)\": 18.5,\n",
    "            \"Station_A (mm)\": 12.0,\n",
    "            \"Station_B (mm)\": 13.5,\n",
    "        },\n",
    "    ]\n",
    ")\n",
    "df_weather"
   ]
  },
  {
   "cell_type": "markdown",
   "id": "d3cdc321-adef-4228-a3e7-028239a26f25",
   "metadata": {},
   "source": [
    "Select all the columns with `Station` in the column name using `cs.contains`"
   ]
  },
  {
   "cell_type": "code",
   "execution_count": null,
   "id": "5a41958e-d7a2-4ffd-9be6-0def200955b5",
   "metadata": {
    "jupyter": {
     "source_hidden": true
    }
   },
   "outputs": [],
   "source": [
    "(\n",
    "    df_weather\n",
    "    .select(\n",
    "        cs.contains(\"Station\")\n",
    "    )\n",
    ")"
   ]
  },
  {
   "cell_type": "markdown",
   "id": "34513d97-382d-430c-b3a1-c54a3e21c2e3",
   "metadata": {},
   "source": [
    "Use `cs.matches` to select all the columns with `Station` and `°C`  in the column name"
   ]
  },
  {
   "cell_type": "code",
   "execution_count": null,
   "id": "d01fb508-eca4-4c65-bd2a-ebb0d459b188",
   "metadata": {
    "jupyter": {
     "source_hidden": true
    }
   },
   "outputs": [],
   "source": [
    "(\n",
    "    df_weather\n",
    "    .select(\n",
    "        cs.matches(\"Station.*°C\")\n",
    "    )\n",
    ")"
   ]
  },
  {
   "cell_type": "markdown",
   "id": "a3b32c33-2246-4ed6-a8ed-07b1546be9e5",
   "metadata": {},
   "source": [
    "### Solution to Exercise 3\n",
    "Convert the following Pandas code to Polars\n",
    "```python\n",
    "import pandas as pd\n",
    "import numpy as np\n",
    "df = pl.read_csv(csv_file)\n",
    "dfPandas = df.to_pandas()\n",
    "\n",
    "# Convert this code below to Polars in the following cell\n",
    "maxDict = {}\n",
    "for col in dfPandas.columns:\n",
    "    if dfPandas[col].dtype == np.float64:\n",
    "        maxDict[col] = [dfPandas[col].max()]\n",
    "pd.DataFrame(maxDict)\n",
    "```"
   ]
  },
  {
   "cell_type": "code",
   "execution_count": null,
   "id": "27764b00-447f-4e3f-a17d-26232dcfebd0",
   "metadata": {
    "jupyter": {
     "source_hidden": true
    },
    "tags": []
   },
   "outputs": [],
   "source": [
    "(\n",
    "    pl.read_csv(csv_file)\n",
    "    .select(\n",
    "        pl.col(pl.Float64).max()\n",
    "    )\n",
    ")"
   ]
  },
  {
   "cell_type": "markdown",
   "id": "9f7f9b19-c0fd-42fb-9170-ca43004b78b6",
   "metadata": {},
   "source": [
    "Note that there is a better way to do this in Pandas (I just don't see this so often in the wild!)"
   ]
  },
  {
   "cell_type": "code",
   "execution_count": null,
   "id": "7796a372-025b-4382-bc92-b2de5d4fbc94",
   "metadata": {
    "jupyter": {
     "source_hidden": true
    }
   },
   "outputs": [],
   "source": [
    "df_pandas = df.to_pandas()\n",
    "df_pandas.select_dtypes(\"float\").max()"
   ]
  }
 ],
 "metadata": {
  "kernelspec": {
   "display_name": "Python 3 (ipykernel)",
   "language": "python",
   "name": "python3"
  },
  "language_info": {
   "codemirror_mode": {
    "name": "ipython",
    "version": 3
   },
   "file_extension": ".py",
   "mimetype": "text/x-python",
   "name": "python",
   "nbconvert_exporter": "python",
   "pygments_lexer": "ipython3",
   "version": "3.12.5"
  }
 },
 "nbformat": 4,
 "nbformat_minor": 5
}
