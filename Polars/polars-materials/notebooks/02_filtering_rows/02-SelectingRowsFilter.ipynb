{
 "cells": [
  {
   "cell_type": "markdown",
   "id": "b06a7473-8d52-4c0d-b469-37add3272a53",
   "metadata": {},
   "source": [
    "# Filtering rows 2: Using `filter` and the Expression API\n",
    "\n",
    "By the end of this lecture you will be able to:\n",
    "- apply conditions with the `filter` method\n",
    "- add a row number column\n",
    "- parition a `DataFrame`\n",
    "\n",
    "The `filter` method is our first example of the *Expression API*.\n",
    "\n",
    "_**Learning to use the *Expression API* is the most important step to writing high performance queries in Polars**_\n"
   ]
  },
  {
   "cell_type": "code",
   "execution_count": 1,
   "id": "9fd758ec-0727-4c1e-87ae-04fd47b267b6",
   "metadata": {
    "tags": []
   },
   "outputs": [],
   "source": [
    "import polars as pl"
   ]
  },
  {
   "cell_type": "code",
   "execution_count": 2,
   "id": "43c1d48b-a1cc-4374-bfd5-83817c491923",
   "metadata": {
    "tags": []
   },
   "outputs": [],
   "source": [
    "csv_file = \"../data/titanic.csv\""
   ]
  },
  {
   "cell_type": "code",
   "execution_count": 3,
   "id": "23ec4b89-5819-4654-a3c8-d43a7a7b31fd",
   "metadata": {
    "tags": []
   },
   "outputs": [
    {
     "name": "stdout",
     "output_type": "stream",
     "text": [
      "shape: (3, 12)\n",
      "┌─────────────┬──────────┬────────┬───────────────────┬───┬───────────┬─────────┬───────┬──────────┐\n",
      "│ PassengerId ┆ Survived ┆ Pclass ┆ Name              ┆ … ┆ Ticket    ┆ Fare    ┆ Cabin ┆ Embarked │\n",
      "│ ---         ┆ ---      ┆ ---    ┆ ---               ┆   ┆ ---       ┆ ---     ┆ ---   ┆ ---      │\n",
      "│ i64         ┆ i64      ┆ i64    ┆ str               ┆   ┆ str       ┆ f64     ┆ str   ┆ str      │\n",
      "╞═════════════╪══════════╪════════╪═══════════════════╪═══╪═══════════╪═════════╪═══════╪══════════╡\n",
      "│ 1           ┆ 0        ┆ 3      ┆ Braund, Mr. Owen  ┆ … ┆ A/5 21171 ┆ 7.25    ┆ null  ┆ S        │\n",
      "│             ┆          ┆        ┆ Harris            ┆   ┆           ┆         ┆       ┆          │\n",
      "│ 2           ┆ 1        ┆ 1      ┆ Cumings, Mrs.     ┆ … ┆ PC 17599  ┆ 71.2833 ┆ C85   ┆ C        │\n",
      "│             ┆          ┆        ┆ John Bradley (Fl… ┆   ┆           ┆         ┆       ┆          │\n",
      "│ 3           ┆ 1        ┆ 3      ┆ Heikkinen, Miss.  ┆ … ┆ STON/O2.  ┆ 7.925   ┆ null  ┆ S        │\n",
      "│             ┆          ┆        ┆ Laina             ┆   ┆ 3101282   ┆         ┆       ┆          │\n",
      "└─────────────┴──────────┴────────┴───────────────────┴───┴───────────┴─────────┴───────┴──────────┘\n"
     ]
    }
   ],
   "source": [
    "df = pl.read_csv(csv_file)\n",
    "print(df.head(3))"
   ]
  },
  {
   "cell_type": "code",
   "execution_count": 4,
   "id": "7ba6f227",
   "metadata": {},
   "outputs": [
    {
     "data": {
      "text/plain": [
       "Schema([('PassengerId', Int64),\n",
       "        ('Survived', Int64),\n",
       "        ('Pclass', Int64),\n",
       "        ('Name', String),\n",
       "        ('Sex', String),\n",
       "        ('Age', Float64),\n",
       "        ('SibSp', Int64),\n",
       "        ('Parch', Int64),\n",
       "        ('Ticket', String),\n",
       "        ('Fare', Float64),\n",
       "        ('Cabin', String),\n",
       "        ('Embarked', String)])"
      ]
     },
     "execution_count": 4,
     "metadata": {},
     "output_type": "execute_result"
    }
   ],
   "source": [
    "df.schema"
   ]
  },
  {
   "cell_type": "code",
   "execution_count": 9,
   "id": "abc5b243",
   "metadata": {},
   "outputs": [
    {
     "data": {
      "text/html": [
       "<div><style>\n",
       ".dataframe > thead > tr,\n",
       ".dataframe > tbody > tr {\n",
       "  text-align: right;\n",
       "  white-space: pre-wrap;\n",
       "}\n",
       "</style>\n",
       "<small>shape: (5, 12)</small><table border=\"1\" class=\"dataframe\"><thead><tr><th>PassengerId</th><th>Survived</th><th>Pclass</th><th>Name</th><th>Sex</th><th>Age</th><th>SibSp</th><th>Parch</th><th>Ticket</th><th>Fare</th><th>Cabin</th><th>Embarked</th></tr><tr><td>i64</td><td>i64</td><td>i64</td><td>str</td><td>str</td><td>f64</td><td>i64</td><td>i64</td><td>str</td><td>f64</td><td>str</td><td>str</td></tr></thead><tbody><tr><td>1</td><td>0</td><td>3</td><td>&quot;Braund, Mr. Owen Harris&quot;</td><td>&quot;male&quot;</td><td>22.0</td><td>1</td><td>0</td><td>&quot;A/5 21171&quot;</td><td>7.25</td><td>null</td><td>&quot;S&quot;</td></tr><tr><td>3</td><td>1</td><td>3</td><td>&quot;Heikkinen, Miss. Laina&quot;</td><td>&quot;female&quot;</td><td>26.0</td><td>0</td><td>0</td><td>&quot;STON/O2. 3101282&quot;</td><td>7.925</td><td>null</td><td>&quot;S&quot;</td></tr><tr><td>8</td><td>0</td><td>3</td><td>&quot;Palsson, Master. Gosta Leonard&quot;</td><td>&quot;male&quot;</td><td>2.0</td><td>3</td><td>1</td><td>&quot;349909&quot;</td><td>21.075</td><td>null</td><td>&quot;S&quot;</td></tr><tr><td>9</td><td>1</td><td>3</td><td>&quot;Johnson, Mrs. Oscar W (Elisabe…</td><td>&quot;female&quot;</td><td>27.0</td><td>0</td><td>2</td><td>&quot;347742&quot;</td><td>11.1333</td><td>null</td><td>&quot;S&quot;</td></tr><tr><td>10</td><td>1</td><td>2</td><td>&quot;Nasser, Mrs. Nicholas (Adele A…</td><td>&quot;female&quot;</td><td>14.0</td><td>1</td><td>0</td><td>&quot;237736&quot;</td><td>30.0708</td><td>null</td><td>&quot;C&quot;</td></tr></tbody></table></div>"
      ],
      "text/plain": [
       "shape: (5, 12)\n",
       "┌─────────────┬──────────┬────────┬───────────────────┬───┬───────────┬─────────┬───────┬──────────┐\n",
       "│ PassengerId ┆ Survived ┆ Pclass ┆ Name              ┆ … ┆ Ticket    ┆ Fare    ┆ Cabin ┆ Embarked │\n",
       "│ ---         ┆ ---      ┆ ---    ┆ ---               ┆   ┆ ---       ┆ ---     ┆ ---   ┆ ---      │\n",
       "│ i64         ┆ i64      ┆ i64    ┆ str               ┆   ┆ str       ┆ f64     ┆ str   ┆ str      │\n",
       "╞═════════════╪══════════╪════════╪═══════════════════╪═══╪═══════════╪═════════╪═══════╪══════════╡\n",
       "│ 1           ┆ 0        ┆ 3      ┆ Braund, Mr. Owen  ┆ … ┆ A/5 21171 ┆ 7.25    ┆ null  ┆ S        │\n",
       "│             ┆          ┆        ┆ Harris            ┆   ┆           ┆         ┆       ┆          │\n",
       "│ 3           ┆ 1        ┆ 3      ┆ Heikkinen, Miss.  ┆ … ┆ STON/O2.  ┆ 7.925   ┆ null  ┆ S        │\n",
       "│             ┆          ┆        ┆ Laina             ┆   ┆ 3101282   ┆         ┆       ┆          │\n",
       "│ 8           ┆ 0        ┆ 3      ┆ Palsson, Master.  ┆ … ┆ 349909    ┆ 21.075  ┆ null  ┆ S        │\n",
       "│             ┆          ┆        ┆ Gosta Leonard     ┆   ┆           ┆         ┆       ┆          │\n",
       "│ 9           ┆ 1        ┆ 3      ┆ Johnson, Mrs.     ┆ … ┆ 347742    ┆ 11.1333 ┆ null  ┆ S        │\n",
       "│             ┆          ┆        ┆ Oscar W (Elisabe… ┆   ┆           ┆         ┆       ┆          │\n",
       "│ 10          ┆ 1        ┆ 2      ┆ Nasser, Mrs.      ┆ … ┆ 237736    ┆ 30.0708 ┆ null  ┆ C        │\n",
       "│             ┆          ┆        ┆ Nicholas (Adele   ┆   ┆           ┆         ┆       ┆          │\n",
       "│             ┆          ┆        ┆ A…                ┆   ┆           ┆         ┆       ┆          │\n",
       "└─────────────┴──────────┴────────┴───────────────────┴───┴───────────┴─────────┴───────┴──────────┘"
      ]
     },
     "execution_count": 9,
     "metadata": {},
     "output_type": "execute_result"
    }
   ],
   "source": [
    "(\n",
    "    df\n",
    "    .filter(\n",
    "        (pl.col(\"Age\") < 30).alias(\"less_than_30\")\n",
    "    )\n",
    "    .head()\n",
    ")"
   ]
  },
  {
   "cell_type": "code",
   "execution_count": 13,
   "id": "54a51513",
   "metadata": {},
   "outputs": [
    {
     "data": {
      "text/html": [
       "<div><style>\n",
       ".dataframe > thead > tr,\n",
       ".dataframe > tbody > tr {\n",
       "  text-align: right;\n",
       "  white-space: pre-wrap;\n",
       "}\n",
       "</style>\n",
       "<small>shape: (5, 13)</small><table border=\"1\" class=\"dataframe\"><thead><tr><th>PassengerId</th><th>Survived</th><th>Pclass</th><th>Name</th><th>Sex</th><th>Age</th><th>SibSp</th><th>Parch</th><th>Ticket</th><th>Fare</th><th>Cabin</th><th>Embarked</th><th>plus30</th></tr><tr><td>i64</td><td>i64</td><td>i64</td><td>str</td><td>str</td><td>f64</td><td>i64</td><td>i64</td><td>str</td><td>f64</td><td>str</td><td>str</td><td>f64</td></tr></thead><tbody><tr><td>8</td><td>0</td><td>3</td><td>&quot;Palsson, Master. Gosta Leonard&quot;</td><td>&quot;male&quot;</td><td>2.0</td><td>3</td><td>1</td><td>&quot;349909&quot;</td><td>21.075</td><td>null</td><td>&quot;S&quot;</td><td>32.0</td></tr><tr><td>10</td><td>1</td><td>2</td><td>&quot;Nasser, Mrs. Nicholas (Adele A…</td><td>&quot;female&quot;</td><td>14.0</td><td>1</td><td>0</td><td>&quot;237736&quot;</td><td>30.0708</td><td>null</td><td>&quot;C&quot;</td><td>44.0</td></tr><tr><td>11</td><td>1</td><td>3</td><td>&quot;Sandstrom, Miss. Marguerite Ru…</td><td>&quot;female&quot;</td><td>4.0</td><td>1</td><td>1</td><td>&quot;PP 9549&quot;</td><td>16.7</td><td>&quot;G6&quot;</td><td>&quot;S&quot;</td><td>34.0</td></tr><tr><td>15</td><td>0</td><td>3</td><td>&quot;Vestrom, Miss. Hulda Amanda Ad…</td><td>&quot;female&quot;</td><td>14.0</td><td>0</td><td>0</td><td>&quot;350406&quot;</td><td>7.8542</td><td>null</td><td>&quot;S&quot;</td><td>44.0</td></tr><tr><td>17</td><td>0</td><td>3</td><td>&quot;Rice, Master. Eugene&quot;</td><td>&quot;male&quot;</td><td>2.0</td><td>4</td><td>1</td><td>&quot;382652&quot;</td><td>29.125</td><td>null</td><td>&quot;Q&quot;</td><td>32.0</td></tr></tbody></table></div>"
      ],
      "text/plain": [
       "shape: (5, 13)\n",
       "┌─────────────┬──────────┬────────┬──────────────────────┬───┬─────────┬───────┬──────────┬────────┐\n",
       "│ PassengerId ┆ Survived ┆ Pclass ┆ Name                 ┆ … ┆ Fare    ┆ Cabin ┆ Embarked ┆ plus30 │\n",
       "│ ---         ┆ ---      ┆ ---    ┆ ---                  ┆   ┆ ---     ┆ ---   ┆ ---      ┆ ---    │\n",
       "│ i64         ┆ i64      ┆ i64    ┆ str                  ┆   ┆ f64     ┆ str   ┆ str      ┆ f64    │\n",
       "╞═════════════╪══════════╪════════╪══════════════════════╪═══╪═════════╪═══════╪══════════╪════════╡\n",
       "│ 8           ┆ 0        ┆ 3      ┆ Palsson, Master.     ┆ … ┆ 21.075  ┆ null  ┆ S        ┆ 32.0   │\n",
       "│             ┆          ┆        ┆ Gosta Leonard        ┆   ┆         ┆       ┆          ┆        │\n",
       "│ 10          ┆ 1        ┆ 2      ┆ Nasser, Mrs.         ┆ … ┆ 30.0708 ┆ null  ┆ C        ┆ 44.0   │\n",
       "│             ┆          ┆        ┆ Nicholas (Adele A…   ┆   ┆         ┆       ┆          ┆        │\n",
       "│ 11          ┆ 1        ┆ 3      ┆ Sandstrom, Miss.     ┆ … ┆ 16.7    ┆ G6    ┆ S        ┆ 34.0   │\n",
       "│             ┆          ┆        ┆ Marguerite Ru…       ┆   ┆         ┆       ┆          ┆        │\n",
       "│ 15          ┆ 0        ┆ 3      ┆ Vestrom, Miss. Hulda ┆ … ┆ 7.8542  ┆ null  ┆ S        ┆ 44.0   │\n",
       "│             ┆          ┆        ┆ Amanda Ad…           ┆   ┆         ┆       ┆          ┆        │\n",
       "│ 17          ┆ 0        ┆ 3      ┆ Rice, Master. Eugene ┆ … ┆ 29.125  ┆ null  ┆ Q        ┆ 32.0   │\n",
       "└─────────────┴──────────┴────────┴──────────────────────┴───┴─────────┴───────┴──────────┴────────┘"
      ]
     },
     "execution_count": 13,
     "metadata": {},
     "output_type": "execute_result"
    }
   ],
   "source": [
    "(\n",
    "    pl.read_csv(csv_file)\n",
    "    .with_columns(\n",
    "        (pl.col(\"Age\") + 30).alias(\"plus30\") #\n",
    "    )\n",
    "    .filter(\n",
    "        (pl.col(\"plus30\") < 50) #fiter by boolean\n",
    "    )\n",
    "    .head()\n",
    ")"
   ]
  },
  {
   "cell_type": "code",
   "execution_count": 14,
   "id": "4984d26f",
   "metadata": {},
   "outputs": [
    {
     "data": {
      "text/html": [
       "<div><style>\n",
       ".dataframe > thead > tr,\n",
       ".dataframe > tbody > tr {\n",
       "  text-align: right;\n",
       "  white-space: pre-wrap;\n",
       "}\n",
       "</style>\n",
       "<small>shape: (5, 12)</small><table border=\"1\" class=\"dataframe\"><thead><tr><th>PassengerId</th><th>Survived</th><th>Pclass</th><th>Name</th><th>Sex</th><th>less_than_30</th><th>SibSp</th><th>Parch</th><th>Ticket</th><th>Fare</th><th>Cabin</th><th>Embarked</th></tr><tr><td>i64</td><td>i64</td><td>i64</td><td>str</td><td>str</td><td>f64</td><td>i64</td><td>i64</td><td>str</td><td>f64</td><td>str</td><td>str</td></tr></thead><tbody><tr><td>1</td><td>0</td><td>3</td><td>&quot;Braund, Mr. Owen Harris&quot;</td><td>&quot;male&quot;</td><td>22.0</td><td>1</td><td>0</td><td>&quot;A/5 21171&quot;</td><td>7.25</td><td>null</td><td>&quot;S&quot;</td></tr><tr><td>3</td><td>1</td><td>3</td><td>&quot;Heikkinen, Miss. Laina&quot;</td><td>&quot;female&quot;</td><td>26.0</td><td>0</td><td>0</td><td>&quot;STON/O2. 3101282&quot;</td><td>7.925</td><td>null</td><td>&quot;S&quot;</td></tr><tr><td>8</td><td>0</td><td>3</td><td>&quot;Palsson, Master. Gosta Leonard&quot;</td><td>&quot;male&quot;</td><td>2.0</td><td>3</td><td>1</td><td>&quot;349909&quot;</td><td>21.075</td><td>null</td><td>&quot;S&quot;</td></tr><tr><td>9</td><td>1</td><td>3</td><td>&quot;Johnson, Mrs. Oscar W (Elisabe…</td><td>&quot;female&quot;</td><td>27.0</td><td>0</td><td>2</td><td>&quot;347742&quot;</td><td>11.1333</td><td>null</td><td>&quot;S&quot;</td></tr><tr><td>10</td><td>1</td><td>2</td><td>&quot;Nasser, Mrs. Nicholas (Adele A…</td><td>&quot;female&quot;</td><td>14.0</td><td>1</td><td>0</td><td>&quot;237736&quot;</td><td>30.0708</td><td>null</td><td>&quot;C&quot;</td></tr></tbody></table></div>"
      ],
      "text/plain": [
       "shape: (5, 12)\n",
       "┌─────────────┬──────────┬────────┬───────────────────┬───┬───────────┬─────────┬───────┬──────────┐\n",
       "│ PassengerId ┆ Survived ┆ Pclass ┆ Name              ┆ … ┆ Ticket    ┆ Fare    ┆ Cabin ┆ Embarked │\n",
       "│ ---         ┆ ---      ┆ ---    ┆ ---               ┆   ┆ ---       ┆ ---     ┆ ---   ┆ ---      │\n",
       "│ i64         ┆ i64      ┆ i64    ┆ str               ┆   ┆ str       ┆ f64     ┆ str   ┆ str      │\n",
       "╞═════════════╪══════════╪════════╪═══════════════════╪═══╪═══════════╪═════════╪═══════╪══════════╡\n",
       "│ 1           ┆ 0        ┆ 3      ┆ Braund, Mr. Owen  ┆ … ┆ A/5 21171 ┆ 7.25    ┆ null  ┆ S        │\n",
       "│             ┆          ┆        ┆ Harris            ┆   ┆           ┆         ┆       ┆          │\n",
       "│ 3           ┆ 1        ┆ 3      ┆ Heikkinen, Miss.  ┆ … ┆ STON/O2.  ┆ 7.925   ┆ null  ┆ S        │\n",
       "│             ┆          ┆        ┆ Laina             ┆   ┆ 3101282   ┆         ┆       ┆          │\n",
       "│ 8           ┆ 0        ┆ 3      ┆ Palsson, Master.  ┆ … ┆ 349909    ┆ 21.075  ┆ null  ┆ S        │\n",
       "│             ┆          ┆        ┆ Gosta Leonard     ┆   ┆           ┆         ┆       ┆          │\n",
       "│ 9           ┆ 1        ┆ 3      ┆ Johnson, Mrs.     ┆ … ┆ 347742    ┆ 11.1333 ┆ null  ┆ S        │\n",
       "│             ┆          ┆        ┆ Oscar W (Elisabe… ┆   ┆           ┆         ┆       ┆          │\n",
       "│ 10          ┆ 1        ┆ 2      ┆ Nasser, Mrs.      ┆ … ┆ 237736    ┆ 30.0708 ┆ null  ┆ C        │\n",
       "│             ┆          ┆        ┆ Nicholas (Adele   ┆   ┆           ┆         ┆       ┆          │\n",
       "│             ┆          ┆        ┆ A…                ┆   ┆           ┆         ┆       ┆          │\n",
       "└─────────────┴──────────┴────────┴───────────────────┴───┴───────────┴─────────┴───────┴──────────┘"
      ]
     },
     "execution_count": 14,
     "metadata": {},
     "output_type": "execute_result"
    }
   ],
   "source": [
    "# renam ecolumn name - > use rename method\n",
    "(\n",
    "    pl.read_csv(csv_file)\n",
    "    .rename({'Age' : 'less_than_30'})\n",
    "    .filter(\n",
    "        pl.col('less_than_30') < 30\n",
    "    )\n",
    "    .head()\n",
    ")"
   ]
  },
  {
   "cell_type": "markdown",
   "id": "c7ee8c91-cfd2-42a4-8c15-cc0e6a2215f7",
   "metadata": {},
   "source": [
    "## Applying conditions with `filter`\n",
    "\n",
    "We use the `filter` method to filter rows according to a condition.\n",
    "\n",
    "> In Pandas we often use a boolean mask to filter rows but in Polars we use `filter`. Note also that the `filter` method in Polars is quite different from the filter method in Pandas.\n",
    "\n",
    "We first use an *expression* in the `filter` method before we examine the syntax in more detail.\n",
    "\n",
    "In this example we want to keep all rows with the first class passengers"
   ]
  },
  {
   "cell_type": "markdown",
   "id": "fd42db85",
   "metadata": {},
   "source": [
    "* `filter`은 해당 열의 boolean 값에 따라 출력 여부를 결정 (True => 출력, False => 미출력)"
   ]
  },
  {
   "cell_type": "code",
   "execution_count": 6,
   "id": "565f8f0e-b6de-4f03-8bba-e347eb96588b",
   "metadata": {
    "tags": []
   },
   "outputs": [
    {
     "data": {
      "text/html": [
       "<div><style>\n",
       ".dataframe > thead > tr,\n",
       ".dataframe > tbody > tr {\n",
       "  text-align: right;\n",
       "  white-space: pre-wrap;\n",
       "}\n",
       "</style>\n",
       "<small>shape: (2, 12)</small><table border=\"1\" class=\"dataframe\"><thead><tr><th>PassengerId</th><th>Survived</th><th>Pclass</th><th>Name</th><th>Sex</th><th>Age</th><th>SibSp</th><th>Parch</th><th>Ticket</th><th>Fare</th><th>Cabin</th><th>Embarked</th></tr><tr><td>i64</td><td>i64</td><td>i64</td><td>str</td><td>str</td><td>f64</td><td>i64</td><td>i64</td><td>str</td><td>f64</td><td>str</td><td>str</td></tr></thead><tbody><tr><td>2</td><td>1</td><td>1</td><td>&quot;Cumings, Mrs. John Bradley (Fl…</td><td>&quot;female&quot;</td><td>38.0</td><td>1</td><td>0</td><td>&quot;PC 17599&quot;</td><td>71.2833</td><td>&quot;C85&quot;</td><td>&quot;C&quot;</td></tr><tr><td>4</td><td>1</td><td>1</td><td>&quot;Futrelle, Mrs. Jacques Heath (…</td><td>&quot;female&quot;</td><td>35.0</td><td>1</td><td>0</td><td>&quot;113803&quot;</td><td>53.1</td><td>&quot;C123&quot;</td><td>&quot;S&quot;</td></tr></tbody></table></div>"
      ],
      "text/plain": [
       "shape: (2, 12)\n",
       "┌─────────────┬──────────┬────────┬────────────────────┬───┬──────────┬─────────┬───────┬──────────┐\n",
       "│ PassengerId ┆ Survived ┆ Pclass ┆ Name               ┆ … ┆ Ticket   ┆ Fare    ┆ Cabin ┆ Embarked │\n",
       "│ ---         ┆ ---      ┆ ---    ┆ ---                ┆   ┆ ---      ┆ ---     ┆ ---   ┆ ---      │\n",
       "│ i64         ┆ i64      ┆ i64    ┆ str                ┆   ┆ str      ┆ f64     ┆ str   ┆ str      │\n",
       "╞═════════════╪══════════╪════════╪════════════════════╪═══╪══════════╪═════════╪═══════╪══════════╡\n",
       "│ 2           ┆ 1        ┆ 1      ┆ Cumings, Mrs. John ┆ … ┆ PC 17599 ┆ 71.2833 ┆ C85   ┆ C        │\n",
       "│             ┆          ┆        ┆ Bradley (Fl…       ┆   ┆          ┆         ┆       ┆          │\n",
       "│ 4           ┆ 1        ┆ 1      ┆ Futrelle, Mrs.     ┆ … ┆ 113803   ┆ 53.1    ┆ C123  ┆ S        │\n",
       "│             ┆          ┆        ┆ Jacques Heath (…   ┆   ┆          ┆         ┆       ┆          │\n",
       "└─────────────┴──────────┴────────┴────────────────────┴───┴──────────┴─────────┴───────┴──────────┘"
      ]
     },
     "execution_count": 6,
     "metadata": {},
     "output_type": "execute_result"
    }
   ],
   "source": [
    "# (\n",
    "#     df\n",
    "#     .filter(\n",
    "#         pl.col('Pclass') == 1\n",
    "#     )\n",
    "#     .head(2)\n",
    "# )\n",
    "(\n",
    "    df\n",
    "    .filter(\n",
    "        pl.col('Pclass') == 1\n",
    "    )\n",
    "    .head(2)\n",
    ")"
   ]
  },
  {
   "cell_type": "markdown",
   "id": "4bcfcb0f-cf3e-4103-90a9-7091f4fc4052",
   "metadata": {},
   "source": [
    "## Syntax of `filter`\n",
    "Inside the `filter` method we pass an _**expression**_ and apply a Boolean condition to it:\n",
    "\n",
    "`pl.col('Pclass') == 1`\n",
    "\n",
    "This expression has two parts:\n",
    "- `pl.col('Pclass')` expression selects the `Pclass` column from `df`\n",
    "- `== 1` applies a Boolean condition to this expression\n",
    "\n",
    "In this example we choose all rows with the number of parents & children (`Parch`) is greater than 1"
   ]
  },
  {
   "cell_type": "code",
   "execution_count": 8,
   "id": "0ed1dc92-b8e0-42f2-b624-14c354bc6455",
   "metadata": {
    "tags": []
   },
   "outputs": [
    {
     "data": {
      "text/html": [
       "<div><style>\n",
       ".dataframe > thead > tr,\n",
       ".dataframe > tbody > tr {\n",
       "  text-align: right;\n",
       "  white-space: pre-wrap;\n",
       "}\n",
       "</style>\n",
       "<small>shape: (5, 12)</small><table border=\"1\" class=\"dataframe\"><thead><tr><th>PassengerId</th><th>Survived</th><th>Pclass</th><th>Name</th><th>Sex</th><th>Age</th><th>SibSp</th><th>Parch</th><th>Ticket</th><th>Fare</th><th>Cabin</th><th>Embarked</th></tr><tr><td>i64</td><td>i64</td><td>i64</td><td>str</td><td>str</td><td>f64</td><td>i64</td><td>i64</td><td>str</td><td>f64</td><td>str</td><td>str</td></tr></thead><tbody><tr><td>9</td><td>1</td><td>3</td><td>&quot;Johnson, Mrs. Oscar W (Elisabe…</td><td>&quot;female&quot;</td><td>27.0</td><td>0</td><td>2</td><td>&quot;347742&quot;</td><td>11.1333</td><td>null</td><td>&quot;S&quot;</td></tr><tr><td>14</td><td>0</td><td>3</td><td>&quot;Andersson, Mr. Anders Johan&quot;</td><td>&quot;male&quot;</td><td>39.0</td><td>1</td><td>5</td><td>&quot;347082&quot;</td><td>31.275</td><td>null</td><td>&quot;S&quot;</td></tr><tr><td>26</td><td>1</td><td>3</td><td>&quot;Asplund, Mrs. Carl Oscar (Selm…</td><td>&quot;female&quot;</td><td>38.0</td><td>1</td><td>5</td><td>&quot;347077&quot;</td><td>31.3875</td><td>null</td><td>&quot;S&quot;</td></tr><tr><td>28</td><td>0</td><td>1</td><td>&quot;Fortune, Mr. Charles Alexander&quot;</td><td>&quot;male&quot;</td><td>19.0</td><td>3</td><td>2</td><td>&quot;19950&quot;</td><td>263.0</td><td>&quot;C23 C25 C27&quot;</td><td>&quot;S&quot;</td></tr><tr><td>44</td><td>1</td><td>2</td><td>&quot;Laroche, Miss. Simonne Marie A…</td><td>&quot;female&quot;</td><td>3.0</td><td>1</td><td>2</td><td>&quot;SC/Paris 2123&quot;</td><td>41.5792</td><td>null</td><td>&quot;C&quot;</td></tr></tbody></table></div>"
      ],
      "text/plain": [
       "shape: (5, 12)\n",
       "┌────────────────┬──────────┬────────┬───────────────┬───┬──────────┬─────────┬─────────┬──────────┐\n",
       "│ PassengerId    ┆ Survived ┆ Pclass ┆ Name          ┆ … ┆ Ticket   ┆ Fare    ┆ Cabin   ┆ Embarked │\n",
       "│ ---            ┆ ---      ┆ ---    ┆ ---           ┆   ┆ ---      ┆ ---     ┆ ---     ┆ ---      │\n",
       "│ i64            ┆ i64      ┆ i64    ┆ str           ┆   ┆ str      ┆ f64     ┆ str     ┆ str      │\n",
       "╞════════════════╪══════════╪════════╪═══════════════╪═══╪══════════╪═════════╪═════════╪══════════╡\n",
       "│ 9              ┆ 1        ┆ 3      ┆ Johnson, Mrs. ┆ … ┆ 347742   ┆ 11.1333 ┆ null    ┆ S        │\n",
       "│                ┆          ┆        ┆ Oscar W       ┆   ┆          ┆         ┆         ┆          │\n",
       "│                ┆          ┆        ┆ (Elisabe…     ┆   ┆          ┆         ┆         ┆          │\n",
       "│ 14             ┆ 0        ┆ 3      ┆ Andersson,    ┆ … ┆ 347082   ┆ 31.275  ┆ null    ┆ S        │\n",
       "│                ┆          ┆        ┆ Mr. Anders    ┆   ┆          ┆         ┆         ┆          │\n",
       "│                ┆          ┆        ┆ Johan         ┆   ┆          ┆         ┆         ┆          │\n",
       "│ 26             ┆ 1        ┆ 3      ┆ Asplund, Mrs. ┆ … ┆ 347077   ┆ 31.3875 ┆ null    ┆ S        │\n",
       "│                ┆          ┆        ┆ Carl Oscar    ┆   ┆          ┆         ┆         ┆          │\n",
       "│                ┆          ┆        ┆ (Selm…        ┆   ┆          ┆         ┆         ┆          │\n",
       "│ 28             ┆ 0        ┆ 1      ┆ Fortune, Mr.  ┆ … ┆ 19950    ┆ 263.0   ┆ C23 C25 ┆ S        │\n",
       "│                ┆          ┆        ┆ Charles       ┆   ┆          ┆         ┆ C27     ┆          │\n",
       "│                ┆          ┆        ┆ Alexander     ┆   ┆          ┆         ┆         ┆          │\n",
       "│ 44             ┆ 1        ┆ 2      ┆ Laroche,      ┆ … ┆ SC/Paris ┆ 41.5792 ┆ null    ┆ C        │\n",
       "│                ┆          ┆        ┆ Miss. Simonne ┆   ┆ 2123     ┆         ┆         ┆          │\n",
       "│                ┆          ┆        ┆ Marie A…      ┆   ┆          ┆         ┆         ┆          │\n",
       "└────────────────┴──────────┴────────┴───────────────┴───┴──────────┴─────────┴─────────┴──────────┘"
      ]
     },
     "execution_count": 8,
     "metadata": {},
     "output_type": "execute_result"
    }
   ],
   "source": [
    "# (\n",
    "#     df\n",
    "#     .filter(\n",
    "#         pl.col('Parch') > 1\n",
    "#     )\n",
    "#     .head(2)\n",
    "# )\n",
    "(\n",
    "    df\n",
    "    .filter(\n",
    "        pl.col(\"Parch\") > 1\n",
    "    )\n",
    "    .head()\n",
    ")"
   ]
  },
  {
   "cell_type": "markdown",
   "id": "35866eff-f510-4e13-a430-4993bc9150f1",
   "metadata": {},
   "source": [
    "As well as the mathemtical operators such as `==`,`>`,`<` there are corresponding text operators that some people find more readable"
   ]
  },
  {
   "cell_type": "code",
   "execution_count": 13,
   "id": "b32bd407-96b9-455e-a247-0154e7755846",
   "metadata": {},
   "outputs": [
    {
     "data": {
      "text/html": [
       "<div><style>\n",
       ".dataframe > thead > tr,\n",
       ".dataframe > tbody > tr {\n",
       "  text-align: right;\n",
       "  white-space: pre-wrap;\n",
       "}\n",
       "</style>\n",
       "<small>shape: (5, 3)</small><table border=\"1\" class=\"dataframe\"><thead><tr><th>PassengerId</th><th>Parch</th><th>SibSp</th></tr><tr><td>i64</td><td>i64</td><td>i64</td></tr></thead><tbody><tr><td>9</td><td>2</td><td>0</td></tr><tr><td>14</td><td>5</td><td>1</td></tr><tr><td>26</td><td>5</td><td>1</td></tr><tr><td>28</td><td>2</td><td>3</td></tr><tr><td>44</td><td>2</td><td>1</td></tr></tbody></table></div>"
      ],
      "text/plain": [
       "shape: (5, 3)\n",
       "┌─────────────┬───────┬───────┐\n",
       "│ PassengerId ┆ Parch ┆ SibSp │\n",
       "│ ---         ┆ ---   ┆ ---   │\n",
       "│ i64         ┆ i64   ┆ i64   │\n",
       "╞═════════════╪═══════╪═══════╡\n",
       "│ 9           ┆ 2     ┆ 0     │\n",
       "│ 14          ┆ 5     ┆ 1     │\n",
       "│ 26          ┆ 5     ┆ 1     │\n",
       "│ 28          ┆ 2     ┆ 3     │\n",
       "│ 44          ┆ 2     ┆ 1     │\n",
       "└─────────────┴───────┴───────┘"
      ]
     },
     "execution_count": 13,
     "metadata": {},
     "output_type": "execute_result"
    }
   ],
   "source": [
    "(\n",
    "    df\n",
    "    .filter(\n",
    "        pl.col('Parch').gt(1)\n",
    "    )\n",
    "    .select(\"PassengerId\",\"Parch\",\"SibSp\")\n",
    "    .head(5)\n",
    ")"
   ]
  },
  {
   "cell_type": "code",
   "execution_count": 14,
   "id": "da2f9bda",
   "metadata": {},
   "outputs": [
    {
     "data": {
      "text/html": [
       "<div><style>\n",
       ".dataframe > thead > tr,\n",
       ".dataframe > tbody > tr {\n",
       "  text-align: right;\n",
       "  white-space: pre-wrap;\n",
       "}\n",
       "</style>\n",
       "<small>shape: (5, 3)</small><table border=\"1\" class=\"dataframe\"><thead><tr><th>PassengerId</th><th>Parch</th><th>SibSp</th></tr><tr><td>i64</td><td>i64</td><td>i64</td></tr></thead><tbody><tr><td>9</td><td>2</td><td>0</td></tr><tr><td>14</td><td>5</td><td>1</td></tr><tr><td>26</td><td>5</td><td>1</td></tr><tr><td>28</td><td>2</td><td>3</td></tr><tr><td>44</td><td>2</td><td>1</td></tr></tbody></table></div>"
      ],
      "text/plain": [
       "shape: (5, 3)\n",
       "┌─────────────┬───────┬───────┐\n",
       "│ PassengerId ┆ Parch ┆ SibSp │\n",
       "│ ---         ┆ ---   ┆ ---   │\n",
       "│ i64         ┆ i64   ┆ i64   │\n",
       "╞═════════════╪═══════╪═══════╡\n",
       "│ 9           ┆ 2     ┆ 0     │\n",
       "│ 14          ┆ 5     ┆ 1     │\n",
       "│ 26          ┆ 5     ┆ 1     │\n",
       "│ 28          ┆ 2     ┆ 3     │\n",
       "│ 44          ┆ 2     ┆ 1     │\n",
       "└─────────────┴───────┴───────┘"
      ]
     },
     "execution_count": 14,
     "metadata": {},
     "output_type": "execute_result"
    }
   ],
   "source": [
    "# 필요한 열을 선택 후 필터링\n",
    "(\n",
    "    df\n",
    "    .select(\n",
    "        pl.col([\"PassengerId\", \"Parch\", \"SibSp\"])\n",
    "    )\n",
    "    .filter(\n",
    "        pl.col('Parch') > 1\n",
    "    )\n",
    "    .head()\n",
    ")"
   ]
  },
  {
   "cell_type": "markdown",
   "id": "3ccf15f0-7180-4cd1-b743-39b3caa0deb4",
   "metadata": {},
   "source": [
    "You can see the full set of operators here: https://pola-rs.github.io/polars/py-polars/html/reference/expressions/operators.html"
   ]
  },
  {
   "cell_type": "markdown",
   "id": "5ee8d893-8e3e-4981-ab92-559312702ae9",
   "metadata": {},
   "source": [
    "We can make a filter condition based on two expressions (i.e. comparing data in one column to another) rather than one expression and a constant. In this example we find rows where the number of parents & children (`Parch`) is greater than the number of siblings (`SibSp`)"
   ]
  },
  {
   "cell_type": "code",
   "execution_count": 17,
   "id": "24e191c0-e93a-443a-853c-50bcabfba60c",
   "metadata": {},
   "outputs": [
    {
     "data": {
      "text/html": [
       "<div><style>\n",
       ".dataframe > thead > tr,\n",
       ".dataframe > tbody > tr {\n",
       "  text-align: right;\n",
       "  white-space: pre-wrap;\n",
       "}\n",
       "</style>\n",
       "<small>shape: (5, 3)</small><table border=\"1\" class=\"dataframe\"><thead><tr><th>PassengerId</th><th>Parch</th><th>SibSp</th></tr><tr><td>i64</td><td>i64</td><td>i64</td></tr></thead><tbody><tr><td>9</td><td>2</td><td>0</td></tr><tr><td>14</td><td>5</td><td>1</td></tr><tr><td>26</td><td>5</td><td>1</td></tr><tr><td>44</td><td>2</td><td>1</td></tr><tr><td>55</td><td>1</td><td>0</td></tr></tbody></table></div>"
      ],
      "text/plain": [
       "shape: (5, 3)\n",
       "┌─────────────┬───────┬───────┐\n",
       "│ PassengerId ┆ Parch ┆ SibSp │\n",
       "│ ---         ┆ ---   ┆ ---   │\n",
       "│ i64         ┆ i64   ┆ i64   │\n",
       "╞═════════════╪═══════╪═══════╡\n",
       "│ 9           ┆ 2     ┆ 0     │\n",
       "│ 14          ┆ 5     ┆ 1     │\n",
       "│ 26          ┆ 5     ┆ 1     │\n",
       "│ 44          ┆ 2     ┆ 1     │\n",
       "│ 55          ┆ 1     ┆ 0     │\n",
       "└─────────────┴───────┴───────┘"
      ]
     },
     "execution_count": 17,
     "metadata": {},
     "output_type": "execute_result"
    }
   ],
   "source": [
    "(\n",
    "    df\n",
    "    .filter(\n",
    "        pl.col('Parch').gt(pl.col(\"SibSp\"))\n",
    "    )\n",
    "    .select(\"PassengerId\",\"Parch\",\"SibSp\")\n",
    "    .head(5)\n",
    ")"
   ]
  },
  {
   "cell_type": "code",
   "execution_count": 16,
   "id": "98f8ea8b",
   "metadata": {},
   "outputs": [
    {
     "data": {
      "text/html": [
       "<div><style>\n",
       ".dataframe > thead > tr,\n",
       ".dataframe > tbody > tr {\n",
       "  text-align: right;\n",
       "  white-space: pre-wrap;\n",
       "}\n",
       "</style>\n",
       "<small>shape: (5, 3)</small><table border=\"1\" class=\"dataframe\"><thead><tr><th>PassengerId</th><th>Parch</th><th>SibSp</th></tr><tr><td>i64</td><td>i64</td><td>i64</td></tr></thead><tbody><tr><td>9</td><td>2</td><td>0</td></tr><tr><td>14</td><td>5</td><td>1</td></tr><tr><td>26</td><td>5</td><td>1</td></tr><tr><td>44</td><td>2</td><td>1</td></tr><tr><td>55</td><td>1</td><td>0</td></tr></tbody></table></div>"
      ],
      "text/plain": [
       "shape: (5, 3)\n",
       "┌─────────────┬───────┬───────┐\n",
       "│ PassengerId ┆ Parch ┆ SibSp │\n",
       "│ ---         ┆ ---   ┆ ---   │\n",
       "│ i64         ┆ i64   ┆ i64   │\n",
       "╞═════════════╪═══════╪═══════╡\n",
       "│ 9           ┆ 2     ┆ 0     │\n",
       "│ 14          ┆ 5     ┆ 1     │\n",
       "│ 26          ┆ 5     ┆ 1     │\n",
       "│ 44          ┆ 2     ┆ 1     │\n",
       "│ 55          ┆ 1     ┆ 0     │\n",
       "└─────────────┴───────┴───────┘"
      ]
     },
     "execution_count": 16,
     "metadata": {},
     "output_type": "execute_result"
    }
   ],
   "source": [
    "# 부모 및 자식 수(`Parch`)가 형제자매 수(`SibSp`)보다 큰 행을 찾습니다.\n",
    "(\n",
    "    df\n",
    "    .select(\"PassengerId\", \"Parch\", \"SibSp\")\n",
    "    .filter(\n",
    "        pl.col('Parch') > pl.col('SibSp')\n",
    "    )\n",
    "    .head()\n",
    ")"
   ]
  },
  {
   "cell_type": "markdown",
   "id": "8bfb4097-ccce-49b2-8e45-775b425f9ec6",
   "metadata": {},
   "source": [
    "To save a bit of typing we can also apply a filter to a column by passing the column name directly"
   ]
  },
  {
   "cell_type": "code",
   "execution_count": 18,
   "id": "df42e978-4433-4217-ad7a-5a6044376208",
   "metadata": {},
   "outputs": [
    {
     "data": {
      "text/html": [
       "<div><style>\n",
       ".dataframe > thead > tr,\n",
       ".dataframe > tbody > tr {\n",
       "  text-align: right;\n",
       "  white-space: pre-wrap;\n",
       "}\n",
       "</style>\n",
       "<small>shape: (5, 3)</small><table border=\"1\" class=\"dataframe\"><thead><tr><th>PassengerId</th><th>Parch</th><th>SibSp</th></tr><tr><td>i64</td><td>i64</td><td>i64</td></tr></thead><tbody><tr><td>87</td><td>3</td><td>1</td></tr><tr><td>438</td><td>3</td><td>2</td></tr><tr><td>737</td><td>3</td><td>1</td></tr><tr><td>775</td><td>3</td><td>1</td></tr><tr><td>859</td><td>3</td><td>0</td></tr></tbody></table></div>"
      ],
      "text/plain": [
       "shape: (5, 3)\n",
       "┌─────────────┬───────┬───────┐\n",
       "│ PassengerId ┆ Parch ┆ SibSp │\n",
       "│ ---         ┆ ---   ┆ ---   │\n",
       "│ i64         ┆ i64   ┆ i64   │\n",
       "╞═════════════╪═══════╪═══════╡\n",
       "│ 87          ┆ 3     ┆ 1     │\n",
       "│ 438         ┆ 3     ┆ 2     │\n",
       "│ 737         ┆ 3     ┆ 1     │\n",
       "│ 775         ┆ 3     ┆ 1     │\n",
       "│ 859         ┆ 3     ┆ 0     │\n",
       "└─────────────┴───────┴───────┘"
      ]
     },
     "execution_count": 18,
     "metadata": {},
     "output_type": "execute_result"
    }
   ],
   "source": [
    "(\n",
    "    df\n",
    "    .filter(\n",
    "        Parch = 3,\n",
    "    )\n",
    "    .select(\"PassengerId\",\"Parch\",\"SibSp\")\n",
    "    .head(5)\n",
    ")"
   ]
  },
  {
   "cell_type": "code",
   "execution_count": 20,
   "id": "0e943c5e",
   "metadata": {},
   "outputs": [
    {
     "data": {
      "text/html": [
       "<div><style>\n",
       ".dataframe > thead > tr,\n",
       ".dataframe > tbody > tr {\n",
       "  text-align: right;\n",
       "  white-space: pre-wrap;\n",
       "}\n",
       "</style>\n",
       "<small>shape: (5, 3)</small><table border=\"1\" class=\"dataframe\"><thead><tr><th>PassengerId</th><th>Parch</th><th>SibSp</th></tr><tr><td>i64</td><td>i64</td><td>i64</td></tr></thead><tbody><tr><td>87</td><td>3</td><td>1</td></tr><tr><td>438</td><td>3</td><td>2</td></tr><tr><td>737</td><td>3</td><td>1</td></tr><tr><td>775</td><td>3</td><td>1</td></tr><tr><td>859</td><td>3</td><td>0</td></tr></tbody></table></div>"
      ],
      "text/plain": [
       "shape: (5, 3)\n",
       "┌─────────────┬───────┬───────┐\n",
       "│ PassengerId ┆ Parch ┆ SibSp │\n",
       "│ ---         ┆ ---   ┆ ---   │\n",
       "│ i64         ┆ i64   ┆ i64   │\n",
       "╞═════════════╪═══════╪═══════╡\n",
       "│ 87          ┆ 3     ┆ 1     │\n",
       "│ 438         ┆ 3     ┆ 2     │\n",
       "│ 737         ┆ 3     ┆ 1     │\n",
       "│ 775         ┆ 3     ┆ 1     │\n",
       "│ 859         ┆ 3     ┆ 0     │\n",
       "└─────────────┴───────┴───────┘"
      ]
     },
     "execution_count": 20,
     "metadata": {},
     "output_type": "execute_result"
    }
   ],
   "source": [
    "(\n",
    "    df\n",
    "    .select(\"PassengerId\", \"Parch\", \"SibSp\")\n",
    "    .filter(\n",
    "        Parch = 3\n",
    "    )\n",
    "    .head()\n",
    ")"
   ]
  },
  {
   "cell_type": "markdown",
   "id": "fc441a6c-e018-45b2-be5a-0f7d632161f9",
   "metadata": {},
   "source": [
    "This approach only works for equality conditions (i.e. not for >,< etc). \n",
    "\n",
    "Why does this simple approach only work for equalities? Because in this approach Polars takes advantage of Python keyword arguments - we are basically \"pretending\" we are calling `filter` with an argument called `Parch` equal to 3 which Polars internally converts to `pl.col(\"Parch\") == 3`. Python only lets us use this trick with the `=` operator"
   ]
  },
  {
   "cell_type": "markdown",
   "id": "981c0392-3dbe-4f89-b0ae-d71d92f782ba",
   "metadata": {},
   "source": [
    "### Conditions based on row numbers with `filter`\n",
    "\n",
    "We can add an explicit row number column using `with_row_index` on a `DataFrame`\n",
    "* `with_row_index`는 explicit한 Index를 붙어준다.\n",
    "*  arugment는 name = \"index 이름\""
   ]
  },
  {
   "cell_type": "code",
   "execution_count": 27,
   "id": "37a1d007-a652-4e0c-9685-18821d7b6e89",
   "metadata": {
    "tags": []
   },
   "outputs": [
    {
     "name": "stdout",
     "output_type": "stream",
     "text": [
      "shape: (5, 12)\n",
      "┌─────────────┬──────────┬────────┬───────────────────┬───┬───────────┬─────────┬───────┬──────────┐\n",
      "│ PassengerId ┆ Survived ┆ Pclass ┆ Name              ┆ … ┆ Ticket    ┆ Fare    ┆ Cabin ┆ Embarked │\n",
      "│ ---         ┆ ---      ┆ ---    ┆ ---               ┆   ┆ ---       ┆ ---     ┆ ---   ┆ ---      │\n",
      "│ i64         ┆ i64      ┆ i64    ┆ str               ┆   ┆ str       ┆ f64     ┆ str   ┆ str      │\n",
      "╞═════════════╪══════════╪════════╪═══════════════════╪═══╪═══════════╪═════════╪═══════╪══════════╡\n",
      "│ 1           ┆ 0        ┆ 3      ┆ Braund, Mr. Owen  ┆ … ┆ A/5 21171 ┆ 7.25    ┆ null  ┆ S        │\n",
      "│             ┆          ┆        ┆ Harris            ┆   ┆           ┆         ┆       ┆          │\n",
      "│ 2           ┆ 1        ┆ 1      ┆ Cumings, Mrs.     ┆ … ┆ PC 17599  ┆ 71.2833 ┆ C85   ┆ C        │\n",
      "│             ┆          ┆        ┆ John Bradley (Fl… ┆   ┆           ┆         ┆       ┆          │\n",
      "│ 3           ┆ 1        ┆ 3      ┆ Heikkinen, Miss.  ┆ … ┆ STON/O2.  ┆ 7.925   ┆ null  ┆ S        │\n",
      "│             ┆          ┆        ┆ Laina             ┆   ┆ 3101282   ┆         ┆       ┆          │\n",
      "│ 4           ┆ 1        ┆ 1      ┆ Futrelle, Mrs.    ┆ … ┆ 113803    ┆ 53.1    ┆ C123  ┆ S        │\n",
      "│             ┆          ┆        ┆ Jacques Heath (…  ┆   ┆           ┆         ┆       ┆          │\n",
      "│ 5           ┆ 0        ┆ 3      ┆ Allen, Mr.        ┆ … ┆ 373450    ┆ 8.05    ┆ null  ┆ S        │\n",
      "│             ┆          ┆        ┆ William Henry     ┆   ┆           ┆         ┆       ┆          │\n",
      "└─────────────┴──────────┴────────┴───────────────────┴───┴───────────┴─────────┴───────┴──────────┘\n"
     ]
    }
   ],
   "source": [
    "df = pl.read_csv(csv_file)\n",
    "print(df.head())"
   ]
  },
  {
   "cell_type": "code",
   "execution_count": 28,
   "id": "00b1e65a",
   "metadata": {},
   "outputs": [
    {
     "data": {
      "text/html": [
       "<div><style>\n",
       ".dataframe > thead > tr,\n",
       ".dataframe > tbody > tr {\n",
       "  text-align: right;\n",
       "  white-space: pre-wrap;\n",
       "}\n",
       "</style>\n",
       "<small>shape: (3, 13)</small><table border=\"1\" class=\"dataframe\"><thead><tr><th>이름</th><th>PassengerId</th><th>Survived</th><th>Pclass</th><th>Name</th><th>Sex</th><th>Age</th><th>SibSp</th><th>Parch</th><th>Ticket</th><th>Fare</th><th>Cabin</th><th>Embarked</th></tr><tr><td>u32</td><td>i64</td><td>i64</td><td>i64</td><td>str</td><td>str</td><td>f64</td><td>i64</td><td>i64</td><td>str</td><td>f64</td><td>str</td><td>str</td></tr></thead><tbody><tr><td>0</td><td>1</td><td>0</td><td>3</td><td>&quot;Braund, Mr. Owen Harris&quot;</td><td>&quot;male&quot;</td><td>22.0</td><td>1</td><td>0</td><td>&quot;A/5 21171&quot;</td><td>7.25</td><td>null</td><td>&quot;S&quot;</td></tr><tr><td>1</td><td>2</td><td>1</td><td>1</td><td>&quot;Cumings, Mrs. John Bradley (Fl…</td><td>&quot;female&quot;</td><td>38.0</td><td>1</td><td>0</td><td>&quot;PC 17599&quot;</td><td>71.2833</td><td>&quot;C85&quot;</td><td>&quot;C&quot;</td></tr><tr><td>2</td><td>3</td><td>1</td><td>3</td><td>&quot;Heikkinen, Miss. Laina&quot;</td><td>&quot;female&quot;</td><td>26.0</td><td>0</td><td>0</td><td>&quot;STON/O2. 3101282&quot;</td><td>7.925</td><td>null</td><td>&quot;S&quot;</td></tr></tbody></table></div>"
      ],
      "text/plain": [
       "shape: (3, 13)\n",
       "┌──────┬─────────────┬──────────┬────────┬───┬──────────────────┬─────────┬───────┬──────────┐\n",
       "│ 이름 ┆ PassengerId ┆ Survived ┆ Pclass ┆ … ┆ Ticket           ┆ Fare    ┆ Cabin ┆ Embarked │\n",
       "│ ---  ┆ ---         ┆ ---      ┆ ---    ┆   ┆ ---              ┆ ---     ┆ ---   ┆ ---      │\n",
       "│ u32  ┆ i64         ┆ i64      ┆ i64    ┆   ┆ str              ┆ f64     ┆ str   ┆ str      │\n",
       "╞══════╪═════════════╪══════════╪════════╪═══╪══════════════════╪═════════╪═══════╪══════════╡\n",
       "│ 0    ┆ 1           ┆ 0        ┆ 3      ┆ … ┆ A/5 21171        ┆ 7.25    ┆ null  ┆ S        │\n",
       "│ 1    ┆ 2           ┆ 1        ┆ 1      ┆ … ┆ PC 17599         ┆ 71.2833 ┆ C85   ┆ C        │\n",
       "│ 2    ┆ 3           ┆ 1        ┆ 3      ┆ … ┆ STON/O2. 3101282 ┆ 7.925   ┆ null  ┆ S        │\n",
       "└──────┴─────────────┴──────────┴────────┴───┴──────────────────┴─────────┴───────┴──────────┘"
      ]
     },
     "execution_count": 28,
     "metadata": {},
     "output_type": "execute_result"
    }
   ],
   "source": [
    "df = df.with_row_index(name='이름')\n",
    "df.head(3)"
   ]
  },
  {
   "cell_type": "markdown",
   "id": "db593ef1-e1c0-4480-93cb-75a3ff3779ef",
   "metadata": {},
   "source": [
    "We can then use `filter` to apply a condition based on row number"
   ]
  },
  {
   "cell_type": "code",
   "execution_count": 29,
   "id": "570a7939-eb47-4723-968e-1e0ce0b618fe",
   "metadata": {
    "tags": []
   },
   "outputs": [
    {
     "data": {
      "text/html": [
       "<div><style>\n",
       ".dataframe > thead > tr,\n",
       ".dataframe > tbody > tr {\n",
       "  text-align: right;\n",
       "  white-space: pre-wrap;\n",
       "}\n",
       "</style>\n",
       "<small>shape: (4, 13)</small><table border=\"1\" class=\"dataframe\"><thead><tr><th>이름</th><th>PassengerId</th><th>Survived</th><th>Pclass</th><th>Name</th><th>Sex</th><th>Age</th><th>SibSp</th><th>Parch</th><th>Ticket</th><th>Fare</th><th>Cabin</th><th>Embarked</th></tr><tr><td>u32</td><td>i64</td><td>i64</td><td>i64</td><td>str</td><td>str</td><td>f64</td><td>i64</td><td>i64</td><td>str</td><td>f64</td><td>str</td><td>str</td></tr></thead><tbody><tr><td>0</td><td>1</td><td>0</td><td>3</td><td>&quot;Braund, Mr. Owen Harris&quot;</td><td>&quot;male&quot;</td><td>22.0</td><td>1</td><td>0</td><td>&quot;A/5 21171&quot;</td><td>7.25</td><td>null</td><td>&quot;S&quot;</td></tr><tr><td>1</td><td>2</td><td>1</td><td>1</td><td>&quot;Cumings, Mrs. John Bradley (Fl…</td><td>&quot;female&quot;</td><td>38.0</td><td>1</td><td>0</td><td>&quot;PC 17599&quot;</td><td>71.2833</td><td>&quot;C85&quot;</td><td>&quot;C&quot;</td></tr><tr><td>2</td><td>3</td><td>1</td><td>3</td><td>&quot;Heikkinen, Miss. Laina&quot;</td><td>&quot;female&quot;</td><td>26.0</td><td>0</td><td>0</td><td>&quot;STON/O2. 3101282&quot;</td><td>7.925</td><td>null</td><td>&quot;S&quot;</td></tr><tr><td>3</td><td>4</td><td>1</td><td>1</td><td>&quot;Futrelle, Mrs. Jacques Heath (…</td><td>&quot;female&quot;</td><td>35.0</td><td>1</td><td>0</td><td>&quot;113803&quot;</td><td>53.1</td><td>&quot;C123&quot;</td><td>&quot;S&quot;</td></tr></tbody></table></div>"
      ],
      "text/plain": [
       "shape: (4, 13)\n",
       "┌──────┬─────────────┬──────────┬────────┬───┬──────────────────┬─────────┬───────┬──────────┐\n",
       "│ 이름 ┆ PassengerId ┆ Survived ┆ Pclass ┆ … ┆ Ticket           ┆ Fare    ┆ Cabin ┆ Embarked │\n",
       "│ ---  ┆ ---         ┆ ---      ┆ ---    ┆   ┆ ---              ┆ ---     ┆ ---   ┆ ---      │\n",
       "│ u32  ┆ i64         ┆ i64      ┆ i64    ┆   ┆ str              ┆ f64     ┆ str   ┆ str      │\n",
       "╞══════╪═════════════╪══════════╪════════╪═══╪══════════════════╪═════════╪═══════╪══════════╡\n",
       "│ 0    ┆ 1           ┆ 0        ┆ 3      ┆ … ┆ A/5 21171        ┆ 7.25    ┆ null  ┆ S        │\n",
       "│ 1    ┆ 2           ┆ 1        ┆ 1      ┆ … ┆ PC 17599         ┆ 71.2833 ┆ C85   ┆ C        │\n",
       "│ 2    ┆ 3           ┆ 1        ┆ 3      ┆ … ┆ STON/O2. 3101282 ┆ 7.925   ┆ null  ┆ S        │\n",
       "│ 3    ┆ 4           ┆ 1        ┆ 1      ┆ … ┆ 113803           ┆ 53.1    ┆ C123  ┆ S        │\n",
       "└──────┴─────────────┴──────────┴────────┴───┴──────────────────┴─────────┴───────┴──────────┘"
      ]
     },
     "execution_count": 29,
     "metadata": {},
     "output_type": "execute_result"
    }
   ],
   "source": [
    "(\n",
    "    df\n",
    "    .filter(\n",
    "        pl.col('이름') < 4\n",
    "    )\n",
    ")"
   ]
  },
  {
   "cell_type": "markdown",
   "id": "745b96eb-c0bf-49d8-aaa1-b5f37a70b0e5",
   "metadata": {},
   "source": [
    "However, a simpler way to do this is with `slice`"
   ]
  },
  {
   "cell_type": "code",
   "execution_count": 30,
   "id": "40486a32-f350-4204-ba3a-50817a28949f",
   "metadata": {},
   "outputs": [
    {
     "data": {
      "text/html": [
       "<div><style>\n",
       ".dataframe > thead > tr,\n",
       ".dataframe > tbody > tr {\n",
       "  text-align: right;\n",
       "  white-space: pre-wrap;\n",
       "}\n",
       "</style>\n",
       "<small>shape: (4, 13)</small><table border=\"1\" class=\"dataframe\"><thead><tr><th>이름</th><th>PassengerId</th><th>Survived</th><th>Pclass</th><th>Name</th><th>Sex</th><th>Age</th><th>SibSp</th><th>Parch</th><th>Ticket</th><th>Fare</th><th>Cabin</th><th>Embarked</th></tr><tr><td>u32</td><td>i64</td><td>i64</td><td>i64</td><td>str</td><td>str</td><td>f64</td><td>i64</td><td>i64</td><td>str</td><td>f64</td><td>str</td><td>str</td></tr></thead><tbody><tr><td>0</td><td>1</td><td>0</td><td>3</td><td>&quot;Braund, Mr. Owen Harris&quot;</td><td>&quot;male&quot;</td><td>22.0</td><td>1</td><td>0</td><td>&quot;A/5 21171&quot;</td><td>7.25</td><td>null</td><td>&quot;S&quot;</td></tr><tr><td>1</td><td>2</td><td>1</td><td>1</td><td>&quot;Cumings, Mrs. John Bradley (Fl…</td><td>&quot;female&quot;</td><td>38.0</td><td>1</td><td>0</td><td>&quot;PC 17599&quot;</td><td>71.2833</td><td>&quot;C85&quot;</td><td>&quot;C&quot;</td></tr><tr><td>2</td><td>3</td><td>1</td><td>3</td><td>&quot;Heikkinen, Miss. Laina&quot;</td><td>&quot;female&quot;</td><td>26.0</td><td>0</td><td>0</td><td>&quot;STON/O2. 3101282&quot;</td><td>7.925</td><td>null</td><td>&quot;S&quot;</td></tr><tr><td>3</td><td>4</td><td>1</td><td>1</td><td>&quot;Futrelle, Mrs. Jacques Heath (…</td><td>&quot;female&quot;</td><td>35.0</td><td>1</td><td>0</td><td>&quot;113803&quot;</td><td>53.1</td><td>&quot;C123&quot;</td><td>&quot;S&quot;</td></tr></tbody></table></div>"
      ],
      "text/plain": [
       "shape: (4, 13)\n",
       "┌──────┬─────────────┬──────────┬────────┬───┬──────────────────┬─────────┬───────┬──────────┐\n",
       "│ 이름 ┆ PassengerId ┆ Survived ┆ Pclass ┆ … ┆ Ticket           ┆ Fare    ┆ Cabin ┆ Embarked │\n",
       "│ ---  ┆ ---         ┆ ---      ┆ ---    ┆   ┆ ---              ┆ ---     ┆ ---   ┆ ---      │\n",
       "│ u32  ┆ i64         ┆ i64      ┆ i64    ┆   ┆ str              ┆ f64     ┆ str   ┆ str      │\n",
       "╞══════╪═════════════╪══════════╪════════╪═══╪══════════════════╪═════════╪═══════╪══════════╡\n",
       "│ 0    ┆ 1           ┆ 0        ┆ 3      ┆ … ┆ A/5 21171        ┆ 7.25    ┆ null  ┆ S        │\n",
       "│ 1    ┆ 2           ┆ 1        ┆ 1      ┆ … ┆ PC 17599         ┆ 71.2833 ┆ C85   ┆ C        │\n",
       "│ 2    ┆ 3           ┆ 1        ┆ 3      ┆ … ┆ STON/O2. 3101282 ┆ 7.925   ┆ null  ┆ S        │\n",
       "│ 3    ┆ 4           ┆ 1        ┆ 1      ┆ … ┆ 113803           ┆ 53.1    ┆ C123  ┆ S        │\n",
       "└──────┴─────────────┴──────────┴────────┴───┴──────────────────┴─────────┴───────┴──────────┘"
      ]
     },
     "execution_count": 30,
     "metadata": {},
     "output_type": "execute_result"
    }
   ],
   "source": [
    "(\n",
    "    df\n",
    "    .slice(0,4)\n",
    ")"
   ]
  },
  {
   "cell_type": "markdown",
   "id": "3273d154-5e53-4bc4-9257-6abc976e028a",
   "metadata": {},
   "source": [
    "### Filtering on a Boolean column\n",
    "We can filter for `True` values on a Boolean column by passing the column as an expression to `filter` without a condition"
   ]
  },
  {
   "cell_type": "markdown",
   "id": "7d0361ad",
   "metadata": {},
   "source": [
    "* `df.with_columns()`는 기존의 df에 새로운 컬럼을 추가하거나 기존 컬럼을 업데이트할때 사용하는 메서드이다."
   ]
  },
  {
   "cell_type": "code",
   "execution_count": 31,
   "id": "e064b1ec-7326-4ae3-8ca3-32d5222ad019",
   "metadata": {},
   "outputs": [
    {
     "data": {
      "text/html": [
       "<div><style>\n",
       ".dataframe > thead > tr,\n",
       ".dataframe > tbody > tr {\n",
       "  text-align: right;\n",
       "  white-space: pre-wrap;\n",
       "}\n",
       "</style>\n",
       "<small>shape: (2, 14)</small><table border=\"1\" class=\"dataframe\"><thead><tr><th>이름</th><th>PassengerId</th><th>Survived</th><th>Pclass</th><th>Name</th><th>Sex</th><th>Age</th><th>SibSp</th><th>Parch</th><th>Ticket</th><th>Fare</th><th>Cabin</th><th>Embarked</th><th>less_than_30</th></tr><tr><td>u32</td><td>i64</td><td>i64</td><td>i64</td><td>str</td><td>str</td><td>f64</td><td>i64</td><td>i64</td><td>str</td><td>f64</td><td>str</td><td>str</td><td>bool</td></tr></thead><tbody><tr><td>0</td><td>1</td><td>0</td><td>3</td><td>&quot;Braund, Mr. Owen Harris&quot;</td><td>&quot;male&quot;</td><td>22.0</td><td>1</td><td>0</td><td>&quot;A/5 21171&quot;</td><td>7.25</td><td>null</td><td>&quot;S&quot;</td><td>true</td></tr><tr><td>2</td><td>3</td><td>1</td><td>3</td><td>&quot;Heikkinen, Miss. Laina&quot;</td><td>&quot;female&quot;</td><td>26.0</td><td>0</td><td>0</td><td>&quot;STON/O2. 3101282&quot;</td><td>7.925</td><td>null</td><td>&quot;S&quot;</td><td>true</td></tr></tbody></table></div>"
      ],
      "text/plain": [
       "shape: (2, 14)\n",
       "┌──────┬─────────────┬──────────┬────────┬───┬───────┬───────┬──────────┬──────────────┐\n",
       "│ 이름 ┆ PassengerId ┆ Survived ┆ Pclass ┆ … ┆ Fare  ┆ Cabin ┆ Embarked ┆ less_than_30 │\n",
       "│ ---  ┆ ---         ┆ ---      ┆ ---    ┆   ┆ ---   ┆ ---   ┆ ---      ┆ ---          │\n",
       "│ u32  ┆ i64         ┆ i64      ┆ i64    ┆   ┆ f64   ┆ str   ┆ str      ┆ bool         │\n",
       "╞══════╪═════════════╪══════════╪════════╪═══╪═══════╪═══════╪══════════╪══════════════╡\n",
       "│ 0    ┆ 1           ┆ 0        ┆ 3      ┆ … ┆ 7.25  ┆ null  ┆ S        ┆ true         │\n",
       "│ 2    ┆ 3           ┆ 1        ┆ 3      ┆ … ┆ 7.925 ┆ null  ┆ S        ┆ true         │\n",
       "└──────┴─────────────┴──────────┴────────┴───┴───────┴───────┴──────────┴──────────────┘"
      ]
     },
     "execution_count": 31,
     "metadata": {},
     "output_type": "execute_result"
    }
   ],
   "source": [
    "(\n",
    "    df\n",
    "    .with_columns(\n",
    "        less_than_30 = pl.col(\"Age\") < 30\n",
    "    )\n",
    "    .filter(\n",
    "        pl.col(\"less_than_30\")\n",
    "    )\n",
    "    .head(2)\n",
    ")"
   ]
  },
  {
   "cell_type": "code",
   "execution_count": 37,
   "id": "51a24594",
   "metadata": {},
   "outputs": [
    {
     "data": {
      "text/html": [
       "<div><style>\n",
       ".dataframe > thead > tr,\n",
       ".dataframe > tbody > tr {\n",
       "  text-align: right;\n",
       "  white-space: pre-wrap;\n",
       "}\n",
       "</style>\n",
       "<small>shape: (2, 14)</small><table border=\"1\" class=\"dataframe\"><thead><tr><th>이름</th><th>PassengerId</th><th>Survived</th><th>Pclass</th><th>Name</th><th>Sex</th><th>Age</th><th>SibSp</th><th>Parch</th><th>Ticket</th><th>Fare</th><th>Cabin</th><th>Embarked</th><th>test</th></tr><tr><td>u32</td><td>i64</td><td>i64</td><td>i64</td><td>str</td><td>str</td><td>f64</td><td>i64</td><td>i64</td><td>str</td><td>f64</td><td>str</td><td>str</td><td>bool</td></tr></thead><tbody><tr><td>0</td><td>1</td><td>0</td><td>3</td><td>&quot;Braund, Mr. Owen Harris&quot;</td><td>&quot;male&quot;</td><td>22.0</td><td>1</td><td>0</td><td>&quot;A/5 21171&quot;</td><td>7.25</td><td>null</td><td>&quot;S&quot;</td><td>true</td></tr><tr><td>2</td><td>3</td><td>1</td><td>3</td><td>&quot;Heikkinen, Miss. Laina&quot;</td><td>&quot;female&quot;</td><td>26.0</td><td>0</td><td>0</td><td>&quot;STON/O2. 3101282&quot;</td><td>7.925</td><td>null</td><td>&quot;S&quot;</td><td>true</td></tr></tbody></table></div>"
      ],
      "text/plain": [
       "shape: (2, 14)\n",
       "┌──────┬─────────────┬──────────┬────────┬───┬───────┬───────┬──────────┬──────┐\n",
       "│ 이름 ┆ PassengerId ┆ Survived ┆ Pclass ┆ … ┆ Fare  ┆ Cabin ┆ Embarked ┆ test │\n",
       "│ ---  ┆ ---         ┆ ---      ┆ ---    ┆   ┆ ---   ┆ ---   ┆ ---      ┆ ---  │\n",
       "│ u32  ┆ i64         ┆ i64      ┆ i64    ┆   ┆ f64   ┆ str   ┆ str      ┆ bool │\n",
       "╞══════╪═════════════╪══════════╪════════╪═══╪═══════╪═══════╪══════════╪══════╡\n",
       "│ 0    ┆ 1           ┆ 0        ┆ 3      ┆ … ┆ 7.25  ┆ null  ┆ S        ┆ true │\n",
       "│ 2    ┆ 3           ┆ 1        ┆ 3      ┆ … ┆ 7.925 ┆ null  ┆ S        ┆ true │\n",
       "└──────┴─────────────┴──────────┴────────┴───┴───────┴───────┴──────────┴──────┘"
      ]
     },
     "execution_count": 37,
     "metadata": {},
     "output_type": "execute_result"
    }
   ],
   "source": [
    "(\n",
    "    df\n",
    "    .with_columns(\n",
    "        (pl.col(\"Age\") < 30).alias(\"test\")\n",
    "    )\n",
    "    .filter(\n",
    "        pl.col('test')\n",
    "    )\n",
    "    .head(2)\n",
    ")"
   ]
  },
  {
   "cell_type": "markdown",
   "id": "bd3ae2e0-32df-404e-9718-f9856a1feb98",
   "metadata": {},
   "source": [
    "We can negate a filter condition with `~`"
   ]
  },
  {
   "cell_type": "code",
   "execution_count": 38,
   "id": "58adc663-d33b-42e0-879e-37018fd1c45c",
   "metadata": {},
   "outputs": [
    {
     "data": {
      "text/html": [
       "<div><style>\n",
       ".dataframe > thead > tr,\n",
       ".dataframe > tbody > tr {\n",
       "  text-align: right;\n",
       "  white-space: pre-wrap;\n",
       "}\n",
       "</style>\n",
       "<small>shape: (2, 14)</small><table border=\"1\" class=\"dataframe\"><thead><tr><th>이름</th><th>PassengerId</th><th>Survived</th><th>Pclass</th><th>Name</th><th>Sex</th><th>Age</th><th>SibSp</th><th>Parch</th><th>Ticket</th><th>Fare</th><th>Cabin</th><th>Embarked</th><th>less_than_30</th></tr><tr><td>u32</td><td>i64</td><td>i64</td><td>i64</td><td>str</td><td>str</td><td>f64</td><td>i64</td><td>i64</td><td>str</td><td>f64</td><td>str</td><td>str</td><td>bool</td></tr></thead><tbody><tr><td>1</td><td>2</td><td>1</td><td>1</td><td>&quot;Cumings, Mrs. John Bradley (Fl…</td><td>&quot;female&quot;</td><td>38.0</td><td>1</td><td>0</td><td>&quot;PC 17599&quot;</td><td>71.2833</td><td>&quot;C85&quot;</td><td>&quot;C&quot;</td><td>false</td></tr><tr><td>3</td><td>4</td><td>1</td><td>1</td><td>&quot;Futrelle, Mrs. Jacques Heath (…</td><td>&quot;female&quot;</td><td>35.0</td><td>1</td><td>0</td><td>&quot;113803&quot;</td><td>53.1</td><td>&quot;C123&quot;</td><td>&quot;S&quot;</td><td>false</td></tr></tbody></table></div>"
      ],
      "text/plain": [
       "shape: (2, 14)\n",
       "┌──────┬─────────────┬──────────┬────────┬───┬─────────┬───────┬──────────┬──────────────┐\n",
       "│ 이름 ┆ PassengerId ┆ Survived ┆ Pclass ┆ … ┆ Fare    ┆ Cabin ┆ Embarked ┆ less_than_30 │\n",
       "│ ---  ┆ ---         ┆ ---      ┆ ---    ┆   ┆ ---     ┆ ---   ┆ ---      ┆ ---          │\n",
       "│ u32  ┆ i64         ┆ i64      ┆ i64    ┆   ┆ f64     ┆ str   ┆ str      ┆ bool         │\n",
       "╞══════╪═════════════╪══════════╪════════╪═══╪═════════╪═══════╪══════════╪══════════════╡\n",
       "│ 1    ┆ 2           ┆ 1        ┆ 1      ┆ … ┆ 71.2833 ┆ C85   ┆ C        ┆ false        │\n",
       "│ 3    ┆ 4           ┆ 1        ┆ 1      ┆ … ┆ 53.1    ┆ C123  ┆ S        ┆ false        │\n",
       "└──────┴─────────────┴──────────┴────────┴───┴─────────┴───────┴──────────┴──────────────┘"
      ]
     },
     "execution_count": 38,
     "metadata": {},
     "output_type": "execute_result"
    }
   ],
   "source": [
    "(\n",
    "    df\n",
    "    .with_columns(\n",
    "        less_than_30 = pl.col(\"Age\") < 30\n",
    "    )\n",
    "    .filter(\n",
    "        ~pl.col(\"less_than_30\")\n",
    "    )\n",
    "    .head(2)\n",
    ")"
   ]
  },
  {
   "cell_type": "code",
   "execution_count": 40,
   "id": "a5940a04",
   "metadata": {},
   "outputs": [
    {
     "data": {
      "text/html": [
       "<div><style>\n",
       ".dataframe > thead > tr,\n",
       ".dataframe > tbody > tr {\n",
       "  text-align: right;\n",
       "  white-space: pre-wrap;\n",
       "}\n",
       "</style>\n",
       "<small>shape: (2, 14)</small><table border=\"1\" class=\"dataframe\"><thead><tr><th>이름</th><th>PassengerId</th><th>Survived</th><th>Pclass</th><th>Name</th><th>Sex</th><th>Age</th><th>SibSp</th><th>Parch</th><th>Ticket</th><th>Fare</th><th>Cabin</th><th>Embarked</th><th>less_than_30</th></tr><tr><td>u32</td><td>i64</td><td>i64</td><td>i64</td><td>str</td><td>str</td><td>f64</td><td>i64</td><td>i64</td><td>str</td><td>f64</td><td>str</td><td>str</td><td>bool</td></tr></thead><tbody><tr><td>1</td><td>2</td><td>1</td><td>1</td><td>&quot;Cumings, Mrs. John Bradley (Fl…</td><td>&quot;female&quot;</td><td>38.0</td><td>1</td><td>0</td><td>&quot;PC 17599&quot;</td><td>71.2833</td><td>&quot;C85&quot;</td><td>&quot;C&quot;</td><td>false</td></tr><tr><td>3</td><td>4</td><td>1</td><td>1</td><td>&quot;Futrelle, Mrs. Jacques Heath (…</td><td>&quot;female&quot;</td><td>35.0</td><td>1</td><td>0</td><td>&quot;113803&quot;</td><td>53.1</td><td>&quot;C123&quot;</td><td>&quot;S&quot;</td><td>false</td></tr></tbody></table></div>"
      ],
      "text/plain": [
       "shape: (2, 14)\n",
       "┌──────┬─────────────┬──────────┬────────┬───┬─────────┬───────┬──────────┬──────────────┐\n",
       "│ 이름 ┆ PassengerId ┆ Survived ┆ Pclass ┆ … ┆ Fare    ┆ Cabin ┆ Embarked ┆ less_than_30 │\n",
       "│ ---  ┆ ---         ┆ ---      ┆ ---    ┆   ┆ ---     ┆ ---   ┆ ---      ┆ ---          │\n",
       "│ u32  ┆ i64         ┆ i64      ┆ i64    ┆   ┆ f64     ┆ str   ┆ str      ┆ bool         │\n",
       "╞══════╪═════════════╪══════════╪════════╪═══╪═════════╪═══════╪══════════╪══════════════╡\n",
       "│ 1    ┆ 2           ┆ 1        ┆ 1      ┆ … ┆ 71.2833 ┆ C85   ┆ C        ┆ false        │\n",
       "│ 3    ┆ 4           ┆ 1        ┆ 1      ┆ … ┆ 53.1    ┆ C123  ┆ S        ┆ false        │\n",
       "└──────┴─────────────┴──────────┴────────┴───┴─────────┴───────┴──────────┴──────────────┘"
      ]
     },
     "execution_count": 40,
     "metadata": {},
     "output_type": "execute_result"
    }
   ],
   "source": [
    "(\n",
    "    df\n",
    "    .with_columns(\n",
    "        (pl.col(\"Age\") < 30).alias('less_than_30')\n",
    "    )\n",
    "    .filter(\n",
    "        ~pl.col('less_than_30')\n",
    "    )\n",
    "    .head(2)\n",
    ")"
   ]
  },
  {
   "cell_type": "markdown",
   "id": "3d4e9055-624a-4044-9cac-8f925b9cf4f4",
   "metadata": {},
   "source": [
    "or with the `not_` expression"
   ]
  },
  {
   "cell_type": "code",
   "execution_count": null,
   "id": "f309c538-0971-486a-9046-db5f4cf52fe5",
   "metadata": {},
   "outputs": [],
   "source": [
    "(\n",
    "    df\n",
    "    .with_columns(\n",
    "        less_than_30 = pl.col(\"Age\") < 30\n",
    "    )\n",
    "    .filter(\n",
    "        pl.col(\"less_than_30\").not_()\n",
    "    )\n",
    "    .head(2)\n",
    ")"
   ]
  },
  {
   "cell_type": "markdown",
   "id": "cab5457b-d2cb-4d73-9e06-be8d7ac55a31",
   "metadata": {},
   "source": [
    "## Partitioning a `DataFrame`\n",
    "In some cases we want to get the different subsets of the `DataFrame` that result from a single condition. \n",
    "\n",
    "We can do this partition into sub-`DataFrames` with the `partition_by` method.\n",
    "\n",
    "In this example we partition by the `Pclass` column\n",
    "\n",
    "* `df.partition_by(by = [분할한 기준], as_dict = True) , as_dict=>결과를 딕셔너리로 \n",
    "* by = 카테로리컬한 변수로 하면 좋을듯"
   ]
  },
  {
   "cell_type": "code",
   "execution_count": 55,
   "id": "235df744-0515-4432-9be8-03dd26fb3a54",
   "metadata": {},
   "outputs": [],
   "source": [
    "df_pclass_dict = (\n",
    "    df\n",
    "    .partition_by(by=[\"Pclass\"],as_dict=True)\n",
    ")"
   ]
  },
  {
   "cell_type": "code",
   "execution_count": 54,
   "id": "b577715b",
   "metadata": {},
   "outputs": [
    {
     "name": "stdout",
     "output_type": "stream",
     "text": [
      "Partition (3,) :\n",
      "shape: (1, 13)\n",
      "┌──────┬─────────────┬──────────┬────────┬───┬───────────┬──────┬───────┬──────────┐\n",
      "│ 이름 ┆ PassengerId ┆ Survived ┆ Pclass ┆ … ┆ Ticket    ┆ Fare ┆ Cabin ┆ Embarked │\n",
      "│ ---  ┆ ---         ┆ ---      ┆ ---    ┆   ┆ ---       ┆ ---  ┆ ---   ┆ ---      │\n",
      "│ u32  ┆ i64         ┆ i64      ┆ i64    ┆   ┆ str       ┆ f64  ┆ str   ┆ str      │\n",
      "╞══════╪═════════════╪══════════╪════════╪═══╪═══════════╪══════╪═══════╪══════════╡\n",
      "│ 0    ┆ 1           ┆ 0        ┆ 3      ┆ … ┆ A/5 21171 ┆ 7.25 ┆ null  ┆ S        │\n",
      "└──────┴─────────────┴──────────┴────────┴───┴───────────┴──────┴───────┴──────────┘\n",
      "\n",
      "\n",
      "Partition (1,) :\n",
      "shape: (1, 13)\n",
      "┌──────┬─────────────┬──────────┬────────┬───┬──────────┬─────────┬───────┬──────────┐\n",
      "│ 이름 ┆ PassengerId ┆ Survived ┆ Pclass ┆ … ┆ Ticket   ┆ Fare    ┆ Cabin ┆ Embarked │\n",
      "│ ---  ┆ ---         ┆ ---      ┆ ---    ┆   ┆ ---      ┆ ---     ┆ ---   ┆ ---      │\n",
      "│ u32  ┆ i64         ┆ i64      ┆ i64    ┆   ┆ str      ┆ f64     ┆ str   ┆ str      │\n",
      "╞══════╪═════════════╪══════════╪════════╪═══╪══════════╪═════════╪═══════╪══════════╡\n",
      "│ 1    ┆ 2           ┆ 1        ┆ 1      ┆ … ┆ PC 17599 ┆ 71.2833 ┆ C85   ┆ C        │\n",
      "└──────┴─────────────┴──────────┴────────┴───┴──────────┴─────────┴───────┴──────────┘\n",
      "\n",
      "\n",
      "Partition (2,) :\n",
      "shape: (1, 13)\n",
      "┌──────┬─────────────┬──────────┬────────┬───┬────────┬─────────┬───────┬──────────┐\n",
      "│ 이름 ┆ PassengerId ┆ Survived ┆ Pclass ┆ … ┆ Ticket ┆ Fare    ┆ Cabin ┆ Embarked │\n",
      "│ ---  ┆ ---         ┆ ---      ┆ ---    ┆   ┆ ---    ┆ ---     ┆ ---   ┆ ---      │\n",
      "│ u32  ┆ i64         ┆ i64      ┆ i64    ┆   ┆ str    ┆ f64     ┆ str   ┆ str      │\n",
      "╞══════╪═════════════╪══════════╪════════╪═══╪════════╪═════════╪═══════╪══════════╡\n",
      "│ 9    ┆ 10          ┆ 1        ┆ 2      ┆ … ┆ 237736 ┆ 30.0708 ┆ null  ┆ C        │\n",
      "└──────┴─────────────┴──────────┴────────┴───┴────────┴─────────┴───────┴──────────┘\n",
      "\n",
      "\n"
     ]
    }
   ],
   "source": [
    "for i, partiton in enumerate(df_pclass_dict):\n",
    "    print(\"Partition {0} :\".format(partiton))\n",
    "    print(df_pclass_dict[partiton].head(1))\n",
    "    print(\"\\n\")\n"
   ]
  },
  {
   "cell_type": "markdown",
   "id": "7b1bcef4-aa01-4d44-b051-e83edceaa232",
   "metadata": {},
   "source": [
    "The output is a python `dict` mapping from the unique values in `Pclass` to the sub-`DataFrame` for each class. This partition requires copying the data in `df` to new sub-`DataFrames`.\n",
    "\n",
    "Note that the keys of this `dict` are always tuples even if there is just one element in the tuple for each key"
   ]
  },
  {
   "cell_type": "code",
   "execution_count": 43,
   "id": "da59c99e-dbe0-4045-a384-cbd16fb1e94b",
   "metadata": {},
   "outputs": [
    {
     "data": {
      "text/plain": [
       "dict_keys([(3,), (1,), (2,)])"
      ]
     },
     "execution_count": 43,
     "metadata": {},
     "output_type": "execute_result"
    }
   ],
   "source": [
    "df_pclass_dict.keys()"
   ]
  },
  {
   "cell_type": "markdown",
   "id": "6c62dd53-d977-4c7d-89f8-a4defbfd81eb",
   "metadata": {},
   "source": [
    "Note that if we don't pass the `as_dict=True` argument we instead get a python `list` of sub-`DataFrames`.\n",
    "\n",
    "We can get the rows with first class passengers from this `dict` (note the `,` which turns `1` into the tuple `(1,)`"
   ]
  },
  {
   "cell_type": "code",
   "execution_count": 65,
   "id": "7fd97ebd",
   "metadata": {},
   "outputs": [
    {
     "data": {
      "text/html": [
       "<div><style>\n",
       ".dataframe > thead > tr,\n",
       ".dataframe > tbody > tr {\n",
       "  text-align: right;\n",
       "  white-space: pre-wrap;\n",
       "}\n",
       "</style>\n",
       "<small>shape: (3, 13)</small><table border=\"1\" class=\"dataframe\"><thead><tr><th>이름</th><th>PassengerId</th><th>Survived</th><th>Pclass</th><th>Name</th><th>Sex</th><th>Age</th><th>SibSp</th><th>Parch</th><th>Ticket</th><th>Fare</th><th>Cabin</th><th>Embarked</th></tr><tr><td>u32</td><td>i64</td><td>i64</td><td>i64</td><td>str</td><td>str</td><td>f64</td><td>i64</td><td>i64</td><td>str</td><td>f64</td><td>str</td><td>str</td></tr></thead><tbody><tr><td>0</td><td>1</td><td>0</td><td>3</td><td>&quot;Braund, Mr. Owen Harris&quot;</td><td>&quot;male&quot;</td><td>22.0</td><td>1</td><td>0</td><td>&quot;A/5 21171&quot;</td><td>7.25</td><td>null</td><td>&quot;S&quot;</td></tr><tr><td>2</td><td>3</td><td>1</td><td>3</td><td>&quot;Heikkinen, Miss. Laina&quot;</td><td>&quot;female&quot;</td><td>26.0</td><td>0</td><td>0</td><td>&quot;STON/O2. 3101282&quot;</td><td>7.925</td><td>null</td><td>&quot;S&quot;</td></tr><tr><td>4</td><td>5</td><td>0</td><td>3</td><td>&quot;Allen, Mr. William Henry&quot;</td><td>&quot;male&quot;</td><td>35.0</td><td>0</td><td>0</td><td>&quot;373450&quot;</td><td>8.05</td><td>null</td><td>&quot;S&quot;</td></tr></tbody></table></div>"
      ],
      "text/plain": [
       "shape: (3, 13)\n",
       "┌──────┬─────────────┬──────────┬────────┬───┬──────────────────┬───────┬───────┬──────────┐\n",
       "│ 이름 ┆ PassengerId ┆ Survived ┆ Pclass ┆ … ┆ Ticket           ┆ Fare  ┆ Cabin ┆ Embarked │\n",
       "│ ---  ┆ ---         ┆ ---      ┆ ---    ┆   ┆ ---              ┆ ---   ┆ ---   ┆ ---      │\n",
       "│ u32  ┆ i64         ┆ i64      ┆ i64    ┆   ┆ str              ┆ f64   ┆ str   ┆ str      │\n",
       "╞══════╪═════════════╪══════════╪════════╪═══╪══════════════════╪═══════╪═══════╪══════════╡\n",
       "│ 0    ┆ 1           ┆ 0        ┆ 3      ┆ … ┆ A/5 21171        ┆ 7.25  ┆ null  ┆ S        │\n",
       "│ 2    ┆ 3           ┆ 1        ┆ 3      ┆ … ┆ STON/O2. 3101282 ┆ 7.925 ┆ null  ┆ S        │\n",
       "│ 4    ┆ 5           ┆ 0        ┆ 3      ┆ … ┆ 373450           ┆ 8.05  ┆ null  ┆ S        │\n",
       "└──────┴─────────────┴──────────┴────────┴───┴──────────────────┴───────┴───────┴──────────┘"
      ]
     },
     "execution_count": 65,
     "metadata": {},
     "output_type": "execute_result"
    }
   ],
   "source": [
    "tmp = (\n",
    "    df\n",
    "    .partition_by(by = \"Pclass\")\n",
    ")\n",
    "tmp[0].head(3)"
   ]
  },
  {
   "cell_type": "code",
   "execution_count": 60,
   "id": "581ee34b-c1d8-43f7-b67a-5ba0cd2b52d7",
   "metadata": {},
   "outputs": [
    {
     "data": {
      "text/html": [
       "<div><style>\n",
       ".dataframe > thead > tr,\n",
       ".dataframe > tbody > tr {\n",
       "  text-align: right;\n",
       "  white-space: pre-wrap;\n",
       "}\n",
       "</style>\n",
       "<small>shape: (2, 13)</small><table border=\"1\" class=\"dataframe\"><thead><tr><th>이름</th><th>PassengerId</th><th>Survived</th><th>Pclass</th><th>Name</th><th>Sex</th><th>Age</th><th>SibSp</th><th>Parch</th><th>Ticket</th><th>Fare</th><th>Cabin</th><th>Embarked</th></tr><tr><td>u32</td><td>i64</td><td>i64</td><td>i64</td><td>str</td><td>str</td><td>f64</td><td>i64</td><td>i64</td><td>str</td><td>f64</td><td>str</td><td>str</td></tr></thead><tbody><tr><td>1</td><td>2</td><td>1</td><td>1</td><td>&quot;Cumings, Mrs. John Bradley (Fl…</td><td>&quot;female&quot;</td><td>38.0</td><td>1</td><td>0</td><td>&quot;PC 17599&quot;</td><td>71.2833</td><td>&quot;C85&quot;</td><td>&quot;C&quot;</td></tr><tr><td>3</td><td>4</td><td>1</td><td>1</td><td>&quot;Futrelle, Mrs. Jacques Heath (…</td><td>&quot;female&quot;</td><td>35.0</td><td>1</td><td>0</td><td>&quot;113803&quot;</td><td>53.1</td><td>&quot;C123&quot;</td><td>&quot;S&quot;</td></tr></tbody></table></div>"
      ],
      "text/plain": [
       "shape: (2, 13)\n",
       "┌──────┬─────────────┬──────────┬────────┬───┬──────────┬─────────┬───────┬──────────┐\n",
       "│ 이름 ┆ PassengerId ┆ Survived ┆ Pclass ┆ … ┆ Ticket   ┆ Fare    ┆ Cabin ┆ Embarked │\n",
       "│ ---  ┆ ---         ┆ ---      ┆ ---    ┆   ┆ ---      ┆ ---     ┆ ---   ┆ ---      │\n",
       "│ u32  ┆ i64         ┆ i64      ┆ i64    ┆   ┆ str      ┆ f64     ┆ str   ┆ str      │\n",
       "╞══════╪═════════════╪══════════╪════════╪═══╪══════════╪═════════╪═══════╪══════════╡\n",
       "│ 1    ┆ 2           ┆ 1        ┆ 1      ┆ … ┆ PC 17599 ┆ 71.2833 ┆ C85   ┆ C        │\n",
       "│ 3    ┆ 4           ┆ 1        ┆ 1      ┆ … ┆ 113803   ┆ 53.1    ┆ C123  ┆ S        │\n",
       "└──────┴─────────────┴──────────┴────────┴───┴──────────┴─────────┴───────┴──────────┘"
      ]
     },
     "execution_count": 60,
     "metadata": {},
     "output_type": "execute_result"
    }
   ],
   "source": [
    "df_pclass_dict[1,].head(2)"
   ]
  },
  {
   "cell_type": "markdown",
   "id": "ac2d8ad6-7078-4053-a08d-1b768a687a58",
   "metadata": {},
   "source": [
    "## Filter in lazy mode\n",
    "We create a `LazyFrame` by scanning the CSV and adding a `filter` operation"
   ]
  },
  {
   "cell_type": "code",
   "execution_count": 66,
   "id": "96975434-b32b-4413-b2d7-7b9ed9dedd7e",
   "metadata": {},
   "outputs": [
    {
     "data": {
      "text/html": [
       "<i>naive plan: (run <b>LazyFrame.explain(optimized=True)</b> to see the optimized plan)</i>\n",
       "    <p></p>\n",
       "    <div>FILTER [(col(\"Age\")) > (30.0)] FROM<p></p>  Csv SCAN [../data/titanic.csv]<p></p>  PROJECT */12 COLUMNS</div>"
      ],
      "text/plain": [
       "<LazyFrame at 0x10A0491C0>"
      ]
     },
     "execution_count": 66,
     "metadata": {},
     "output_type": "execute_result"
    }
   ],
   "source": [
    "(\n",
    "    pl.scan_csv(csv_file)\n",
    "    .filter(pl.col(\"Age\") > 30)\n",
    ")"
   ]
  },
  {
   "cell_type": "code",
   "execution_count": 70,
   "id": "35b6a8b4",
   "metadata": {},
   "outputs": [],
   "source": [
    "less_than_30_l = (\n",
    "    pl.scan_csv(csv_file)\n",
    "    .filter(\n",
    "        pl.col('Age') > 30\n",
    "    )\n",
    ")"
   ]
  },
  {
   "cell_type": "code",
   "execution_count": 72,
   "id": "d0147562",
   "metadata": {},
   "outputs": [
    {
     "name": "stdout",
     "output_type": "stream",
     "text": [
      "shape: (5, 12)\n",
      "┌─────────────┬──────────┬────────┬────────────────────┬───┬──────────┬─────────┬───────┬──────────┐\n",
      "│ PassengerId ┆ Survived ┆ Pclass ┆ Name               ┆ … ┆ Ticket   ┆ Fare    ┆ Cabin ┆ Embarked │\n",
      "│ ---         ┆ ---      ┆ ---    ┆ ---                ┆   ┆ ---      ┆ ---     ┆ ---   ┆ ---      │\n",
      "│ i64         ┆ i64      ┆ i64    ┆ str                ┆   ┆ str      ┆ f64     ┆ str   ┆ str      │\n",
      "╞═════════════╪══════════╪════════╪════════════════════╪═══╪══════════╪═════════╪═══════╪══════════╡\n",
      "│ 2           ┆ 1        ┆ 1      ┆ Cumings, Mrs. John ┆ … ┆ PC 17599 ┆ 71.2833 ┆ C85   ┆ C        │\n",
      "│             ┆          ┆        ┆ Bradley (Fl…       ┆   ┆          ┆         ┆       ┆          │\n",
      "│ 4           ┆ 1        ┆ 1      ┆ Futrelle, Mrs.     ┆ … ┆ 113803   ┆ 53.1    ┆ C123  ┆ S        │\n",
      "│             ┆          ┆        ┆ Jacques Heath (…   ┆   ┆          ┆         ┆       ┆          │\n",
      "│ 5           ┆ 0        ┆ 3      ┆ Allen, Mr. William ┆ … ┆ 373450   ┆ 8.05    ┆ null  ┆ S        │\n",
      "│             ┆          ┆        ┆ Henry              ┆   ┆          ┆         ┆       ┆          │\n",
      "│ 7           ┆ 0        ┆ 1      ┆ McCarthy, Mr.      ┆ … ┆ 17463    ┆ 51.8625 ┆ E46   ┆ S        │\n",
      "│             ┆          ┆        ┆ Timothy J          ┆   ┆          ┆         ┆       ┆          │\n",
      "│ 12          ┆ 1        ┆ 1      ┆ Bonnell, Miss.     ┆ … ┆ 113783   ┆ 26.55   ┆ C103  ┆ S        │\n",
      "│             ┆          ┆        ┆ Elizabeth          ┆   ┆          ┆         ┆       ┆          │\n",
      "└─────────────┴──────────┴────────┴────────────────────┴───┴──────────┴─────────┴───────┴──────────┘\n"
     ]
    }
   ],
   "source": [
    "print(less_than_30_l.collect().head())"
   ]
  },
  {
   "cell_type": "markdown",
   "id": "d41c6c91-e075-424e-a62b-4eec700c6b92",
   "metadata": {},
   "source": [
    "When we print the optimized plan we see the `filter` operation is part of the `SELECTION`. This query optimisation is called **predicate pushdown**. With predicate pushdown Polars tries to apply a `filter` as early as possible in a query plan to reduce the amount of data that must be processed"
   ]
  },
  {
   "cell_type": "code",
   "execution_count": 67,
   "id": "80cf265d-9076-4b80-bce3-ef630da8ec4d",
   "metadata": {},
   "outputs": [
    {
     "name": "stdout",
     "output_type": "stream",
     "text": [
      "Csv SCAN [../data/titanic.csv]\n",
      "PROJECT */12 COLUMNS\n",
      "SELECTION: [(col(\"Age\")) > (30.0)]\n"
     ]
    }
   ],
   "source": [
    "print(\n",
    "    pl.scan_csv(csv_file)\n",
    "    .filter(pl.col(\"Age\") > 30)\n",
    "    .explain()\n",
    ")"
   ]
  },
  {
   "cell_type": "markdown",
   "id": "e08bbc59-4f18-4711-9b40-647ac8fee415",
   "metadata": {},
   "source": [
    "In this case of a `filter` applied on a query like this from a CSV on our local machine the query optimisation will not have much impact: Polars just reads the CSV, makes a `DataFrame` in memory and then filters the `DataFrame`. The result would probably be similar to doing the query in eager mode.\n",
    "\n",
    "However, if we are reading a file from cloud storage then Polars tries to apply the condition in `SELECTION` in the cloud storage and so reduces the amount of data that must be transferred across the network. The transfer across the network is typically the slowest and most expensive part of the query.\n"
   ]
  },
  {
   "cell_type": "markdown",
   "id": "2ec62383-f9d4-4aab-babe-06af0b794449",
   "metadata": {},
   "source": [
    "\n",
    "If we set `streaming=True` in `explain` we see that the `filter` operation comes after `STREAMING` in the query plan - this means that Polars can do this filter operation in streaming mode if we evaluate the lazy query with `.collect(streaming=True)`"
   ]
  },
  {
   "cell_type": "code",
   "execution_count": null,
   "id": "f99ac8e6-cf58-4a2a-aa5b-5f748ae50ef9",
   "metadata": {},
   "outputs": [],
   "source": [
    "print(\n",
    "    pl.scan_csv(csv_file)\n",
    "    .filter(pl.col(\"Age\") > 30)\n",
    "    .explain(streaming=True)\n",
    ")"
   ]
  },
  {
   "cell_type": "markdown",
   "id": "94787c49-833d-4b79-9efe-301d49511ec1",
   "metadata": {},
   "source": [
    "# Exercises\n",
    "In the exercises you will develop your understanding of\n",
    "- using the `filter` method\n",
    "- adding a row number column\n",
    "- partitioning a `DataFrame`"
   ]
  },
  {
   "cell_type": "markdown",
   "id": "7e114028-cf26-4773-9078-1e68d9221b50",
   "metadata": {},
   "source": [
    "### Exercise 1 \n",
    "Select all rows where `Age` is greater than 30"
   ]
  },
  {
   "cell_type": "code",
   "execution_count": 73,
   "id": "3979c416-8da6-44cc-8408-a5930159bdd4",
   "metadata": {
    "tags": []
   },
   "outputs": [
    {
     "data": {
      "text/html": [
       "<div><style>\n",
       ".dataframe > thead > tr,\n",
       ".dataframe > tbody > tr {\n",
       "  text-align: right;\n",
       "  white-space: pre-wrap;\n",
       "}\n",
       "</style>\n",
       "<small>shape: (5, 12)</small><table border=\"1\" class=\"dataframe\"><thead><tr><th>PassengerId</th><th>Survived</th><th>Pclass</th><th>Name</th><th>Sex</th><th>Age</th><th>SibSp</th><th>Parch</th><th>Ticket</th><th>Fare</th><th>Cabin</th><th>Embarked</th></tr><tr><td>i64</td><td>i64</td><td>i64</td><td>str</td><td>str</td><td>f64</td><td>i64</td><td>i64</td><td>str</td><td>f64</td><td>str</td><td>str</td></tr></thead><tbody><tr><td>2</td><td>1</td><td>1</td><td>&quot;Cumings, Mrs. John Bradley (Fl…</td><td>&quot;female&quot;</td><td>38.0</td><td>1</td><td>0</td><td>&quot;PC 17599&quot;</td><td>71.2833</td><td>&quot;C85&quot;</td><td>&quot;C&quot;</td></tr><tr><td>4</td><td>1</td><td>1</td><td>&quot;Futrelle, Mrs. Jacques Heath (…</td><td>&quot;female&quot;</td><td>35.0</td><td>1</td><td>0</td><td>&quot;113803&quot;</td><td>53.1</td><td>&quot;C123&quot;</td><td>&quot;S&quot;</td></tr><tr><td>5</td><td>0</td><td>3</td><td>&quot;Allen, Mr. William Henry&quot;</td><td>&quot;male&quot;</td><td>35.0</td><td>0</td><td>0</td><td>&quot;373450&quot;</td><td>8.05</td><td>null</td><td>&quot;S&quot;</td></tr><tr><td>7</td><td>0</td><td>1</td><td>&quot;McCarthy, Mr. Timothy J&quot;</td><td>&quot;male&quot;</td><td>54.0</td><td>0</td><td>0</td><td>&quot;17463&quot;</td><td>51.8625</td><td>&quot;E46&quot;</td><td>&quot;S&quot;</td></tr><tr><td>12</td><td>1</td><td>1</td><td>&quot;Bonnell, Miss. Elizabeth&quot;</td><td>&quot;female&quot;</td><td>58.0</td><td>0</td><td>0</td><td>&quot;113783&quot;</td><td>26.55</td><td>&quot;C103&quot;</td><td>&quot;S&quot;</td></tr></tbody></table></div>"
      ],
      "text/plain": [
       "shape: (5, 12)\n",
       "┌─────────────┬──────────┬────────┬────────────────────┬───┬──────────┬─────────┬───────┬──────────┐\n",
       "│ PassengerId ┆ Survived ┆ Pclass ┆ Name               ┆ … ┆ Ticket   ┆ Fare    ┆ Cabin ┆ Embarked │\n",
       "│ ---         ┆ ---      ┆ ---    ┆ ---                ┆   ┆ ---      ┆ ---     ┆ ---   ┆ ---      │\n",
       "│ i64         ┆ i64      ┆ i64    ┆ str                ┆   ┆ str      ┆ f64     ┆ str   ┆ str      │\n",
       "╞═════════════╪══════════╪════════╪════════════════════╪═══╪══════════╪═════════╪═══════╪══════════╡\n",
       "│ 2           ┆ 1        ┆ 1      ┆ Cumings, Mrs. John ┆ … ┆ PC 17599 ┆ 71.2833 ┆ C85   ┆ C        │\n",
       "│             ┆          ┆        ┆ Bradley (Fl…       ┆   ┆          ┆         ┆       ┆          │\n",
       "│ 4           ┆ 1        ┆ 1      ┆ Futrelle, Mrs.     ┆ … ┆ 113803   ┆ 53.1    ┆ C123  ┆ S        │\n",
       "│             ┆          ┆        ┆ Jacques Heath (…   ┆   ┆          ┆         ┆       ┆          │\n",
       "│ 5           ┆ 0        ┆ 3      ┆ Allen, Mr. William ┆ … ┆ 373450   ┆ 8.05    ┆ null  ┆ S        │\n",
       "│             ┆          ┆        ┆ Henry              ┆   ┆          ┆         ┆       ┆          │\n",
       "│ 7           ┆ 0        ┆ 1      ┆ McCarthy, Mr.      ┆ … ┆ 17463    ┆ 51.8625 ┆ E46   ┆ S        │\n",
       "│             ┆          ┆        ┆ Timothy J          ┆   ┆          ┆         ┆       ┆          │\n",
       "│ 12          ┆ 1        ┆ 1      ┆ Bonnell, Miss.     ┆ … ┆ 113783   ┆ 26.55   ┆ C103  ┆ S        │\n",
       "│             ┆          ┆        ┆ Elizabeth          ┆   ┆          ┆         ┆       ┆          │\n",
       "└─────────────┴──────────┴────────┴────────────────────┴───┴──────────┴─────────┴───────┴──────────┘"
      ]
     },
     "execution_count": 73,
     "metadata": {},
     "output_type": "execute_result"
    }
   ],
   "source": [
    "(\n",
    "    pl.read_csv(csv_file)\n",
    "    .select(\n",
    "        pl.col(\"*\")\n",
    "    )\n",
    "    .filter(\n",
    "        pl.col('Age') > 30\n",
    "    )\n",
    "    .head()\n",
    ")"
   ]
  },
  {
   "cell_type": "markdown",
   "id": "01b9ce69-d2da-4e35-9d50-fdacde1bbde7",
   "metadata": {},
   "source": [
    "Select all rows where `Embarked` is equal to \"C\" - using the keyword approach"
   ]
  },
  {
   "cell_type": "code",
   "execution_count": 74,
   "id": "79638fdf-c2dc-45c7-91a7-c49fbd471c99",
   "metadata": {},
   "outputs": [
    {
     "data": {
      "text/html": [
       "<div><style>\n",
       ".dataframe > thead > tr,\n",
       ".dataframe > tbody > tr {\n",
       "  text-align: right;\n",
       "  white-space: pre-wrap;\n",
       "}\n",
       "</style>\n",
       "<small>shape: (5, 12)</small><table border=\"1\" class=\"dataframe\"><thead><tr><th>PassengerId</th><th>Survived</th><th>Pclass</th><th>Name</th><th>Sex</th><th>Age</th><th>SibSp</th><th>Parch</th><th>Ticket</th><th>Fare</th><th>Cabin</th><th>Embarked</th></tr><tr><td>i64</td><td>i64</td><td>i64</td><td>str</td><td>str</td><td>f64</td><td>i64</td><td>i64</td><td>str</td><td>f64</td><td>str</td><td>str</td></tr></thead><tbody><tr><td>2</td><td>1</td><td>1</td><td>&quot;Cumings, Mrs. John Bradley (Fl…</td><td>&quot;female&quot;</td><td>38.0</td><td>1</td><td>0</td><td>&quot;PC 17599&quot;</td><td>71.2833</td><td>&quot;C85&quot;</td><td>&quot;C&quot;</td></tr><tr><td>10</td><td>1</td><td>2</td><td>&quot;Nasser, Mrs. Nicholas (Adele A…</td><td>&quot;female&quot;</td><td>14.0</td><td>1</td><td>0</td><td>&quot;237736&quot;</td><td>30.0708</td><td>null</td><td>&quot;C&quot;</td></tr><tr><td>20</td><td>1</td><td>3</td><td>&quot;Masselmani, Mrs. Fatima&quot;</td><td>&quot;female&quot;</td><td>null</td><td>0</td><td>0</td><td>&quot;2649&quot;</td><td>7.225</td><td>null</td><td>&quot;C&quot;</td></tr><tr><td>27</td><td>0</td><td>3</td><td>&quot;Emir, Mr. Farred Chehab&quot;</td><td>&quot;male&quot;</td><td>null</td><td>0</td><td>0</td><td>&quot;2631&quot;</td><td>7.225</td><td>null</td><td>&quot;C&quot;</td></tr><tr><td>31</td><td>0</td><td>1</td><td>&quot;Uruchurtu, Don. Manuel E&quot;</td><td>&quot;male&quot;</td><td>40.0</td><td>0</td><td>0</td><td>&quot;PC 17601&quot;</td><td>27.7208</td><td>null</td><td>&quot;C&quot;</td></tr></tbody></table></div>"
      ],
      "text/plain": [
       "shape: (5, 12)\n",
       "┌─────────────┬──────────┬────────┬────────────────────┬───┬──────────┬─────────┬───────┬──────────┐\n",
       "│ PassengerId ┆ Survived ┆ Pclass ┆ Name               ┆ … ┆ Ticket   ┆ Fare    ┆ Cabin ┆ Embarked │\n",
       "│ ---         ┆ ---      ┆ ---    ┆ ---                ┆   ┆ ---      ┆ ---     ┆ ---   ┆ ---      │\n",
       "│ i64         ┆ i64      ┆ i64    ┆ str                ┆   ┆ str      ┆ f64     ┆ str   ┆ str      │\n",
       "╞═════════════╪══════════╪════════╪════════════════════╪═══╪══════════╪═════════╪═══════╪══════════╡\n",
       "│ 2           ┆ 1        ┆ 1      ┆ Cumings, Mrs. John ┆ … ┆ PC 17599 ┆ 71.2833 ┆ C85   ┆ C        │\n",
       "│             ┆          ┆        ┆ Bradley (Fl…       ┆   ┆          ┆         ┆       ┆          │\n",
       "│ 10          ┆ 1        ┆ 2      ┆ Nasser, Mrs.       ┆ … ┆ 237736   ┆ 30.0708 ┆ null  ┆ C        │\n",
       "│             ┆          ┆        ┆ Nicholas (Adele A… ┆   ┆          ┆         ┆       ┆          │\n",
       "│ 20          ┆ 1        ┆ 3      ┆ Masselmani, Mrs.   ┆ … ┆ 2649     ┆ 7.225   ┆ null  ┆ C        │\n",
       "│             ┆          ┆        ┆ Fatima             ┆   ┆          ┆         ┆       ┆          │\n",
       "│ 27          ┆ 0        ┆ 3      ┆ Emir, Mr. Farred   ┆ … ┆ 2631     ┆ 7.225   ┆ null  ┆ C        │\n",
       "│             ┆          ┆        ┆ Chehab             ┆   ┆          ┆         ┆       ┆          │\n",
       "│ 31          ┆ 0        ┆ 1      ┆ Uruchurtu, Don.    ┆ … ┆ PC 17601 ┆ 27.7208 ┆ null  ┆ C        │\n",
       "│             ┆          ┆        ┆ Manuel E           ┆   ┆          ┆         ┆       ┆          │\n",
       "└─────────────┴──────────┴────────┴────────────────────┴───┴──────────┴─────────┴───────┴──────────┘"
      ]
     },
     "execution_count": 74,
     "metadata": {},
     "output_type": "execute_result"
    }
   ],
   "source": [
    "df = pl.read_csv(csv_file)\n",
    "\n",
    "(\n",
    "    df\n",
    "    .select(\n",
    "        pl.col(\"*\")\n",
    "    )\n",
    "    .filter(\n",
    "        pl.col(\"Embarked\") == \"C\"\n",
    "    )\n",
    "    .head()\n",
    ")"
   ]
  },
  {
   "cell_type": "code",
   "execution_count": 75,
   "id": "cd7d9ad3",
   "metadata": {},
   "outputs": [
    {
     "data": {
      "text/html": [
       "<div><style>\n",
       ".dataframe > thead > tr,\n",
       ".dataframe > tbody > tr {\n",
       "  text-align: right;\n",
       "  white-space: pre-wrap;\n",
       "}\n",
       "</style>\n",
       "<small>shape: (5, 12)</small><table border=\"1\" class=\"dataframe\"><thead><tr><th>PassengerId</th><th>Survived</th><th>Pclass</th><th>Name</th><th>Sex</th><th>Age</th><th>SibSp</th><th>Parch</th><th>Ticket</th><th>Fare</th><th>Cabin</th><th>Embarked</th></tr><tr><td>i64</td><td>i64</td><td>i64</td><td>str</td><td>str</td><td>f64</td><td>i64</td><td>i64</td><td>str</td><td>f64</td><td>str</td><td>str</td></tr></thead><tbody><tr><td>2</td><td>1</td><td>1</td><td>&quot;Cumings, Mrs. John Bradley (Fl…</td><td>&quot;female&quot;</td><td>38.0</td><td>1</td><td>0</td><td>&quot;PC 17599&quot;</td><td>71.2833</td><td>&quot;C85&quot;</td><td>&quot;C&quot;</td></tr><tr><td>10</td><td>1</td><td>2</td><td>&quot;Nasser, Mrs. Nicholas (Adele A…</td><td>&quot;female&quot;</td><td>14.0</td><td>1</td><td>0</td><td>&quot;237736&quot;</td><td>30.0708</td><td>null</td><td>&quot;C&quot;</td></tr><tr><td>20</td><td>1</td><td>3</td><td>&quot;Masselmani, Mrs. Fatima&quot;</td><td>&quot;female&quot;</td><td>null</td><td>0</td><td>0</td><td>&quot;2649&quot;</td><td>7.225</td><td>null</td><td>&quot;C&quot;</td></tr><tr><td>27</td><td>0</td><td>3</td><td>&quot;Emir, Mr. Farred Chehab&quot;</td><td>&quot;male&quot;</td><td>null</td><td>0</td><td>0</td><td>&quot;2631&quot;</td><td>7.225</td><td>null</td><td>&quot;C&quot;</td></tr><tr><td>31</td><td>0</td><td>1</td><td>&quot;Uruchurtu, Don. Manuel E&quot;</td><td>&quot;male&quot;</td><td>40.0</td><td>0</td><td>0</td><td>&quot;PC 17601&quot;</td><td>27.7208</td><td>null</td><td>&quot;C&quot;</td></tr></tbody></table></div>"
      ],
      "text/plain": [
       "shape: (5, 12)\n",
       "┌─────────────┬──────────┬────────┬────────────────────┬───┬──────────┬─────────┬───────┬──────────┐\n",
       "│ PassengerId ┆ Survived ┆ Pclass ┆ Name               ┆ … ┆ Ticket   ┆ Fare    ┆ Cabin ┆ Embarked │\n",
       "│ ---         ┆ ---      ┆ ---    ┆ ---                ┆   ┆ ---      ┆ ---     ┆ ---   ┆ ---      │\n",
       "│ i64         ┆ i64      ┆ i64    ┆ str                ┆   ┆ str      ┆ f64     ┆ str   ┆ str      │\n",
       "╞═════════════╪══════════╪════════╪════════════════════╪═══╪══════════╪═════════╪═══════╪══════════╡\n",
       "│ 2           ┆ 1        ┆ 1      ┆ Cumings, Mrs. John ┆ … ┆ PC 17599 ┆ 71.2833 ┆ C85   ┆ C        │\n",
       "│             ┆          ┆        ┆ Bradley (Fl…       ┆   ┆          ┆         ┆       ┆          │\n",
       "│ 10          ┆ 1        ┆ 2      ┆ Nasser, Mrs.       ┆ … ┆ 237736   ┆ 30.0708 ┆ null  ┆ C        │\n",
       "│             ┆          ┆        ┆ Nicholas (Adele A… ┆   ┆          ┆         ┆       ┆          │\n",
       "│ 20          ┆ 1        ┆ 3      ┆ Masselmani, Mrs.   ┆ … ┆ 2649     ┆ 7.225   ┆ null  ┆ C        │\n",
       "│             ┆          ┆        ┆ Fatima             ┆   ┆          ┆         ┆       ┆          │\n",
       "│ 27          ┆ 0        ┆ 3      ┆ Emir, Mr. Farred   ┆ … ┆ 2631     ┆ 7.225   ┆ null  ┆ C        │\n",
       "│             ┆          ┆        ┆ Chehab             ┆   ┆          ┆         ┆       ┆          │\n",
       "│ 31          ┆ 0        ┆ 1      ┆ Uruchurtu, Don.    ┆ … ┆ PC 17601 ┆ 27.7208 ┆ null  ┆ C        │\n",
       "│             ┆          ┆        ┆ Manuel E           ┆   ┆          ┆         ┆       ┆          │\n",
       "└─────────────┴──────────┴────────┴────────────────────┴───┴──────────┴─────────┴───────┴──────────┘"
      ]
     },
     "execution_count": 75,
     "metadata": {},
     "output_type": "execute_result"
    }
   ],
   "source": [
    "(\n",
    "    df\n",
    "    .select(\n",
    "        pl.col(\"*\")\n",
    "    )\n",
    "    .filter(\n",
    "        pl.col(\"Embarked\").str.contains(\"C\")\n",
    "    )\n",
    "    .head()\n",
    ")"
   ]
  },
  {
   "cell_type": "markdown",
   "id": "8fa99782-ce3b-4b68-9f6c-fd0e0c55dadf",
   "metadata": {},
   "source": [
    "Select all rows where `Embarked` is **not** equal to \"C\" "
   ]
  },
  {
   "cell_type": "code",
   "execution_count": 77,
   "id": "38a42971-f1c7-43d6-896b-b1448bf099ef",
   "metadata": {},
   "outputs": [
    {
     "data": {
      "text/html": [
       "<div><style>\n",
       ".dataframe > thead > tr,\n",
       ".dataframe > tbody > tr {\n",
       "  text-align: right;\n",
       "  white-space: pre-wrap;\n",
       "}\n",
       "</style>\n",
       "<small>shape: (5, 12)</small><table border=\"1\" class=\"dataframe\"><thead><tr><th>PassengerId</th><th>Survived</th><th>Pclass</th><th>Name</th><th>Sex</th><th>Age</th><th>SibSp</th><th>Parch</th><th>Ticket</th><th>Fare</th><th>Cabin</th><th>Embarked</th></tr><tr><td>i64</td><td>i64</td><td>i64</td><td>str</td><td>str</td><td>f64</td><td>i64</td><td>i64</td><td>str</td><td>f64</td><td>str</td><td>str</td></tr></thead><tbody><tr><td>1</td><td>0</td><td>3</td><td>&quot;Braund, Mr. Owen Harris&quot;</td><td>&quot;male&quot;</td><td>22.0</td><td>1</td><td>0</td><td>&quot;A/5 21171&quot;</td><td>7.25</td><td>null</td><td>&quot;S&quot;</td></tr><tr><td>3</td><td>1</td><td>3</td><td>&quot;Heikkinen, Miss. Laina&quot;</td><td>&quot;female&quot;</td><td>26.0</td><td>0</td><td>0</td><td>&quot;STON/O2. 3101282&quot;</td><td>7.925</td><td>null</td><td>&quot;S&quot;</td></tr><tr><td>4</td><td>1</td><td>1</td><td>&quot;Futrelle, Mrs. Jacques Heath (…</td><td>&quot;female&quot;</td><td>35.0</td><td>1</td><td>0</td><td>&quot;113803&quot;</td><td>53.1</td><td>&quot;C123&quot;</td><td>&quot;S&quot;</td></tr><tr><td>5</td><td>0</td><td>3</td><td>&quot;Allen, Mr. William Henry&quot;</td><td>&quot;male&quot;</td><td>35.0</td><td>0</td><td>0</td><td>&quot;373450&quot;</td><td>8.05</td><td>null</td><td>&quot;S&quot;</td></tr><tr><td>6</td><td>0</td><td>3</td><td>&quot;Moran, Mr. James&quot;</td><td>&quot;male&quot;</td><td>null</td><td>0</td><td>0</td><td>&quot;330877&quot;</td><td>8.4583</td><td>null</td><td>&quot;Q&quot;</td></tr></tbody></table></div>"
      ],
      "text/plain": [
       "shape: (5, 12)\n",
       "┌─────────────┬──────────┬────────┬────────────────────┬───┬───────────┬────────┬───────┬──────────┐\n",
       "│ PassengerId ┆ Survived ┆ Pclass ┆ Name               ┆ … ┆ Ticket    ┆ Fare   ┆ Cabin ┆ Embarked │\n",
       "│ ---         ┆ ---      ┆ ---    ┆ ---                ┆   ┆ ---       ┆ ---    ┆ ---   ┆ ---      │\n",
       "│ i64         ┆ i64      ┆ i64    ┆ str                ┆   ┆ str       ┆ f64    ┆ str   ┆ str      │\n",
       "╞═════════════╪══════════╪════════╪════════════════════╪═══╪═══════════╪════════╪═══════╪══════════╡\n",
       "│ 1           ┆ 0        ┆ 3      ┆ Braund, Mr. Owen   ┆ … ┆ A/5 21171 ┆ 7.25   ┆ null  ┆ S        │\n",
       "│             ┆          ┆        ┆ Harris             ┆   ┆           ┆        ┆       ┆          │\n",
       "│ 3           ┆ 1        ┆ 3      ┆ Heikkinen, Miss.   ┆ … ┆ STON/O2.  ┆ 7.925  ┆ null  ┆ S        │\n",
       "│             ┆          ┆        ┆ Laina              ┆   ┆ 3101282   ┆        ┆       ┆          │\n",
       "│ 4           ┆ 1        ┆ 1      ┆ Futrelle, Mrs.     ┆ … ┆ 113803    ┆ 53.1   ┆ C123  ┆ S        │\n",
       "│             ┆          ┆        ┆ Jacques Heath (…   ┆   ┆           ┆        ┆       ┆          │\n",
       "│ 5           ┆ 0        ┆ 3      ┆ Allen, Mr. William ┆ … ┆ 373450    ┆ 8.05   ┆ null  ┆ S        │\n",
       "│             ┆          ┆        ┆ Henry              ┆   ┆           ┆        ┆       ┆          │\n",
       "│ 6           ┆ 0        ┆ 3      ┆ Moran, Mr. James   ┆ … ┆ 330877    ┆ 8.4583 ┆ null  ┆ Q        │\n",
       "└─────────────┴──────────┴────────┴────────────────────┴───┴───────────┴────────┴───────┴──────────┘"
      ]
     },
     "execution_count": 77,
     "metadata": {},
     "output_type": "execute_result"
    }
   ],
   "source": [
    "(\n",
    "    df\n",
    "    .filter(\n",
    "        (pl.col(\"Embarked\") != \"C\")\n",
    "    )\n",
    "    .head()\n",
    ")"
   ]
  },
  {
   "cell_type": "code",
   "execution_count": 78,
   "id": "bd267ddc",
   "metadata": {},
   "outputs": [
    {
     "data": {
      "text/html": [
       "<div><style>\n",
       ".dataframe > thead > tr,\n",
       ".dataframe > tbody > tr {\n",
       "  text-align: right;\n",
       "  white-space: pre-wrap;\n",
       "}\n",
       "</style>\n",
       "<small>shape: (5, 12)</small><table border=\"1\" class=\"dataframe\"><thead><tr><th>PassengerId</th><th>Survived</th><th>Pclass</th><th>Name</th><th>Sex</th><th>Age</th><th>SibSp</th><th>Parch</th><th>Ticket</th><th>Fare</th><th>Cabin</th><th>Embarked</th></tr><tr><td>i64</td><td>i64</td><td>i64</td><td>str</td><td>str</td><td>f64</td><td>i64</td><td>i64</td><td>str</td><td>f64</td><td>str</td><td>str</td></tr></thead><tbody><tr><td>1</td><td>0</td><td>3</td><td>&quot;Braund, Mr. Owen Harris&quot;</td><td>&quot;male&quot;</td><td>22.0</td><td>1</td><td>0</td><td>&quot;A/5 21171&quot;</td><td>7.25</td><td>null</td><td>&quot;S&quot;</td></tr><tr><td>3</td><td>1</td><td>3</td><td>&quot;Heikkinen, Miss. Laina&quot;</td><td>&quot;female&quot;</td><td>26.0</td><td>0</td><td>0</td><td>&quot;STON/O2. 3101282&quot;</td><td>7.925</td><td>null</td><td>&quot;S&quot;</td></tr><tr><td>4</td><td>1</td><td>1</td><td>&quot;Futrelle, Mrs. Jacques Heath (…</td><td>&quot;female&quot;</td><td>35.0</td><td>1</td><td>0</td><td>&quot;113803&quot;</td><td>53.1</td><td>&quot;C123&quot;</td><td>&quot;S&quot;</td></tr><tr><td>5</td><td>0</td><td>3</td><td>&quot;Allen, Mr. William Henry&quot;</td><td>&quot;male&quot;</td><td>35.0</td><td>0</td><td>0</td><td>&quot;373450&quot;</td><td>8.05</td><td>null</td><td>&quot;S&quot;</td></tr><tr><td>6</td><td>0</td><td>3</td><td>&quot;Moran, Mr. James&quot;</td><td>&quot;male&quot;</td><td>null</td><td>0</td><td>0</td><td>&quot;330877&quot;</td><td>8.4583</td><td>null</td><td>&quot;Q&quot;</td></tr></tbody></table></div>"
      ],
      "text/plain": [
       "shape: (5, 12)\n",
       "┌─────────────┬──────────┬────────┬────────────────────┬───┬───────────┬────────┬───────┬──────────┐\n",
       "│ PassengerId ┆ Survived ┆ Pclass ┆ Name               ┆ … ┆ Ticket    ┆ Fare   ┆ Cabin ┆ Embarked │\n",
       "│ ---         ┆ ---      ┆ ---    ┆ ---                ┆   ┆ ---       ┆ ---    ┆ ---   ┆ ---      │\n",
       "│ i64         ┆ i64      ┆ i64    ┆ str                ┆   ┆ str       ┆ f64    ┆ str   ┆ str      │\n",
       "╞═════════════╪══════════╪════════╪════════════════════╪═══╪═══════════╪════════╪═══════╪══════════╡\n",
       "│ 1           ┆ 0        ┆ 3      ┆ Braund, Mr. Owen   ┆ … ┆ A/5 21171 ┆ 7.25   ┆ null  ┆ S        │\n",
       "│             ┆          ┆        ┆ Harris             ┆   ┆           ┆        ┆       ┆          │\n",
       "│ 3           ┆ 1        ┆ 3      ┆ Heikkinen, Miss.   ┆ … ┆ STON/O2.  ┆ 7.925  ┆ null  ┆ S        │\n",
       "│             ┆          ┆        ┆ Laina              ┆   ┆ 3101282   ┆        ┆       ┆          │\n",
       "│ 4           ┆ 1        ┆ 1      ┆ Futrelle, Mrs.     ┆ … ┆ 113803    ┆ 53.1   ┆ C123  ┆ S        │\n",
       "│             ┆          ┆        ┆ Jacques Heath (…   ┆   ┆           ┆        ┆       ┆          │\n",
       "│ 5           ┆ 0        ┆ 3      ┆ Allen, Mr. William ┆ … ┆ 373450    ┆ 8.05   ┆ null  ┆ S        │\n",
       "│             ┆          ┆        ┆ Henry              ┆   ┆           ┆        ┆       ┆          │\n",
       "│ 6           ┆ 0        ┆ 3      ┆ Moran, Mr. James   ┆ … ┆ 330877    ┆ 8.4583 ┆ null  ┆ Q        │\n",
       "└─────────────┴──────────┴────────┴────────────────────┴───┴───────────┴────────┴───────┴──────────┘"
      ]
     },
     "execution_count": 78,
     "metadata": {},
     "output_type": "execute_result"
    }
   ],
   "source": [
    "(\n",
    "    df\n",
    "    .filter(\n",
    "        ~(pl.col(\"Embarked\") == \"C\")\n",
    "    )\n",
    "    .head()\n",
    ")"
   ]
  },
  {
   "cell_type": "markdown",
   "id": "638d7719-579c-421d-8643-13fc3c43c7d0",
   "metadata": {},
   "source": [
    "### Exercise 2 \n",
    "\n",
    "In this exercise we filter on row numbers.\n",
    "\n",
    "First add a row number column"
   ]
  },
  {
   "cell_type": "code",
   "execution_count": 82,
   "id": "1ba4e8a1-981d-44ed-b34e-1b54d889c5d1",
   "metadata": {
    "tags": []
   },
   "outputs": [
    {
     "data": {
      "text/html": [
       "<div><style>\n",
       ".dataframe > thead > tr,\n",
       ".dataframe > tbody > tr {\n",
       "  text-align: right;\n",
       "  white-space: pre-wrap;\n",
       "}\n",
       "</style>\n",
       "<small>shape: (5, 13)</small><table border=\"1\" class=\"dataframe\"><thead><tr><th>index</th><th>PassengerId</th><th>Survived</th><th>Pclass</th><th>Name</th><th>Sex</th><th>Age</th><th>SibSp</th><th>Parch</th><th>Ticket</th><th>Fare</th><th>Cabin</th><th>Embarked</th></tr><tr><td>u32</td><td>i64</td><td>i64</td><td>i64</td><td>str</td><td>str</td><td>f64</td><td>i64</td><td>i64</td><td>str</td><td>f64</td><td>str</td><td>str</td></tr></thead><tbody><tr><td>0</td><td>1</td><td>0</td><td>3</td><td>&quot;Braund, Mr. Owen Harris&quot;</td><td>&quot;male&quot;</td><td>22.0</td><td>1</td><td>0</td><td>&quot;A/5 21171&quot;</td><td>7.25</td><td>null</td><td>&quot;S&quot;</td></tr><tr><td>1</td><td>2</td><td>1</td><td>1</td><td>&quot;Cumings, Mrs. John Bradley (Fl…</td><td>&quot;female&quot;</td><td>38.0</td><td>1</td><td>0</td><td>&quot;PC 17599&quot;</td><td>71.2833</td><td>&quot;C85&quot;</td><td>&quot;C&quot;</td></tr><tr><td>2</td><td>3</td><td>1</td><td>3</td><td>&quot;Heikkinen, Miss. Laina&quot;</td><td>&quot;female&quot;</td><td>26.0</td><td>0</td><td>0</td><td>&quot;STON/O2. 3101282&quot;</td><td>7.925</td><td>null</td><td>&quot;S&quot;</td></tr><tr><td>3</td><td>4</td><td>1</td><td>1</td><td>&quot;Futrelle, Mrs. Jacques Heath (…</td><td>&quot;female&quot;</td><td>35.0</td><td>1</td><td>0</td><td>&quot;113803&quot;</td><td>53.1</td><td>&quot;C123&quot;</td><td>&quot;S&quot;</td></tr><tr><td>4</td><td>5</td><td>0</td><td>3</td><td>&quot;Allen, Mr. William Henry&quot;</td><td>&quot;male&quot;</td><td>35.0</td><td>0</td><td>0</td><td>&quot;373450&quot;</td><td>8.05</td><td>null</td><td>&quot;S&quot;</td></tr></tbody></table></div>"
      ],
      "text/plain": [
       "shape: (5, 13)\n",
       "┌───────┬─────────────┬──────────┬────────┬───┬──────────────────┬─────────┬───────┬──────────┐\n",
       "│ index ┆ PassengerId ┆ Survived ┆ Pclass ┆ … ┆ Ticket           ┆ Fare    ┆ Cabin ┆ Embarked │\n",
       "│ ---   ┆ ---         ┆ ---      ┆ ---    ┆   ┆ ---              ┆ ---     ┆ ---   ┆ ---      │\n",
       "│ u32   ┆ i64         ┆ i64      ┆ i64    ┆   ┆ str              ┆ f64     ┆ str   ┆ str      │\n",
       "╞═══════╪═════════════╪══════════╪════════╪═══╪══════════════════╪═════════╪═══════╪══════════╡\n",
       "│ 0     ┆ 1           ┆ 0        ┆ 3      ┆ … ┆ A/5 21171        ┆ 7.25    ┆ null  ┆ S        │\n",
       "│ 1     ┆ 2           ┆ 1        ┆ 1      ┆ … ┆ PC 17599         ┆ 71.2833 ┆ C85   ┆ C        │\n",
       "│ 2     ┆ 3           ┆ 1        ┆ 3      ┆ … ┆ STON/O2. 3101282 ┆ 7.925   ┆ null  ┆ S        │\n",
       "│ 3     ┆ 4           ┆ 1        ┆ 1      ┆ … ┆ 113803           ┆ 53.1    ┆ C123  ┆ S        │\n",
       "│ 4     ┆ 5           ┆ 0        ┆ 3      ┆ … ┆ 373450           ┆ 8.05    ┆ null  ┆ S        │\n",
       "└───────┴─────────────┴──────────┴────────┴───┴──────────────────┴─────────┴───────┴──────────┘"
      ]
     },
     "execution_count": 82,
     "metadata": {},
     "output_type": "execute_result"
    }
   ],
   "source": [
    "df = (\n",
    "    pl.read_csv(csv_file)\n",
    "    .with_row_index(name = \"index\")\n",
    ")\n",
    "df.head()"
   ]
  },
  {
   "cell_type": "markdown",
   "id": "f5ad5471-a7dd-4771-8a4d-40868b27e15f",
   "metadata": {},
   "source": [
    "Continue by selecting the first 5 rows using `filter` on the row number column"
   ]
  },
  {
   "cell_type": "code",
   "execution_count": 83,
   "id": "6a660dae-bf35-4958-83d8-5a629cf55fd7",
   "metadata": {
    "tags": []
   },
   "outputs": [
    {
     "data": {
      "text/html": [
       "<div><style>\n",
       ".dataframe > thead > tr,\n",
       ".dataframe > tbody > tr {\n",
       "  text-align: right;\n",
       "  white-space: pre-wrap;\n",
       "}\n",
       "</style>\n",
       "<small>shape: (5, 13)</small><table border=\"1\" class=\"dataframe\"><thead><tr><th>index</th><th>PassengerId</th><th>Survived</th><th>Pclass</th><th>Name</th><th>Sex</th><th>Age</th><th>SibSp</th><th>Parch</th><th>Ticket</th><th>Fare</th><th>Cabin</th><th>Embarked</th></tr><tr><td>u32</td><td>i64</td><td>i64</td><td>i64</td><td>str</td><td>str</td><td>f64</td><td>i64</td><td>i64</td><td>str</td><td>f64</td><td>str</td><td>str</td></tr></thead><tbody><tr><td>0</td><td>1</td><td>0</td><td>3</td><td>&quot;Braund, Mr. Owen Harris&quot;</td><td>&quot;male&quot;</td><td>22.0</td><td>1</td><td>0</td><td>&quot;A/5 21171&quot;</td><td>7.25</td><td>null</td><td>&quot;S&quot;</td></tr><tr><td>1</td><td>2</td><td>1</td><td>1</td><td>&quot;Cumings, Mrs. John Bradley (Fl…</td><td>&quot;female&quot;</td><td>38.0</td><td>1</td><td>0</td><td>&quot;PC 17599&quot;</td><td>71.2833</td><td>&quot;C85&quot;</td><td>&quot;C&quot;</td></tr><tr><td>2</td><td>3</td><td>1</td><td>3</td><td>&quot;Heikkinen, Miss. Laina&quot;</td><td>&quot;female&quot;</td><td>26.0</td><td>0</td><td>0</td><td>&quot;STON/O2. 3101282&quot;</td><td>7.925</td><td>null</td><td>&quot;S&quot;</td></tr><tr><td>3</td><td>4</td><td>1</td><td>1</td><td>&quot;Futrelle, Mrs. Jacques Heath (…</td><td>&quot;female&quot;</td><td>35.0</td><td>1</td><td>0</td><td>&quot;113803&quot;</td><td>53.1</td><td>&quot;C123&quot;</td><td>&quot;S&quot;</td></tr><tr><td>4</td><td>5</td><td>0</td><td>3</td><td>&quot;Allen, Mr. William Henry&quot;</td><td>&quot;male&quot;</td><td>35.0</td><td>0</td><td>0</td><td>&quot;373450&quot;</td><td>8.05</td><td>null</td><td>&quot;S&quot;</td></tr></tbody></table></div>"
      ],
      "text/plain": [
       "shape: (5, 13)\n",
       "┌───────┬─────────────┬──────────┬────────┬───┬──────────────────┬─────────┬───────┬──────────┐\n",
       "│ index ┆ PassengerId ┆ Survived ┆ Pclass ┆ … ┆ Ticket           ┆ Fare    ┆ Cabin ┆ Embarked │\n",
       "│ ---   ┆ ---         ┆ ---      ┆ ---    ┆   ┆ ---              ┆ ---     ┆ ---   ┆ ---      │\n",
       "│ u32   ┆ i64         ┆ i64      ┆ i64    ┆   ┆ str              ┆ f64     ┆ str   ┆ str      │\n",
       "╞═══════╪═════════════╪══════════╪════════╪═══╪══════════════════╪═════════╪═══════╪══════════╡\n",
       "│ 0     ┆ 1           ┆ 0        ┆ 3      ┆ … ┆ A/5 21171        ┆ 7.25    ┆ null  ┆ S        │\n",
       "│ 1     ┆ 2           ┆ 1        ┆ 1      ┆ … ┆ PC 17599         ┆ 71.2833 ┆ C85   ┆ C        │\n",
       "│ 2     ┆ 3           ┆ 1        ┆ 3      ┆ … ┆ STON/O2. 3101282 ┆ 7.925   ┆ null  ┆ S        │\n",
       "│ 3     ┆ 4           ┆ 1        ┆ 1      ┆ … ┆ 113803           ┆ 53.1    ┆ C123  ┆ S        │\n",
       "│ 4     ┆ 5           ┆ 0        ┆ 3      ┆ … ┆ 373450           ┆ 8.05    ┆ null  ┆ S        │\n",
       "└───────┴─────────────┴──────────┴────────┴───┴──────────────────┴─────────┴───────┴──────────┘"
      ]
     },
     "execution_count": 83,
     "metadata": {},
     "output_type": "execute_result"
    }
   ],
   "source": [
    "(\n",
    "    df\n",
    "    .filter(\n",
    "        pl.col(\"index\") < 5\n",
    "    )\n",
    ")"
   ]
  },
  {
   "cell_type": "markdown",
   "id": "a0e033ec-772a-4dd5-9f05-9726b6462dc6",
   "metadata": {},
   "source": [
    "### Exercise 3\n",
    "Partition the `DataFrame` by the `Survived` and `Pclass` columns as a `dict` (you may want to check the API docs for help: https://pola-rs.github.io/polars/py-polars/html/reference/dataframe/api/polars.DataFrame.partition_by.html#polars.DataFrame.partition_by)"
   ]
  },
  {
   "cell_type": "code",
   "execution_count": 86,
   "id": "0069c78d-855e-48ae-a8e6-601f5e07d28d",
   "metadata": {},
   "outputs": [],
   "source": [
    "survived_pclass_dict = (\n",
    "    pl.read_csv(csv_file)\n",
    "    .partition_by(by = [\"Survived\", \"Pclass\"], as_dict=True)\n",
    ")"
   ]
  },
  {
   "cell_type": "markdown",
   "id": "bdaa4dbb-fd67-4c99-af7d-cd59b64097ea",
   "metadata": {},
   "source": [
    "Return the sub-`DataFrame` with the passengers who did not survive from the third class"
   ]
  },
  {
   "cell_type": "code",
   "execution_count": 94,
   "id": "dfeaf8f4-0ec1-433e-84ef-b4cfaca01778",
   "metadata": {},
   "outputs": [
    {
     "data": {
      "text/html": [
       "<div><style>\n",
       ".dataframe > thead > tr,\n",
       ".dataframe > tbody > tr {\n",
       "  text-align: right;\n",
       "  white-space: pre-wrap;\n",
       "}\n",
       "</style>\n",
       "<small>shape: (5, 12)</small><table border=\"1\" class=\"dataframe\"><thead><tr><th>PassengerId</th><th>Survived</th><th>Pclass</th><th>Name</th><th>Sex</th><th>Age</th><th>SibSp</th><th>Parch</th><th>Ticket</th><th>Fare</th><th>Cabin</th><th>Embarked</th></tr><tr><td>i64</td><td>i64</td><td>i64</td><td>str</td><td>str</td><td>f64</td><td>i64</td><td>i64</td><td>str</td><td>f64</td><td>str</td><td>str</td></tr></thead><tbody><tr><td>1</td><td>0</td><td>3</td><td>&quot;Braund, Mr. Owen Harris&quot;</td><td>&quot;male&quot;</td><td>22.0</td><td>1</td><td>0</td><td>&quot;A/5 21171&quot;</td><td>7.25</td><td>null</td><td>&quot;S&quot;</td></tr><tr><td>5</td><td>0</td><td>3</td><td>&quot;Allen, Mr. William Henry&quot;</td><td>&quot;male&quot;</td><td>35.0</td><td>0</td><td>0</td><td>&quot;373450&quot;</td><td>8.05</td><td>null</td><td>&quot;S&quot;</td></tr><tr><td>6</td><td>0</td><td>3</td><td>&quot;Moran, Mr. James&quot;</td><td>&quot;male&quot;</td><td>null</td><td>0</td><td>0</td><td>&quot;330877&quot;</td><td>8.4583</td><td>null</td><td>&quot;Q&quot;</td></tr><tr><td>8</td><td>0</td><td>3</td><td>&quot;Palsson, Master. Gosta Leonard&quot;</td><td>&quot;male&quot;</td><td>2.0</td><td>3</td><td>1</td><td>&quot;349909&quot;</td><td>21.075</td><td>null</td><td>&quot;S&quot;</td></tr><tr><td>13</td><td>0</td><td>3</td><td>&quot;Saundercock, Mr. William Henry&quot;</td><td>&quot;male&quot;</td><td>20.0</td><td>0</td><td>0</td><td>&quot;A/5. 2151&quot;</td><td>8.05</td><td>null</td><td>&quot;S&quot;</td></tr></tbody></table></div>"
      ],
      "text/plain": [
       "shape: (5, 12)\n",
       "┌─────────────┬──────────┬────────┬────────────────────┬───┬───────────┬────────┬───────┬──────────┐\n",
       "│ PassengerId ┆ Survived ┆ Pclass ┆ Name               ┆ … ┆ Ticket    ┆ Fare   ┆ Cabin ┆ Embarked │\n",
       "│ ---         ┆ ---      ┆ ---    ┆ ---                ┆   ┆ ---       ┆ ---    ┆ ---   ┆ ---      │\n",
       "│ i64         ┆ i64      ┆ i64    ┆ str                ┆   ┆ str       ┆ f64    ┆ str   ┆ str      │\n",
       "╞═════════════╪══════════╪════════╪════════════════════╪═══╪═══════════╪════════╪═══════╪══════════╡\n",
       "│ 1           ┆ 0        ┆ 3      ┆ Braund, Mr. Owen   ┆ … ┆ A/5 21171 ┆ 7.25   ┆ null  ┆ S        │\n",
       "│             ┆          ┆        ┆ Harris             ┆   ┆           ┆        ┆       ┆          │\n",
       "│ 5           ┆ 0        ┆ 3      ┆ Allen, Mr. William ┆ … ┆ 373450    ┆ 8.05   ┆ null  ┆ S        │\n",
       "│             ┆          ┆        ┆ Henry              ┆   ┆           ┆        ┆       ┆          │\n",
       "│ 6           ┆ 0        ┆ 3      ┆ Moran, Mr. James   ┆ … ┆ 330877    ┆ 8.4583 ┆ null  ┆ Q        │\n",
       "│ 8           ┆ 0        ┆ 3      ┆ Palsson, Master.   ┆ … ┆ 349909    ┆ 21.075 ┆ null  ┆ S        │\n",
       "│             ┆          ┆        ┆ Gosta Leonard      ┆   ┆           ┆        ┆       ┆          │\n",
       "│ 13          ┆ 0        ┆ 3      ┆ Saundercock, Mr.   ┆ … ┆ A/5. 2151 ┆ 8.05   ┆ null  ┆ S        │\n",
       "│             ┆          ┆        ┆ William Henry      ┆   ┆           ┆        ┆       ┆          │\n",
       "└─────────────┴──────────┴────────┴────────────────────┴───┴───────────┴────────┴───────┴──────────┘"
      ]
     },
     "execution_count": 94,
     "metadata": {},
     "output_type": "execute_result"
    }
   ],
   "source": [
    "survived_pclass_dict[(0,3)].head()"
   ]
  },
  {
   "cell_type": "code",
   "execution_count": 98,
   "id": "d7bee0ae",
   "metadata": {},
   "outputs": [
    {
     "data": {
      "text/html": [
       "<div><style>\n",
       ".dataframe > thead > tr,\n",
       ".dataframe > tbody > tr {\n",
       "  text-align: right;\n",
       "  white-space: pre-wrap;\n",
       "}\n",
       "</style>\n",
       "<small>shape: (5, 12)</small><table border=\"1\" class=\"dataframe\"><thead><tr><th>PassengerId</th><th>Survived</th><th>Pclass</th><th>Name</th><th>Sex</th><th>Age</th><th>SibSp</th><th>Parch</th><th>Ticket</th><th>Fare</th><th>Cabin</th><th>Embarked</th></tr><tr><td>i64</td><td>i64</td><td>i64</td><td>str</td><td>str</td><td>f64</td><td>i64</td><td>i64</td><td>str</td><td>f64</td><td>str</td><td>str</td></tr></thead><tbody><tr><td>1</td><td>0</td><td>3</td><td>&quot;Braund, Mr. Owen Harris&quot;</td><td>&quot;male&quot;</td><td>22.0</td><td>1</td><td>0</td><td>&quot;A/5 21171&quot;</td><td>7.25</td><td>null</td><td>&quot;S&quot;</td></tr><tr><td>5</td><td>0</td><td>3</td><td>&quot;Allen, Mr. William Henry&quot;</td><td>&quot;male&quot;</td><td>35.0</td><td>0</td><td>0</td><td>&quot;373450&quot;</td><td>8.05</td><td>null</td><td>&quot;S&quot;</td></tr><tr><td>6</td><td>0</td><td>3</td><td>&quot;Moran, Mr. James&quot;</td><td>&quot;male&quot;</td><td>null</td><td>0</td><td>0</td><td>&quot;330877&quot;</td><td>8.4583</td><td>null</td><td>&quot;Q&quot;</td></tr><tr><td>8</td><td>0</td><td>3</td><td>&quot;Palsson, Master. Gosta Leonard&quot;</td><td>&quot;male&quot;</td><td>2.0</td><td>3</td><td>1</td><td>&quot;349909&quot;</td><td>21.075</td><td>null</td><td>&quot;S&quot;</td></tr><tr><td>13</td><td>0</td><td>3</td><td>&quot;Saundercock, Mr. William Henry&quot;</td><td>&quot;male&quot;</td><td>20.0</td><td>0</td><td>0</td><td>&quot;A/5. 2151&quot;</td><td>8.05</td><td>null</td><td>&quot;S&quot;</td></tr></tbody></table></div>"
      ],
      "text/plain": [
       "shape: (5, 12)\n",
       "┌─────────────┬──────────┬────────┬────────────────────┬───┬───────────┬────────┬───────┬──────────┐\n",
       "│ PassengerId ┆ Survived ┆ Pclass ┆ Name               ┆ … ┆ Ticket    ┆ Fare   ┆ Cabin ┆ Embarked │\n",
       "│ ---         ┆ ---      ┆ ---    ┆ ---                ┆   ┆ ---       ┆ ---    ┆ ---   ┆ ---      │\n",
       "│ i64         ┆ i64      ┆ i64    ┆ str                ┆   ┆ str       ┆ f64    ┆ str   ┆ str      │\n",
       "╞═════════════╪══════════╪════════╪════════════════════╪═══╪═══════════╪════════╪═══════╪══════════╡\n",
       "│ 1           ┆ 0        ┆ 3      ┆ Braund, Mr. Owen   ┆ … ┆ A/5 21171 ┆ 7.25   ┆ null  ┆ S        │\n",
       "│             ┆          ┆        ┆ Harris             ┆   ┆           ┆        ┆       ┆          │\n",
       "│ 5           ┆ 0        ┆ 3      ┆ Allen, Mr. William ┆ … ┆ 373450    ┆ 8.05   ┆ null  ┆ S        │\n",
       "│             ┆          ┆        ┆ Henry              ┆   ┆           ┆        ┆       ┆          │\n",
       "│ 6           ┆ 0        ┆ 3      ┆ Moran, Mr. James   ┆ … ┆ 330877    ┆ 8.4583 ┆ null  ┆ Q        │\n",
       "│ 8           ┆ 0        ┆ 3      ┆ Palsson, Master.   ┆ … ┆ 349909    ┆ 21.075 ┆ null  ┆ S        │\n",
       "│             ┆          ┆        ┆ Gosta Leonard      ┆   ┆           ┆        ┆       ┆          │\n",
       "│ 13          ┆ 0        ┆ 3      ┆ Saundercock, Mr.   ┆ … ┆ A/5. 2151 ┆ 8.05   ┆ null  ┆ S        │\n",
       "│             ┆          ┆        ┆ William Henry      ┆   ┆           ┆        ┆       ┆          │\n",
       "└─────────────┴──────────┴────────┴────────────────────┴───┴───────────┴────────┴───────┴──────────┘"
      ]
     },
     "execution_count": 98,
     "metadata": {},
     "output_type": "execute_result"
    }
   ],
   "source": [
    "(\n",
    "    pl.scan_csv(csv_file)\n",
    "    .filter(\n",
    "        (pl.col('Survived') == 0) & (pl.col('Pclass') == 3)\n",
    "    )\n",
    "    .head()\n",
    "    .collect()\n",
    ")"
   ]
  },
  {
   "cell_type": "markdown",
   "id": "3915dcd5-9ae5-46a3-930f-4f7c7c501567",
   "metadata": {},
   "source": [
    "### Exercise 4\n",
    "In this exercise we load data from the Spotify charts"
   ]
  },
  {
   "cell_type": "code",
   "execution_count": 104,
   "id": "dd952f42-c01b-4974-96cf-4104ff8ea693",
   "metadata": {},
   "outputs": [],
   "source": [
    "spotify_csv = \"../data/spotify-charts-2017-2021-global-top200.csv.gz\"\n",
    "spotify_df = pl.read_csv(spotify_csv)"
   ]
  },
  {
   "cell_type": "code",
   "execution_count": 108,
   "id": "fba77cc2",
   "metadata": {},
   "outputs": [],
   "source": [
    "import pandas as pd\n",
    "tmp = pd.read_csv(spotify_csv)"
   ]
  },
  {
   "cell_type": "code",
   "execution_count": 105,
   "id": "771cede8",
   "metadata": {},
   "outputs": [
    {
     "name": "stdout",
     "output_type": "stream",
     "text": [
      "(362182, 9)\n"
     ]
    },
    {
     "data": {
      "text/html": [
       "<div><style>\n",
       ".dataframe > thead > tr,\n",
       ".dataframe > tbody > tr {\n",
       "  text-align: right;\n",
       "  white-space: pre-wrap;\n",
       "}\n",
       "</style>\n",
       "<small>shape: (5, 9)</small><table border=\"1\" class=\"dataframe\"><thead><tr><th>title</th><th>rank</th><th>date</th><th>artist</th><th>url</th><th>region</th><th>chart</th><th>trend</th><th>streams</th></tr><tr><td>str</td><td>i64</td><td>str</td><td>str</td><td>str</td><td>str</td><td>str</td><td>str</td><td>i64</td></tr></thead><tbody><tr><td>&quot;Starboy&quot;</td><td>1</td><td>&quot;2017-01-01&quot;</td><td>&quot;The Weeknd, Daft Punk&quot;</td><td>&quot;https://open.spotify.com/track…</td><td>&quot;Global&quot;</td><td>&quot;top200&quot;</td><td>&quot;SAME_POSITION&quot;</td><td>3135625</td></tr><tr><td>&quot;Closer&quot;</td><td>2</td><td>&quot;2017-01-01&quot;</td><td>&quot;The Chainsmokers, Halsey&quot;</td><td>&quot;https://open.spotify.com/track…</td><td>&quot;Global&quot;</td><td>&quot;top200&quot;</td><td>&quot;SAME_POSITION&quot;</td><td>3015525</td></tr><tr><td>&quot;Let Me Love You&quot;</td><td>3</td><td>&quot;2017-01-01&quot;</td><td>&quot;DJ Snake, Justin Bieber&quot;</td><td>&quot;https://open.spotify.com/track…</td><td>&quot;Global&quot;</td><td>&quot;top200&quot;</td><td>&quot;MOVE_UP&quot;</td><td>2545384</td></tr><tr><td>&quot;Rockabye (feat. Sean Paul &amp; An…</td><td>4</td><td>&quot;2017-01-01&quot;</td><td>&quot;Clean Bandit&quot;</td><td>&quot;https://open.spotify.com/track…</td><td>&quot;Global&quot;</td><td>&quot;top200&quot;</td><td>&quot;MOVE_DOWN&quot;</td><td>2356604</td></tr><tr><td>&quot;One Dance&quot;</td><td>5</td><td>&quot;2017-01-01&quot;</td><td>&quot;Drake, WizKid, Kyla&quot;</td><td>&quot;https://open.spotify.com/track…</td><td>&quot;Global&quot;</td><td>&quot;top200&quot;</td><td>&quot;SAME_POSITION&quot;</td><td>2259887</td></tr></tbody></table></div>"
      ],
      "text/plain": [
       "shape: (5, 9)\n",
       "┌───────────────┬──────┬────────────┬───────────────┬───┬────────┬────────┬──────────────┬─────────┐\n",
       "│ title         ┆ rank ┆ date       ┆ artist        ┆ … ┆ region ┆ chart  ┆ trend        ┆ streams │\n",
       "│ ---           ┆ ---  ┆ ---        ┆ ---           ┆   ┆ ---    ┆ ---    ┆ ---          ┆ ---     │\n",
       "│ str           ┆ i64  ┆ str        ┆ str           ┆   ┆ str    ┆ str    ┆ str          ┆ i64     │\n",
       "╞═══════════════╪══════╪════════════╪═══════════════╪═══╪════════╪════════╪══════════════╪═════════╡\n",
       "│ Starboy       ┆ 1    ┆ 2017-01-01 ┆ The Weeknd,   ┆ … ┆ Global ┆ top200 ┆ SAME_POSITIO ┆ 3135625 │\n",
       "│               ┆      ┆            ┆ Daft Punk     ┆   ┆        ┆        ┆ N            ┆         │\n",
       "│ Closer        ┆ 2    ┆ 2017-01-01 ┆ The           ┆ … ┆ Global ┆ top200 ┆ SAME_POSITIO ┆ 3015525 │\n",
       "│               ┆      ┆            ┆ Chainsmokers, ┆   ┆        ┆        ┆ N            ┆         │\n",
       "│               ┆      ┆            ┆ Halsey        ┆   ┆        ┆        ┆              ┆         │\n",
       "│ Let Me Love   ┆ 3    ┆ 2017-01-01 ┆ DJ Snake,     ┆ … ┆ Global ┆ top200 ┆ MOVE_UP      ┆ 2545384 │\n",
       "│ You           ┆      ┆            ┆ Justin Bieber ┆   ┆        ┆        ┆              ┆         │\n",
       "│ Rockabye      ┆ 4    ┆ 2017-01-01 ┆ Clean Bandit  ┆ … ┆ Global ┆ top200 ┆ MOVE_DOWN    ┆ 2356604 │\n",
       "│ (feat. Sean   ┆      ┆            ┆               ┆   ┆        ┆        ┆              ┆         │\n",
       "│ Paul & An…    ┆      ┆            ┆               ┆   ┆        ┆        ┆              ┆         │\n",
       "│ One Dance     ┆ 5    ┆ 2017-01-01 ┆ Drake,        ┆ … ┆ Global ┆ top200 ┆ SAME_POSITIO ┆ 2259887 │\n",
       "│               ┆      ┆            ┆ WizKid, Kyla  ┆   ┆        ┆        ┆ N            ┆         │\n",
       "└───────────────┴──────┴────────────┴───────────────┴───┴────────┴────────┴──────────────┴─────────┘"
      ]
     },
     "execution_count": 105,
     "metadata": {},
     "output_type": "execute_result"
    }
   ],
   "source": [
    "print(spotify_df.shape)\n",
    "spotify_df.head()"
   ]
  },
  {
   "cell_type": "markdown",
   "id": "556a0973-3a48-413d-95fc-8e924aded9e7",
   "metadata": {},
   "source": [
    "Filter the `DataFrame` to find all rows with artist Post Malone"
   ]
  },
  {
   "cell_type": "code",
   "execution_count": 148,
   "id": "e596ce00-1c77-473d-8491-9a6e502c8b7a",
   "metadata": {},
   "outputs": [
    {
     "data": {
      "text/html": [
       "<div><style>\n",
       ".dataframe > thead > tr,\n",
       ".dataframe > tbody > tr {\n",
       "  text-align: right;\n",
       "  white-space: pre-wrap;\n",
       "}\n",
       "</style>\n",
       "<small>shape: (5, 10)</small><table border=\"1\" class=\"dataframe\"><thead><tr><th>title</th><th>rank</th><th>date</th><th>artist</th><th>url</th><th>region</th><th>chart</th><th>trend</th><th>streams</th><th>name_list</th></tr><tr><td>str</td><td>i64</td><td>str</td><td>str</td><td>str</td><td>str</td><td>str</td><td>str</td><td>i64</td><td>str</td></tr></thead><tbody><tr><td>&quot;rockstar&quot;</td><td>9</td><td>&quot;2018-03-01&quot;</td><td>&quot;Post Malone, 21 Savage&quot;</td><td>&quot;https://open.spotify.com/track…</td><td>&quot;Global&quot;</td><td>&quot;top200&quot;</td><td>&quot;MOVE_UP&quot;</td><td>2891782</td><td>&quot;21 Savage&quot;</td></tr><tr><td>&quot;Congratulations&quot;</td><td>53</td><td>&quot;2018-03-01&quot;</td><td>&quot;Post Malone, Quavo&quot;</td><td>&quot;https://open.spotify.com/track…</td><td>&quot;Global&quot;</td><td>&quot;top200&quot;</td><td>&quot;SAME_POSITION&quot;</td><td>1204905</td><td>&quot;Quavo&quot;</td></tr><tr><td>&quot;Congratulations&quot;</td><td>99</td><td>&quot;2017-02-01&quot;</td><td>&quot;Post Malone, Quavo&quot;</td><td>&quot;https://open.spotify.com/track…</td><td>&quot;Global&quot;</td><td>&quot;top200&quot;</td><td>&quot;MOVE_UP&quot;</td><td>661482</td><td>&quot;Quavo&quot;</td></tr><tr><td>&quot;rockstar&quot;</td><td>9</td><td>&quot;2018-03-02&quot;</td><td>&quot;Post Malone, 21 Savage&quot;</td><td>&quot;https://open.spotify.com/track…</td><td>&quot;Global&quot;</td><td>&quot;top200&quot;</td><td>&quot;SAME_POSITION&quot;</td><td>3031242</td><td>&quot;21 Savage&quot;</td></tr><tr><td>&quot;Congratulations&quot;</td><td>58</td><td>&quot;2018-03-02&quot;</td><td>&quot;Post Malone, Quavo&quot;</td><td>&quot;https://open.spotify.com/track…</td><td>&quot;Global&quot;</td><td>&quot;top200&quot;</td><td>&quot;MOVE_DOWN&quot;</td><td>1240041</td><td>&quot;Quavo&quot;</td></tr></tbody></table></div>"
      ],
      "text/plain": [
       "shape: (5, 10)\n",
       "┌──────────────┬──────┬────────────┬──────────────┬───┬────────┬─────────────┬─────────┬───────────┐\n",
       "│ title        ┆ rank ┆ date       ┆ artist       ┆ … ┆ chart  ┆ trend       ┆ streams ┆ name_list │\n",
       "│ ---          ┆ ---  ┆ ---        ┆ ---          ┆   ┆ ---    ┆ ---         ┆ ---     ┆ ---       │\n",
       "│ str          ┆ i64  ┆ str        ┆ str          ┆   ┆ str    ┆ str         ┆ i64     ┆ str       │\n",
       "╞══════════════╪══════╪════════════╪══════════════╪═══╪════════╪═════════════╪═════════╪═══════════╡\n",
       "│ rockstar     ┆ 9    ┆ 2018-03-01 ┆ Post Malone, ┆ … ┆ top200 ┆ MOVE_UP     ┆ 2891782 ┆ 21 Savage │\n",
       "│              ┆      ┆            ┆ 21 Savage    ┆   ┆        ┆             ┆         ┆           │\n",
       "│ Congratulati ┆ 53   ┆ 2018-03-01 ┆ Post Malone, ┆ … ┆ top200 ┆ SAME_POSITI ┆ 1204905 ┆ Quavo     │\n",
       "│ ons          ┆      ┆            ┆ Quavo        ┆   ┆        ┆ ON          ┆         ┆           │\n",
       "│ Congratulati ┆ 99   ┆ 2017-02-01 ┆ Post Malone, ┆ … ┆ top200 ┆ MOVE_UP     ┆ 661482  ┆ Quavo     │\n",
       "│ ons          ┆      ┆            ┆ Quavo        ┆   ┆        ┆             ┆         ┆           │\n",
       "│ rockstar     ┆ 9    ┆ 2018-03-02 ┆ Post Malone, ┆ … ┆ top200 ┆ SAME_POSITI ┆ 3031242 ┆ 21 Savage │\n",
       "│              ┆      ┆            ┆ 21 Savage    ┆   ┆        ┆ ON          ┆         ┆           │\n",
       "│ Congratulati ┆ 58   ┆ 2018-03-02 ┆ Post Malone, ┆ … ┆ top200 ┆ MOVE_DOWN   ┆ 1240041 ┆ Quavo     │\n",
       "│ ons          ┆      ┆            ┆ Quavo        ┆   ┆        ┆             ┆         ┆           │\n",
       "└──────────────┴──────┴────────────┴──────────────┴───┴────────┴─────────────┴─────────┴───────────┘"
      ]
     },
     "execution_count": 148,
     "metadata": {},
     "output_type": "execute_result"
    }
   ],
   "source": [
    "# (\n",
    "#     spotify_df\n",
    "#     .filter(\n",
    "#         pl.col('artist').str.contains('Post Malone')\n",
    "#     )\n",
    "#     .filter(\n",
    "#         pl.col('artist') != \"Post Malone\"\n",
    "#     )\n",
    "#     .select(\n",
    "#         pl.col('artist').str.split(\",\").alias('name'),\n",
    "#         pl.col(\"*\")\n",
    "#     )\n",
    "#     .with_columns(\n",
    "#         (pl.col('name') != \"Post Malone\").alias('fer')\n",
    "#     )\n",
    "# )\n",
    "\n",
    "def re(x):\n",
    "    tmp = []\n",
    "    for i in x:\n",
    "        if i != \"Post Malone\":\n",
    "            tmp.append(i)\n",
    "    return(i)\n",
    "\n",
    "(\n",
    "    spotify_df\n",
    "    .filter(\n",
    "        pl.col('artist').str.contains('Post Malone')\n",
    "    )\n",
    "    .with_columns(\n",
    "        pl.col('artist').str.split(', ')\n",
    "        .map_elements(re, return_dtype=pl.Utf8)\n",
    "        .alias('name_list')\n",
    "    )\n",
    "    .filter(\n",
    "        pl.col(\"name_list\") != \"Post Malone\"\n",
    "    )\n",
    "    .head()\n",
    ")\n"
   ]
  },
  {
   "cell_type": "code",
   "execution_count": 149,
   "id": "0486e628",
   "metadata": {},
   "outputs": [
    {
     "data": {
      "text/html": [
       "<div><style>\n",
       ".dataframe > thead > tr,\n",
       ".dataframe > tbody > tr {\n",
       "  text-align: right;\n",
       "  white-space: pre-wrap;\n",
       "}\n",
       "</style>\n",
       "<small>shape: (2_663, 10)</small><table border=\"1\" class=\"dataframe\"><thead><tr><th>title</th><th>rank</th><th>date</th><th>artist</th><th>url</th><th>region</th><th>chart</th><th>trend</th><th>streams</th><th>name_list</th></tr><tr><td>str</td><td>i64</td><td>str</td><td>str</td><td>str</td><td>str</td><td>str</td><td>str</td><td>i64</td><td>str</td></tr></thead><tbody><tr><td>&quot;rockstar&quot;</td><td>9</td><td>&quot;2018-03-01&quot;</td><td>&quot;Post Malone, 21 Savage&quot;</td><td>&quot;https://open.spotify.com/track…</td><td>&quot;Global&quot;</td><td>&quot;top200&quot;</td><td>&quot;MOVE_UP&quot;</td><td>2891782</td><td>&quot;21 Savage&quot;</td></tr><tr><td>&quot;Congratulations&quot;</td><td>53</td><td>&quot;2018-03-01&quot;</td><td>&quot;Post Malone, Quavo&quot;</td><td>&quot;https://open.spotify.com/track…</td><td>&quot;Global&quot;</td><td>&quot;top200&quot;</td><td>&quot;SAME_POSITION&quot;</td><td>1204905</td><td>&quot;Quavo&quot;</td></tr><tr><td>&quot;Notice Me&quot;</td><td>169</td><td>&quot;2018-03-01&quot;</td><td>&quot;Migos, Post Malone&quot;</td><td>&quot;https://open.spotify.com/track…</td><td>&quot;Global&quot;</td><td>&quot;top200&quot;</td><td>&quot;MOVE_DOWN&quot;</td><td>585310</td><td>&quot;Migos, &quot;</td></tr><tr><td>&quot;Congratulations&quot;</td><td>99</td><td>&quot;2017-02-01&quot;</td><td>&quot;Post Malone, Quavo&quot;</td><td>&quot;https://open.spotify.com/track…</td><td>&quot;Global&quot;</td><td>&quot;top200&quot;</td><td>&quot;MOVE_UP&quot;</td><td>661482</td><td>&quot;Quavo&quot;</td></tr><tr><td>&quot;rockstar&quot;</td><td>9</td><td>&quot;2018-03-02&quot;</td><td>&quot;Post Malone, 21 Savage&quot;</td><td>&quot;https://open.spotify.com/track…</td><td>&quot;Global&quot;</td><td>&quot;top200&quot;</td><td>&quot;SAME_POSITION&quot;</td><td>3031242</td><td>&quot;21 Savage&quot;</td></tr><tr><td>&hellip;</td><td>&hellip;</td><td>&hellip;</td><td>&hellip;</td><td>&hellip;</td><td>&hellip;</td><td>&hellip;</td><td>&hellip;</td><td>&hellip;</td><td>&hellip;</td></tr><tr><td>&quot;Congratulations&quot;</td><td>52</td><td>&quot;2018-01-30&quot;</td><td>&quot;Post Malone, Quavo&quot;</td><td>&quot;https://open.spotify.com/track…</td><td>&quot;Global&quot;</td><td>&quot;top200&quot;</td><td>&quot;MOVE_UP&quot;</td><td>1300752</td><td>&quot;Quavo&quot;</td></tr><tr><td>&quot;Notice Me&quot;</td><td>64</td><td>&quot;2018-01-30&quot;</td><td>&quot;Migos, Post Malone&quot;</td><td>&quot;https://open.spotify.com/track…</td><td>&quot;Global&quot;</td><td>&quot;top200&quot;</td><td>&quot;MOVE_DOWN&quot;</td><td>1081383</td><td>&quot;Migos, &quot;</td></tr><tr><td>&quot;rockstar&quot;</td><td>3</td><td>&quot;2018-01-31&quot;</td><td>&quot;Post Malone, 21 Savage&quot;</td><td>&quot;https://open.spotify.com/track…</td><td>&quot;Global&quot;</td><td>&quot;top200&quot;</td><td>&quot;SAME_POSITION&quot;</td><td>3447564</td><td>&quot;21 Savage&quot;</td></tr><tr><td>&quot;Congratulations&quot;</td><td>54</td><td>&quot;2018-01-31&quot;</td><td>&quot;Post Malone, Quavo&quot;</td><td>&quot;https://open.spotify.com/track…</td><td>&quot;Global&quot;</td><td>&quot;top200&quot;</td><td>&quot;MOVE_DOWN&quot;</td><td>1284862</td><td>&quot;Quavo&quot;</td></tr><tr><td>&quot;Notice Me&quot;</td><td>70</td><td>&quot;2018-01-31&quot;</td><td>&quot;Migos, Post Malone&quot;</td><td>&quot;https://open.spotify.com/track…</td><td>&quot;Global&quot;</td><td>&quot;top200&quot;</td><td>&quot;MOVE_DOWN&quot;</td><td>1046189</td><td>&quot;Migos, &quot;</td></tr></tbody></table></div>"
      ],
      "text/plain": [
       "shape: (2_663, 10)\n",
       "┌──────────────┬──────┬────────────┬──────────────┬───┬────────┬─────────────┬─────────┬───────────┐\n",
       "│ title        ┆ rank ┆ date       ┆ artist       ┆ … ┆ chart  ┆ trend       ┆ streams ┆ name_list │\n",
       "│ ---          ┆ ---  ┆ ---        ┆ ---          ┆   ┆ ---    ┆ ---         ┆ ---     ┆ ---       │\n",
       "│ str          ┆ i64  ┆ str        ┆ str          ┆   ┆ str    ┆ str         ┆ i64     ┆ str       │\n",
       "╞══════════════╪══════╪════════════╪══════════════╪═══╪════════╪═════════════╪═════════╪═══════════╡\n",
       "│ rockstar     ┆ 9    ┆ 2018-03-01 ┆ Post Malone, ┆ … ┆ top200 ┆ MOVE_UP     ┆ 2891782 ┆ 21 Savage │\n",
       "│              ┆      ┆            ┆ 21 Savage    ┆   ┆        ┆             ┆         ┆           │\n",
       "│ Congratulati ┆ 53   ┆ 2018-03-01 ┆ Post Malone, ┆ … ┆ top200 ┆ SAME_POSITI ┆ 1204905 ┆ Quavo     │\n",
       "│ ons          ┆      ┆            ┆ Quavo        ┆   ┆        ┆ ON          ┆         ┆           │\n",
       "│ Notice Me    ┆ 169  ┆ 2018-03-01 ┆ Migos, Post  ┆ … ┆ top200 ┆ MOVE_DOWN   ┆ 585310  ┆ Migos,    │\n",
       "│              ┆      ┆            ┆ Malone       ┆   ┆        ┆             ┆         ┆           │\n",
       "│ Congratulati ┆ 99   ┆ 2017-02-01 ┆ Post Malone, ┆ … ┆ top200 ┆ MOVE_UP     ┆ 661482  ┆ Quavo     │\n",
       "│ ons          ┆      ┆            ┆ Quavo        ┆   ┆        ┆             ┆         ┆           │\n",
       "│ rockstar     ┆ 9    ┆ 2018-03-02 ┆ Post Malone, ┆ … ┆ top200 ┆ SAME_POSITI ┆ 3031242 ┆ 21 Savage │\n",
       "│              ┆      ┆            ┆ 21 Savage    ┆   ┆        ┆ ON          ┆         ┆           │\n",
       "│ …            ┆ …    ┆ …          ┆ …            ┆ … ┆ …      ┆ …           ┆ …       ┆ …         │\n",
       "│ Congratulati ┆ 52   ┆ 2018-01-30 ┆ Post Malone, ┆ … ┆ top200 ┆ MOVE_UP     ┆ 1300752 ┆ Quavo     │\n",
       "│ ons          ┆      ┆            ┆ Quavo        ┆   ┆        ┆             ┆         ┆           │\n",
       "│ Notice Me    ┆ 64   ┆ 2018-01-30 ┆ Migos, Post  ┆ … ┆ top200 ┆ MOVE_DOWN   ┆ 1081383 ┆ Migos,    │\n",
       "│              ┆      ┆            ┆ Malone       ┆   ┆        ┆             ┆         ┆           │\n",
       "│ rockstar     ┆ 3    ┆ 2018-01-31 ┆ Post Malone, ┆ … ┆ top200 ┆ SAME_POSITI ┆ 3447564 ┆ 21 Savage │\n",
       "│              ┆      ┆            ┆ 21 Savage    ┆   ┆        ┆ ON          ┆         ┆           │\n",
       "│ Congratulati ┆ 54   ┆ 2018-01-31 ┆ Post Malone, ┆ … ┆ top200 ┆ MOVE_DOWN   ┆ 1284862 ┆ Quavo     │\n",
       "│ ons          ┆      ┆            ┆ Quavo        ┆   ┆        ┆             ┆         ┆           │\n",
       "│ Notice Me    ┆ 70   ┆ 2018-01-31 ┆ Migos, Post  ┆ … ┆ top200 ┆ MOVE_DOWN   ┆ 1046189 ┆ Migos,    │\n",
       "│              ┆      ┆            ┆ Malone       ┆   ┆        ┆             ┆         ┆           │\n",
       "└──────────────┴──────┴────────────┴──────────────┴───┴────────┴─────────────┴─────────┴───────────┘"
      ]
     },
     "execution_count": 149,
     "metadata": {},
     "output_type": "execute_result"
    }
   ],
   "source": [
    "(\n",
    "    spotify_df\n",
    "    .filter(pl.col('artist').str.contains('Post Malone'))  # Post Malone이 포함된 행 필터\n",
    "    .with_columns(\n",
    "        pl.col('artist')\n",
    "        .str.replace_all(r'Post Malone(, )?', '')  # Post Malone을 제거\n",
    "        .alias('name_list')\n",
    "    )\n",
    "    .filter(pl.col('name_list') != '')  # Post Malone이 아닌 값만 필터링\n",
    ")"
   ]
  },
  {
   "cell_type": "markdown",
   "id": "acd99200-37a9-4b7c-a2d8-25625290a26c",
   "metadata": {},
   "source": [
    "## Solutions\n",
    "\n",
    "### Solution to Exercise 1\n",
    "Select all rows with `Age` greater than 30"
   ]
  },
  {
   "cell_type": "code",
   "execution_count": null,
   "id": "76586b11-4e98-4d97-a043-71932d85de84",
   "metadata": {
    "jupyter": {
     "source_hidden": true
    },
    "tags": []
   },
   "outputs": [],
   "source": [
    "(\n",
    "    pl.read_csv(csv_file)\n",
    "    .filter(pl.col('Age') > 30)\n",
    "    .head(3)\n",
    ")"
   ]
  },
  {
   "cell_type": "markdown",
   "id": "a96a08e2-08ea-4e78-a9f7-8f064e9e708c",
   "metadata": {},
   "source": [
    "Select all rows where `Embarked` is equal to \"C\" - using the keyword approach"
   ]
  },
  {
   "cell_type": "code",
   "execution_count": null,
   "id": "740be880-c1fa-4e6a-8dac-f5e6daaffadc",
   "metadata": {
    "jupyter": {
     "source_hidden": true
    }
   },
   "outputs": [],
   "source": [
    "(\n",
    "    pl.read_csv(csv_file)\n",
    "    .filter(Embarked = \"C\")\n",
    "    .head(3)\n",
    ")"
   ]
  },
  {
   "cell_type": "markdown",
   "id": "15df3934-538b-4007-8291-982ecedd9c8b",
   "metadata": {},
   "source": [
    "Select all rows where `Embarked` is equal to \"C\" - use `pl.col` with the text operator rather than the mathematical operator this time"
   ]
  },
  {
   "cell_type": "code",
   "execution_count": null,
   "id": "ee7524e2-ce39-47c3-a0e3-8950513f2b4e",
   "metadata": {
    "jupyter": {
     "source_hidden": true
    }
   },
   "outputs": [],
   "source": [
    "(\n",
    "    pl.read_csv(csv_file)\n",
    "    .filter(pl.col(\"Embarked\").eq(\"C\"))\n",
    "    .head(3)\n",
    ")"
   ]
  },
  {
   "cell_type": "markdown",
   "id": "f18eac26-5dbe-4dc6-920f-3e50b0c93456",
   "metadata": {},
   "source": [
    "Select all rows where `Embarked` is **not** equal to \"C\" "
   ]
  },
  {
   "cell_type": "code",
   "execution_count": null,
   "id": "6714ce09-b3a6-4ae8-9878-982e37ddd30f",
   "metadata": {
    "jupyter": {
     "source_hidden": true
    }
   },
   "outputs": [],
   "source": [
    "(\n",
    "    pl.read_csv(csv_file)\n",
    "    .filter(~pl.col(\"Embarked\").eq(\"C\"))\n",
    "    .head(3)\n",
    ")"
   ]
  },
  {
   "cell_type": "markdown",
   "id": "bc49cd90-a8e6-41b7-951b-2c752fc00c36",
   "metadata": {},
   "source": [
    "### Solution to Exercise 2\n",
    "Add a row number column"
   ]
  },
  {
   "cell_type": "code",
   "execution_count": null,
   "id": "d40af2d5-1553-4553-8b83-079a7969bdea",
   "metadata": {
    "jupyter": {
     "source_hidden": true
    },
    "tags": []
   },
   "outputs": [],
   "source": [
    "(\n",
    "    pl.read_csv(csv_file)\n",
    "    .with_row_index(\"row_nr\")\n",
    ")"
   ]
  },
  {
   "cell_type": "markdown",
   "id": "e597abf1-29dc-47e9-8431-0c2179f7c9ed",
   "metadata": {},
   "source": [
    "Continue by selecting the first 5 rows using `filter` on the row number column"
   ]
  },
  {
   "cell_type": "code",
   "execution_count": null,
   "id": "6181aa22-0bf3-4f7b-b9a4-edcfbd6ba237",
   "metadata": {
    "jupyter": {
     "source_hidden": true
    },
    "tags": []
   },
   "outputs": [],
   "source": [
    "(\n",
    "    pl.read_csv(csv_file)\n",
    "    .with_row_index(\"row_nr\")\n",
    "    .filter(pl.col(\"row_nr\")<5)\n",
    ")"
   ]
  },
  {
   "cell_type": "markdown",
   "id": "767da988-98d6-40b3-b01b-02e196fcbe37",
   "metadata": {},
   "source": [
    "### Solution to Exercise 3\n",
    "Partition the `DataFrame` by the `Survived` and `Pclass` columns as a `dict`"
   ]
  },
  {
   "cell_type": "code",
   "execution_count": null,
   "id": "fc8a0aa1-7209-40b9-b122-d49ae5c29960",
   "metadata": {
    "jupyter": {
     "source_hidden": true
    }
   },
   "outputs": [],
   "source": [
    "survived_pclass_dict = (\n",
    "    pl.read_csv(csv_file)\n",
    "    .partition_by(\"Survived\",\"Pclass\",as_dict=True)\n",
    ")"
   ]
  },
  {
   "cell_type": "code",
   "execution_count": null,
   "id": "f9b32085-75c7-47e2-a807-c3bb2bcf7267",
   "metadata": {
    "jupyter": {
     "source_hidden": true
    }
   },
   "outputs": [],
   "source": [
    "survived_pclass_dict.keys()"
   ]
  },
  {
   "cell_type": "markdown",
   "id": "1a247bed-d736-4dc1-9026-6b0039b21261",
   "metadata": {},
   "source": [
    "Return the sub-`DataFrame` with the passengers who did not survive from the third class"
   ]
  },
  {
   "cell_type": "code",
   "execution_count": null,
   "id": "99104b75-24a0-4670-8829-2b75f8ab7b77",
   "metadata": {
    "jupyter": {
     "source_hidden": true
    }
   },
   "outputs": [],
   "source": [
    "(\n",
    "    survived_pclass_dict[(0,3)]\n",
    "    .head(2)\n",
    ")"
   ]
  },
  {
   "cell_type": "markdown",
   "id": "5428a5b3-f6e2-47d1-afab-887741857179",
   "metadata": {},
   "source": [
    "### Solution to Exercise 4\n",
    "In this exercise we load data from the Spotify charts in a compressed CSV"
   ]
  },
  {
   "cell_type": "code",
   "execution_count": null,
   "id": "a25cb3f3-9bd5-4c8c-b973-417cb131f0ad",
   "metadata": {},
   "outputs": [],
   "source": [
    "spotify_csv = \"../data/spotify-charts-2017-2021-global-top200.csv.gz\"\n",
    "spotify_df = pl.read_csv(spotify_csv)\n",
    "spotify_df.head()"
   ]
  },
  {
   "cell_type": "markdown",
   "id": "fd680f63-4c80-47f8-b8dc-77a0bdfbb3b4",
   "metadata": {},
   "source": [
    "Filter the `DataFrame` to find all rows with artist Post Malone"
   ]
  },
  {
   "cell_type": "code",
   "execution_count": null,
   "id": "8cc85748-6796-4a52-a27b-7f9da420ee71",
   "metadata": {
    "jupyter": {
     "source_hidden": true
    }
   },
   "outputs": [],
   "source": [
    "(\n",
    "    spotify_df\n",
    "    .filter(\n",
    "        pl.col(\"artist\") == \"Post Malone\"\n",
    "    )\n",
    ")"
   ]
  },
  {
   "cell_type": "code",
   "execution_count": null,
   "id": "5db5eea1-9ae6-4c6c-850c-ed52a1f6156b",
   "metadata": {},
   "outputs": [],
   "source": []
  }
 ],
 "metadata": {
  "kernelspec": {
   "display_name": "Python 3 (ipykernel)",
   "language": "python",
   "name": "python3"
  },
  "language_info": {
   "codemirror_mode": {
    "name": "ipython",
    "version": 3
   },
   "file_extension": ".py",
   "mimetype": "text/x-python",
   "name": "python",
   "nbconvert_exporter": "python",
   "pygments_lexer": "ipython3",
   "version": "3.12.5"
  }
 },
 "nbformat": 4,
 "nbformat_minor": 5
}
