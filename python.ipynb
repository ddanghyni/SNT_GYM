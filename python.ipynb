{
 "cells": [
  {
   "cell_type": "markdown",
   "metadata": {},
   "source": [
    "## 시간과 정신(문법)의 방"
   ]
  },
  {
   "cell_type": "markdown",
   "metadata": {},
   "source": [
    "### 1. `.map` vs `.apply`\n",
    "\n",
    "1. map\n",
    "   * Series 객체에서만 사용할 수 있다.\n",
    "   * 각 용소에 함수를 적용하고 결과를 반환\n",
    "   * 주로 한 열의 값에 동일한 함수를 적용하고자 할 때 "
   ]
  },
  {
   "cell_type": "code",
   "execution_count": 6,
   "metadata": {},
   "outputs": [
    {
     "name": "stdout",
     "output_type": "stream",
     "text": [
      "origin_A :  [68 93 36 82 55 27  4 71 50 39]\n",
      "new_A :  [ 78 103  46  92  65  37  14  81  60  49]\n"
     ]
    }
   ],
   "source": [
    "import pandas as pd\n",
    "import numpy as np\n",
    "\n",
    "df = pd.DataFrame({\n",
    "    'A' : np.random.randint(1, 100, size = 10),\n",
    "    'B' : np.random.randn(10), # random numbers from a standard normal distribution\n",
    "    'C' : np.random.normal(10, 2, size = 10) # random numbers from a normal dist with mean 10 and standard deviation 2\n",
    "})\n",
    "\n",
    "#map\n",
    "print(\"origin_A : \",  df['A'].values)\n",
    "df['new_A'] = df['A'].map(lambda x : x + 10)\n",
    "print(\"new_A : \", df['new_A'].values)\n",
    "\n"
   ]
  },
  {
   "cell_type": "code",
   "execution_count": 3,
   "metadata": {},
   "outputs": [
    {
     "ename": "TypeError",
     "evalue": "Series.map() got an unexpected keyword argument 'y'",
     "output_type": "error",
     "traceback": [
      "\u001b[0;31m---------------------------------------------------------------------------\u001b[0m",
      "\u001b[0;31mTypeError\u001b[0m                                 Traceback (most recent call last)",
      "Cell \u001b[0;32mIn[3], line 5\u001b[0m\n\u001b[1;32m      2\u001b[0m \u001b[38;5;28;01mdef\u001b[39;00m \u001b[38;5;21madding\u001b[39m(x, y):\n\u001b[1;32m      3\u001b[0m     \u001b[38;5;28;01mreturn\u001b[39;00m x\u001b[38;5;241m+\u001b[39my\n\u001b[0;32m----> 5\u001b[0m \u001b[38;5;28mprint\u001b[39m(\u001b[43mdf\u001b[49m\u001b[43m[\u001b[49m\u001b[38;5;124;43m'\u001b[39;49m\u001b[38;5;124;43mA\u001b[39;49m\u001b[38;5;124;43m'\u001b[39;49m\u001b[43m]\u001b[49m\u001b[38;5;241;43m.\u001b[39;49m\u001b[43mmap\u001b[49m\u001b[43m(\u001b[49m\u001b[43madding\u001b[49m\u001b[43m,\u001b[49m\u001b[43m \u001b[49m\u001b[43my\u001b[49m\u001b[43m \u001b[49m\u001b[38;5;241;43m=\u001b[39;49m\u001b[43m \u001b[49m\u001b[38;5;241;43m10\u001b[39;49m\u001b[43m)\u001b[49m\u001b[38;5;241m.\u001b[39mvalues)\n",
      "\u001b[0;31mTypeError\u001b[0m: Series.map() got an unexpected keyword argument 'y'"
     ]
    }
   ],
   "source": [
    "# error example\n",
    "def adding(x, y):\n",
    "    return x+y\n",
    "\n",
    "print(df['A'].map(adding, y = 10).values)"
   ]
  },
  {
   "cell_type": "markdown",
   "metadata": {},
   "source": [
    "* 여기서 주의할 점은 `map`은 하나의 인자만 받을 수 있다!\n",
    "* 여러개의 인자를 받으려면 `lambda`를 이용하거나 `apply`를 이용해야한다."
   ]
  },
  {
   "cell_type": "code",
   "execution_count": 4,
   "metadata": {},
   "outputs": [
    {
     "name": "stdout",
     "output_type": "stream",
     "text": [
      "[ 68  33  97 113 110  74  61  25  34 114]\n",
      "[ 68  33  97 113 110  74  61  25  34 114]\n"
     ]
    }
   ],
   "source": [
    "print(df['A'].map(lambda x : adding(x, 20)).values)\n",
    "print(df['A'].apply(adding , y= 20).values)"
   ]
  },
  {
   "cell_type": "markdown",
   "metadata": {},
   "source": [
    "* 데이터 프레임 전체를 써야할때 또는 어떤 함수에 하나의 시리즈가 아닌 여러개의 시리즈 또는 인자를 적용해야할때 apply를 쓰자!"
   ]
  },
  {
   "cell_type": "code",
   "execution_count": 9,
   "metadata": {},
   "outputs": [
    {
     "name": "stdout",
     "output_type": "stream",
     "text": [
      "[ 5.75617673  8.59762442  4.77662231 12.15784316  6.16994989  2.58775175\n",
      "  0.31976285 13.5415833   8.96198895  4.57777626]\n"
     ]
    }
   ],
   "source": [
    "def tmp(x, y, z):\n",
    "    return (x + y) / z\n",
    "\n",
    "df['result'] = df.apply(lambda row : tmp(row['A'], row['B'], row['C']), axis = 1)\n",
    "print(df['result'].values)"
   ]
  },
  {
   "cell_type": "markdown",
   "metadata": {},
   "source": [
    "### 2. pandas(polars)에서 `.map`과 `apply` 피하기\n"
   ]
  },
  {
   "cell_type": "markdown",
   "metadata": {},
   "source": [
    "* pandas의 최대 강점인 벡터화된 연산을 쓰자..! map과 apply와 비교가 안될정도로 빠르다..!\n",
    "* map이나 apply는 결국 for 루트와 유사하게 각 요소(series, dataframe)를 순차적으로 처리한다.\n",
    "* 다양한 벡터화된 연산이 있지만 이번엔 np.where과 np.select를 소개하겠다."
   ]
  },
  {
   "cell_type": "code",
   "execution_count": 10,
   "metadata": {},
   "outputs": [],
   "source": [
    "# 이름과 나이가 있는 데이터프레임 예제 행은 총 10개\n",
    "df = pd.DataFrame({\n",
    "    'name' : ['Alice', 'Bob', 'Charlie', 'David', 'Eva', 'Frank', 'Grace', 'Hannah', 'Ivy', 'Jack'],\n",
    "    'age' : [25, 30, 35, 40, 45, 50, 55, 60, 65, 70]\n",
    "})\n"
   ]
  },
  {
   "cell_type": "code",
   "execution_count": 11,
   "metadata": {},
   "outputs": [
    {
     "name": "stdout",
     "output_type": "stream",
     "text": [
      "[5 3 7 5 3 5 5 6 3 4]\n"
     ]
    }
   ],
   "source": [
    "df['name_len'] = df['name'].map(lambda x : len(x))\n",
    "print(df['name_len'].values)"
   ]
  },
  {
   "cell_type": "code",
   "execution_count": 13,
   "metadata": {},
   "outputs": [
    {
     "name": "stdout",
     "output_type": "stream",
     "text": [
      "[5 3 7 5 3 5 5 6 3 4]\n"
     ]
    }
   ],
   "source": [
    "# 벡터화된 연산\n",
    "df['name_len_2'] = df['name'].str.len()\n",
    "print(df['name_len_2'].values)"
   ]
  },
  {
   "cell_type": "markdown",
   "metadata": {},
   "source": [
    "* `.str`은 뒤에 더 자세히 다루겠다."
   ]
  },
  {
   "cell_type": "code",
   "execution_count": 14,
   "metadata": {},
   "outputs": [
    {
     "data": {
      "text/html": [
       "<div>\n",
       "<style scoped>\n",
       "    .dataframe tbody tr th:only-of-type {\n",
       "        vertical-align: middle;\n",
       "    }\n",
       "\n",
       "    .dataframe tbody tr th {\n",
       "        vertical-align: top;\n",
       "    }\n",
       "\n",
       "    .dataframe thead th {\n",
       "        text-align: right;\n",
       "    }\n",
       "</style>\n",
       "<table border=\"1\" class=\"dataframe\">\n",
       "  <thead>\n",
       "    <tr style=\"text-align: right;\">\n",
       "      <th></th>\n",
       "      <th>name</th>\n",
       "      <th>age</th>\n",
       "      <th>name_len</th>\n",
       "      <th>name_len_2</th>\n",
       "      <th>old/young</th>\n",
       "    </tr>\n",
       "  </thead>\n",
       "  <tbody>\n",
       "    <tr>\n",
       "      <th>0</th>\n",
       "      <td>Alice</td>\n",
       "      <td>25</td>\n",
       "      <td>5</td>\n",
       "      <td>5</td>\n",
       "      <td>young</td>\n",
       "    </tr>\n",
       "    <tr>\n",
       "      <th>1</th>\n",
       "      <td>Bob</td>\n",
       "      <td>30</td>\n",
       "      <td>3</td>\n",
       "      <td>3</td>\n",
       "      <td>young</td>\n",
       "    </tr>\n",
       "    <tr>\n",
       "      <th>2</th>\n",
       "      <td>Charlie</td>\n",
       "      <td>35</td>\n",
       "      <td>7</td>\n",
       "      <td>7</td>\n",
       "      <td>old</td>\n",
       "    </tr>\n",
       "    <tr>\n",
       "      <th>3</th>\n",
       "      <td>David</td>\n",
       "      <td>40</td>\n",
       "      <td>5</td>\n",
       "      <td>5</td>\n",
       "      <td>old</td>\n",
       "    </tr>\n",
       "    <tr>\n",
       "      <th>4</th>\n",
       "      <td>Eva</td>\n",
       "      <td>45</td>\n",
       "      <td>3</td>\n",
       "      <td>3</td>\n",
       "      <td>old</td>\n",
       "    </tr>\n",
       "    <tr>\n",
       "      <th>5</th>\n",
       "      <td>Frank</td>\n",
       "      <td>50</td>\n",
       "      <td>5</td>\n",
       "      <td>5</td>\n",
       "      <td>old</td>\n",
       "    </tr>\n",
       "    <tr>\n",
       "      <th>6</th>\n",
       "      <td>Grace</td>\n",
       "      <td>55</td>\n",
       "      <td>5</td>\n",
       "      <td>5</td>\n",
       "      <td>old</td>\n",
       "    </tr>\n",
       "    <tr>\n",
       "      <th>7</th>\n",
       "      <td>Hannah</td>\n",
       "      <td>60</td>\n",
       "      <td>6</td>\n",
       "      <td>6</td>\n",
       "      <td>old</td>\n",
       "    </tr>\n",
       "    <tr>\n",
       "      <th>8</th>\n",
       "      <td>Ivy</td>\n",
       "      <td>65</td>\n",
       "      <td>3</td>\n",
       "      <td>3</td>\n",
       "      <td>old</td>\n",
       "    </tr>\n",
       "    <tr>\n",
       "      <th>9</th>\n",
       "      <td>Jack</td>\n",
       "      <td>70</td>\n",
       "      <td>4</td>\n",
       "      <td>4</td>\n",
       "      <td>old</td>\n",
       "    </tr>\n",
       "  </tbody>\n",
       "</table>\n",
       "</div>"
      ],
      "text/plain": [
       "      name  age  name_len  name_len_2 old/young\n",
       "0    Alice   25         5           5     young\n",
       "1      Bob   30         3           3     young\n",
       "2  Charlie   35         7           7       old\n",
       "3    David   40         5           5       old\n",
       "4      Eva   45         3           3       old\n",
       "5    Frank   50         5           5       old\n",
       "6    Grace   55         5           5       old\n",
       "7   Hannah   60         6           6       old\n",
       "8      Ivy   65         3           3       old\n",
       "9     Jack   70         4           4       old"
      ]
     },
     "execution_count": 14,
     "metadata": {},
     "output_type": "execute_result"
    }
   ],
   "source": [
    "df['old/young'] = df['age'].map(lambda x : 'young' if x <= 30 else 'old')\n",
    "df"
   ]
  },
  {
   "cell_type": "code",
   "execution_count": 15,
   "metadata": {},
   "outputs": [
    {
     "data": {
      "text/html": [
       "<div>\n",
       "<style scoped>\n",
       "    .dataframe tbody tr th:only-of-type {\n",
       "        vertical-align: middle;\n",
       "    }\n",
       "\n",
       "    .dataframe tbody tr th {\n",
       "        vertical-align: top;\n",
       "    }\n",
       "\n",
       "    .dataframe thead th {\n",
       "        text-align: right;\n",
       "    }\n",
       "</style>\n",
       "<table border=\"1\" class=\"dataframe\">\n",
       "  <thead>\n",
       "    <tr style=\"text-align: right;\">\n",
       "      <th></th>\n",
       "      <th>name</th>\n",
       "      <th>age</th>\n",
       "      <th>name_len</th>\n",
       "      <th>name_len_2</th>\n",
       "      <th>old/young</th>\n",
       "      <th>old/young_2</th>\n",
       "    </tr>\n",
       "  </thead>\n",
       "  <tbody>\n",
       "    <tr>\n",
       "      <th>0</th>\n",
       "      <td>Alice</td>\n",
       "      <td>25</td>\n",
       "      <td>5</td>\n",
       "      <td>5</td>\n",
       "      <td>young</td>\n",
       "      <td>young</td>\n",
       "    </tr>\n",
       "    <tr>\n",
       "      <th>1</th>\n",
       "      <td>Bob</td>\n",
       "      <td>30</td>\n",
       "      <td>3</td>\n",
       "      <td>3</td>\n",
       "      <td>young</td>\n",
       "      <td>young</td>\n",
       "    </tr>\n",
       "    <tr>\n",
       "      <th>2</th>\n",
       "      <td>Charlie</td>\n",
       "      <td>35</td>\n",
       "      <td>7</td>\n",
       "      <td>7</td>\n",
       "      <td>old</td>\n",
       "      <td>old</td>\n",
       "    </tr>\n",
       "    <tr>\n",
       "      <th>3</th>\n",
       "      <td>David</td>\n",
       "      <td>40</td>\n",
       "      <td>5</td>\n",
       "      <td>5</td>\n",
       "      <td>old</td>\n",
       "      <td>old</td>\n",
       "    </tr>\n",
       "    <tr>\n",
       "      <th>4</th>\n",
       "      <td>Eva</td>\n",
       "      <td>45</td>\n",
       "      <td>3</td>\n",
       "      <td>3</td>\n",
       "      <td>old</td>\n",
       "      <td>old</td>\n",
       "    </tr>\n",
       "    <tr>\n",
       "      <th>5</th>\n",
       "      <td>Frank</td>\n",
       "      <td>50</td>\n",
       "      <td>5</td>\n",
       "      <td>5</td>\n",
       "      <td>old</td>\n",
       "      <td>old</td>\n",
       "    </tr>\n",
       "    <tr>\n",
       "      <th>6</th>\n",
       "      <td>Grace</td>\n",
       "      <td>55</td>\n",
       "      <td>5</td>\n",
       "      <td>5</td>\n",
       "      <td>old</td>\n",
       "      <td>old</td>\n",
       "    </tr>\n",
       "    <tr>\n",
       "      <th>7</th>\n",
       "      <td>Hannah</td>\n",
       "      <td>60</td>\n",
       "      <td>6</td>\n",
       "      <td>6</td>\n",
       "      <td>old</td>\n",
       "      <td>old</td>\n",
       "    </tr>\n",
       "    <tr>\n",
       "      <th>8</th>\n",
       "      <td>Ivy</td>\n",
       "      <td>65</td>\n",
       "      <td>3</td>\n",
       "      <td>3</td>\n",
       "      <td>old</td>\n",
       "      <td>old</td>\n",
       "    </tr>\n",
       "    <tr>\n",
       "      <th>9</th>\n",
       "      <td>Jack</td>\n",
       "      <td>70</td>\n",
       "      <td>4</td>\n",
       "      <td>4</td>\n",
       "      <td>old</td>\n",
       "      <td>old</td>\n",
       "    </tr>\n",
       "  </tbody>\n",
       "</table>\n",
       "</div>"
      ],
      "text/plain": [
       "      name  age  name_len  name_len_2 old/young old/young_2\n",
       "0    Alice   25         5           5     young       young\n",
       "1      Bob   30         3           3     young       young\n",
       "2  Charlie   35         7           7       old         old\n",
       "3    David   40         5           5       old         old\n",
       "4      Eva   45         3           3       old         old\n",
       "5    Frank   50         5           5       old         old\n",
       "6    Grace   55         5           5       old         old\n",
       "7   Hannah   60         6           6       old         old\n",
       "8      Ivy   65         3           3       old         old\n",
       "9     Jack   70         4           4       old         old"
      ]
     },
     "execution_count": 15,
     "metadata": {},
     "output_type": "execute_result"
    }
   ],
   "source": [
    "df['old/young_2'] = np.where(df['age']<= 30, 'young', 'old')\n",
    "df"
   ]
  },
  {
   "cell_type": "markdown",
   "metadata": {},
   "source": [
    "`np.where(condition, value_if_true, value_if_false)`"
   ]
  },
  {
   "cell_type": "code",
   "execution_count": 16,
   "metadata": {},
   "outputs": [
    {
     "name": "stdout",
     "output_type": "stream",
     "text": [
      "Map with lambda: 0.1168 seconds\n",
      "Vectorized np.where: 0.0980 seconds\n"
     ]
    }
   ],
   "source": [
    "#속도 비교\n",
    "import pandas as pd\n",
    "import numpy as np\n",
    "import time\n",
    "\n",
    "# 예제 데이터 생성\n",
    "df = pd.DataFrame({'name': np.random.randint(1, 20, size=1000000)})\n",
    "\n",
    "# map과 lambda를 사용한 방법\n",
    "start_time = time.time()\n",
    "df['age_map'] = df['name'].map(lambda x: 'child' if x <= 15 else 'adult')\n",
    "map_time = time.time() - start_time\n",
    "\n",
    "# 벡터화된 np.where를 사용한 방법\n",
    "start_time = time.time()\n",
    "df['age_vectorized'] = np.where(df['name'] <= 15, 'child', 'adult')\n",
    "vectorized_time = time.time() - start_time\n",
    "\n",
    "print(f\"Map with lambda: {map_time:.4f} seconds\")\n",
    "print(f\"Vectorized np.where: {vectorized_time:.4f} seconds\")"
   ]
  },
  {
   "cell_type": "code",
   "execution_count": 17,
   "metadata": {},
   "outputs": [
    {
     "name": "stdout",
     "output_type": "stream",
     "text": [
      "   score      grade\n",
      "0     38       fail\n",
      "1     24       fail\n",
      "2      9       fail\n",
      "3     96  excellent\n",
      "4     58       pass\n",
      "5      2       fail\n",
      "6     12       fail\n",
      "7     66       pass\n",
      "8     61       pass\n",
      "9     26       fail\n"
     ]
    }
   ],
   "source": [
    "# 조건이 많을 때 np.where 대신 np.select를 사용하자!\n",
    "df = pd.DataFrame({'score' : np.random.randint(0, 100 , size = 10)})\n",
    "\n",
    "# 조건과 결과 리스트 정의\n",
    "# 조건과 결과 리스트 정의\n",
    "conditions = [\n",
    "    (df['score'] < 50),                # 조건 1\n",
    "    (df['score'] >= 50) & (df['score'] < 75),  # 조건 2\n",
    "    (df['score'] >= 75)                # 조건 3\n",
    "]\n",
    "\n",
    "# 각 조건에 대한 결과값 정의\n",
    "choices = ['fail', 'pass', 'excellent']\n",
    "\n",
    "# np.select 사용하여 새로운 열 생성\n",
    "df['grade'] = np.select(conditions, choices, default='unknown')\n",
    "# default는 조건에 만족하지 않을 때 기본값으로 채워진다.\n",
    "\n",
    "print(df)"
   ]
  },
  {
   "cell_type": "code",
   "execution_count": null,
   "metadata": {},
   "outputs": [],
   "source": []
  }
 ],
 "metadata": {
  "kernelspec": {
   "display_name": "ml_study",
   "language": "python",
   "name": "python3"
  },
  "language_info": {
   "codemirror_mode": {
    "name": "ipython",
    "version": 3
   },
   "file_extension": ".py",
   "mimetype": "text/x-python",
   "name": "python",
   "nbconvert_exporter": "python",
   "pygments_lexer": "ipython3",
   "version": "3.12.5"
  }
 },
 "nbformat": 4,
 "nbformat_minor": 2
}
